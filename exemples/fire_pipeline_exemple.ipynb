{
 "cells": [
  {
   "cell_type": "code",
   "execution_count": 2,
   "id": "def635d1-31a8-461c-a4a9-1ecdad019647",
   "metadata": {
    "tags": []
   },
   "outputs": [],
   "source": [
    "import sys\n",
    "import os\n",
    "\n",
    "\n",
    "sys.path.append(\"../src/clustering\")\n",
    "sys.path.append(\"../src/configuration\")\n",
    "sys.path.append(\"../src/decision_functions\")\n",
    "sys.path.append(\"../src/embeddings\")\n",
    "sys.path.append(\"../src/filtering\")\n",
    "sys.path.append(\"../src/matching\")\n",
    "sys.path.append(\"../src/non_desirable_sectors\")\n",
    "sys.path.append(\"../src/rag\")\n",
    "sys.path.append(\"../src/scraping\")\n",
    "sys.path.append(\"../src/translation\")\n",
    "# sys.path.append(\"../src/output_parsers)\n",
    "from newsapiscraper import NewsApiScraper\n",
    "from newscollector import NewsCollector\n",
    "from googletranslation import GoogleTranslate\n",
    "from clustering import Clustering\n",
    "from googleembeddings import GoogleEmbeddings\n",
    "from fire_rag import FireRAG\n",
    "from filtering import Filter\n",
    "from matching import Matching\n",
    "from configuration import Configuration\n",
    "import sectors_to_discard\n",
    "from utils import split_liste, groupByName, generate_description, geoloc\n",
    "import fire_relevancy\n",
    "\n",
    "\n",
    "import pandas as pd\n",
    "import numpy as np\n",
    "import json\n",
    "import requests\n",
    "from copy import deepcopy\n",
    "from geopy.geocoders import Nominatim\n",
    "from dotenv import load_dotenv, find_dotenv"
   ]
  },
  {
   "cell_type": "code",
   "execution_count": null,
   "id": "03a05c25-d098-4f85-880a-ed2ec86107ba",
   "metadata": {
    "tags": []
   },
   "outputs": [],
   "source": [
    "load_dotenv(find_dotenv())\n",
    "\n",
    "NEWS_API_KEY = os.getenv('NEWS_API_KEY')\n",
    "os.environ['http_proxy'] = os.getenv('http_proxy')\n",
    "os.environ['https_proxy'] = os.getenv('https_proxy')\n",
    "os.environ['HTTP_PROXY'] = os.getenv('HTTP_PROXY')\n",
    "os.environ['HTTPS_PROXY'] = os.getenv('HTTPS_PROXY')"
   ]
  },
  {
   "cell_type": "markdown",
   "id": "b0dd7b7e-773c-4f3f-ac85-0923c169e191",
   "metadata": {},
   "source": [
    "# Creating config file for the first time"
   ]
  },
  {
   "cell_type": "markdown",
   "id": "ce363424-8cb2-4a0a-8920-00c821261855",
   "metadata": {},
   "source": [
    "## Generation initial config dict\n",
    "We generate a dict that will be use to generate the finale config file. This final config should be generate once and be used at every moment if we do not add some new keys."
   ]
  },
  {
   "cell_type": "code",
<<<<<<< HEAD
   "execution_count": 1,
   "id": "02a9cec5",
   "metadata": {},
   "outputs": [
    {
     "data": {
      "text/plain": [
       "583"
      ]
     },
     "execution_count": 1,
     "metadata": {},
     "output_type": "execute_result"
    }
   ],
   "source": [
    "text = \"The Jabil plant in Marcianise, Italy, is scheduled to close in March 2025, putting 420 jobs at risk. Union representatives will meet with company officials and government representatives on September 2nd to discuss the situation. Unions are seeking support from the Campania Region to mitigate the impact of the closure.  The meeting aims to find solutions to protect workers and potentially find alternative employment opportunities.  On September 2nd, workers will travel to Rome for a picket outside ministerial offices, demanding concrete proposals to address the plant closure. \"\n",
    "len(text)"
   ]
  },
  {
   "cell_type": "code",
=======
>>>>>>> 66b004b1c89a0beeb66920cdb67a93d1761a8ac6
   "execution_count": null,
   "id": "2f79b661-006c-4446-b181-9ece94c79766",
   "metadata": {
    "tags": []
   },
   "outputs": [],
   "source": [
    "dict_config = {}\n",
    "dict_config['keywords'] = ['factory fire', 'plant fire', 'industrial fire']\n",
    "dict_config['country_lang'] = [\n",
    "    {'country': 'BE','lang': ['fr']}, # Belgium\n",
    "    {'country': 'CH','lang': ['fr', 'de', 'it']}, # Searching news with differentes languge in the same country where threre are several official language\n",
    "    {'country': 'BG','lang': ['bg']},  # Bulgaria\n",
    "    {'country': 'BR','lang': ['pt']},\n",
    "#     # {'country' : 'CL',  'lang' : ['es']},\n",
    "#     # {'country' : 'CN',  'lang' : ['zh']},\n",
    "#     # {'country' : 'CO',  'lang' : ['es']},\n",
    "#     # {'country' : 'CZ',  'lang' : ['cs']},\n",
    "#     # {'country' : 'DE',  'lang' : ['de']},\n",
    "#     # {'country' : 'DZ',  'lang' : ['ar']},\n",
    "#     # {'country' : 'EE',  'lang' : ['et']},\n",
    "#     # {'country' : 'ES',  'lang' : ['es']},\n",
    "#     # {'country' : 'FR',  'lang' : ['fr']},\n",
    "#     # {'country' : 'GB',  'lang' : ['en']},\n",
    "#     # {'country' : 'HU',  'lang' : ['hu']},\n",
    "#     # {'country' : 'ID',  'lang' : ['id']},\n",
    "#     # {'country' : 'IN',  'lang' : ['hi']},\n",
    "#     # {'country' : 'IT',  'lang' : ['it']},\n",
    "#     # {'country' : 'JP',  'lang' : ['ja']},\n",
    "#     # {'country' : 'KR',  'lang' : ['ko']},\n",
    "#     # {'country' : 'LT',  'lang' : ['lt']}, \n",
    "#     # {'country' : 'MA',  'lang' : ['ar']},\n",
    "#     # {'country' : 'MC',  'lang' : ['fr']}, \n",
    "#     # {'country' : 'MX',  'lang' : ['es']},\n",
    "#     # {'country' : 'MY',  'lang' : ['ms']},\n",
    "#     # {'country' : 'NL',  'lang' : ['nl']},\n",
    "#     # {'country' : 'PL',  'lang' : ['pl']},\n",
    "#     # {'country' : 'PT',  'lang' : ['pt']},\n",
    "#     # {'country' : 'RO',  'lang' : ['ro']},\n",
    "#     # {'country' : 'SI',  'lang' : ['sl']},\n",
    "#     # {'country' : 'SK',  'lang' : ['sk']},\n",
    "#     # {'country' : 'TH',  'lang' : ['th']},\n",
    "#     # {'country' : 'TN',  'lang' : ['ar']},\n",
    "#     # {'country' : 'TR',  'lang' : ['tr']},\n",
    "#     # {'country' : 'UA',  'lang' : ['uk']},\n",
    "#     # {'country' : 'VN',  'lang' : ['vi']},\n",
    "#     # {'country' : 'SE',  'lang' : ['sv']},\n",
    "#     # {'country' : 'SV',  'lang' : ['es']},\n",
    "#     # {'country' : 'CA',  'lang' : ['fr']},\n",
    "#     # {'country' : 'LU',  'lang' : ['fr']}\n",
    "]\n",
    "\n",
    "dict_config['NEWS_API_KEY'] = NEWS_API_KEY # if you use News API services\n",
    "\n",
    "dict_config['rag_cong'] = {'vertexai_llm': 'gemini-1.5-flash',\n",
    "                            'vertexai_embedding_name': 'text-embedding-004',\n",
    "                            'chunk_size': 2000, 'chunk_overlap': 10, 'max_doc': 5, 'retry': 1}\n",
    "# dict_config[\"sectors_to_discard\"] = sectors_to_discard.SECTORS_TO_DISCARD # Or spécify a liste of sectors you want to discard\n",
    "dict_config[\"decision_function_args\"] = {\n",
    "    'sectors_to_discard': sectors_to_discard.SECTORS_TO_DISCARD, # Or spécify a liste of sectors you want to discard\n",
    "    # 'desirable_temporalities' : ['upcoming', 'ongoing', 'unknown']\n",
    "}\n",
    "\n",
    "dict_config['project_id']=\"irn-67050-lab-65\"\n",
    "                          "
   ]
  },
  {
   "cell_type": "code",
   "execution_count": null,
   "id": "2900bb44-8537-4f38-a8d3-42c4b7f395fb",
   "metadata": {
    "scrolled": true,
    "tags": []
   },
   "outputs": [],
   "source": [
    "# dict_config"
   ]
  },
  {
   "cell_type": "code",
   "execution_count": null,
   "id": "7fbbb3ec-aa5e-4ea7-b534-ca44d8c2baa3",
   "metadata": {},
   "outputs": [],
   "source": []
  },
  {
   "cell_type": "code",
   "execution_count": null,
   "id": "4341ed8c-7bec-42a7-9cfa-e400a2c6fec3",
   "metadata": {
    "tags": []
   },
   "outputs": [],
   "source": [
    "initial_config_file =\"../config/initial_config_file.json\"\n",
    "with open(initial_config_file, 'w') as file :\n",
    "    json.dump(dict_config, file, indent = 4)"
   ]
  },
  {
   "cell_type": "markdown",
   "id": "7461c6ec-d1ca-4ed9-9f33-7e1e1916ff10",
   "metadata": {},
   "source": [
    "## Generating final config file from initial config file\n",
    "It it this final config file which will be used to get news"
   ]
  },
  {
   "cell_type": "code",
   "execution_count": null,
   "id": "98f90a2e-48f0-4b10-a3e9-41613acd7ac3",
   "metadata": {
    "tags": []
   },
   "outputs": [],
   "source": [
    "initial_config_file = \"../config/initial_config_file.json\"\n",
    "final_config_file = \"../config/final_config_file.json\"\n",
    "config = Configuration( initial_config_file = initial_config_file, final_config_file = final_config_file)"
   ]
  },
  {
   "cell_type": "code",
   "execution_count": null,
   "id": "22459aa8-28aa-43cb-aca7-634e450ceb87",
   "metadata": {
    "tags": []
   },
   "outputs": [],
   "source": []
  },
  {
   "cell_type": "markdown",
   "id": "b11b6dcd-8c51-4972-9d70-cfd28d0716e2",
   "metadata": {},
   "source": [
    "# Loading config file"
   ]
  },
  {
   "cell_type": "code",
   "execution_count": null,
   "id": "ff725075-d26d-4645-a98f-14043c90dadd",
   "metadata": {
    "scrolled": true,
    "tags": []
   },
   "outputs": [],
   "source": [
    "config_file = \"../config/final_config_file.json\"\n",
    "with open(config_file, 'r') as file :\n",
    "    conf = json.load(file)\n",
    "conf['decision_function'] = fire_relevancy.fire_relevancy\n",
    "conf"
   ]
  },
  {
   "cell_type": "markdown",
   "id": "cc41770c-78e8-49a3-a20f-ff365e47fb14",
   "metadata": {},
   "source": [
    "# Instanciating NewsApiScraper"
   ]
  },
  {
   "cell_type": "code",
   "execution_count": null,
   "id": "da4be042-ed07-4851-91df-874ab91fb13c",
   "metadata": {
    "tags": []
   },
   "outputs": [],
   "source": [
    "scrapper = NewsApiScraper(api_key= conf['NEWS_API_KEY'], start_date='2024-08-25',end_date='2024-08-26')"
   ]
  },
  {
   "cell_type": "markdown",
   "id": "0b607f4f-c93d-4b1c-a3f1-e4044fa57aa4",
   "metadata": {},
   "source": [
    "# Collecting news via Newscolllector instance"
   ]
  },
  {
   "cell_type": "code",
   "execution_count": null,
   "id": "f346b99f-c5af-4895-88b4-eccb1e951b82",
   "metadata": {
    "scrolled": true,
    "tags": []
   },
   "outputs": [],
   "source": [
    "# collector = NewsCollector(config=conf['country_lang'], scraper=scrapper,path_to_save='/home/jupyter/news/data/strike_newsapi_vendre_23_aout.csv')\n",
    "collector = NewsCollector(config=conf['country_lang'], scraper=scrapper,path_to_save=None)\n",
    "df = collector.collect_news()"
   ]
  },
  {
   "cell_type": "code",
   "execution_count": null,
   "id": "877714b7-78ea-42c8-a700-f2de328aa319",
   "metadata": {
    "tags": []
   },
   "outputs": [],
   "source": [
    "df.shape"
   ]
  },
  {
   "cell_type": "code",
   "execution_count": null,
   "id": "5a60edf5-7911-48bc-90e2-9af7c2bb3cad",
   "metadata": {
    "tags": []
   },
   "outputs": [],
   "source": [
    "df.columns"
   ]
  },
  {
   "cell_type": "code",
   "execution_count": null,
   "id": "ab7c1c7b-8d88-49eb-95dd-e5f9cf44b3cb",
   "metadata": {
    "tags": []
   },
   "outputs": [],
   "source": [
    "df.head()"
   ]
  },
  {
   "cell_type": "markdown",
   "id": "ebc18b2c-5b51-47c9-a72a-b176a6b470ec",
   "metadata": {},
   "source": [
    "# Translation "
   ]
  },
  {
   "cell_type": "code",
   "execution_count": null,
   "id": "1c61e4d9-d8f2-4c33-aa85-68f58e2151ec",
   "metadata": {
    "tags": []
   },
   "outputs": [],
   "source": [
    "# df = pd.read_csv(\"/home/jupyter/data/data.csv\")\n",
    "# df.shape"
   ]
  },
  {
   "cell_type": "code",
   "execution_count": null,
   "id": "40046501-c826-431d-872a-6d99c3c8d082",
   "metadata": {
    "tags": []
   },
   "outputs": [],
   "source": [
    "translation = GoogleTranslate(project_id=conf['project_id'])"
   ]
  },
  {
   "cell_type": "code",
   "execution_count": null,
   "id": "244d603a-f485-4de9-8e91-945dd494d7ef",
   "metadata": {
    "scrolled": true,
    "tags": []
   },
   "outputs": [],
   "source": [
    "df = collector.data\n",
    "df\n",
    "# df.to_csv(\"/home/jupyter/data/data.csv\", index = False)"
   ]
  },
  {
   "cell_type": "code",
   "execution_count": null,
   "id": "82d58976-ed67-4248-9e40-1b458e4660fe",
   "metadata": {
    "tags": []
   },
   "outputs": [],
   "source": [
    "del os.environ['http_proxy']\n",
    "del os.environ['https_proxy']\n",
    "del os.environ['HTTP_PROXY']\n",
    "del os.environ['HTTPS_PROXY']"
   ]
  },
  {
   "cell_type": "markdown",
   "id": "5395a8a7-92b1-4918-b3fc-e48f64a9b19f",
   "metadata": {
    "tags": []
   },
   "source": [
    "## Instanciating Translation object in order to translate the collected news"
   ]
  },
  {
   "cell_type": "code",
   "execution_count": null,
   "id": "af8f2fc6-dd9a-4fc2-8e73-c40c61f0a031",
   "metadata": {
    "tags": []
   },
   "outputs": [],
   "source": [
    "df.dropna(inplace=True)\n",
    "df.shape"
   ]
  },
  {
   "cell_type": "code",
   "execution_count": null,
   "id": "26655f86-5875-4a1f-ac6e-b6161dace492",
   "metadata": {
    "tags": []
   },
   "outputs": [],
   "source": [
    " trans_df = translation.translation(df, limit=30720)"
   ]
  },
  {
   "cell_type": "code",
   "execution_count": null,
   "id": "15044043-0e34-4e16-8a43-de5432862572",
   "metadata": {
    "tags": []
   },
   "outputs": [],
   "source": [
    "# translation.fails_index"
   ]
  },
  {
   "cell_type": "code",
   "execution_count": null,
   "id": "278201ea-1b9b-4780-989a-967dd9ea6928",
   "metadata": {
    "tags": []
   },
   "outputs": [],
   "source": [
    "trans_df.shape"
   ]
  },
  {
   "cell_type": "code",
   "execution_count": null,
   "id": "a9bf98d8-1b06-49b8-8b21-0446aeca41e9",
   "metadata": {
    "tags": []
   },
   "outputs": [],
   "source": [
    "trans_df.columns"
   ]
  },
  {
   "cell_type": "markdown",
   "id": "4e48d59f-cfdc-4099-b625-0f0a47b65520",
   "metadata": {},
   "source": [
    "# Cleaning the translated dataframe\n",
    "On loses more data when the cleaning happens before translation. In fact, some languages like japanes or chinese do not follow some common rule like have space between words. So one loses those data if cleaning happens base one blank space rules."
   ]
  },
  {
   "cell_type": "code",
   "execution_count": null,
   "id": "763d7e2c-07dd-488f-b696-02f30c3460b0",
   "metadata": {
    "tags": []
   },
   "outputs": [],
   "source": [
    "print(\"cleaning data ...\")\n",
    "if len(trans_df) == 0 :\n",
    "    trans_df = None\n",
    "else :\n",
    "    trans_df = trans_df[trans_df['translated_title'] != '']\n",
    "    trans_df = trans_df[trans_df['translated_text'] != '']\n",
    "\n",
    "    trans_df = trans_df[trans_df['translated_title'].str.count('\\s+').ge(3)] #keep only titles having more than 4 spaces in the title\n",
    "    trans_df = trans_df[trans_df['translated_text'].str.count('\\s+').ge(20)] #keep only titles having more than 20 spaces in the body\n",
    "\n",
    "    trans_df = (trans_df.drop_duplicates(subset=['translated_title'])).sort_index()\n",
    "    trans_df = (trans_df.drop_duplicates(subset=['translated_text'])).sort_index()\n",
    "    trans_df = (trans_df.drop_duplicates(subset=['links'])).sort_index()\n",
    "    trans_df = trans_df.reset_index(drop=True)\n",
    "\n",
    "    if len(trans_df) == 0 :\n",
    "        trans_df = None"
   ]
  },
  {
   "cell_type": "code",
   "execution_count": null,
   "id": "2ad75ce4-6163-4f76-b1e0-705675321f5a",
   "metadata": {
    "tags": []
   },
   "outputs": [],
   "source": [
    "trans_df.shape"
   ]
  },
  {
   "cell_type": "markdown",
   "id": "18b544bc-feea-4fca-8d12-4de47f5b7fe0",
   "metadata": {
    "tags": []
   },
   "source": [
    "# Embeddings "
   ]
  },
  {
   "cell_type": "code",
   "execution_count": null,
   "id": "e93369c6-8fae-426d-b608-42f65f94867b",
   "metadata": {
    "tags": []
   },
   "outputs": [],
   "source": [
    "texts = list(trans_df['translated_text'])"
   ]
  },
  {
   "cell_type": "code",
   "execution_count": null,
   "id": "01aa1618-346e-42b9-9885-b93e74a20867",
   "metadata": {
    "tags": []
   },
   "outputs": [],
   "source": [
    "embedding = GoogleEmbeddings()\n",
    "embedding.fit_transform(texts)"
   ]
  },
  {
   "cell_type": "markdown",
   "id": "06dbb40a-187e-4c14-af04-75e31f516994",
   "metadata": {},
   "source": [
    "# Clustering "
   ]
  },
  {
   "cell_type": "code",
   "execution_count": null,
   "id": "e04b87f0-4670-45d9-8d0a-f68d462eb7f2",
   "metadata": {
    "tags": []
   },
   "outputs": [],
   "source": [
    "## clustering train data \n",
    "xtrain = embedding.embedded_data\n",
    "xtrain.shape"
   ]
  },
  {
   "cell_type": "code",
   "execution_count": null,
   "id": "c0a49f7b-f88d-4eb4-94ca-197ffeef9461",
   "metadata": {
    "tags": []
   },
   "outputs": [],
   "source": [
    "model = Clustering(percentile=10, linkage='average', metric='cosine')\n",
    "model.fit(xtrain, n=500)\n",
    "ypred = model.predict(xtrain)"
   ]
  },
  {
   "cell_type": "code",
   "execution_count": null,
   "id": "c3ab55e2-4416-45c7-8b1a-a7b39e7fa2d4",
   "metadata": {
    "tags": []
   },
   "outputs": [],
   "source": [
    "trans_df['class'] = ypred\n",
    "len(np.unique(ypred))"
   ]
  },
  {
   "cell_type": "code",
   "execution_count": null,
   "id": "790b1466-6007-4551-9d13-f58d3b814a02",
   "metadata": {
    "scrolled": true,
    "tags": []
   },
   "outputs": [],
   "source": [
    "trans_df"
   ]
  },
  {
   "cell_type": "markdown",
   "id": "a9ed6daa-6f13-4c92-b239-f75ed807ac01",
   "metadata": {},
   "source": [
    "# RAG"
   ]
  },
  {
   "cell_type": "code",
   "execution_count": null,
   "id": "57c5c968-b3bf-4073-bec2-727d72d42f2c",
   "metadata": {
    "tags": []
   },
   "outputs": [],
   "source": [
    "trans_df = trans_df.rename(columns= {'links': 'url', 'dates': 'date'})\n",
    "rag_data = trans_df[['date', 'cat', 'lang', 'url','translated_title', 'translated_text', 'class']]\n",
    "# rag_data = dataframe[['date', 'cat', 'lang', 'title', 'text', 'url','translated_title', 'translated_text', 'class', 'description']]\n",
    "\n",
    "rag_data = rag_data.fillna('')"
   ]
  },
  {
   "cell_type": "code",
   "execution_count": null,
   "id": "188f1d47-50a8-46a6-babd-110e4a047553",
   "metadata": {
    "scrolled": true,
    "tags": []
   },
   "outputs": [],
   "source": [
    "rag_data"
   ]
  },
  {
   "cell_type": "markdown",
   "id": "ba793618-43e2-41fb-b487-3c4c2678ef33",
   "metadata": {},
   "source": [
    "### Get suppliers data \n"
   ]
  },
  {
   "cell_type": "code",
   "execution_count": null,
   "id": "88e98e8f-8170-4411-91e9-f77017404df4",
   "metadata": {
    "tags": []
   },
   "outputs": [],
   "source": [
    "# load suppliers\n",
    "supplier1 = pd.read_csv('/home/jupyter/data/suppliers/20231004_Fichier_Extraction_avec_usines_clientes.csv')\n",
    "supplier1.drop(columns=[\"Unnamed: 0\"], inplace=True)\n",
    "supplier1['tier'] ='1'\n",
    "# supplier1\n",
    "\n",
    "supplier2 = pd.read_csv('/home/jupyter/data/suppliers/tiern_N.csv')\n",
    "supplier2.drop(columns=[\"Unnamed: 0\"], inplace=True)\n",
    "supplier2['tier'] ='N'\n",
    "# supplier2\n",
    "suppliers = pd.concat([supplier1[['country', 'city', 'suggested_name', 'tier']], supplier2[['country', 'city', 'suggested_name', 'tier']]])\n",
    "print(suppliers.shape)\n",
    "suppliers.dropna(inplace=True)\n",
    "print(suppliers.shape)"
   ]
  },
  {
   "cell_type": "markdown",
   "id": "ff777dd6-e3ba-4084-8fdc-cc7ff878821f",
   "metadata": {},
   "source": [
    "### Running RAG"
   ]
  },
  {
   "cell_type": "code",
   "execution_count": null,
   "id": "44f9236b-f392-412a-b6a1-f731d709a7cc",
   "metadata": {
    "scrolled": true,
    "tags": []
   },
   "outputs": [],
   "source": [
    "fire = FireRAG(vertexai_llm= conf['rag_cong']['vertexai_llm'],\n",
    "                   vertexai_embedding_name = conf['rag_cong']['vertexai_embedding_name'], \n",
    "                   retry = conf['rag_cong']['retry'], \n",
    "                   max_doc = conf['rag_cong']['max_doc'], \n",
    "                   chunk_size = conf['rag_cong']['chunk_size'], \n",
    "                   chunk_overlap = conf['rag_cong']['chunk_overlap']\n",
    "                  )\n",
    "\n",
    "fire.retrieve_infos_with_retry(dataframe=rag_data)"
   ]
  },
  {
   "cell_type": "code",
   "execution_count": null,
   "id": "47a4306e-db62-4a73-9620-7601f90e6db4",
   "metadata": {
    "tags": []
   },
   "outputs": [],
   "source": [
    "fire.results"
   ]
  },
  {
   "cell_type": "code",
   "execution_count": null,
   "id": "1e33698d-d64a-47b0-be5e-724e85c225fb",
   "metadata": {
    "tags": []
   },
   "outputs": [],
   "source": []
  },
  {
   "cell_type": "code",
   "execution_count": null,
   "id": "6e72947b-ee09-4097-bc18-d6f53fbec26f",
   "metadata": {
    "tags": []
   },
   "outputs": [],
   "source": [
    "iterative_results = deepcopy(fire.all_results)\n",
    "len(iterative_results)"
   ]
  },
  {
   "cell_type": "markdown",
   "id": "8233b586-0d77-421d-89fa-a37484b6cf1d",
   "metadata": {},
   "source": [
    "### Matching process \n"
   ]
  },
  {
   "cell_type": "code",
   "execution_count": null,
   "id": "0410632e-4b10-4cf5-bf5b-93cb35cd58be",
   "metadata": {
    "tags": []
   },
   "outputs": [],
   "source": [
    "matching =  Matching()\n",
    "r = matching.match(set_news = iterative_results, dataframe=suppliers)"
   ]
  },
  {
   "cell_type": "markdown",
   "id": "684011cf-45c8-472e-823c-320d8d0f693d",
   "metadata": {},
   "source": [
    "### Filtering process"
   ]
  },
  {
   "cell_type": "code",
   "execution_count": null,
   "id": "6bcda9f6-ffb3-4b18-adcb-d11b8219f93d",
   "metadata": {
    "tags": []
   },
   "outputs": [],
   "source": [
    "filtre = Filter(empty_companie_name_index=matching.index, decision_function=conf['decision_function'], decision_function_args=conf[\"decision_function_args\"], filename=None)\n",
    "rr = filtre.filtering(matching.results)"
   ]
  },
  {
   "cell_type": "code",
   "execution_count": null,
   "id": "17743580-7b3e-40b0-ae42-15b7b906c428",
   "metadata": {
    "scrolled": true,
    "tags": []
   },
   "outputs": [],
   "source": [
    "rr"
   ]
  },
  {
   "cell_type": "markdown",
   "id": "27c157bb-dfc4-46d7-bdf5-75b75e9bb0a3",
   "metadata": {},
   "source": [
    "## Grouping processed articles based on their names"
   ]
  },
  {
   "cell_type": "code",
   "execution_count": null,
   "id": "d7fdc2bc-ac0f-43ca-9812-2da4b9fad655",
   "metadata": {
    "scrolled": true,
    "tags": []
   },
   "outputs": [],
   "source": [
    "rr = groupByName(rr)"
   ]
  },
  {
   "cell_type": "code",
   "execution_count": null,
   "id": "294fbd7c-07a4-40c9-bc71-6e194d9646f8",
   "metadata": {},
   "outputs": [],
   "source": [
    "results = generate_description(rr, dataframe=rag_data)"
   ]
  },
  {
   "cell_type": "markdown",
   "id": "5216501e-c01f-4907-9a8d-44a1690940e1",
   "metadata": {},
   "source": [
    "## Adding geographical coordonate"
   ]
  },
  {
   "cell_type": "code",
   "execution_count": null,
   "id": "c2beac59-ca5e-4db3-848a-03ca9c2c4ff0",
   "metadata": {},
   "outputs": [],
   "source": [
    "load_dotenv()\n",
    "NEWS_API_KEY = os.getenv('NEWS_API_KEY')\n",
    "os.environ['http_proxy'] = os.getenv('http_proxy')\n",
    "os.environ['https_proxy'] = os.getenv('https_proxy')\n",
    "os.environ['HTTP_PROXY'] = os.getenv('HTTP_PROXY')\n",
    "os.environ['HTTPS_PROXY'] = os.getenv('HTTPS_PROXY')"
   ]
  },
  {
   "cell_type": "code",
   "execution_count": null,
   "id": "bc24356b-e479-4577-9091-f54aebaab89e",
   "metadata": {
    "scrolled": true,
    "tags": []
   },
   "outputs": [],
   "source": [
    "final_results = geoloc(results)"
   ]
  },
  {
   "cell_type": "code",
   "execution_count": null,
   "id": "b29925a6-dd57-4b48-b498-6824faebe83b",
   "metadata": {
    "scrolled": true,
    "tags": []
   },
   "outputs": [],
   "source": [
    "final_results"
   ]
  },
  {
   "cell_type": "markdown",
   "id": "def515a1-8ae8-4f78-b59b-5dbdba511180",
   "metadata": {},
   "source": [
    "## Saving the final results"
   ]
  },
  {
   "cell_type": "code",
   "execution_count": null,
   "id": "9e89ec60-ca87-4b31-9fa8-e0ab08635f7b",
   "metadata": {
    "tags": []
   },
   "outputs": [],
   "source": [
    "# # file path where the results will be saved\n",
    "# filename = \"/home/jupyter/news/results/json/strike/complete_pipeline_test.json\"\n",
    "# with open(filename, \"w\") as final:\n",
    "#     json.dump(final_results, final, indent=4)\n",
    "#     print(\"saved !\")"
   ]
  },
  {
   "cell_type": "code",
   "execution_count": null,
   "id": "32d2d90d-e5b1-4748-816e-20b29d942fb1",
   "metadata": {},
   "outputs": [],
   "source": []
  },
  {
   "cell_type": "code",
   "execution_count": null,
   "id": "7c4c5cd0-538f-4f10-9631-70b77ef0f252",
   "metadata": {},
   "outputs": [],
   "source": []
  },
  {
   "cell_type": "code",
   "execution_count": null,
   "id": "af5f5914-1c83-4f69-aec9-77d04e476466",
   "metadata": {},
   "outputs": [],
   "source": []
  }
 ],
 "metadata": {
  "environment": {
   "kernel": "python3",
   "name": ".m119",
   "type": "gcloud",
   "uri": "us-docker.pkg.dev/deeplearning-platform-release/gcr.io/:m119"
  },
  "kernelspec": {
   "display_name": "Python 3 (Local)",
   "language": "python",
   "name": "python3"
  },
  "language_info": {
   "codemirror_mode": {
    "name": "ipython",
    "version": 3
   },
   "file_extension": ".py",
   "mimetype": "text/x-python",
   "name": "python",
   "nbconvert_exporter": "python",
   "pygments_lexer": "ipython3",
<<<<<<< HEAD
   "version": "3.9.19"
=======
   "version": "3.10.14"
>>>>>>> 66b004b1c89a0beeb66920cdb67a93d1761a8ac6
  },
  "widgets": {
   "application/vnd.jupyter.widget-state+json": {
    "state": {},
    "version_major": 2,
    "version_minor": 0
   }
  }
 },
 "nbformat": 4,
 "nbformat_minor": 5
}
