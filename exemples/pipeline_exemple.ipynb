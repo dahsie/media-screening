{
 "cells": [
  {
   "cell_type": "code",
   "execution_count": 47,
   "id": "def635d1-31a8-461c-a4a9-1ecdad019647",
   "metadata": {
    "tags": []
   },
   "outputs": [],
   "source": [
    "import sys\n",
    "import os\n",
    "\n",
    "sys.path.append(\"/home/jupyter/news/src\")\n",
    "from newsapiscraper import NewsApiScraper\n",
    "from newscollector import NewsCollector\n",
    "from googletranslation import GoogleTranslate\n",
    "from clustering import Clustering\n",
    "from googleembeddings import GoogleEmbeddings\n",
    "from strike_rag import StrikeRAG\n",
    "from fire_rag import FireRAG\n",
    "from filtering import Filter\n",
    "from matching import Matching\n",
    "from configuration import Configuration\n",
    "import sectors_to_discard\n",
    "from utils import split_liste, groupByName, generate_description, geoloc\n",
    "import strike_relevancy\n",
    "\n",
    "\n",
    "import pandas as pd\n",
    "import numpy as np\n",
    "import json\n",
    "import requests\n",
    "from copy import deepcopy\n",
    "from geopy.geocoders import Nominatim\n",
    "from dotenv import load_dotenv"
   ]
  },
  {
   "cell_type": "code",
   "execution_count": 48,
   "id": "03a05c25-d098-4f85-880a-ed2ec86107ba",
   "metadata": {
    "tags": []
   },
   "outputs": [],
   "source": [
    "load_dotenv()\n",
    "NEWS_API_KEY = os.getenv('NEWS_API_KEY')\n",
    "os.environ['http_proxy'] = os.getenv('http_proxy')\n",
    "os.environ['https_proxy'] = os.getenv('https_proxy')\n",
    "os.environ['HTTP_PROXY'] = os.getenv('HTTP_PROXY')\n",
    "os.environ['HTTPS_PROXY'] = os.getenv('HTTPS_PROXY')"
   ]
  },
  {
   "cell_type": "markdown",
   "id": "b0dd7b7e-773c-4f3f-ac85-0923c169e191",
   "metadata": {},
   "source": [
    "# Creating config file for the first time"
   ]
  },
  {
   "cell_type": "markdown",
   "id": "ce363424-8cb2-4a0a-8920-00c821261855",
   "metadata": {},
   "source": [
    "## Generation initial config dict\n",
    "We generate a dict that will be use to generate the finale config file. This final config should be generate once and be used at every moment if we do not add some new keys."
   ]
  },
  {
   "cell_type": "code",
   "execution_count": 4,
   "id": "2f79b661-006c-4446-b181-9ece94c79766",
   "metadata": {
    "tags": []
   },
   "outputs": [],
   "source": [
    "dict_config = {}\n",
    "dict_config['keywords'] = ['strike', 'picket line', 'employee protest']\n",
    "dict_config['country_lang'] = [\n",
    "    {'country': 'BE','lang': ['fr']}, # Belgium\n",
    "    {'country': 'CH','lang': ['fr', 'de', 'it']}, # Searching news with differentes languge in the same country where threre are several official language\n",
    "    {'country': 'BG','lang': ['bg']},  # Bulgaria\n",
    "    {'country': 'BR','lang': ['pt']},\n",
    "    {'country' : 'CL',  'lang' : ['es']},\n",
    "    {'country' : 'CN',  'lang' : ['zh']},\n",
    "    {'country' : 'CO',  'lang' : ['es']},\n",
    "    {'country' : 'CZ',  'lang' : ['cs']},\n",
    "    {'country' : 'DE',  'lang' : ['de']},\n",
    "    {'country' : 'DZ',  'lang' : ['ar']},\n",
    "    {'country' : 'EE',  'lang' : ['et']},\n",
    "    {'country' : 'ES',  'lang' : ['es']},\n",
    "    {'country' : 'FR',  'lang' : ['fr']},\n",
    "    {'country' : 'GB',  'lang' : ['en']},\n",
    "    {'country' : 'HU',  'lang' : ['hu']},\n",
    "    {'country' : 'ID',  'lang' : ['id']},\n",
    "    {'country' : 'IN',  'lang' : ['hi']},\n",
    "    {'country' : 'IT',  'lang' : ['it']},\n",
    "    {'country' : 'JP',  'lang' : ['ja']},\n",
    "    {'country' : 'KR',  'lang' : ['ko']},\n",
    "    {'country' : 'LT',  'lang' : ['lt']}, \n",
    "    {'country' : 'MA',  'lang' : ['ar']},\n",
    "    {'country' : 'MC',  'lang' : ['fr']}, \n",
    "    {'country' : 'MX',  'lang' : ['es']},\n",
    "    {'country' : 'MY',  'lang' : ['ms']},\n",
    "    {'country' : 'NL',  'lang' : ['nl']},\n",
    "    {'country' : 'PL',  'lang' : ['pl']},\n",
    "    {'country' : 'PT',  'lang' : ['pt']},\n",
    "    {'country' : 'RO',  'lang' : ['ro']},\n",
    "    {'country' : 'SI',  'lang' : ['sl']},\n",
    "    {'country' : 'SK',  'lang' : ['sk']},\n",
    "    {'country' : 'TH',  'lang' : ['th']},\n",
    "    {'country' : 'TN',  'lang' : ['ar']},\n",
    "    {'country' : 'TR',  'lang' : ['tr']},\n",
    "    {'country' : 'UA',  'lang' : ['uk']},\n",
    "    {'country' : 'VN',  'lang' : ['vi']},\n",
    "    {'country' : 'SE',  'lang' : ['sv']},\n",
    "    {'country' : 'SV',  'lang' : ['es']},\n",
    "    {'country' : 'CA',  'lang' : ['fr']},\n",
    "    {'country' : 'LU',  'lang' : ['fr']}\n",
    "]\n",
    "\n",
    "dict_config['NEWS_API_KEY'] = NEWS_API_KEY # if you use News API services\n",
    "\n",
    "dict_config['rag_cong'] = {'vertexai_llm': 'gemini-1.5-flash',\n",
    "                            'vertexai_embedding_name': 'text-embedding-004',\n",
    "                            'chunk_size': 2000, 'chunk_overlap': 10, 'max_doc': 5, 'retry': 1}\n",
    "# dict_config[\"sectors_to_discard\"] = sectors_to_discard.SECTORS_TO_DISCARD # Or spécify a liste of sectors you want to discard\n",
    "dict_config[\"decision_function_args\"] = {\n",
    "    'sectors_to_discard': sectors_to_discard.SECTORS_TO_DISCARD, # Or spécify a liste of sectors you want to discard\n",
    "    'desirable_temporalities' : ['upcoming', 'ongoing', 'unknown']\n",
    "}\n",
    "\n",
    "dict_config['project_id']=\"irn-67050-lab-65\"\n",
    "                          "
   ]
  },
  {
   "cell_type": "code",
   "execution_count": 5,
   "id": "2900bb44-8537-4f38-a8d3-42c4b7f395fb",
   "metadata": {
    "scrolled": true,
    "tags": []
   },
   "outputs": [
    {
     "data": {
      "text/plain": [
       "{'keywords': ['strike', 'picket line', 'employee protest'],\n",
       " 'country_lang': [{'country': 'BE', 'lang': ['fr']},\n",
       "  {'country': 'CH', 'lang': ['fr', 'de', 'it']},\n",
       "  {'country': 'BG', 'lang': ['bg']},\n",
       "  {'country': 'BR', 'lang': ['pt']},\n",
       "  {'country': 'CL', 'lang': ['es']},\n",
       "  {'country': 'CN', 'lang': ['zh']},\n",
       "  {'country': 'CO', 'lang': ['es']},\n",
       "  {'country': 'CZ', 'lang': ['cs']},\n",
       "  {'country': 'DE', 'lang': ['de']},\n",
       "  {'country': 'DZ', 'lang': ['ar']},\n",
       "  {'country': 'EE', 'lang': ['et']},\n",
       "  {'country': 'ES', 'lang': ['es']},\n",
       "  {'country': 'FR', 'lang': ['fr']},\n",
       "  {'country': 'GB', 'lang': ['en']},\n",
       "  {'country': 'HU', 'lang': ['hu']},\n",
       "  {'country': 'ID', 'lang': ['id']},\n",
       "  {'country': 'IN', 'lang': ['hi']},\n",
       "  {'country': 'IT', 'lang': ['it']},\n",
       "  {'country': 'JP', 'lang': ['ja']},\n",
       "  {'country': 'KR', 'lang': ['ko']},\n",
       "  {'country': 'LT', 'lang': ['lt']},\n",
       "  {'country': 'MA', 'lang': ['ar']},\n",
       "  {'country': 'MC', 'lang': ['fr']},\n",
       "  {'country': 'MX', 'lang': ['es']},\n",
       "  {'country': 'MY', 'lang': ['ms']},\n",
       "  {'country': 'NL', 'lang': ['nl']},\n",
       "  {'country': 'PL', 'lang': ['pl']},\n",
       "  {'country': 'PT', 'lang': ['pt']},\n",
       "  {'country': 'RO', 'lang': ['ro']},\n",
       "  {'country': 'SI', 'lang': ['sl']},\n",
       "  {'country': 'SK', 'lang': ['sk']},\n",
       "  {'country': 'TH', 'lang': ['th']},\n",
       "  {'country': 'TN', 'lang': ['ar']},\n",
       "  {'country': 'TR', 'lang': ['tr']},\n",
       "  {'country': 'UA', 'lang': ['uk']},\n",
       "  {'country': 'VN', 'lang': ['vi']},\n",
       "  {'country': 'SE', 'lang': ['sv']},\n",
       "  {'country': 'SV', 'lang': ['es']},\n",
       "  {'country': 'CA', 'lang': ['fr']},\n",
       "  {'country': 'LU', 'lang': ['fr']}],\n",
       " 'NEWS_API_KEY': 'b1dcacfbc49d4ac1a48db5f5652b11a2',\n",
       " 'rag_cong': {'vertexai_llm': 'gemini-1.5-flash',\n",
       "  'vertexai_embedding_name': 'text-embedding-004',\n",
       "  'chunk_size': 2000,\n",
       "  'chunk_overlap': 10,\n",
       "  'max_doc': 5,\n",
       "  'retry': 1},\n",
       " 'decision_function_args': {'sectors_to_discard': ['hospital',\n",
       "   'health',\n",
       "   'healthcare',\n",
       "   'medical',\n",
       "   'education',\n",
       "   'school',\n",
       "   'schools',\n",
       "   'media',\n",
       "   'pharmaceutical',\n",
       "   'pharmaceuticals',\n",
       "   'public transportation',\n",
       "   'public bus',\n",
       "   'railroad',\n",
       "   'railways',\n",
       "   'tourism',\n",
       "   'public service',\n",
       "   'public services',\n",
       "   'public administration',\n",
       "   'medical services',\n",
       "   'government',\n",
       "   'government service',\n",
       "   'public ddministration',\n",
       "   'waste management',\n",
       "   'social services',\n",
       "   'cleaning',\n",
       "   'cleaning services',\n",
       "   'public transport',\n",
       "   'infrastructure',\n",
       "   'food delivery',\n",
       "   'food',\n",
       "   'travel',\n",
       "   'hospitality',\n",
       "   'food',\n",
       "   'hunger',\n",
       "   'aviation',\n",
       "   'airport services',\n",
       "   'hospitality',\n",
       "   'postal and courier services',\n",
       "   'postal',\n",
       "   'courier services',\n",
       "   'airline industry',\n",
       "   'airline',\n",
       "   'shipping',\n",
       "   'logistics',\n",
       "   'maritime transport',\n",
       "   'logistics and transportation'],\n",
       "  'desirable_temporalities': ['upcoming', 'ongoing', 'unknown']},\n",
       " 'project_id': 'irn-67050-lab-65'}"
      ]
     },
     "execution_count": 5,
     "metadata": {},
     "output_type": "execute_result"
    }
   ],
   "source": [
    "dict_config"
   ]
  },
  {
   "cell_type": "code",
   "execution_count": null,
   "id": "7fbbb3ec-aa5e-4ea7-b534-ca44d8c2baa3",
   "metadata": {},
   "outputs": [],
   "source": []
  },
  {
   "cell_type": "code",
   "execution_count": 6,
   "id": "4341ed8c-7bec-42a7-9cfa-e400a2c6fec3",
   "metadata": {
    "tags": []
   },
   "outputs": [],
   "source": [
    "initial_config_file =\"/home/jupyter/news/config/initial_config_file.json\"\n",
    "with open(initial_config_file, 'w') as file :\n",
    "    json.dump(dict_config, file, indent = 4)"
   ]
  },
  {
   "cell_type": "markdown",
   "id": "7461c6ec-d1ca-4ed9-9f33-7e1e1916ff10",
   "metadata": {},
   "source": [
    "## Generating final config file from initial config file\n",
    "It it this final config file which will be used to get news"
   ]
  },
  {
   "cell_type": "code",
   "execution_count": 7,
   "id": "98f90a2e-48f0-4b10-a3e9-41613acd7ac3",
   "metadata": {
    "tags": []
   },
   "outputs": [],
   "source": [
    "initial_config_file = \"/home/jupyter/news/config/initial_config_file.json\"\n",
    "final_config_file = \"/home/jupyter/news/config/final_config_file.json\"\n",
    "config = Configuration( initial_config_file = initial_config_file, final_config_file = final_config_file)"
   ]
  },
  {
   "cell_type": "markdown",
   "id": "b11b6dcd-8c51-4972-9d70-cfd28d0716e2",
   "metadata": {},
   "source": [
    "# Loading config file"
   ]
  },
  {
   "cell_type": "code",
   "execution_count": 8,
   "id": "ff725075-d26d-4645-a98f-14043c90dadd",
   "metadata": {
    "scrolled": true,
    "tags": []
   },
   "outputs": [
    {
     "data": {
      "text/plain": [
       "{'keywords': ['strike', 'picket line', 'employee protest'],\n",
       " 'country_lang': [{'country': 'BE',\n",
       "   'lang': 'fr',\n",
       "   'queries': ['grève', 'piquet de grève', 'protestation des employés']},\n",
       "  {'country': 'CH',\n",
       "   'lang': 'fr',\n",
       "   'queries': ['grève', 'piquet de grève', 'protestation des employés']},\n",
       "  {'country': 'CH',\n",
       "   'lang': 'de',\n",
       "   'queries': ['schlagen', 'Streikposten', 'Mitarbeiterprotest']},\n",
       "  {'country': 'CH',\n",
       "   'lang': 'it',\n",
       "   'queries': ['sciopero',\n",
       "    'cordone di scioperanti',\n",
       "    'protesta dei dipendenti']},\n",
       "  {'country': 'BG',\n",
       "   'lang': 'bg',\n",
       "   'queries': ['стачка', 'пикет линия', 'протест на служител']},\n",
       "  {'country': 'BR',\n",
       "   'lang': 'pt',\n",
       "   'queries': ['batida', 'linha de piquete', 'protesto de funcionários']},\n",
       "  {'country': 'CL',\n",
       "   'lang': 'es',\n",
       "   'queries': ['huelga', 'piquete', 'protesta de empleados']},\n",
       "  {'country': 'CN',\n",
       "   'lang': 'zh',\n",
       "   'queries': ['strike', 'picket line', 'employee protest']},\n",
       "  {'country': 'CO',\n",
       "   'lang': 'es',\n",
       "   'queries': ['huelga', 'piquete', 'protesta de empleados']},\n",
       "  {'country': 'CZ',\n",
       "   'lang': 'cs',\n",
       "   'queries': ['stávka', 'hlídková linie', 'protest zaměstnanců']},\n",
       "  {'country': 'DE',\n",
       "   'lang': 'de',\n",
       "   'queries': ['schlagen', 'Streikposten', 'Mitarbeiterprotest']},\n",
       "  {'country': 'DZ',\n",
       "   'lang': 'ar',\n",
       "   'queries': ['يضرب', 'خط الاعتصام', 'احتجاج الموظفين']},\n",
       "  {'country': 'EE',\n",
       "   'lang': 'et',\n",
       "   'queries': ['streikima', 'piketijoon', 'töötajate protest']},\n",
       "  {'country': 'ES',\n",
       "   'lang': 'es',\n",
       "   'queries': ['huelga', 'piquete', 'protesta de empleados']},\n",
       "  {'country': 'FR',\n",
       "   'lang': 'fr',\n",
       "   'queries': ['grève', 'piquet de grève', 'protestation des employés']},\n",
       "  {'country': 'GB',\n",
       "   'lang': 'en',\n",
       "   'queries': ['strike', 'picket line', 'employee protest']},\n",
       "  {'country': 'HU',\n",
       "   'lang': 'hu',\n",
       "   'queries': ['sztrájk', 'harcelőőrsök vonala', 'alkalmazottak tiltakozása']},\n",
       "  {'country': 'ID',\n",
       "   'lang': 'id',\n",
       "   'queries': ['memukul', 'garis piket', 'protes karyawan']},\n",
       "  {'country': 'IN',\n",
       "   'lang': 'hi',\n",
       "   'queries': ['हड़ताल', 'प्रहरियों की पंक्ति', 'कर्मचारी विरोध प्रदर्शन']},\n",
       "  {'country': 'IT',\n",
       "   'lang': 'it',\n",
       "   'queries': ['sciopero',\n",
       "    'cordone di scioperanti',\n",
       "    'protesta dei dipendenti']},\n",
       "  {'country': 'JP', 'lang': 'ja', 'queries': ['ストライク', 'ピケライン', '従業員の抗議']},\n",
       "  {'country': 'KR', 'lang': 'ko', 'queries': ['스트라이크', '피켓 라인', '직원 시위']},\n",
       "  {'country': 'LT',\n",
       "   'lang': 'lt',\n",
       "   'queries': ['streikuoti', 'piketo linija', 'darbuotojų protestas']},\n",
       "  {'country': 'MA',\n",
       "   'lang': 'ar',\n",
       "   'queries': ['يضرب', 'خط الاعتصام', 'احتجاج الموظفين']},\n",
       "  {'country': 'MC',\n",
       "   'lang': 'fr',\n",
       "   'queries': ['grève', 'piquet de grève', 'protestation des employés']},\n",
       "  {'country': 'MX',\n",
       "   'lang': 'es',\n",
       "   'queries': ['huelga', 'piquete', 'protesta de empleados']},\n",
       "  {'country': 'MY',\n",
       "   'lang': 'ms',\n",
       "   'queries': ['mogok', 'barisan piket', 'bantahan pekerja']},\n",
       "  {'country': 'NL',\n",
       "   'lang': 'nl',\n",
       "   'queries': ['staking', 'piketlijn', 'werknemersprotest']},\n",
       "  {'country': 'PL',\n",
       "   'lang': 'pl',\n",
       "   'queries': ['strajk', 'linia pikiet', 'protest pracowniczy']},\n",
       "  {'country': 'PT',\n",
       "   'lang': 'pt',\n",
       "   'queries': ['batida', 'linha de piquete', 'protesto de funcionários']},\n",
       "  {'country': 'RO',\n",
       "   'lang': 'ro',\n",
       "   'queries': ['grevă', 'linie de pichet', 'protestul angajatului']},\n",
       "  {'country': 'SI',\n",
       "   'lang': 'sl',\n",
       "   'queries': ['stavka', 'odbojna linija', 'protest zaposlenih']},\n",
       "  {'country': 'SK',\n",
       "   'lang': 'sk',\n",
       "   'queries': ['štrajk', 'piketová čiara', 'protest zamestnancov']},\n",
       "  {'country': 'TH',\n",
       "   'lang': 'th',\n",
       "   'queries': ['โจมตี', 'แนวป้องกัน', 'การประท้วงของพนักงาน']},\n",
       "  {'country': 'TN',\n",
       "   'lang': 'ar',\n",
       "   'queries': ['يضرب', 'خط الاعتصام', 'احتجاج الموظفين']},\n",
       "  {'country': 'TR',\n",
       "   'lang': 'tr',\n",
       "   'queries': ['çarpmak', 'grev hattı', 'çalışan protestosu']},\n",
       "  {'country': 'UA',\n",
       "   'lang': 'uk',\n",
       "   'queries': ['страйк', 'пікет', 'протест працівника']},\n",
       "  {'country': 'VN',\n",
       "   'lang': 'vi',\n",
       "   'queries': ['đánh đập',\n",
       "    'hàng rào rào chắn',\n",
       "    'cuộc biểu tình của nhân viên']},\n",
       "  {'country': 'SE',\n",
       "   'lang': 'sv',\n",
       "   'queries': ['strejk', 'piketlinje', 'anställdas protest']},\n",
       "  {'country': 'SV',\n",
       "   'lang': 'es',\n",
       "   'queries': ['huelga', 'piquete', 'protesta de empleados']},\n",
       "  {'country': 'CA',\n",
       "   'lang': 'fr',\n",
       "   'queries': ['grève', 'piquet de grève', 'protestation des employés']},\n",
       "  {'country': 'LU',\n",
       "   'lang': 'fr',\n",
       "   'queries': ['grève', 'piquet de grève', 'protestation des employés']}],\n",
       " 'NEWS_API_KEY': 'b1dcacfbc49d4ac1a48db5f5652b11a2',\n",
       " 'rag_cong': {'vertexai_llm': 'gemini-1.5-flash',\n",
       "  'vertexai_embedding_name': 'text-embedding-004',\n",
       "  'chunk_size': 2000,\n",
       "  'chunk_overlap': 10,\n",
       "  'max_doc': 5,\n",
       "  'retry': 1},\n",
       " 'decision_function_args': {'sectors_to_discard': ['hospital',\n",
       "   'health',\n",
       "   'healthcare',\n",
       "   'medical',\n",
       "   'education',\n",
       "   'school',\n",
       "   'schools',\n",
       "   'media',\n",
       "   'pharmaceutical',\n",
       "   'pharmaceuticals',\n",
       "   'public transportation',\n",
       "   'public bus',\n",
       "   'railroad',\n",
       "   'railways',\n",
       "   'tourism',\n",
       "   'public service',\n",
       "   'public services',\n",
       "   'public administration',\n",
       "   'medical services',\n",
       "   'government',\n",
       "   'government service',\n",
       "   'public ddministration',\n",
       "   'waste management',\n",
       "   'social services',\n",
       "   'cleaning',\n",
       "   'cleaning services',\n",
       "   'public transport',\n",
       "   'infrastructure',\n",
       "   'food delivery',\n",
       "   'food',\n",
       "   'travel',\n",
       "   'hospitality',\n",
       "   'food',\n",
       "   'hunger',\n",
       "   'aviation',\n",
       "   'airport services',\n",
       "   'hospitality',\n",
       "   'postal and courier services',\n",
       "   'postal',\n",
       "   'courier services',\n",
       "   'airline industry',\n",
       "   'airline',\n",
       "   'shipping',\n",
       "   'logistics',\n",
       "   'maritime transport',\n",
       "   'logistics and transportation'],\n",
       "  'desirable_temporalities': ['upcoming', 'ongoing', 'unknown']},\n",
       " 'project_id': 'irn-67050-lab-65',\n",
       " 'decision_function': <function strike_relevancy.strike_relevancy(item: dict, args: dict) -> bool>}"
      ]
     },
     "execution_count": 8,
     "metadata": {},
     "output_type": "execute_result"
    }
   ],
   "source": [
    "config_file = '/home/jupyter/news/config/final_config_file.json'\n",
    "with open(config_file, 'r') as file :\n",
    "    conf = json.load(file)\n",
    "conf['decision_function'] = strike_relevancy.strike_relevancy\n",
    "conf"
   ]
  },
  {
   "cell_type": "markdown",
   "id": "cc41770c-78e8-49a3-a20f-ff365e47fb14",
   "metadata": {},
   "source": [
    "# Instanciating NewsApiScraper"
   ]
  },
  {
   "cell_type": "code",
   "execution_count": 9,
   "id": "da4be042-ed07-4851-91df-874ab91fb13c",
   "metadata": {
    "tags": []
   },
   "outputs": [],
   "source": [
    "scrapper = NewsApiScraper(api_key= conf['NEWS_API_KEY'], start_date='2024-08-22',end_date='2024-08-23')"
   ]
  },
  {
   "cell_type": "markdown",
   "id": "0b607f4f-c93d-4b1c-a3f1-e4044fa57aa4",
   "metadata": {},
   "source": [
    "# Collecting news via Newscolllector instance"
   ]
  },
  {
   "cell_type": "code",
   "execution_count": 10,
   "id": "f346b99f-c5af-4895-88b4-eccb1e951b82",
   "metadata": {
    "scrolled": true,
    "tags": []
   },
   "outputs": [
    {
     "name": "stderr",
     "output_type": "stream",
     "text": [
      "  0%|          | 0/42 [00:00<?, ?it/s]"
     ]
    },
    {
     "name": "stdout",
     "output_type": "stream",
     "text": [
      "{'country': 'BE', 'lang': 'fr', 'queries': ['grève', 'piquet de grève', 'protestation des employés']}\n",
      "search ended !\n"
     ]
    },
    {
     "name": "stderr",
     "output_type": "stream",
     "text": [
      "\n",
      "  0%|          | 0/15 [00:00<?, ?it/s]\u001b[A\n",
      "  7%|▋         | 1/15 [00:00<00:04,  3.04it/s]\u001b[A\n",
      " 13%|█▎        | 2/15 [00:00<00:03,  3.76it/s]\u001b[A\n",
      " 20%|██        | 3/15 [00:00<00:02,  4.05it/s]\u001b[A\n",
      " 27%|██▋       | 4/15 [00:00<00:02,  4.26it/s]\u001b[A\n",
      " 33%|███▎      | 5/15 [00:01<00:02,  3.36it/s]\u001b[A\n",
      " 40%|████      | 6/15 [00:01<00:02,  3.72it/s]\u001b[A\n",
      " 47%|████▋     | 7/15 [00:02<00:02,  3.17it/s]\u001b[A\n",
      " 53%|█████▎    | 8/15 [00:02<00:02,  2.66it/s]\u001b[A\n",
      " 60%|██████    | 9/15 [00:02<00:02,  2.54it/s]\u001b[A\n",
      " 67%|██████▋   | 10/15 [00:05<00:05,  1.04s/it]\u001b[A\n",
      " 73%|███████▎  | 11/15 [00:05<00:03,  1.20it/s]\u001b[A\n",
      " 80%|████████  | 12/15 [00:06<00:01,  1.50it/s]\u001b[A\n",
      " 87%|████████▋ | 13/15 [00:06<00:01,  1.74it/s]\u001b[A\n",
      " 93%|█████████▎| 14/15 [00:06<00:00,  2.01it/s]\u001b[A\n",
      "100%|██████████| 15/15 [00:07<00:00,  2.10it/s]\u001b[A\n"
     ]
    },
    {
     "name": "stdout",
     "output_type": "stream",
     "text": [
      "News collection ended ! \n",
      "BE fr grève\n",
      " data_.shape :(15, 6)\n",
      "search ended !\n"
     ]
    },
    {
     "name": "stderr",
     "output_type": "stream",
     "text": [
      "\n",
      "0it [00:00, ?it/s]\u001b[A\n"
     ]
    },
    {
     "name": "stdout",
     "output_type": "stream",
     "text": [
      "News collection ended ! \n",
      "BE fr piquet de grève\n",
      "search ended !\n"
     ]
    },
    {
     "name": "stderr",
     "output_type": "stream",
     "text": [
      "\n",
      "0it [00:00, ?it/s]\u001b[A"
     ]
    },
    {
     "name": "stdout",
     "output_type": "stream",
     "text": [
      "News collection ended ! \n"
     ]
    },
    {
     "name": "stderr",
     "output_type": "stream",
     "text": [
      "\n",
      "  2%|▏         | 1/42 [00:08<06:08,  8.99s/it]"
     ]
    },
    {
     "name": "stdout",
     "output_type": "stream",
     "text": [
      "BE fr protestation des employés\n",
      "{'country': 'CH', 'lang': 'fr', 'queries': ['grève', 'piquet de grève', 'protestation des employés']}\n",
      "search ended !\n"
     ]
    },
    {
     "name": "stderr",
     "output_type": "stream",
     "text": [
      "\n",
      "0it [00:00, ?it/s]\u001b[A"
     ]
    },
    {
     "name": "stdout",
     "output_type": "stream",
     "text": [
      "News collection ended ! \n",
      "CH fr grève\n"
     ]
    },
    {
     "name": "stderr",
     "output_type": "stream",
     "text": [
      "\n"
     ]
    },
    {
     "name": "stdout",
     "output_type": "stream",
     "text": [
      "search ended !\n"
     ]
    },
    {
     "name": "stderr",
     "output_type": "stream",
     "text": [
      "\n",
      "0it [00:00, ?it/s]\u001b[A"
     ]
    },
    {
     "name": "stdout",
     "output_type": "stream",
     "text": [
      "News collection ended ! \n",
      "CH fr piquet de grève\n"
     ]
    },
    {
     "name": "stderr",
     "output_type": "stream",
     "text": [
      "\n"
     ]
    },
    {
     "name": "stdout",
     "output_type": "stream",
     "text": [
      "search ended !\n"
     ]
    },
    {
     "name": "stderr",
     "output_type": "stream",
     "text": [
      "\n",
      "0it [00:00, ?it/s]\u001b[A\n",
      "  5%|▍         | 2/42 [00:10<03:14,  4.86s/it]"
     ]
    },
    {
     "name": "stdout",
     "output_type": "stream",
     "text": [
      "News collection ended ! \n",
      "CH fr protestation des employés\n",
      "{'country': 'CH', 'lang': 'de', 'queries': ['schlagen', 'Streikposten', 'Mitarbeiterprotest']}\n",
      "search ended !\n"
     ]
    },
    {
     "name": "stderr",
     "output_type": "stream",
     "text": [
      "\n",
      "  0%|          | 0/77 [00:00<?, ?it/s]\u001b[A\n",
      "  1%|▏         | 1/77 [00:00<00:16,  4.49it/s]\u001b[A\n",
      "  3%|▎         | 2/77 [00:00<00:21,  3.55it/s]\u001b[A\n",
      "  4%|▍         | 3/77 [00:01<00:33,  2.19it/s]\u001b[A\n",
      "  5%|▌         | 4/77 [00:01<00:40,  1.80it/s]\u001b[A\n",
      "  6%|▋         | 5/77 [00:02<00:50,  1.43it/s]\u001b[A\n",
      "  8%|▊         | 6/77 [00:03<00:49,  1.44it/s]\u001b[A\n",
      "  9%|▉         | 7/77 [00:03<00:38,  1.82it/s]\u001b[A\n",
      " 10%|█         | 8/77 [00:04<00:32,  2.13it/s]\u001b[A\n",
      " 12%|█▏        | 9/77 [00:04<00:24,  2.78it/s]\u001b[A\n",
      " 13%|█▎        | 10/77 [00:04<00:23,  2.82it/s]\u001b[A\n",
      " 14%|█▍        | 11/77 [00:04<00:24,  2.66it/s]\u001b[A\n",
      " 16%|█▌        | 12/77 [00:05<00:23,  2.74it/s]\u001b[A\n",
      " 17%|█▋        | 13/77 [00:05<00:22,  2.82it/s]\u001b[A\n",
      " 18%|█▊        | 14/77 [00:06<00:23,  2.63it/s]\u001b[A\n",
      " 19%|█▉        | 15/77 [00:06<00:24,  2.54it/s]\u001b[A\n",
      " 21%|██        | 16/77 [00:06<00:23,  2.56it/s]\u001b[A\n",
      " 22%|██▏       | 17/77 [00:07<00:28,  2.11it/s]\u001b[A\n",
      " 23%|██▎       | 18/77 [00:08<00:27,  2.16it/s]\u001b[A\n",
      " 25%|██▍       | 19/77 [00:08<00:23,  2.43it/s]\u001b[A\n",
      " 26%|██▌       | 20/77 [00:08<00:20,  2.85it/s]\u001b[A\n",
      " 27%|██▋       | 21/77 [00:08<00:20,  2.77it/s]\u001b[A\n",
      " 29%|██▊       | 22/77 [00:09<00:23,  2.38it/s]\u001b[A\n",
      " 30%|██▉       | 23/77 [00:09<00:21,  2.53it/s]\u001b[A\n",
      " 31%|███       | 24/77 [00:10<00:19,  2.73it/s]\u001b[A\n",
      " 32%|███▏      | 25/77 [00:10<00:17,  3.05it/s]\u001b[A\n",
      " 34%|███▍      | 26/77 [00:10<00:20,  2.52it/s]\u001b[A\n",
      " 35%|███▌      | 27/77 [00:11<00:18,  2.67it/s]\u001b[A\n",
      " 36%|███▋      | 28/77 [00:11<00:18,  2.69it/s]\u001b[A\n",
      " 38%|███▊      | 29/77 [00:11<00:16,  2.93it/s]\u001b[A\n",
      " 39%|███▉      | 30/77 [00:12<00:16,  2.81it/s]\u001b[A\n",
      " 40%|████      | 31/77 [00:12<00:16,  2.83it/s]\u001b[A\n",
      " 42%|████▏     | 32/77 [00:13<00:16,  2.65it/s]\u001b[A\n",
      " 43%|████▎     | 33/77 [00:13<00:16,  2.75it/s]\u001b[A\n",
      " 44%|████▍     | 34/77 [00:13<00:15,  2.80it/s]\u001b[A\n",
      " 45%|████▌     | 35/77 [00:14<00:15,  2.74it/s]\u001b[A\n",
      " 47%|████▋     | 36/77 [00:14<00:16,  2.52it/s]\u001b[A\n",
      " 48%|████▊     | 37/77 [00:14<00:15,  2.56it/s]\u001b[A\n",
      " 49%|████▉     | 38/77 [00:15<00:12,  3.03it/s]\u001b[A\n",
      " 51%|█████     | 39/77 [00:15<00:11,  3.20it/s]\u001b[A\n",
      " 52%|█████▏    | 40/77 [00:15<00:12,  2.95it/s]\u001b[A\n",
      " 53%|█████▎    | 41/77 [00:15<00:10,  3.43it/s]\u001b[A\n",
      " 55%|█████▍    | 42/77 [00:16<00:11,  2.98it/s]\u001b[A\n",
      " 56%|█████▌    | 43/77 [00:16<00:09,  3.51it/s]\u001b[A\n",
      " 57%|█████▋    | 44/77 [00:16<00:09,  3.51it/s]\u001b[A\n",
      " 58%|█████▊    | 45/77 [00:17<00:09,  3.27it/s]\u001b[A\n",
      " 60%|█████▉    | 46/77 [00:17<00:09,  3.41it/s]\u001b[A\n",
      " 61%|██████    | 47/77 [00:17<00:09,  3.30it/s]\u001b[A\n",
      " 62%|██████▏   | 48/77 [00:18<00:08,  3.40it/s]\u001b[A\n",
      " 64%|██████▎   | 49/77 [00:18<00:08,  3.37it/s]\u001b[A\n",
      " 65%|██████▍   | 50/77 [00:18<00:09,  2.89it/s]\u001b[A\n",
      " 66%|██████▌   | 51/77 [00:19<00:09,  2.62it/s]\u001b[A\n",
      " 68%|██████▊   | 52/77 [00:19<00:09,  2.72it/s]\u001b[A\n",
      " 69%|██████▉   | 53/77 [00:19<00:08,  2.85it/s]\u001b[A\n",
      " 70%|███████   | 54/77 [00:20<00:08,  2.82it/s]\u001b[A\n",
      " 71%|███████▏  | 55/77 [00:20<00:07,  2.89it/s]\u001b[A\n",
      " 73%|███████▎  | 56/77 [00:21<00:07,  2.71it/s]\u001b[A\n",
      " 74%|███████▍  | 57/77 [00:21<00:07,  2.85it/s]\u001b[A\n",
      " 75%|███████▌  | 58/77 [00:21<00:06,  3.09it/s]\u001b[A\n",
      " 77%|███████▋  | 59/77 [00:22<00:06,  2.90it/s]\u001b[A\n",
      " 78%|███████▊  | 60/77 [00:22<00:06,  2.57it/s]\u001b[A\n",
      " 79%|███████▉  | 61/77 [00:22<00:05,  2.78it/s]\u001b[A\n",
      " 81%|████████  | 62/77 [00:23<00:05,  2.52it/s]\u001b[A\n",
      " 82%|████████▏ | 63/77 [00:23<00:05,  2.42it/s]\u001b[A\n",
      " 83%|████████▎ | 64/77 [00:24<00:05,  2.21it/s]\u001b[A\n",
      " 84%|████████▍ | 65/77 [00:24<00:04,  2.57it/s]\u001b[A\n",
      " 86%|████████▌ | 66/77 [00:24<00:03,  2.83it/s]\u001b[A\n",
      " 87%|████████▋ | 67/77 [00:25<00:05,  1.91it/s]\u001b[A\n",
      " 88%|████████▊ | 68/77 [00:26<00:04,  2.16it/s]\u001b[A\n",
      " 90%|████████▉ | 69/77 [00:26<00:03,  2.49it/s]\u001b[A\n",
      " 91%|█████████ | 70/77 [00:26<00:02,  2.74it/s]\u001b[A\n",
      " 92%|█████████▏| 71/77 [00:26<00:02,  2.85it/s]\u001b[A\n",
      " 94%|█████████▎| 72/77 [00:27<00:01,  2.83it/s]\u001b[A\n",
      " 95%|█████████▍| 73/77 [00:27<00:01,  3.46it/s]\u001b[A\n",
      " 96%|█████████▌| 74/77 [00:27<00:00,  3.33it/s]\u001b[A\n",
      " 97%|█████████▋| 75/77 [00:27<00:00,  3.40it/s]\u001b[A\n",
      " 99%|█████████▊| 76/77 [00:28<00:00,  3.31it/s]\u001b[A\n",
      "100%|██████████| 77/77 [00:29<00:00,  2.63it/s]\u001b[A\n"
     ]
    },
    {
     "name": "stdout",
     "output_type": "stream",
     "text": [
      "News collection ended ! \n",
      "CH de schlagen\n",
      " data_.shape :(77, 6)\n",
      "search ended !\n"
     ]
    },
    {
     "name": "stderr",
     "output_type": "stream",
     "text": [
      "\n",
      "0it [00:00, ?it/s]\u001b[A\n"
     ]
    },
    {
     "name": "stdout",
     "output_type": "stream",
     "text": [
      "News collection ended ! \n",
      "CH de Streikposten\n",
      "search ended !\n"
     ]
    },
    {
     "name": "stderr",
     "output_type": "stream",
     "text": [
      "\n",
      "0it [00:00, ?it/s]\u001b[A\n",
      "  7%|▋         | 3/42 [00:42<11:00, 16.95s/it]"
     ]
    },
    {
     "name": "stdout",
     "output_type": "stream",
     "text": [
      "News collection ended ! \n",
      "CH de Mitarbeiterprotest\n",
      "{'country': 'CH', 'lang': 'it', 'queries': ['sciopero', 'cordone di scioperanti', 'protesta dei dipendenti']}\n",
      "search ended !\n"
     ]
    },
    {
     "name": "stderr",
     "output_type": "stream",
     "text": [
      "\n",
      "  0%|          | 0/8 [00:00<?, ?it/s]\u001b[A\n",
      " 12%|█▎        | 1/8 [00:00<00:01,  3.73it/s]\u001b[A\n",
      " 25%|██▌       | 2/8 [00:00<00:01,  4.56it/s]\u001b[A\n",
      " 38%|███▊      | 3/8 [00:00<00:01,  4.06it/s]\u001b[A\n",
      " 50%|█████     | 4/8 [00:00<00:00,  4.37it/s]\u001b[A\n",
      " 62%|██████▎   | 5/8 [00:01<00:01,  2.03it/s]\u001b[A\n",
      " 75%|███████▌  | 6/8 [00:02<00:00,  2.31it/s]\u001b[A\n",
      " 88%|████████▊ | 7/8 [00:02<00:00,  2.55it/s]\u001b[A\n",
      "100%|██████████| 8/8 [00:03<00:00,  2.48it/s]\u001b[A\n"
     ]
    },
    {
     "name": "stdout",
     "output_type": "stream",
     "text": [
      "News collection ended ! \n",
      "CH it sciopero\n",
      " data_.shape :(8, 6)\n",
      "search ended !\n"
     ]
    },
    {
     "name": "stderr",
     "output_type": "stream",
     "text": [
      "\n",
      "0it [00:00, ?it/s]\u001b[A\n"
     ]
    },
    {
     "name": "stdout",
     "output_type": "stream",
     "text": [
      "News collection ended ! \n",
      "CH it cordone di scioperanti\n",
      "search ended !\n"
     ]
    },
    {
     "name": "stderr",
     "output_type": "stream",
     "text": [
      "\n",
      "  0%|          | 0/1 [00:00<?, ?it/s]\u001b[A\n",
      "100%|██████████| 1/1 [00:00<00:00,  4.61it/s]\u001b[A\n",
      " 10%|▉         | 4/42 [00:47<07:48, 12.32s/it]"
     ]
    },
    {
     "name": "stdout",
     "output_type": "stream",
     "text": [
      "News collection ended ! \n",
      "CH it protesta dei dipendenti\n",
      " data_.shape :(1, 6)\n",
      "{'country': 'BG', 'lang': 'bg', 'queries': ['стачка', 'пикет линия', 'протест на служител']}\n",
      "search ended !\n"
     ]
    },
    {
     "name": "stderr",
     "output_type": "stream",
     "text": [
      "\n",
      "0it [00:00, ?it/s]\u001b[A"
     ]
    },
    {
     "name": "stdout",
     "output_type": "stream",
     "text": [
      "News collection ended ! \n",
      "BG bg стачка\n"
     ]
    },
    {
     "name": "stderr",
     "output_type": "stream",
     "text": [
      "\n"
     ]
    },
    {
     "name": "stdout",
     "output_type": "stream",
     "text": [
      "search ended !\n"
     ]
    },
    {
     "name": "stderr",
     "output_type": "stream",
     "text": [
      "\n",
      "0it [00:00, ?it/s]\u001b[A"
     ]
    },
    {
     "name": "stdout",
     "output_type": "stream",
     "text": [
      "News collection ended ! \n",
      "BG bg пикет линия\n"
     ]
    },
    {
     "name": "stderr",
     "output_type": "stream",
     "text": [
      "\n"
     ]
    },
    {
     "name": "stdout",
     "output_type": "stream",
     "text": [
      "search ended !\n"
     ]
    },
    {
     "name": "stderr",
     "output_type": "stream",
     "text": [
      "\n",
      "0it [00:00, ?it/s]\u001b[A\n",
      " 12%|█▏        | 5/42 [00:48<05:10,  8.38s/it]"
     ]
    },
    {
     "name": "stdout",
     "output_type": "stream",
     "text": [
      "News collection ended ! \n",
      "BG bg протест на служител\n",
      "{'country': 'BR', 'lang': 'pt', 'queries': ['batida', 'linha de piquete', 'protesto de funcionários']}\n",
      "search ended !\n"
     ]
    },
    {
     "name": "stderr",
     "output_type": "stream",
     "text": [
      "\n",
      "  0%|          | 0/9 [00:00<?, ?it/s]\u001b[A\n",
      " 11%|█         | 1/9 [00:01<00:11,  1.40s/it]\u001b[A\n",
      " 22%|██▏       | 2/9 [00:02<00:06,  1.05it/s]\u001b[A\n",
      " 33%|███▎      | 3/9 [00:04<00:08,  1.46s/it]\u001b[A\n",
      " 44%|████▍     | 4/9 [00:04<00:05,  1.04s/it]\u001b[A\n",
      " 56%|█████▌    | 5/9 [00:06<00:04,  1.24s/it]\u001b[A\n",
      " 67%|██████▋   | 6/9 [00:06<00:03,  1.01s/it]\u001b[A\n",
      " 78%|███████▊  | 7/9 [00:07<00:01,  1.20it/s]\u001b[A\n",
      " 89%|████████▉ | 8/9 [00:07<00:00,  1.42it/s]\u001b[A\n",
      "100%|██████████| 9/9 [00:08<00:00,  1.08it/s]\u001b[A\n"
     ]
    },
    {
     "name": "stdout",
     "output_type": "stream",
     "text": [
      "News collection ended ! \n",
      "BR pt batida\n",
      " data_.shape :(9, 6)\n",
      "search ended !\n"
     ]
    },
    {
     "name": "stderr",
     "output_type": "stream",
     "text": [
      "\n",
      "0it [00:00, ?it/s]\u001b[A"
     ]
    },
    {
     "name": "stdout",
     "output_type": "stream",
     "text": [
      "News collection ended ! \n",
      "BR pt linha de piquete\n"
     ]
    },
    {
     "name": "stderr",
     "output_type": "stream",
     "text": [
      "\n"
     ]
    },
    {
     "name": "stdout",
     "output_type": "stream",
     "text": [
      "search ended !\n"
     ]
    },
    {
     "name": "stderr",
     "output_type": "stream",
     "text": [
      "\n",
      "  0%|          | 0/4 [00:00<?, ?it/s]\u001b[A\n",
      " 25%|██▌       | 1/4 [00:00<00:01,  2.78it/s]\u001b[A\n",
      " 50%|█████     | 2/4 [00:01<00:01,  1.28it/s]\u001b[A\n",
      " 75%|███████▌  | 3/4 [00:03<00:01,  1.35s/it]\u001b[A\n",
      "100%|██████████| 4/4 [00:04<00:00,  1.13s/it]\u001b[A\n",
      " 14%|█▍        | 6/42 [01:03<06:23, 10.65s/it]"
     ]
    },
    {
     "name": "stdout",
     "output_type": "stream",
     "text": [
      "News collection ended ! \n",
      "BR pt protesto de funcionários\n",
      " data_.shape :(4, 6)\n",
      "{'country': 'CL', 'lang': 'es', 'queries': ['huelga', 'piquete', 'protesta de empleados']}\n",
      "search ended !\n"
     ]
    },
    {
     "name": "stderr",
     "output_type": "stream",
     "text": [
      "\n",
      "  0%|          | 0/38 [00:00<?, ?it/s]\u001b[A\n",
      "  3%|▎         | 1/38 [00:00<00:10,  3.60it/s]\u001b[A\n",
      "  5%|▌         | 2/38 [00:00<00:10,  3.37it/s]\u001b[A\n",
      "  8%|▊         | 3/38 [00:00<00:09,  3.55it/s]\u001b[A\n",
      " 11%|█         | 4/38 [00:01<00:09,  3.45it/s]\u001b[A\n",
      " 13%|█▎        | 5/38 [00:01<00:15,  2.09it/s]\u001b[A\n",
      " 16%|█▌        | 6/38 [00:02<00:13,  2.40it/s]\u001b[A\n",
      " 18%|█▊        | 7/38 [00:02<00:11,  2.68it/s]\u001b[A\n",
      " 21%|██        | 8/38 [00:02<00:10,  2.76it/s]\u001b[A\n",
      " 24%|██▎       | 9/38 [00:03<00:10,  2.80it/s]\u001b[A\n",
      " 26%|██▋       | 10/38 [00:03<00:09,  3.09it/s]\u001b[A\n",
      " 29%|██▉       | 11/38 [00:03<00:09,  2.91it/s]\u001b[A\n",
      " 32%|███▏      | 12/38 [00:04<00:14,  1.82it/s]\u001b[A\n",
      " 34%|███▍      | 13/38 [00:05<00:16,  1.47it/s]\u001b[A\n",
      " 37%|███▋      | 14/38 [00:06<00:13,  1.79it/s]\u001b[A\n",
      " 39%|███▉      | 15/38 [00:06<00:12,  1.91it/s]\u001b[A\n",
      " 42%|████▏     | 16/38 [00:07<00:12,  1.81it/s]\u001b[A\n",
      " 45%|████▍     | 17/38 [00:07<00:10,  1.91it/s]\u001b[A\n",
      " 47%|████▋     | 18/38 [00:07<00:08,  2.25it/s]\u001b[A\n",
      " 50%|█████     | 19/38 [00:08<00:07,  2.60it/s]\u001b[A\n",
      " 53%|█████▎    | 20/38 [00:08<00:05,  3.15it/s]\u001b[A\n",
      " 55%|█████▌    | 21/38 [00:08<00:05,  3.32it/s]\u001b[A\n",
      " 58%|█████▊    | 22/38 [00:08<00:04,  3.24it/s]\u001b[A\n",
      " 61%|██████    | 23/38 [00:09<00:03,  4.01it/s]\u001b[A\n",
      " 63%|██████▎   | 24/38 [00:09<00:05,  2.64it/s]\u001b[A\n",
      " 66%|██████▌   | 25/38 [00:10<00:06,  2.03it/s]\u001b[A\n",
      " 68%|██████▊   | 26/38 [00:12<00:10,  1.11it/s]\u001b[A\n",
      " 71%|███████   | 27/38 [00:12<00:07,  1.41it/s]\u001b[A\n",
      " 74%|███████▎  | 28/38 [00:14<00:10,  1.06s/it]\u001b[A\n",
      " 76%|███████▋  | 29/38 [00:14<00:07,  1.20it/s]\u001b[A\n",
      " 79%|███████▉  | 30/38 [00:15<00:05,  1.45it/s]\u001b[A\n",
      " 82%|████████▏ | 31/38 [00:15<00:05,  1.36it/s]\u001b[A\n",
      " 84%|████████▍ | 32/38 [00:16<00:04,  1.48it/s]\u001b[A\n",
      " 87%|████████▋ | 33/38 [00:16<00:02,  1.74it/s]\u001b[A\n",
      " 89%|████████▉ | 34/38 [00:17<00:01,  2.06it/s]\u001b[A\n",
      " 92%|█████████▏| 35/38 [00:17<00:01,  1.90it/s]\u001b[A\n",
      " 95%|█████████▍| 36/38 [00:18<00:01,  1.86it/s]\u001b[A\n",
      " 97%|█████████▋| 37/38 [00:18<00:00,  1.86it/s]\u001b[A\n",
      "100%|██████████| 38/38 [00:19<00:00,  1.98it/s]\u001b[A\n"
     ]
    },
    {
     "name": "stdout",
     "output_type": "stream",
     "text": [
      "News collection ended ! \n",
      "CL es huelga\n",
      " data_.shape :(38, 6)\n",
      "search ended !\n"
     ]
    },
    {
     "name": "stderr",
     "output_type": "stream",
     "text": [
      "\n",
      "0it [00:00, ?it/s]\u001b[A"
     ]
    },
    {
     "name": "stdout",
     "output_type": "stream",
     "text": [
      "News collection ended ! \n",
      "CL es piquete\n"
     ]
    },
    {
     "name": "stderr",
     "output_type": "stream",
     "text": [
      "\n"
     ]
    },
    {
     "name": "stdout",
     "output_type": "stream",
     "text": [
      "search ended !\n"
     ]
    },
    {
     "name": "stderr",
     "output_type": "stream",
     "text": [
      "\n",
      "  0%|          | 0/1 [00:00<?, ?it/s]\u001b[A\n",
      "100%|██████████| 1/1 [00:01<00:00,  1.37s/it]\u001b[A\n",
      " 17%|█▋        | 7/42 [01:27<08:36, 14.75s/it]"
     ]
    },
    {
     "name": "stdout",
     "output_type": "stream",
     "text": [
      "News collection ended ! \n",
      "CL es protesta de empleados\n",
      " data_.shape :(1, 6)\n",
      "{'country': 'CN', 'lang': 'zh', 'queries': ['strike', 'picket line', 'employee protest']}\n",
      "search ended !\n"
     ]
    },
    {
     "name": "stderr",
     "output_type": "stream",
     "text": [
      "\n",
      "  0%|          | 0/4 [00:00<?, ?it/s]\u001b[ABuilding prefix dict from /opt/conda/lib/python3.10/site-packages/jieba/dict.txt ...\n",
      "Loading model from cache /var/tmp/jieba.cache\n",
      "Loading model cost 1.1132879257202148 seconds.\n",
      "Prefix dict has been built succesfully.\n",
      "\n",
      " 25%|██▌       | 1/4 [00:01<00:03,  1.32s/it]\u001b[A\n",
      " 50%|█████     | 2/4 [00:04<00:04,  2.21s/it]\u001b[A\n",
      " 75%|███████▌  | 3/4 [00:06<00:02,  2.17s/it]\u001b[A\n",
      "100%|██████████| 4/4 [00:07<00:00,  1.76s/it]\u001b[A\n"
     ]
    },
    {
     "name": "stdout",
     "output_type": "stream",
     "text": [
      "News collection ended ! \n",
      "CN zh strike\n",
      " data_.shape :(4, 6)\n",
      "search ended !\n"
     ]
    },
    {
     "name": "stderr",
     "output_type": "stream",
     "text": [
      "\n",
      "0it [00:00, ?it/s]\u001b[A\n"
     ]
    },
    {
     "name": "stdout",
     "output_type": "stream",
     "text": [
      "News collection ended ! \n",
      "CN zh picket line\n",
      "search ended !\n"
     ]
    },
    {
     "name": "stderr",
     "output_type": "stream",
     "text": [
      "\n",
      "0it [00:00, ?it/s]\u001b[A\n",
      " 19%|█▉        | 8/42 [01:35<07:07, 12.56s/it]"
     ]
    },
    {
     "name": "stdout",
     "output_type": "stream",
     "text": [
      "News collection ended ! \n",
      "CN zh employee protest\n",
      "{'country': 'CO', 'lang': 'es', 'queries': ['huelga', 'piquete', 'protesta de empleados']}\n",
      "search ended !\n"
     ]
    },
    {
     "name": "stderr",
     "output_type": "stream",
     "text": [
      "\n",
      "0it [00:00, ?it/s]\u001b[A"
     ]
    },
    {
     "name": "stdout",
     "output_type": "stream",
     "text": [
      "News collection ended ! \n",
      "CO es huelga\n"
     ]
    },
    {
     "name": "stderr",
     "output_type": "stream",
     "text": [
      "\n"
     ]
    },
    {
     "name": "stdout",
     "output_type": "stream",
     "text": [
      "search ended !\n"
     ]
    },
    {
     "name": "stderr",
     "output_type": "stream",
     "text": [
      "\n",
      "0it [00:00, ?it/s]\u001b[A"
     ]
    },
    {
     "name": "stdout",
     "output_type": "stream",
     "text": [
      "News collection ended ! \n",
      "CO es piquete\n"
     ]
    },
    {
     "name": "stderr",
     "output_type": "stream",
     "text": [
      "\n"
     ]
    },
    {
     "name": "stdout",
     "output_type": "stream",
     "text": [
      "search ended !\n"
     ]
    },
    {
     "name": "stderr",
     "output_type": "stream",
     "text": [
      "\n",
      "0it [00:00, ?it/s]\u001b[A\n",
      " 21%|██▏       | 9/42 [01:37<05:10,  9.41s/it]"
     ]
    },
    {
     "name": "stdout",
     "output_type": "stream",
     "text": [
      "News collection ended ! \n",
      "CO es protesta de empleados\n",
      "{'country': 'CZ', 'lang': 'cs', 'queries': ['stávka', 'hlídková linie', 'protest zaměstnanců']}\n",
      "search ended !\n"
     ]
    },
    {
     "name": "stderr",
     "output_type": "stream",
     "text": [
      "\n",
      "  0%|          | 0/2 [00:00<?, ?it/s]\u001b[A\n",
      " 50%|█████     | 1/2 [00:00<00:00,  2.78it/s]\u001b[A\n",
      "100%|██████████| 2/2 [00:00<00:00,  2.82it/s]\u001b[A\n"
     ]
    },
    {
     "name": "stdout",
     "output_type": "stream",
     "text": [
      "News collection ended ! \n",
      "CZ cs stávka\n",
      " data_.shape :(2, 6)\n",
      "search ended !\n"
     ]
    },
    {
     "name": "stderr",
     "output_type": "stream",
     "text": [
      "\n",
      "0it [00:00, ?it/s]\u001b[A\n"
     ]
    },
    {
     "name": "stdout",
     "output_type": "stream",
     "text": [
      "News collection ended ! \n",
      "CZ cs hlídková linie\n",
      "search ended !\n"
     ]
    },
    {
     "name": "stderr",
     "output_type": "stream",
     "text": [
      "\n",
      "0it [00:00, ?it/s]\u001b[A\n",
      " 24%|██▍       | 10/42 [01:39<03:51,  7.22s/it]"
     ]
    },
    {
     "name": "stdout",
     "output_type": "stream",
     "text": [
      "News collection ended ! \n",
      "CZ cs protest zaměstnanců\n",
      "{'country': 'DE', 'lang': 'de', 'queries': ['schlagen', 'Streikposten', 'Mitarbeiterprotest']}\n",
      "search ended !\n"
     ]
    },
    {
     "name": "stderr",
     "output_type": "stream",
     "text": [
      "\n",
      "0it [00:00, ?it/s]\u001b[A\n"
     ]
    },
    {
     "name": "stdout",
     "output_type": "stream",
     "text": [
      "News collection ended ! \n",
      "DE de schlagen\n",
      "search ended !\n"
     ]
    },
    {
     "name": "stderr",
     "output_type": "stream",
     "text": [
      "\n",
      "0it [00:00, ?it/s]\u001b[A"
     ]
    },
    {
     "name": "stdout",
     "output_type": "stream",
     "text": [
      "News collection ended ! \n",
      "DE de Streikposten\n"
     ]
    },
    {
     "name": "stderr",
     "output_type": "stream",
     "text": [
      "\n"
     ]
    },
    {
     "name": "stdout",
     "output_type": "stream",
     "text": [
      "search ended !\n"
     ]
    },
    {
     "name": "stderr",
     "output_type": "stream",
     "text": [
      "\n",
      "0it [00:00, ?it/s]\u001b[A\n",
      " 26%|██▌       | 11/42 [01:41<02:48,  5.45s/it]"
     ]
    },
    {
     "name": "stdout",
     "output_type": "stream",
     "text": [
      "News collection ended ! \n",
      "DE de Mitarbeiterprotest\n",
      "{'country': 'DZ', 'lang': 'ar', 'queries': ['يضرب', 'خط الاعتصام', 'احتجاج الموظفين']}\n",
      "search ended !\n"
     ]
    },
    {
     "name": "stderr",
     "output_type": "stream",
     "text": [
      "\n",
      "0it [00:00, ?it/s]\u001b[A\n"
     ]
    },
    {
     "name": "stdout",
     "output_type": "stream",
     "text": [
      "News collection ended ! \n",
      "DZ ar يضرب\n",
      "search ended !\n"
     ]
    },
    {
     "name": "stderr",
     "output_type": "stream",
     "text": [
      "\n",
      "0it [00:00, ?it/s]\u001b[A\n"
     ]
    },
    {
     "name": "stdout",
     "output_type": "stream",
     "text": [
      "News collection ended ! \n",
      "DZ ar خط الاعتصام\n",
      "search ended !\n"
     ]
    },
    {
     "name": "stderr",
     "output_type": "stream",
     "text": [
      "\n",
      "0it [00:00, ?it/s]\u001b[A\n",
      " 29%|██▊       | 12/42 [01:42<02:01,  4.05s/it]"
     ]
    },
    {
     "name": "stdout",
     "output_type": "stream",
     "text": [
      "News collection ended ! \n",
      "DZ ar احتجاج الموظفين\n",
      "{'country': 'EE', 'lang': 'et', 'queries': ['streikima', 'piketijoon', 'töötajate protest']}\n",
      "search ended !\n"
     ]
    },
    {
     "name": "stderr",
     "output_type": "stream",
     "text": [
      "\n",
      "0it [00:00, ?it/s]\u001b[A\n"
     ]
    },
    {
     "name": "stdout",
     "output_type": "stream",
     "text": [
      "News collection ended ! \n",
      "EE et streikima\n",
      "search ended !\n"
     ]
    },
    {
     "name": "stderr",
     "output_type": "stream",
     "text": [
      "\n",
      "0it [00:00, ?it/s]\u001b[A"
     ]
    },
    {
     "name": "stdout",
     "output_type": "stream",
     "text": [
      "News collection ended ! \n",
      "EE et piketijoon\n"
     ]
    },
    {
     "name": "stderr",
     "output_type": "stream",
     "text": [
      "\n"
     ]
    },
    {
     "name": "stdout",
     "output_type": "stream",
     "text": [
      "search ended !\n"
     ]
    },
    {
     "name": "stderr",
     "output_type": "stream",
     "text": [
      "\n",
      "0it [00:00, ?it/s]\u001b[A\n",
      " 31%|███       | 13/42 [01:43<01:31,  3.17s/it]"
     ]
    },
    {
     "name": "stdout",
     "output_type": "stream",
     "text": [
      "News collection ended ! \n",
      "EE et töötajate protest\n",
      "{'country': 'ES', 'lang': 'es', 'queries': ['huelga', 'piquete', 'protesta de empleados']}\n",
      "search ended !\n"
     ]
    },
    {
     "name": "stderr",
     "output_type": "stream",
     "text": [
      "\n",
      "0it [00:00, ?it/s]\u001b[A"
     ]
    },
    {
     "name": "stdout",
     "output_type": "stream",
     "text": [
      "News collection ended ! \n",
      "ES es huelga\n"
     ]
    },
    {
     "name": "stderr",
     "output_type": "stream",
     "text": [
      "\n"
     ]
    },
    {
     "name": "stdout",
     "output_type": "stream",
     "text": [
      "search ended !\n"
     ]
    },
    {
     "name": "stderr",
     "output_type": "stream",
     "text": [
      "\n",
      "0it [00:00, ?it/s]\u001b[A"
     ]
    },
    {
     "name": "stdout",
     "output_type": "stream",
     "text": [
      "News collection ended ! \n",
      "ES es piquete\n"
     ]
    },
    {
     "name": "stderr",
     "output_type": "stream",
     "text": [
      "\n"
     ]
    },
    {
     "name": "stdout",
     "output_type": "stream",
     "text": [
      "search ended !\n"
     ]
    },
    {
     "name": "stderr",
     "output_type": "stream",
     "text": [
      "\n",
      "0it [00:00, ?it/s]\u001b[A\n",
      " 33%|███▎      | 14/42 [01:44<01:14,  2.68s/it]"
     ]
    },
    {
     "name": "stdout",
     "output_type": "stream",
     "text": [
      "News collection ended ! \n",
      "ES es protesta de empleados\n",
      "{'country': 'FR', 'lang': 'fr', 'queries': ['grève', 'piquet de grève', 'protestation des employés']}\n",
      "search ended !\n"
     ]
    },
    {
     "name": "stderr",
     "output_type": "stream",
     "text": [
      "\n",
      "0it [00:00, ?it/s]\u001b[A\n"
     ]
    },
    {
     "name": "stdout",
     "output_type": "stream",
     "text": [
      "News collection ended ! \n",
      "FR fr grève\n",
      "search ended !\n"
     ]
    },
    {
     "name": "stderr",
     "output_type": "stream",
     "text": [
      "\n",
      "0it [00:00, ?it/s]\u001b[A"
     ]
    },
    {
     "name": "stdout",
     "output_type": "stream",
     "text": [
      "News collection ended ! \n",
      "FR fr piquet de grève\n"
     ]
    },
    {
     "name": "stderr",
     "output_type": "stream",
     "text": [
      "\n"
     ]
    },
    {
     "name": "stdout",
     "output_type": "stream",
     "text": [
      "search ended !\n"
     ]
    },
    {
     "name": "stderr",
     "output_type": "stream",
     "text": [
      "\n",
      "0it [00:00, ?it/s]\u001b[A\n",
      " 36%|███▌      | 15/42 [01:45<01:00,  2.23s/it]"
     ]
    },
    {
     "name": "stdout",
     "output_type": "stream",
     "text": [
      "News collection ended ! \n",
      "FR fr protestation des employés\n",
      "{'country': 'GB', 'lang': 'en', 'queries': ['strike', 'picket line', 'employee protest']}\n",
      "search ended !\n"
     ]
    },
    {
     "name": "stderr",
     "output_type": "stream",
     "text": [
      "\n",
      "  0%|          | 0/90 [00:00<?, ?it/s]\u001b[A\n",
      "  1%|          | 1/90 [00:00<01:00,  1.48it/s]\u001b[A\n",
      "  2%|▏         | 2/90 [00:01<01:10,  1.24it/s]\u001b[A\n",
      "  3%|▎         | 3/90 [00:02<01:04,  1.34it/s]\u001b[A\n",
      "  4%|▍         | 4/90 [00:02<00:44,  1.92it/s]\u001b[A\n",
      "  6%|▌         | 5/90 [00:02<00:33,  2.53it/s]\u001b[A\n",
      "  7%|▋         | 6/90 [00:02<00:29,  2.83it/s]\u001b[A\n",
      "  8%|▊         | 7/90 [00:03<00:38,  2.18it/s]\u001b[A\n",
      "  9%|▉         | 8/90 [00:03<00:32,  2.51it/s]\u001b[A\n",
      " 10%|█         | 9/90 [00:03<00:26,  3.11it/s]\u001b[A\n",
      " 11%|█         | 10/90 [00:04<00:34,  2.29it/s]\u001b[A\n",
      " 12%|█▏        | 11/90 [00:04<00:30,  2.63it/s]\u001b[A\n",
      " 13%|█▎        | 12/90 [00:05<00:25,  3.03it/s]\u001b[A\n",
      " 14%|█▍        | 13/90 [00:05<00:27,  2.85it/s]\u001b[A\n",
      " 16%|█▌        | 14/90 [00:05<00:22,  3.35it/s]\u001b[A\n",
      " 17%|█▋        | 15/90 [00:06<00:30,  2.48it/s]\u001b[A\n",
      " 18%|█▊        | 16/90 [00:06<00:26,  2.79it/s]\u001b[A\n",
      " 19%|█▉        | 17/90 [00:06<00:23,  3.09it/s]\u001b[A\n",
      " 20%|██        | 18/90 [00:07<00:23,  3.10it/s]\u001b[A\n",
      " 21%|██        | 19/90 [00:07<00:20,  3.42it/s]\u001b[A\n",
      " 22%|██▏       | 20/90 [00:07<00:20,  3.49it/s]\u001b[A\n",
      " 23%|██▎       | 21/90 [00:08<00:24,  2.80it/s]\u001b[A\n",
      " 24%|██▍       | 22/90 [00:08<00:24,  2.76it/s]\u001b[A\n",
      " 26%|██▌       | 23/90 [00:09<00:30,  2.19it/s]\u001b[A\n",
      " 27%|██▋       | 24/90 [00:26<05:58,  5.43s/it]\u001b[A\n",
      " 28%|██▊       | 25/90 [00:26<04:12,  3.89s/it]\u001b[A\n",
      " 29%|██▉       | 26/90 [00:27<03:06,  2.92s/it]\u001b[A\n",
      " 30%|███       | 27/90 [00:27<02:19,  2.22s/it]\u001b[A\n",
      " 31%|███       | 28/90 [00:28<01:45,  1.71s/it]\u001b[A\n",
      " 32%|███▏      | 29/90 [00:28<01:19,  1.30s/it]\u001b[A\n",
      " 33%|███▎      | 30/90 [00:30<01:28,  1.47s/it]\u001b[A\n",
      " 34%|███▍      | 31/90 [00:31<01:09,  1.17s/it]\u001b[A\n",
      " 36%|███▌      | 32/90 [00:31<00:50,  1.15it/s]\u001b[A\n",
      " 37%|███▋      | 33/90 [00:31<00:37,  1.50it/s]\u001b[A\n",
      " 38%|███▊      | 34/90 [00:31<00:32,  1.72it/s]\u001b[A\n",
      " 39%|███▉      | 35/90 [00:32<00:37,  1.47it/s]\u001b[A\n",
      " 40%|████      | 36/90 [00:32<00:29,  1.82it/s]\u001b[A\n",
      " 41%|████      | 37/90 [00:33<00:24,  2.17it/s]\u001b[A\n",
      " 42%|████▏     | 38/90 [00:33<00:26,  1.94it/s]\u001b[A\n",
      " 43%|████▎     | 39/90 [00:34<00:21,  2.35it/s]\u001b[A\n",
      " 44%|████▍     | 40/90 [00:34<00:22,  2.18it/s]\u001b[A\n",
      " 46%|████▌     | 41/90 [00:34<00:19,  2.57it/s]\u001b[A\n",
      " 47%|████▋     | 42/90 [00:34<00:15,  3.08it/s]\u001b[A\n",
      " 48%|████▊     | 43/90 [00:35<00:19,  2.46it/s]\u001b[A\n",
      " 49%|████▉     | 44/90 [00:36<00:21,  2.11it/s]\u001b[A\n",
      " 50%|█████     | 45/90 [00:36<00:23,  1.94it/s]\u001b[A\n",
      " 51%|█████     | 46/90 [00:37<00:20,  2.15it/s]\u001b[A\n",
      " 52%|█████▏    | 47/90 [00:37<00:16,  2.64it/s]\u001b[A\n",
      " 53%|█████▎    | 48/90 [00:38<00:25,  1.66it/s]\u001b[A\n",
      " 54%|█████▍    | 49/90 [00:38<00:20,  2.03it/s]\u001b[A\n",
      " 56%|█████▌    | 50/90 [00:39<00:22,  1.74it/s]\u001b[A\n",
      " 57%|█████▋    | 51/90 [00:40<00:27,  1.40it/s]\u001b[A\n",
      " 58%|█████▊    | 52/90 [00:40<00:20,  1.82it/s]\u001b[A\n",
      " 59%|█████▉    | 53/90 [00:41<00:23,  1.57it/s]\u001b[A\n",
      " 60%|██████    | 54/90 [00:41<00:18,  1.94it/s]\u001b[A\n",
      " 61%|██████    | 55/90 [00:42<00:16,  2.09it/s]\u001b[A\n",
      " 62%|██████▏   | 56/90 [00:42<00:17,  1.90it/s]\u001b[A\n",
      " 63%|██████▎   | 57/90 [00:44<00:25,  1.30it/s]\u001b[A\n",
      " 64%|██████▍   | 58/90 [00:44<00:22,  1.45it/s]\u001b[A\n",
      " 66%|██████▌   | 59/90 [00:45<00:20,  1.51it/s]\u001b[A\n",
      " 67%|██████▋   | 60/90 [00:45<00:19,  1.56it/s]\u001b[A\n",
      " 68%|██████▊   | 61/90 [00:45<00:14,  1.99it/s]\u001b[A\n",
      " 69%|██████▉   | 62/90 [00:46<00:11,  2.47it/s]\u001b[A\n",
      " 70%|███████   | 63/90 [00:46<00:10,  2.69it/s]\u001b[A\n",
      " 71%|███████   | 64/90 [00:46<00:09,  2.61it/s]\u001b[A\n",
      " 72%|███████▏  | 65/90 [00:47<00:12,  2.05it/s]\u001b[A\n",
      " 73%|███████▎  | 66/90 [00:48<00:14,  1.63it/s]\u001b[A\n",
      " 74%|███████▍  | 67/90 [00:51<00:30,  1.30s/it]\u001b[A\n",
      " 76%|███████▌  | 68/90 [00:51<00:21,  1.00it/s]\u001b[A\n",
      " 77%|███████▋  | 69/90 [00:51<00:16,  1.27it/s]\u001b[A\n",
      " 78%|███████▊  | 70/90 [00:52<00:12,  1.56it/s]\u001b[A\n",
      " 79%|███████▉  | 71/90 [00:52<00:09,  1.98it/s]\u001b[A\n",
      " 80%|████████  | 72/90 [00:52<00:09,  1.95it/s]\u001b[A\n",
      " 81%|████████  | 73/90 [00:53<00:07,  2.24it/s]\u001b[A\n",
      " 82%|████████▏ | 74/90 [00:53<00:07,  2.22it/s]\u001b[A\n",
      " 83%|████████▎ | 75/90 [00:53<00:05,  2.64it/s]\u001b[A\n",
      " 84%|████████▍ | 76/90 [00:54<00:04,  3.16it/s]\u001b[A\n",
      " 86%|████████▌ | 77/90 [00:54<00:04,  3.21it/s]\u001b[A\n",
      " 87%|████████▋ | 78/90 [00:54<00:03,  3.34it/s]\u001b[A\n",
      " 88%|████████▊ | 79/90 [00:55<00:03,  3.11it/s]\u001b[A\n",
      " 89%|████████▉ | 80/90 [00:55<00:03,  3.09it/s]\u001b[A\n",
      " 90%|█████████ | 81/90 [00:57<00:08,  1.05it/s]\u001b[A\n",
      " 91%|█████████ | 82/90 [00:58<00:07,  1.07it/s]\u001b[A\n",
      " 92%|█████████▏| 83/90 [00:58<00:04,  1.41it/s]\u001b[A\n",
      " 93%|█████████▎| 84/90 [01:00<00:05,  1.15it/s]\u001b[A\n",
      " 94%|█████████▍| 85/90 [01:00<00:04,  1.17it/s]\u001b[A\n",
      " 96%|█████████▌| 86/90 [01:01<00:03,  1.24it/s]\u001b[A\n",
      " 97%|█████████▋| 87/90 [01:01<00:01,  1.62it/s]\u001b[A\n",
      " 98%|█████████▊| 88/90 [01:02<00:01,  1.98it/s]\u001b[A\n",
      " 99%|█████████▉| 89/90 [01:02<00:00,  1.84it/s]\u001b[A\n",
      "100%|██████████| 90/90 [01:03<00:00,  1.42it/s]\u001b[A\n"
     ]
    },
    {
     "name": "stdout",
     "output_type": "stream",
     "text": [
      "News collection ended ! \n",
      "GB en strike\n",
      " data_.shape :(90, 6)\n",
      "search ended !\n"
     ]
    },
    {
     "name": "stderr",
     "output_type": "stream",
     "text": [
      "\n",
      "  0%|          | 0/17 [00:00<?, ?it/s]\u001b[A\n",
      "  6%|▌         | 1/17 [00:00<00:02,  6.32it/s]\u001b[A\n",
      " 12%|█▏        | 2/17 [00:00<00:04,  3.60it/s]\u001b[A\n",
      " 18%|█▊        | 3/17 [00:00<00:04,  3.42it/s]\u001b[A\n",
      " 24%|██▎       | 4/17 [00:01<00:03,  3.31it/s]\u001b[A\n",
      " 29%|██▉       | 5/17 [00:01<00:05,  2.04it/s]\u001b[A\n",
      " 35%|███▌      | 6/17 [00:02<00:04,  2.35it/s]\u001b[A\n",
      " 41%|████      | 7/17 [00:02<00:03,  2.74it/s]\u001b[A\n",
      " 47%|████▋     | 8/17 [00:02<00:02,  3.00it/s]\u001b[A\n",
      " 53%|█████▎    | 9/17 [00:03<00:02,  3.01it/s]\u001b[A\n",
      " 65%|██████▍   | 11/17 [00:03<00:01,  3.50it/s]\u001b[A\n",
      " 71%|███████   | 12/17 [00:03<00:01,  3.29it/s]\u001b[A\n",
      " 76%|███████▋  | 13/17 [00:04<00:01,  2.72it/s]\u001b[A\n",
      " 82%|████████▏ | 14/17 [00:05<00:01,  1.79it/s]\u001b[A\n",
      " 88%|████████▊ | 15/17 [00:06<00:01,  1.35it/s]\u001b[A\n",
      " 94%|█████████▍| 16/17 [00:07<00:00,  1.65it/s]\u001b[A\n",
      "100%|██████████| 17/17 [00:07<00:00,  2.24it/s]\u001b[A\n"
     ]
    },
    {
     "name": "stdout",
     "output_type": "stream",
     "text": [
      "News collection ended ! \n",
      "GB en picket line\n",
      " data_.shape :(17, 6)\n",
      "search ended !\n"
     ]
    },
    {
     "name": "stderr",
     "output_type": "stream",
     "text": [
      "\n",
      "  0%|          | 0/8 [00:00<?, ?it/s]\u001b[A\n",
      " 12%|█▎        | 1/8 [00:00<00:02,  3.40it/s]\u001b[A\n",
      " 25%|██▌       | 2/8 [00:00<00:02,  2.19it/s]\u001b[A\n",
      " 38%|███▊      | 3/8 [00:01<00:02,  1.80it/s]\u001b[A\n",
      " 50%|█████     | 4/8 [00:02<00:02,  1.38it/s]\u001b[A\n",
      " 62%|██████▎   | 5/8 [00:02<00:01,  1.71it/s]\u001b[A\n",
      " 75%|███████▌  | 6/8 [00:03<00:01,  1.65it/s]\u001b[A\n",
      " 88%|████████▊ | 7/8 [00:03<00:00,  2.16it/s]\u001b[A\n",
      "100%|██████████| 8/8 [00:04<00:00,  1.60it/s]\u001b[A\n",
      " 38%|███▊      | 16/42 [03:08<11:24, 26.33s/it]"
     ]
    },
    {
     "name": "stdout",
     "output_type": "stream",
     "text": [
      "News collection ended ! \n",
      "GB en employee protest\n",
      " data_.shape :(8, 6)\n",
      "{'country': 'HU', 'lang': 'hu', 'queries': ['sztrájk', 'harcelőőrsök vonala', 'alkalmazottak tiltakozása']}\n",
      "search ended !\n"
     ]
    },
    {
     "name": "stderr",
     "output_type": "stream",
     "text": [
      "\n",
      "  0%|          | 0/2 [00:00<?, ?it/s]\u001b[A\n",
      " 50%|█████     | 1/2 [00:00<00:00,  2.04it/s]\u001b[A\n",
      "100%|██████████| 2/2 [00:01<00:00,  1.01it/s]\u001b[A\n"
     ]
    },
    {
     "name": "stdout",
     "output_type": "stream",
     "text": [
      "News collection ended ! \n",
      "HU hu sztrájk\n",
      " data_.shape :(2, 6)\n",
      "search ended !\n"
     ]
    },
    {
     "name": "stderr",
     "output_type": "stream",
     "text": [
      "\n",
      "0it [00:00, ?it/s]\u001b[A\n"
     ]
    },
    {
     "name": "stdout",
     "output_type": "stream",
     "text": [
      "News collection ended ! \n",
      "HU hu harcelőőrsök vonala\n",
      "search ended !\n"
     ]
    },
    {
     "name": "stderr",
     "output_type": "stream",
     "text": [
      "\n",
      "0it [00:00, ?it/s]\u001b[A\n",
      " 40%|████      | 17/42 [03:11<08:03, 19.32s/it]"
     ]
    },
    {
     "name": "stdout",
     "output_type": "stream",
     "text": [
      "News collection ended ! \n",
      "HU hu alkalmazottak tiltakozása\n",
      "{'country': 'ID', 'lang': 'id', 'queries': ['memukul', 'garis piket', 'protes karyawan']}\n",
      "search ended !\n"
     ]
    },
    {
     "name": "stderr",
     "output_type": "stream",
     "text": [
      "\n",
      "0it [00:00, ?it/s]\u001b[A\n"
     ]
    },
    {
     "name": "stdout",
     "output_type": "stream",
     "text": [
      "News collection ended ! \n",
      "ID id memukul\n",
      "search ended !\n"
     ]
    },
    {
     "name": "stderr",
     "output_type": "stream",
     "text": [
      "\n",
      "0it [00:00, ?it/s]\u001b[A\n"
     ]
    },
    {
     "name": "stdout",
     "output_type": "stream",
     "text": [
      "News collection ended ! \n",
      "ID id garis piket\n",
      "search ended !\n"
     ]
    },
    {
     "name": "stderr",
     "output_type": "stream",
     "text": [
      "\n",
      "0it [00:00, ?it/s]\u001b[A\n",
      " 43%|████▎     | 18/42 [03:12<05:30, 13.78s/it]"
     ]
    },
    {
     "name": "stdout",
     "output_type": "stream",
     "text": [
      "News collection ended ! \n",
      "ID id protes karyawan\n",
      "{'country': 'IN', 'lang': 'hi', 'queries': ['हड़ताल', 'प्रहरियों की पंक्ति', 'कर्मचारी विरोध प्रदर्शन']}\n",
      "search ended !\n"
     ]
    },
    {
     "name": "stderr",
     "output_type": "stream",
     "text": [
      "\n",
      "  0%|          | 0/17 [00:00<?, ?it/s]\u001b[A\n",
      "  6%|▌         | 1/17 [00:00<00:04,  3.48it/s]\u001b[A\n",
      " 12%|█▏        | 2/17 [00:00<00:07,  2.14it/s]\u001b[A\n",
      " 18%|█▊        | 3/17 [00:01<00:05,  2.64it/s]\u001b[A\n",
      " 24%|██▎       | 4/17 [00:01<00:04,  2.90it/s]\u001b[A\n",
      " 29%|██▉       | 5/17 [00:01<00:03,  3.30it/s]\u001b[A\n",
      " 35%|███▌      | 6/17 [00:02<00:07,  1.56it/s]\u001b[A\n",
      " 41%|████      | 7/17 [00:03<00:05,  1.92it/s]\u001b[A\n",
      " 47%|████▋     | 8/17 [00:03<00:04,  1.98it/s]\u001b[A\n",
      " 53%|█████▎    | 9/17 [00:04<00:03,  2.25it/s]\u001b[A\n",
      " 59%|█████▉    | 10/17 [00:05<00:05,  1.27it/s]\u001b[A\n",
      " 65%|██████▍   | 11/17 [00:07<00:06,  1.02s/it]\u001b[A\n",
      " 71%|███████   | 12/17 [00:08<00:05,  1.17s/it]\u001b[A\n",
      " 76%|███████▋  | 13/17 [00:08<00:03,  1.11it/s]\u001b[A\n",
      " 82%|████████▏ | 14/17 [00:09<00:02,  1.43it/s]\u001b[A\n",
      " 88%|████████▊ | 15/17 [00:10<00:01,  1.05it/s]\u001b[A\n",
      " 94%|█████████▍| 16/17 [00:10<00:00,  1.34it/s]\u001b[A\n",
      "100%|██████████| 17/17 [00:11<00:00,  1.46it/s]\u001b[A\n"
     ]
    },
    {
     "name": "stdout",
     "output_type": "stream",
     "text": [
      "News collection ended ! \n",
      "IN hi हड़ताल\n",
      " data_.shape :(17, 6)\n",
      "search ended !\n"
     ]
    },
    {
     "name": "stderr",
     "output_type": "stream",
     "text": [
      "\n",
      "0it [00:00, ?it/s]\u001b[A"
     ]
    },
    {
     "name": "stdout",
     "output_type": "stream",
     "text": [
      "News collection ended ! \n",
      "IN hi प्रहरियों की पंक्ति\n"
     ]
    },
    {
     "name": "stderr",
     "output_type": "stream",
     "text": [
      "\n"
     ]
    },
    {
     "name": "stdout",
     "output_type": "stream",
     "text": [
      "search ended !\n"
     ]
    },
    {
     "name": "stderr",
     "output_type": "stream",
     "text": [
      "\n",
      "  0%|          | 0/2 [00:00<?, ?it/s]\u001b[A\n",
      " 50%|█████     | 1/2 [00:01<00:01,  1.57s/it]\u001b[A\n",
      "100%|██████████| 2/2 [00:02<00:00,  1.24s/it]\u001b[A\n",
      " 45%|████▌     | 19/42 [03:27<05:26, 14.20s/it]"
     ]
    },
    {
     "name": "stdout",
     "output_type": "stream",
     "text": [
      "News collection ended ! \n",
      "IN hi कर्मचारी विरोध प्रदर्शन\n",
      " data_.shape :(2, 6)\n",
      "{'country': 'IT', 'lang': 'it', 'queries': ['sciopero', 'cordone di scioperanti', 'protesta dei dipendenti']}\n",
      "search ended !\n"
     ]
    },
    {
     "name": "stderr",
     "output_type": "stream",
     "text": [
      "\n",
      "0it [00:00, ?it/s]\u001b[A"
     ]
    },
    {
     "name": "stdout",
     "output_type": "stream",
     "text": [
      "News collection ended ! \n",
      "IT it sciopero\n"
     ]
    },
    {
     "name": "stderr",
     "output_type": "stream",
     "text": [
      "\n"
     ]
    },
    {
     "name": "stdout",
     "output_type": "stream",
     "text": [
      "search ended !\n"
     ]
    },
    {
     "name": "stderr",
     "output_type": "stream",
     "text": [
      "\n",
      "0it [00:00, ?it/s]\u001b[A"
     ]
    },
    {
     "name": "stdout",
     "output_type": "stream",
     "text": [
      "News collection ended ! \n",
      "IT it cordone di scioperanti\n"
     ]
    },
    {
     "name": "stderr",
     "output_type": "stream",
     "text": [
      "\n"
     ]
    },
    {
     "name": "stdout",
     "output_type": "stream",
     "text": [
      "search ended !\n"
     ]
    },
    {
     "name": "stderr",
     "output_type": "stream",
     "text": [
      "\n",
      "0it [00:00, ?it/s]\u001b[A\n",
      " 48%|████▊     | 20/42 [03:28<03:48, 10.39s/it]"
     ]
    },
    {
     "name": "stdout",
     "output_type": "stream",
     "text": [
      "News collection ended ! \n",
      "IT it protesta dei dipendenti\n",
      "{'country': 'JP', 'lang': 'ja', 'queries': ['ストライク', 'ピケライン', '従業員の抗議']}\n",
      "search ended !\n"
     ]
    },
    {
     "name": "stderr",
     "output_type": "stream",
     "text": [
      "\n",
      "0it [00:00, ?it/s]\u001b[A"
     ]
    },
    {
     "name": "stdout",
     "output_type": "stream",
     "text": [
      "News collection ended ! \n",
      "JP ja ストライク\n"
     ]
    },
    {
     "name": "stderr",
     "output_type": "stream",
     "text": [
      "\n"
     ]
    },
    {
     "name": "stdout",
     "output_type": "stream",
     "text": [
      "search ended !\n"
     ]
    },
    {
     "name": "stderr",
     "output_type": "stream",
     "text": [
      "\n",
      "0it [00:00, ?it/s]\u001b[A\n"
     ]
    },
    {
     "name": "stdout",
     "output_type": "stream",
     "text": [
      "News collection ended ! \n",
      "JP ja ピケライン\n",
      "search ended !\n"
     ]
    },
    {
     "name": "stderr",
     "output_type": "stream",
     "text": [
      "\n",
      "0it [00:00, ?it/s]\u001b[A\n",
      " 50%|█████     | 21/42 [03:29<02:38,  7.54s/it]"
     ]
    },
    {
     "name": "stdout",
     "output_type": "stream",
     "text": [
      "News collection ended ! \n",
      "JP ja 従業員の抗議\n",
      "{'country': 'KR', 'lang': 'ko', 'queries': ['스트라이크', '피켓 라인', '직원 시위']}\n",
      "search ended !\n"
     ]
    },
    {
     "name": "stderr",
     "output_type": "stream",
     "text": [
      "\n",
      "0it [00:00, ?it/s]\u001b[A\n"
     ]
    },
    {
     "name": "stdout",
     "output_type": "stream",
     "text": [
      "News collection ended ! \n",
      "KR ko 스트라이크\n",
      "search ended !\n"
     ]
    },
    {
     "name": "stderr",
     "output_type": "stream",
     "text": [
      "\n",
      "0it [00:00, ?it/s]\u001b[A"
     ]
    },
    {
     "name": "stdout",
     "output_type": "stream",
     "text": [
      "News collection ended ! \n",
      "KR ko 피켓 라인\n"
     ]
    },
    {
     "name": "stderr",
     "output_type": "stream",
     "text": [
      "\n"
     ]
    },
    {
     "name": "stdout",
     "output_type": "stream",
     "text": [
      "search ended !\n"
     ]
    },
    {
     "name": "stderr",
     "output_type": "stream",
     "text": [
      "\n",
      "0it [00:00, ?it/s]\u001b[A\n",
      " 52%|█████▏    | 22/42 [03:30<01:50,  5.53s/it]"
     ]
    },
    {
     "name": "stdout",
     "output_type": "stream",
     "text": [
      "News collection ended ! \n",
      "KR ko 직원 시위\n",
      "{'country': 'LT', 'lang': 'lt', 'queries': ['streikuoti', 'piketo linija', 'darbuotojų protestas']}\n",
      "search ended !\n"
     ]
    },
    {
     "name": "stderr",
     "output_type": "stream",
     "text": [
      "\n",
      "0it [00:00, ?it/s]\u001b[A"
     ]
    },
    {
     "name": "stdout",
     "output_type": "stream",
     "text": [
      "News collection ended ! \n"
     ]
    },
    {
     "name": "stderr",
     "output_type": "stream",
     "text": [
      "\n"
     ]
    },
    {
     "name": "stdout",
     "output_type": "stream",
     "text": [
      "LT lt streikuoti\n",
      "search ended !\n"
     ]
    },
    {
     "name": "stderr",
     "output_type": "stream",
     "text": [
      "\n",
      "0it [00:00, ?it/s]\u001b[A"
     ]
    },
    {
     "name": "stdout",
     "output_type": "stream",
     "text": [
      "News collection ended ! \n",
      "LT lt piketo linija\n"
     ]
    },
    {
     "name": "stderr",
     "output_type": "stream",
     "text": [
      "\n"
     ]
    },
    {
     "name": "stdout",
     "output_type": "stream",
     "text": [
      "search ended !\n"
     ]
    },
    {
     "name": "stderr",
     "output_type": "stream",
     "text": [
      "\n",
      "0it [00:00, ?it/s]\u001b[A\n",
      " 55%|█████▍    | 23/42 [03:31<01:18,  4.13s/it]"
     ]
    },
    {
     "name": "stdout",
     "output_type": "stream",
     "text": [
      "News collection ended ! \n",
      "LT lt darbuotojų protestas\n",
      "{'country': 'MA', 'lang': 'ar', 'queries': ['يضرب', 'خط الاعتصام', 'احتجاج الموظفين']}\n",
      "search ended !\n"
     ]
    },
    {
     "name": "stderr",
     "output_type": "stream",
     "text": [
      "\n",
      "0it [00:00, ?it/s]\u001b[A\n"
     ]
    },
    {
     "name": "stdout",
     "output_type": "stream",
     "text": [
      "News collection ended ! \n",
      "MA ar يضرب\n",
      "search ended !\n"
     ]
    },
    {
     "name": "stderr",
     "output_type": "stream",
     "text": [
      "\n",
      "0it [00:00, ?it/s]\u001b[A\n"
     ]
    },
    {
     "name": "stdout",
     "output_type": "stream",
     "text": [
      "News collection ended ! \n",
      "MA ar خط الاعتصام\n",
      "search ended !\n"
     ]
    },
    {
     "name": "stderr",
     "output_type": "stream",
     "text": [
      "\n",
      "0it [00:00, ?it/s]\u001b[A\n",
      " 57%|█████▋    | 24/42 [03:32<00:55,  3.07s/it]"
     ]
    },
    {
     "name": "stdout",
     "output_type": "stream",
     "text": [
      "News collection ended ! \n",
      "MA ar احتجاج الموظفين\n",
      "{'country': 'MC', 'lang': 'fr', 'queries': ['grève', 'piquet de grève', 'protestation des employés']}\n",
      "search ended !\n"
     ]
    },
    {
     "name": "stderr",
     "output_type": "stream",
     "text": [
      "\n",
      "0it [00:00, ?it/s]\u001b[A"
     ]
    },
    {
     "name": "stdout",
     "output_type": "stream",
     "text": [
      "News collection ended ! \n",
      "MC fr grève\n"
     ]
    },
    {
     "name": "stderr",
     "output_type": "stream",
     "text": [
      "\n"
     ]
    },
    {
     "name": "stdout",
     "output_type": "stream",
     "text": [
      "search ended !\n"
     ]
    },
    {
     "name": "stderr",
     "output_type": "stream",
     "text": [
      "\n",
      "0it [00:00, ?it/s]\u001b[A\n"
     ]
    },
    {
     "name": "stdout",
     "output_type": "stream",
     "text": [
      "News collection ended ! \n",
      "MC fr piquet de grève\n",
      "search ended !\n"
     ]
    },
    {
     "name": "stderr",
     "output_type": "stream",
     "text": [
      "\n",
      "0it [00:00, ?it/s]\u001b[A\n",
      " 60%|█████▉    | 25/42 [03:32<00:41,  2.41s/it]"
     ]
    },
    {
     "name": "stdout",
     "output_type": "stream",
     "text": [
      "News collection ended ! \n",
      "MC fr protestation des employés\n",
      "{'country': 'MX', 'lang': 'es', 'queries': ['huelga', 'piquete', 'protesta de empleados']}\n",
      "search ended !\n"
     ]
    },
    {
     "name": "stderr",
     "output_type": "stream",
     "text": [
      "\n",
      "0it [00:00, ?it/s]\u001b[A"
     ]
    },
    {
     "name": "stdout",
     "output_type": "stream",
     "text": [
      "News collection ended ! \n",
      "MX es huelga\n"
     ]
    },
    {
     "name": "stderr",
     "output_type": "stream",
     "text": [
      "\n"
     ]
    },
    {
     "name": "stdout",
     "output_type": "stream",
     "text": [
      "search ended !\n"
     ]
    },
    {
     "name": "stderr",
     "output_type": "stream",
     "text": [
      "\n",
      "0it [00:00, ?it/s]\u001b[A"
     ]
    },
    {
     "name": "stdout",
     "output_type": "stream",
     "text": [
      "News collection ended ! \n",
      "MX es piquete\n"
     ]
    },
    {
     "name": "stderr",
     "output_type": "stream",
     "text": [
      "\n"
     ]
    },
    {
     "name": "stdout",
     "output_type": "stream",
     "text": [
      "search ended !\n"
     ]
    },
    {
     "name": "stderr",
     "output_type": "stream",
     "text": [
      "\n",
      "0it [00:00, ?it/s]\u001b[A\n",
      " 62%|██████▏   | 26/42 [03:34<00:34,  2.19s/it]"
     ]
    },
    {
     "name": "stdout",
     "output_type": "stream",
     "text": [
      "News collection ended ! \n",
      "MX es protesta de empleados\n",
      "{'country': 'MY', 'lang': 'ms', 'queries': ['mogok', 'barisan piket', 'bantahan pekerja']}\n",
      "search ended !\n"
     ]
    },
    {
     "name": "stderr",
     "output_type": "stream",
     "text": [
      "\n",
      "0it [00:00, ?it/s]\u001b[A\n"
     ]
    },
    {
     "name": "stdout",
     "output_type": "stream",
     "text": [
      "News collection ended ! \n",
      "MY ms mogok\n",
      "search ended !\n"
     ]
    },
    {
     "name": "stderr",
     "output_type": "stream",
     "text": [
      "\n",
      "0it [00:00, ?it/s]\u001b[A"
     ]
    },
    {
     "name": "stdout",
     "output_type": "stream",
     "text": [
      "News collection ended ! \n",
      "MY ms barisan piket\n"
     ]
    },
    {
     "name": "stderr",
     "output_type": "stream",
     "text": [
      "\n"
     ]
    },
    {
     "name": "stdout",
     "output_type": "stream",
     "text": [
      "search ended !\n"
     ]
    },
    {
     "name": "stderr",
     "output_type": "stream",
     "text": [
      "\n",
      "0it [00:00, ?it/s]\u001b[A\n",
      " 64%|██████▍   | 27/42 [03:35<00:28,  1.87s/it]"
     ]
    },
    {
     "name": "stdout",
     "output_type": "stream",
     "text": [
      "News collection ended ! \n",
      "MY ms bantahan pekerja\n",
      "{'country': 'NL', 'lang': 'nl', 'queries': ['staking', 'piketlijn', 'werknemersprotest']}\n",
      "search ended !\n"
     ]
    },
    {
     "name": "stderr",
     "output_type": "stream",
     "text": [
      "\n",
      "  0%|          | 0/10 [00:00<?, ?it/s]\u001b[A\n",
      " 10%|█         | 1/10 [00:00<00:01,  5.67it/s]\u001b[A\n",
      " 20%|██        | 2/10 [00:00<00:01,  5.95it/s]\u001b[A\n",
      " 30%|███       | 3/10 [00:00<00:01,  3.74it/s]\u001b[A\n",
      " 40%|████      | 4/10 [00:01<00:02,  2.32it/s]\u001b[A\n",
      " 50%|█████     | 5/10 [00:02<00:02,  1.96it/s]\u001b[A\n",
      " 60%|██████    | 6/10 [00:02<00:02,  1.81it/s]\u001b[A\n",
      " 70%|███████   | 7/10 [00:02<00:01,  2.28it/s]\u001b[A\n",
      " 80%|████████  | 8/10 [00:03<00:01,  1.85it/s]\u001b[A\n",
      "100%|██████████| 10/10 [00:04<00:00,  2.22it/s][A\n"
     ]
    },
    {
     "name": "stdout",
     "output_type": "stream",
     "text": [
      "News collection ended ! \n",
      "NL nl staking\n",
      " data_.shape :(10, 6)\n",
      "search ended !\n"
     ]
    },
    {
     "name": "stderr",
     "output_type": "stream",
     "text": [
      "\n",
      "0it [00:00, ?it/s]\u001b[A\n"
     ]
    },
    {
     "name": "stdout",
     "output_type": "stream",
     "text": [
      "News collection ended ! \n",
      "NL nl piketlijn\n",
      "search ended !\n"
     ]
    },
    {
     "name": "stderr",
     "output_type": "stream",
     "text": [
      "\n",
      "0it [00:00, ?it/s]\u001b[A\n",
      " 67%|██████▋   | 28/42 [03:41<00:41,  2.99s/it]"
     ]
    },
    {
     "name": "stdout",
     "output_type": "stream",
     "text": [
      "News collection ended ! \n",
      "NL nl werknemersprotest\n",
      "{'country': 'PL', 'lang': 'pl', 'queries': ['strajk', 'linia pikiet', 'protest pracowniczy']}\n",
      "search ended !\n"
     ]
    },
    {
     "name": "stderr",
     "output_type": "stream",
     "text": [
      "\n",
      "0it [00:00, ?it/s]\u001b[A\n"
     ]
    },
    {
     "name": "stdout",
     "output_type": "stream",
     "text": [
      "News collection ended ! \n",
      "PL pl strajk\n",
      "search ended !\n"
     ]
    },
    {
     "name": "stderr",
     "output_type": "stream",
     "text": [
      "\n",
      "0it [00:00, ?it/s]\u001b[A\n"
     ]
    },
    {
     "name": "stdout",
     "output_type": "stream",
     "text": [
      "News collection ended ! \n",
      "PL pl linia pikiet\n",
      "search ended !\n"
     ]
    },
    {
     "name": "stderr",
     "output_type": "stream",
     "text": [
      "\n",
      "0it [00:00, ?it/s]\u001b[A\n",
      " 69%|██████▉   | 29/42 [03:41<00:29,  2.28s/it]"
     ]
    },
    {
     "name": "stdout",
     "output_type": "stream",
     "text": [
      "News collection ended ! \n",
      "PL pl protest pracowniczy\n",
      "{'country': 'PT', 'lang': 'pt', 'queries': ['batida', 'linha de piquete', 'protesto de funcionários']}\n",
      "search ended !\n"
     ]
    },
    {
     "name": "stderr",
     "output_type": "stream",
     "text": [
      "\n",
      "0it [00:00, ?it/s]\u001b[A\n"
     ]
    },
    {
     "name": "stdout",
     "output_type": "stream",
     "text": [
      "News collection ended ! \n",
      "PT pt batida\n",
      "search ended !\n"
     ]
    },
    {
     "name": "stderr",
     "output_type": "stream",
     "text": [
      "\n",
      "0it [00:00, ?it/s]\u001b[A"
     ]
    },
    {
     "name": "stdout",
     "output_type": "stream",
     "text": [
      "News collection ended ! \n",
      "PT pt linha de piquete\n"
     ]
    },
    {
     "name": "stderr",
     "output_type": "stream",
     "text": [
      "\n"
     ]
    },
    {
     "name": "stdout",
     "output_type": "stream",
     "text": [
      "search ended !\n"
     ]
    },
    {
     "name": "stderr",
     "output_type": "stream",
     "text": [
      "\n",
      "0it [00:00, ?it/s]\u001b[A\n",
      " 71%|███████▏  | 30/42 [03:42<00:22,  1.89s/it]"
     ]
    },
    {
     "name": "stdout",
     "output_type": "stream",
     "text": [
      "News collection ended ! \n",
      "PT pt protesto de funcionários\n",
      "{'country': 'RO', 'lang': 'ro', 'queries': ['grevă', 'linie de pichet', 'protestul angajatului']}\n",
      "search ended !\n"
     ]
    },
    {
     "name": "stderr",
     "output_type": "stream",
     "text": [
      "\n",
      "0it [00:00, ?it/s]\u001b[A"
     ]
    },
    {
     "name": "stdout",
     "output_type": "stream",
     "text": [
      "News collection ended ! \n",
      "RO ro grevă\n"
     ]
    },
    {
     "name": "stderr",
     "output_type": "stream",
     "text": [
      "\n"
     ]
    },
    {
     "name": "stdout",
     "output_type": "stream",
     "text": [
      "search ended !\n"
     ]
    },
    {
     "name": "stderr",
     "output_type": "stream",
     "text": [
      "\n",
      "0it [00:00, ?it/s]\u001b[A"
     ]
    },
    {
     "name": "stdout",
     "output_type": "stream",
     "text": [
      "News collection ended ! \n",
      "RO ro linie de pichet\n"
     ]
    },
    {
     "name": "stderr",
     "output_type": "stream",
     "text": [
      "\n"
     ]
    },
    {
     "name": "stdout",
     "output_type": "stream",
     "text": [
      "search ended !\n"
     ]
    },
    {
     "name": "stderr",
     "output_type": "stream",
     "text": [
      "\n",
      "0it [00:00, ?it/s]\u001b[A\n",
      " 74%|███████▍  | 31/42 [03:44<00:18,  1.66s/it]"
     ]
    },
    {
     "name": "stdout",
     "output_type": "stream",
     "text": [
      "News collection ended ! \n",
      "RO ro protestul angajatului\n",
      "{'country': 'SI', 'lang': 'sl', 'queries': ['stavka', 'odbojna linija', 'protest zaposlenih']}\n",
      "search ended !\n"
     ]
    },
    {
     "name": "stderr",
     "output_type": "stream",
     "text": [
      "\n",
      "0it [00:00, ?it/s]\u001b[A\n"
     ]
    },
    {
     "name": "stdout",
     "output_type": "stream",
     "text": [
      "News collection ended ! \n",
      "SI sl stavka\n",
      "search ended !\n"
     ]
    },
    {
     "name": "stderr",
     "output_type": "stream",
     "text": [
      "\n",
      "0it [00:00, ?it/s]\u001b[A\n"
     ]
    },
    {
     "name": "stdout",
     "output_type": "stream",
     "text": [
      "News collection ended ! \n",
      "SI sl odbojna linija\n",
      "search ended !\n"
     ]
    },
    {
     "name": "stderr",
     "output_type": "stream",
     "text": [
      "\n",
      "0it [00:00, ?it/s]\u001b[A\n",
      " 76%|███████▌  | 32/42 [03:44<00:14,  1.43s/it]"
     ]
    },
    {
     "name": "stdout",
     "output_type": "stream",
     "text": [
      "News collection ended ! \n",
      "SI sl protest zaposlenih\n",
      "{'country': 'SK', 'lang': 'sk', 'queries': ['štrajk', 'piketová čiara', 'protest zamestnancov']}\n",
      "search ended !\n"
     ]
    },
    {
     "name": "stderr",
     "output_type": "stream",
     "text": [
      "\n",
      "0it [00:00, ?it/s]\u001b[A"
     ]
    },
    {
     "name": "stdout",
     "output_type": "stream",
     "text": [
      "News collection ended ! \n",
      "SK sk štrajk\n"
     ]
    },
    {
     "name": "stderr",
     "output_type": "stream",
     "text": [
      "\n"
     ]
    },
    {
     "name": "stdout",
     "output_type": "stream",
     "text": [
      "search ended !\n"
     ]
    },
    {
     "name": "stderr",
     "output_type": "stream",
     "text": [
      "\n",
      "0it [00:00, ?it/s]\u001b[A"
     ]
    },
    {
     "name": "stdout",
     "output_type": "stream",
     "text": [
      "News collection ended ! \n",
      "SK sk piketová čiara\n"
     ]
    },
    {
     "name": "stderr",
     "output_type": "stream",
     "text": [
      "\n"
     ]
    },
    {
     "name": "stdout",
     "output_type": "stream",
     "text": [
      "search ended !\n"
     ]
    },
    {
     "name": "stderr",
     "output_type": "stream",
     "text": [
      "\n",
      "0it [00:00, ?it/s]\u001b[A\n",
      " 79%|███████▊  | 33/42 [03:46<00:12,  1.42s/it]"
     ]
    },
    {
     "name": "stdout",
     "output_type": "stream",
     "text": [
      "News collection ended ! \n",
      "SK sk protest zamestnancov\n",
      "{'country': 'TH', 'lang': 'th', 'queries': ['โจมตี', 'แนวป้องกัน', 'การประท้วงของพนักงาน']}\n",
      "search ended !\n"
     ]
    },
    {
     "name": "stderr",
     "output_type": "stream",
     "text": [
      "\n",
      "0it [00:00, ?it/s]\u001b[A\n"
     ]
    },
    {
     "name": "stdout",
     "output_type": "stream",
     "text": [
      "News collection ended ! \n",
      "TH th โจมตี\n",
      "search ended !\n"
     ]
    },
    {
     "name": "stderr",
     "output_type": "stream",
     "text": [
      "\n",
      "0it [00:00, ?it/s]\u001b[A"
     ]
    },
    {
     "name": "stdout",
     "output_type": "stream",
     "text": [
      "News collection ended ! \n",
      "TH th แนวป้องกัน\n"
     ]
    },
    {
     "name": "stderr",
     "output_type": "stream",
     "text": [
      "\n"
     ]
    },
    {
     "name": "stdout",
     "output_type": "stream",
     "text": [
      "search ended !\n"
     ]
    },
    {
     "name": "stderr",
     "output_type": "stream",
     "text": [
      "\n",
      "0it [00:00, ?it/s]\u001b[A\n",
      " 81%|████████  | 34/42 [03:46<00:09,  1.17s/it]"
     ]
    },
    {
     "name": "stdout",
     "output_type": "stream",
     "text": [
      "News collection ended ! \n",
      "TH th การประท้วงของพนักงาน\n",
      "{'country': 'TN', 'lang': 'ar', 'queries': ['يضرب', 'خط الاعتصام', 'احتجاج الموظفين']}\n",
      "search ended !\n"
     ]
    },
    {
     "name": "stderr",
     "output_type": "stream",
     "text": [
      "\n",
      "0it [00:00, ?it/s]\u001b[A"
     ]
    },
    {
     "name": "stdout",
     "output_type": "stream",
     "text": [
      "News collection ended ! \n",
      "TN ar يضرب\n"
     ]
    },
    {
     "name": "stderr",
     "output_type": "stream",
     "text": [
      "\n"
     ]
    },
    {
     "name": "stdout",
     "output_type": "stream",
     "text": [
      "search ended !\n"
     ]
    },
    {
     "name": "stderr",
     "output_type": "stream",
     "text": [
      "\n",
      "0it [00:00, ?it/s]\u001b[A\n"
     ]
    },
    {
     "name": "stdout",
     "output_type": "stream",
     "text": [
      "News collection ended ! \n",
      "TN ar خط الاعتصام\n",
      "search ended !\n"
     ]
    },
    {
     "name": "stderr",
     "output_type": "stream",
     "text": [
      "\n",
      "0it [00:00, ?it/s]\u001b[A\n",
      " 83%|████████▎ | 35/42 [03:47<00:07,  1.08s/it]"
     ]
    },
    {
     "name": "stdout",
     "output_type": "stream",
     "text": [
      "News collection ended ! \n",
      "TN ar احتجاج الموظفين\n",
      "{'country': 'TR', 'lang': 'tr', 'queries': ['çarpmak', 'grev hattı', 'çalışan protestosu']}\n",
      "search ended !\n"
     ]
    },
    {
     "name": "stderr",
     "output_type": "stream",
     "text": [
      "\n",
      "0it [00:00, ?it/s]\u001b[A\n"
     ]
    },
    {
     "name": "stdout",
     "output_type": "stream",
     "text": [
      "News collection ended ! \n",
      "TR tr çarpmak\n",
      "search ended !\n"
     ]
    },
    {
     "name": "stderr",
     "output_type": "stream",
     "text": [
      "\n",
      "0it [00:00, ?it/s]\u001b[A\n"
     ]
    },
    {
     "name": "stdout",
     "output_type": "stream",
     "text": [
      "News collection ended ! \n",
      "TR tr grev hattı\n",
      "search ended !\n"
     ]
    },
    {
     "name": "stderr",
     "output_type": "stream",
     "text": [
      "\n",
      "0it [00:00, ?it/s]\u001b[A\n",
      " 86%|████████▌ | 36/42 [03:48<00:05,  1.07it/s]"
     ]
    },
    {
     "name": "stdout",
     "output_type": "stream",
     "text": [
      "News collection ended ! \n",
      "TR tr çalışan protestosu\n",
      "{'country': 'UA', 'lang': 'uk', 'queries': ['страйк', 'пікет', 'протест працівника']}\n",
      "search ended !\n"
     ]
    },
    {
     "name": "stderr",
     "output_type": "stream",
     "text": [
      "\n",
      "  0%|          | 0/1 [00:00<?, ?it/s]\u001b[A\n",
      "100%|██████████| 1/1 [00:00<00:00,  4.80it/s]\u001b[A\n"
     ]
    },
    {
     "name": "stdout",
     "output_type": "stream",
     "text": [
      "News collection ended ! \n",
      "UA uk страйк\n",
      " data_.shape :(1, 6)\n",
      "search ended !\n"
     ]
    },
    {
     "name": "stderr",
     "output_type": "stream",
     "text": [
      "\n",
      "0it [00:00, ?it/s]\u001b[A"
     ]
    },
    {
     "name": "stdout",
     "output_type": "stream",
     "text": [
      "News collection ended ! \n",
      "UA uk пікет\n"
     ]
    },
    {
     "name": "stderr",
     "output_type": "stream",
     "text": [
      "\n"
     ]
    },
    {
     "name": "stdout",
     "output_type": "stream",
     "text": [
      "search ended !\n"
     ]
    },
    {
     "name": "stderr",
     "output_type": "stream",
     "text": [
      "\n",
      "0it [00:00, ?it/s]\u001b[A\n",
      " 88%|████████▊ | 37/42 [03:49<00:05,  1.04s/it]"
     ]
    },
    {
     "name": "stdout",
     "output_type": "stream",
     "text": [
      "News collection ended ! \n",
      "UA uk протест працівника\n",
      "{'country': 'VN', 'lang': 'vi', 'queries': ['đánh đập', 'hàng rào rào chắn', 'cuộc biểu tình của nhân viên']}\n",
      "search ended !\n"
     ]
    },
    {
     "name": "stderr",
     "output_type": "stream",
     "text": [
      "\n",
      "0it [00:00, ?it/s]\u001b[A\n"
     ]
    },
    {
     "name": "stdout",
     "output_type": "stream",
     "text": [
      "News collection ended ! \n",
      "VN vi đánh đập\n",
      "search ended !\n"
     ]
    },
    {
     "name": "stderr",
     "output_type": "stream",
     "text": [
      "\n",
      "0it [00:00, ?it/s]\u001b[A\n"
     ]
    },
    {
     "name": "stdout",
     "output_type": "stream",
     "text": [
      "News collection ended ! \n",
      "VN vi hàng rào rào chắn\n",
      "search ended !\n"
     ]
    },
    {
     "name": "stderr",
     "output_type": "stream",
     "text": [
      "\n",
      "0it [00:00, ?it/s]\u001b[A\n",
      " 90%|█████████ | 38/42 [03:50<00:03,  1.10it/s]"
     ]
    },
    {
     "name": "stdout",
     "output_type": "stream",
     "text": [
      "News collection ended ! \n",
      "VN vi cuộc biểu tình của nhân viên\n",
      "{'country': 'SE', 'lang': 'sv', 'queries': ['strejk', 'piketlinje', 'anställdas protest']}\n",
      "search ended !\n"
     ]
    },
    {
     "name": "stderr",
     "output_type": "stream",
     "text": [
      "\n",
      "  0%|          | 0/21 [00:00<?, ?it/s]\u001b[A\n",
      "  5%|▍         | 1/21 [00:00<00:13,  1.50it/s]\u001b[A\n",
      " 10%|▉         | 2/21 [00:01<00:09,  2.04it/s]\u001b[A\n",
      " 14%|█▍        | 3/21 [00:01<00:08,  2.16it/s]\u001b[A\n",
      " 19%|█▉        | 4/21 [00:01<00:07,  2.36it/s]\u001b[A\n",
      " 24%|██▍       | 5/21 [00:02<00:06,  2.33it/s]\u001b[A\n",
      " 29%|██▊       | 6/21 [00:02<00:06,  2.16it/s]\u001b[A\n",
      " 33%|███▎      | 7/21 [00:03<00:06,  2.09it/s]\u001b[A\n",
      " 38%|███▊      | 8/21 [00:03<00:06,  2.06it/s]\u001b[A\n",
      " 43%|████▎     | 9/21 [00:04<00:06,  1.83it/s]\u001b[A\n",
      " 48%|████▊     | 10/21 [00:04<00:05,  2.02it/s]\u001b[A\n",
      " 52%|█████▏    | 11/21 [00:05<00:04,  2.15it/s]\u001b[A\n",
      " 57%|█████▋    | 12/21 [00:05<00:03,  2.43it/s]\u001b[A\n",
      " 62%|██████▏   | 13/21 [00:05<00:03,  2.63it/s]\u001b[A\n",
      " 67%|██████▋   | 14/21 [00:06<00:02,  2.61it/s]\u001b[A\n",
      " 71%|███████▏  | 15/21 [00:06<00:02,  2.66it/s]\u001b[A\n",
      " 76%|███████▌  | 16/21 [00:06<00:01,  2.86it/s]\u001b[A\n",
      " 81%|████████  | 17/21 [00:07<00:01,  2.84it/s]\u001b[A\n",
      " 86%|████████▌ | 18/21 [00:07<00:01,  2.91it/s]\u001b[A\n",
      " 90%|█████████ | 19/21 [00:08<00:00,  2.41it/s]\u001b[A\n",
      " 95%|█████████▌| 20/21 [00:08<00:00,  2.17it/s]\u001b[A\n",
      "100%|██████████| 21/21 [00:09<00:00,  2.32it/s]\u001b[A\n"
     ]
    },
    {
     "name": "stdout",
     "output_type": "stream",
     "text": [
      "News collection ended ! \n",
      "SE sv strejk\n",
      " data_.shape :(21, 6)\n",
      "search ended !\n"
     ]
    },
    {
     "name": "stderr",
     "output_type": "stream",
     "text": [
      "\n",
      "0it [00:00, ?it/s]\u001b[A\n"
     ]
    },
    {
     "name": "stdout",
     "output_type": "stream",
     "text": [
      "News collection ended ! \n",
      "SE sv piketlinje\n",
      "search ended !\n"
     ]
    },
    {
     "name": "stderr",
     "output_type": "stream",
     "text": [
      "\n",
      "0it [00:00, ?it/s]\u001b[A\n",
      " 93%|█████████▎| 39/42 [04:00<00:10,  3.61s/it]"
     ]
    },
    {
     "name": "stdout",
     "output_type": "stream",
     "text": [
      "News collection ended ! \n",
      "SE sv anställdas protest\n",
      "{'country': 'SV', 'lang': 'es', 'queries': ['huelga', 'piquete', 'protesta de empleados']}\n",
      "search ended !\n"
     ]
    },
    {
     "name": "stderr",
     "output_type": "stream",
     "text": [
      "\n",
      "0it [00:00, ?it/s]\u001b[A"
     ]
    },
    {
     "name": "stdout",
     "output_type": "stream",
     "text": [
      "News collection ended ! \n",
      "SV es huelga\n"
     ]
    },
    {
     "name": "stderr",
     "output_type": "stream",
     "text": [
      "\n"
     ]
    },
    {
     "name": "stdout",
     "output_type": "stream",
     "text": [
      "search ended !\n"
     ]
    },
    {
     "name": "stderr",
     "output_type": "stream",
     "text": [
      "\n",
      "0it [00:00, ?it/s]\u001b[A"
     ]
    },
    {
     "name": "stdout",
     "output_type": "stream",
     "text": [
      "News collection ended ! \n",
      "SV es piquete\n"
     ]
    },
    {
     "name": "stderr",
     "output_type": "stream",
     "text": [
      "\n"
     ]
    },
    {
     "name": "stdout",
     "output_type": "stream",
     "text": [
      "search ended !\n"
     ]
    },
    {
     "name": "stderr",
     "output_type": "stream",
     "text": [
      "\n",
      "0it [00:00, ?it/s]\u001b[A\n",
      " 95%|█████████▌| 40/42 [04:01<00:05,  2.98s/it]"
     ]
    },
    {
     "name": "stdout",
     "output_type": "stream",
     "text": [
      "News collection ended ! \n",
      "SV es protesta de empleados\n",
      "{'country': 'CA', 'lang': 'fr', 'queries': ['grève', 'piquet de grève', 'protestation des employés']}\n",
      "search ended !\n"
     ]
    },
    {
     "name": "stderr",
     "output_type": "stream",
     "text": [
      "\n",
      "0it [00:00, ?it/s]\u001b[A\n"
     ]
    },
    {
     "name": "stdout",
     "output_type": "stream",
     "text": [
      "News collection ended ! \n",
      "CA fr grève\n",
      "search ended !\n"
     ]
    },
    {
     "name": "stderr",
     "output_type": "stream",
     "text": [
      "\n",
      "0it [00:00, ?it/s]\u001b[A\n"
     ]
    },
    {
     "name": "stdout",
     "output_type": "stream",
     "text": [
      "News collection ended ! \n",
      "CA fr piquet de grève\n",
      "search ended !\n"
     ]
    },
    {
     "name": "stderr",
     "output_type": "stream",
     "text": [
      "\n",
      "0it [00:00, ?it/s]\u001b[A\n",
      " 98%|█████████▊| 41/42 [04:02<00:02,  2.32s/it]"
     ]
    },
    {
     "name": "stdout",
     "output_type": "stream",
     "text": [
      "News collection ended ! \n",
      "CA fr protestation des employés\n",
      "{'country': 'LU', 'lang': 'fr', 'queries': ['grève', 'piquet de grève', 'protestation des employés']}\n",
      "search ended !\n"
     ]
    },
    {
     "name": "stderr",
     "output_type": "stream",
     "text": [
      "\n",
      "0it [00:00, ?it/s]\u001b[A\n"
     ]
    },
    {
     "name": "stdout",
     "output_type": "stream",
     "text": [
      "News collection ended ! \n",
      "LU fr grève\n",
      "search ended !\n"
     ]
    },
    {
     "name": "stderr",
     "output_type": "stream",
     "text": [
      "\n",
      "0it [00:00, ?it/s]\u001b[A"
     ]
    },
    {
     "name": "stdout",
     "output_type": "stream",
     "text": [
      "News collection ended ! \n",
      "LU fr piquet de grève\n"
     ]
    },
    {
     "name": "stderr",
     "output_type": "stream",
     "text": [
      "\n"
     ]
    },
    {
     "name": "stdout",
     "output_type": "stream",
     "text": [
      "search ended !\n"
     ]
    },
    {
     "name": "stderr",
     "output_type": "stream",
     "text": [
      "\n",
      "0it [00:00, ?it/s]\u001b[A\n",
      "100%|██████████| 42/42 [04:03<00:00,  5.80s/it]\n"
     ]
    },
    {
     "name": "stdout",
     "output_type": "stream",
     "text": [
      "News collection ended ! \n",
      "LU fr protestation des employés\n"
     ]
    },
    {
     "data": {
      "text/html": [
       "<div>\n",
       "<style scoped>\n",
       "    .dataframe tbody tr th:only-of-type {\n",
       "        vertical-align: middle;\n",
       "    }\n",
       "\n",
       "    .dataframe tbody tr th {\n",
       "        vertical-align: top;\n",
       "    }\n",
       "\n",
       "    .dataframe thead th {\n",
       "        text-align: right;\n",
       "    }\n",
       "</style>\n",
       "<table border=\"1\" class=\"dataframe\">\n",
       "  <thead>\n",
       "    <tr style=\"text-align: right;\">\n",
       "      <th></th>\n",
       "      <th>dates</th>\n",
       "      <th>titles</th>\n",
       "      <th>links</th>\n",
       "      <th>texts</th>\n",
       "      <th>lang</th>\n",
       "      <th>cat</th>\n",
       "    </tr>\n",
       "  </thead>\n",
       "  <tbody>\n",
       "    <tr>\n",
       "      <th>0</th>\n",
       "      <td>2024-08-23T07:33:30Z</td>\n",
       "      <td>Le Seigneur des Anneaux : La Guerre du Rohirim...</td>\n",
       "      <td>https://www.journaldugeek.com/2024/08/23/le-se...</td>\n",
       "      <td>La Terre du Milieu sera à l’honneur en cette f...</td>\n",
       "      <td>fr</td>\n",
       "      <td>grève</td>\n",
       "    </tr>\n",
       "    <tr>\n",
       "      <th>1</th>\n",
       "      <td>2024-08-23T08:00:10Z</td>\n",
       "      <td>Le viol et le meurtre d’une médecin illustrent...</td>\n",
       "      <td>https://www.lemonde.fr/international/article/2...</td>\n",
       "      <td>Manifestation de médecins et d’ambulanciers ap...</td>\n",
       "      <td>fr</td>\n",
       "      <td>grève</td>\n",
       "    </tr>\n",
       "    <tr>\n",
       "      <th>2</th>\n",
       "      <td>2024-08-22T14:07:30Z</td>\n",
       "      <td>En Inde, après le viol et le meurtre d’une méd...</td>\n",
       "      <td>https://www.lemonde.fr/international/article/2...</td>\n",
       "      <td>Des avocats de la Haute Cour de Calcutta lors ...</td>\n",
       "      <td>fr</td>\n",
       "      <td>grève</td>\n",
       "    </tr>\n",
       "    <tr>\n",
       "      <th>3</th>\n",
       "      <td>2024-08-22T16:31:40Z</td>\n",
       "      <td>L’été où l’Espagne a dit non au surtourisme</td>\n",
       "      <td>https://www.courrierinternational.com/article/...</td>\n",
       "      <td>Certains étaient déjà descendus dans la rue po...</td>\n",
       "      <td>fr</td>\n",
       "      <td>grève</td>\n",
       "    </tr>\n",
       "    <tr>\n",
       "      <th>4</th>\n",
       "      <td>2024-08-22T14:30:10Z</td>\n",
       "      <td>En Inde, les médecins du principal hôpital de ...</td>\n",
       "      <td>https://www.francetvinfo.fr/monde/inde/en-inde...</td>\n",
       "      <td>Les médecins ont souligné qu'ils mettaient fin...</td>\n",
       "      <td>fr</td>\n",
       "      <td>grève</td>\n",
       "    </tr>\n",
       "    <tr>\n",
       "      <th>...</th>\n",
       "      <td>...</td>\n",
       "      <td>...</td>\n",
       "      <td>...</td>\n",
       "      <td>...</td>\n",
       "      <td>...</td>\n",
       "      <td>...</td>\n",
       "    </tr>\n",
       "    <tr>\n",
       "      <th>16</th>\n",
       "      <td>2024-08-23T07:11:51Z</td>\n",
       "      <td>FN: 90 procent av Gazaborna har tvingats fly</td>\n",
       "      <td>https://www.aftonbladet.se/nyheter/a/Rr77qd/af...</td>\n",
       "      <td>Palestinier tvingades återigen fly vid en evak...</td>\n",
       "      <td>sv</td>\n",
       "      <td>strejk</td>\n",
       "    </tr>\n",
       "    <tr>\n",
       "      <th>17</th>\n",
       "      <td>2024-08-23T04:47:52Z</td>\n",
       "      <td>Brand i flera bilar</td>\n",
       "      <td>https://www.aftonbladet.se/nyheter/a/Rr77qd/af...</td>\n",
       "      <td>TRE NYHETER DU INTE FÅR MISSA: MP-topparnas be...</td>\n",
       "      <td>sv</td>\n",
       "      <td>strejk</td>\n",
       "    </tr>\n",
       "    <tr>\n",
       "      <th>18</th>\n",
       "      <td>2024-08-23T04:42:31Z</td>\n",
       "      <td>Brand i härbärge</td>\n",
       "      <td>https://www.aftonbladet.se/nyheter/a/Rr77qd/af...</td>\n",
       "      <td>TRE NYHETER DU INTE FÅR MISSA: MP-topparnas be...</td>\n",
       "      <td>sv</td>\n",
       "      <td>strejk</td>\n",
       "    </tr>\n",
       "    <tr>\n",
       "      <th>19</th>\n",
       "      <td>2024-08-23T05:20:05Z</td>\n",
       "      <td>Misstänkt föremål i Kalmar var skarpt</td>\n",
       "      <td>https://www.aftonbladet.se/nyheter/a/Rr77qd/af...</td>\n",
       "      <td>TRE NYHETER DU INTE FÅR MISSA: MP-topparnas be...</td>\n",
       "      <td>sv</td>\n",
       "      <td>strejk</td>\n",
       "    </tr>\n",
       "    <tr>\n",
       "      <th>20</th>\n",
       "      <td>2024-08-23T07:27:46Z</td>\n",
       "      <td>Bil hänger över kajkanten</td>\n",
       "      <td>https://www.aftonbladet.se/nyheter/a/Rr77qd/af...</td>\n",
       "      <td>TRE NYHETER DU INTE FÅR MISSA: MP-topparnas be...</td>\n",
       "      <td>sv</td>\n",
       "      <td>strejk</td>\n",
       "    </tr>\n",
       "  </tbody>\n",
       "</table>\n",
       "<p>327 rows × 6 columns</p>\n",
       "</div>"
      ],
      "text/plain": [
       "                   dates                                             titles  \\\n",
       "0   2024-08-23T07:33:30Z  Le Seigneur des Anneaux : La Guerre du Rohirim...   \n",
       "1   2024-08-23T08:00:10Z  Le viol et le meurtre d’une médecin illustrent...   \n",
       "2   2024-08-22T14:07:30Z  En Inde, après le viol et le meurtre d’une méd...   \n",
       "3   2024-08-22T16:31:40Z        L’été où l’Espagne a dit non au surtourisme   \n",
       "4   2024-08-22T14:30:10Z  En Inde, les médecins du principal hôpital de ...   \n",
       "..                   ...                                                ...   \n",
       "16  2024-08-23T07:11:51Z       FN: 90 procent av Gazaborna har tvingats fly   \n",
       "17  2024-08-23T04:47:52Z                                Brand i flera bilar   \n",
       "18  2024-08-23T04:42:31Z                                   Brand i härbärge   \n",
       "19  2024-08-23T05:20:05Z              Misstänkt föremål i Kalmar var skarpt   \n",
       "20  2024-08-23T07:27:46Z                          Bil hänger över kajkanten   \n",
       "\n",
       "                                                links  \\\n",
       "0   https://www.journaldugeek.com/2024/08/23/le-se...   \n",
       "1   https://www.lemonde.fr/international/article/2...   \n",
       "2   https://www.lemonde.fr/international/article/2...   \n",
       "3   https://www.courrierinternational.com/article/...   \n",
       "4   https://www.francetvinfo.fr/monde/inde/en-inde...   \n",
       "..                                                ...   \n",
       "16  https://www.aftonbladet.se/nyheter/a/Rr77qd/af...   \n",
       "17  https://www.aftonbladet.se/nyheter/a/Rr77qd/af...   \n",
       "18  https://www.aftonbladet.se/nyheter/a/Rr77qd/af...   \n",
       "19  https://www.aftonbladet.se/nyheter/a/Rr77qd/af...   \n",
       "20  https://www.aftonbladet.se/nyheter/a/Rr77qd/af...   \n",
       "\n",
       "                                                texts lang     cat  \n",
       "0   La Terre du Milieu sera à l’honneur en cette f...   fr   grève  \n",
       "1   Manifestation de médecins et d’ambulanciers ap...   fr   grève  \n",
       "2   Des avocats de la Haute Cour de Calcutta lors ...   fr   grève  \n",
       "3   Certains étaient déjà descendus dans la rue po...   fr   grève  \n",
       "4   Les médecins ont souligné qu'ils mettaient fin...   fr   grève  \n",
       "..                                                ...  ...     ...  \n",
       "16  Palestinier tvingades återigen fly vid en evak...   sv  strejk  \n",
       "17  TRE NYHETER DU INTE FÅR MISSA: MP-topparnas be...   sv  strejk  \n",
       "18  TRE NYHETER DU INTE FÅR MISSA: MP-topparnas be...   sv  strejk  \n",
       "19  TRE NYHETER DU INTE FÅR MISSA: MP-topparnas be...   sv  strejk  \n",
       "20  TRE NYHETER DU INTE FÅR MISSA: MP-topparnas be...   sv  strejk  \n",
       "\n",
       "[327 rows x 6 columns]"
      ]
     },
     "execution_count": 10,
     "metadata": {},
     "output_type": "execute_result"
    }
   ],
   "source": [
    "collector = NewsCollector(config=conf['country_lang'], scraper=scrapper,path_to_save='/home/jupyter/news/data/strike_newsapi_vendre_23_aout.csv')\n",
    "collector.collect_news()"
   ]
  },
  {
   "cell_type": "code",
   "execution_count": 11,
   "id": "877714b7-78ea-42c8-a700-f2de328aa319",
   "metadata": {
    "tags": []
   },
   "outputs": [
    {
     "data": {
      "text/plain": [
       "(327, 6)"
      ]
     },
     "execution_count": 11,
     "metadata": {},
     "output_type": "execute_result"
    }
   ],
   "source": [
    "collector.data.shape"
   ]
  },
  {
   "cell_type": "code",
   "execution_count": 12,
   "id": "5a60edf5-7911-48bc-90e2-9af7c2bb3cad",
   "metadata": {
    "tags": []
   },
   "outputs": [
    {
     "data": {
      "text/plain": [
       "Index(['dates', 'titles', 'links', 'texts', 'lang', 'cat'], dtype='object')"
      ]
     },
     "execution_count": 12,
     "metadata": {},
     "output_type": "execute_result"
    }
   ],
   "source": [
    "collector.data.columns"
   ]
  },
  {
   "cell_type": "code",
   "execution_count": 13,
   "id": "ab7c1c7b-8d88-49eb-95dd-e5f9cf44b3cb",
   "metadata": {
    "tags": []
   },
   "outputs": [
    {
     "data": {
      "text/html": [
       "<div>\n",
       "<style scoped>\n",
       "    .dataframe tbody tr th:only-of-type {\n",
       "        vertical-align: middle;\n",
       "    }\n",
       "\n",
       "    .dataframe tbody tr th {\n",
       "        vertical-align: top;\n",
       "    }\n",
       "\n",
       "    .dataframe thead th {\n",
       "        text-align: right;\n",
       "    }\n",
       "</style>\n",
       "<table border=\"1\" class=\"dataframe\">\n",
       "  <thead>\n",
       "    <tr style=\"text-align: right;\">\n",
       "      <th></th>\n",
       "      <th>dates</th>\n",
       "      <th>titles</th>\n",
       "      <th>links</th>\n",
       "      <th>texts</th>\n",
       "      <th>lang</th>\n",
       "      <th>cat</th>\n",
       "    </tr>\n",
       "  </thead>\n",
       "  <tbody>\n",
       "    <tr>\n",
       "      <th>0</th>\n",
       "      <td>2024-08-23T07:33:30Z</td>\n",
       "      <td>Le Seigneur des Anneaux : La Guerre du Rohirim...</td>\n",
       "      <td>https://www.journaldugeek.com/2024/08/23/le-se...</td>\n",
       "      <td>La Terre du Milieu sera à l’honneur en cette f...</td>\n",
       "      <td>fr</td>\n",
       "      <td>grève</td>\n",
       "    </tr>\n",
       "    <tr>\n",
       "      <th>1</th>\n",
       "      <td>2024-08-23T08:00:10Z</td>\n",
       "      <td>Le viol et le meurtre d’une médecin illustrent...</td>\n",
       "      <td>https://www.lemonde.fr/international/article/2...</td>\n",
       "      <td>Manifestation de médecins et d’ambulanciers ap...</td>\n",
       "      <td>fr</td>\n",
       "      <td>grève</td>\n",
       "    </tr>\n",
       "    <tr>\n",
       "      <th>2</th>\n",
       "      <td>2024-08-22T14:07:30Z</td>\n",
       "      <td>En Inde, après le viol et le meurtre d’une méd...</td>\n",
       "      <td>https://www.lemonde.fr/international/article/2...</td>\n",
       "      <td>Des avocats de la Haute Cour de Calcutta lors ...</td>\n",
       "      <td>fr</td>\n",
       "      <td>grève</td>\n",
       "    </tr>\n",
       "    <tr>\n",
       "      <th>3</th>\n",
       "      <td>2024-08-22T16:31:40Z</td>\n",
       "      <td>L’été où l’Espagne a dit non au surtourisme</td>\n",
       "      <td>https://www.courrierinternational.com/article/...</td>\n",
       "      <td>Certains étaient déjà descendus dans la rue po...</td>\n",
       "      <td>fr</td>\n",
       "      <td>grève</td>\n",
       "    </tr>\n",
       "    <tr>\n",
       "      <th>4</th>\n",
       "      <td>2024-08-22T14:30:10Z</td>\n",
       "      <td>En Inde, les médecins du principal hôpital de ...</td>\n",
       "      <td>https://www.francetvinfo.fr/monde/inde/en-inde...</td>\n",
       "      <td>Les médecins ont souligné qu'ils mettaient fin...</td>\n",
       "      <td>fr</td>\n",
       "      <td>grève</td>\n",
       "    </tr>\n",
       "  </tbody>\n",
       "</table>\n",
       "</div>"
      ],
      "text/plain": [
       "                  dates                                             titles  \\\n",
       "0  2024-08-23T07:33:30Z  Le Seigneur des Anneaux : La Guerre du Rohirim...   \n",
       "1  2024-08-23T08:00:10Z  Le viol et le meurtre d’une médecin illustrent...   \n",
       "2  2024-08-22T14:07:30Z  En Inde, après le viol et le meurtre d’une méd...   \n",
       "3  2024-08-22T16:31:40Z        L’été où l’Espagne a dit non au surtourisme   \n",
       "4  2024-08-22T14:30:10Z  En Inde, les médecins du principal hôpital de ...   \n",
       "\n",
       "                                               links  \\\n",
       "0  https://www.journaldugeek.com/2024/08/23/le-se...   \n",
       "1  https://www.lemonde.fr/international/article/2...   \n",
       "2  https://www.lemonde.fr/international/article/2...   \n",
       "3  https://www.courrierinternational.com/article/...   \n",
       "4  https://www.francetvinfo.fr/monde/inde/en-inde...   \n",
       "\n",
       "                                               texts lang    cat  \n",
       "0  La Terre du Milieu sera à l’honneur en cette f...   fr  grève  \n",
       "1  Manifestation de médecins et d’ambulanciers ap...   fr  grève  \n",
       "2  Des avocats de la Haute Cour de Calcutta lors ...   fr  grève  \n",
       "3  Certains étaient déjà descendus dans la rue po...   fr  grève  \n",
       "4  Les médecins ont souligné qu'ils mettaient fin...   fr  grève  "
      ]
     },
     "execution_count": 13,
     "metadata": {},
     "output_type": "execute_result"
    }
   ],
   "source": [
    "collector.data.head()"
   ]
  },
  {
   "cell_type": "markdown",
   "id": "ebc18b2c-5b51-47c9-a72a-b176a6b470ec",
   "metadata": {},
   "source": [
    "# Translation "
   ]
  },
  {
   "cell_type": "code",
   "execution_count": 14,
   "id": "40046501-c826-431d-872a-6d99c3c8d082",
   "metadata": {
    "tags": []
   },
   "outputs": [],
   "source": [
    "translation = GoogleTranslate(project_id=conf['project_id'])"
   ]
  },
  {
   "cell_type": "code",
   "execution_count": 15,
   "id": "a45b467d-4a05-401a-ba48-cd5fd93dc66b",
   "metadata": {
    "tags": []
   },
   "outputs": [
    {
     "data": {
      "text/plain": [
       "'irn-67050-lab-65'"
      ]
     },
     "execution_count": 15,
     "metadata": {},
     "output_type": "execute_result"
    }
   ],
   "source": [
    "conf['project_id']"
   ]
  },
  {
   "cell_type": "code",
   "execution_count": 16,
   "id": "244d603a-f485-4de9-8e91-945dd494d7ef",
   "metadata": {
    "tags": []
   },
   "outputs": [
    {
     "data": {
      "text/plain": [
       "(327, 6)"
      ]
     },
     "execution_count": 16,
     "metadata": {},
     "output_type": "execute_result"
    }
   ],
   "source": [
    "df = collector.data\n",
    "df.shape"
   ]
  },
  {
   "cell_type": "code",
   "execution_count": 17,
   "id": "82d58976-ed67-4248-9e40-1b458e4660fe",
   "metadata": {
    "tags": []
   },
   "outputs": [],
   "source": [
    "del os.environ['http_proxy']\n",
    "del os.environ['https_proxy']\n",
    "del os.environ['HTTP_PROXY']\n",
    "del os.environ['HTTPS_PROXY']"
   ]
  },
  {
   "cell_type": "code",
   "execution_count": 18,
   "id": "9871a479-3109-412e-99a3-239fa79db703",
   "metadata": {
    "tags": []
   },
   "outputs": [],
   "source": [
    "## Instanciating Translation object in order to translate the collected news"
   ]
  },
  {
   "cell_type": "code",
   "execution_count": 19,
   "id": "26655f86-5875-4a1f-ac6e-b6161dace492",
   "metadata": {
    "tags": []
   },
   "outputs": [],
   "source": [
    " trans_df = translation.translation(df, limit=30720)"
   ]
  },
  {
   "cell_type": "code",
   "execution_count": 20,
   "id": "15044043-0e34-4e16-8a43-de5432862572",
   "metadata": {
    "tags": []
   },
   "outputs": [],
   "source": [
    "# translation.fails_index"
   ]
  },
  {
   "cell_type": "code",
   "execution_count": 21,
   "id": "278201ea-1b9b-4780-989a-967dd9ea6928",
   "metadata": {
    "tags": []
   },
   "outputs": [
    {
     "data": {
      "text/plain": [
       "(327, 8)"
      ]
     },
     "execution_count": 21,
     "metadata": {},
     "output_type": "execute_result"
    }
   ],
   "source": [
    "trans_df.shape"
   ]
  },
  {
   "cell_type": "code",
   "execution_count": 22,
   "id": "a9bf98d8-1b06-49b8-8b21-0446aeca41e9",
   "metadata": {
    "tags": []
   },
   "outputs": [
    {
     "data": {
      "text/plain": [
       "Index(['dates', 'titles', 'links', 'texts', 'lang', 'cat', 'translated_title',\n",
       "       'translated_text'],\n",
       "      dtype='object')"
      ]
     },
     "execution_count": 22,
     "metadata": {},
     "output_type": "execute_result"
    }
   ],
   "source": [
    "trans_df.columns"
   ]
  },
  {
   "cell_type": "markdown",
   "id": "4e48d59f-cfdc-4099-b625-0f0a47b65520",
   "metadata": {},
   "source": [
    "# Cleaning the translated dataframe\n",
    "On loses more data when the cleaning happens before translation. In fact, some languages like japanes or chinese do not follow some common rule like have space between words. So one loses those data if cleaning happens base one blank space rules."
   ]
  },
  {
   "cell_type": "code",
   "execution_count": 23,
   "id": "763d7e2c-07dd-488f-b696-02f30c3460b0",
   "metadata": {
    "tags": []
   },
   "outputs": [
    {
     "name": "stdout",
     "output_type": "stream",
     "text": [
      "cleaning data ...\n"
     ]
    }
   ],
   "source": [
    "print(\"cleaning data ...\")\n",
    "if len(trans_df) == 0 :\n",
    "    trans_df = None\n",
    "else :\n",
    "    trans_df = trans_df[trans_df['translated_title'] != '']\n",
    "    trans_df = trans_df[trans_df['translated_text'] != '']\n",
    "\n",
    "    trans_df = trans_df[trans_df['translated_title'].str.count('\\s+').ge(3)] #keep only titles having more than 4 spaces in the title\n",
    "    trans_df = trans_df[trans_df['translated_text'].str.count('\\s+').ge(20)] #keep only titles having more than 20 spaces in the body\n",
    "\n",
    "    trans_df = (trans_df.drop_duplicates(subset=['translated_title'])).sort_index()\n",
    "    trans_df = (trans_df.drop_duplicates(subset=['translated_text'])).sort_index()\n",
    "    trans_df = (trans_df.drop_duplicates(subset=['links'])).sort_index()\n",
    "    trans_df = trans_df.reset_index(drop=True)\n",
    "\n",
    "    if len(trans_df) == 0 :\n",
    "        trans_df = None"
   ]
  },
  {
   "cell_type": "code",
   "execution_count": 24,
   "id": "2ad75ce4-6163-4f76-b1e0-705675321f5a",
   "metadata": {
    "tags": []
   },
   "outputs": [
    {
     "data": {
      "text/plain": [
       "(194, 8)"
      ]
     },
     "execution_count": 24,
     "metadata": {},
     "output_type": "execute_result"
    }
   ],
   "source": [
    "trans_df.shape"
   ]
  },
  {
   "cell_type": "markdown",
   "id": "18b544bc-feea-4fca-8d12-4de47f5b7fe0",
   "metadata": {
    "tags": []
   },
   "source": [
    "# Embeddings "
   ]
  },
  {
   "cell_type": "code",
   "execution_count": 25,
   "id": "e93369c6-8fae-426d-b608-42f65f94867b",
   "metadata": {
    "tags": []
   },
   "outputs": [],
   "source": [
    "texts = list(trans_df['translated_text'])"
   ]
  },
  {
   "cell_type": "code",
   "execution_count": 26,
   "id": "01aa1618-346e-42b9-9885-b93e74a20867",
   "metadata": {
    "tags": []
   },
   "outputs": [
    {
     "name": "stdout",
     "output_type": "stream",
     "text": [
      "194\n",
      "194\n"
     ]
    }
   ],
   "source": [
    "embedding = GoogleEmbeddings()\n",
    "embedding.fit_transform(texts)"
   ]
  },
  {
   "cell_type": "markdown",
   "id": "06dbb40a-187e-4c14-af04-75e31f516994",
   "metadata": {},
   "source": [
    "# Clustering "
   ]
  },
  {
   "cell_type": "code",
   "execution_count": 27,
   "id": "e04b87f0-4670-45d9-8d0a-f68d462eb7f2",
   "metadata": {
    "tags": []
   },
   "outputs": [
    {
     "data": {
      "text/plain": [
       "(194, 256)"
      ]
     },
     "execution_count": 27,
     "metadata": {},
     "output_type": "execute_result"
    }
   ],
   "source": [
    "## clustering train data \n",
    "xtrain = embedding.embedded_data\n",
    "xtrain.shape"
   ]
  },
  {
   "cell_type": "code",
   "execution_count": 28,
   "id": "c0a49f7b-f88d-4eb4-94ca-197ffeef9461",
   "metadata": {
    "tags": []
   },
   "outputs": [
    {
     "name": "stderr",
     "output_type": "stream",
     "text": [
      "100%|██████████| 500/500 [00:05<00:00, 99.70it/s] \n"
     ]
    }
   ],
   "source": [
    "model = Clustering(percentile=10, linkage='average', metric='cosine')\n",
    "model.fit(xtrain, n=500)\n",
    "ypred = model.predict(xtrain)"
   ]
  },
  {
   "cell_type": "code",
   "execution_count": 29,
   "id": "c3ab55e2-4416-45c7-8b1a-a7b39e7fa2d4",
   "metadata": {
    "tags": []
   },
   "outputs": [
    {
     "data": {
      "text/plain": [
       "175"
      ]
     },
     "execution_count": 29,
     "metadata": {},
     "output_type": "execute_result"
    }
   ],
   "source": [
    "trans_df['class'] = ypred\n",
    "len(np.unique(ypred))"
   ]
  },
  {
   "cell_type": "code",
   "execution_count": 30,
   "id": "790b1466-6007-4551-9d13-f58d3b814a02",
   "metadata": {
    "scrolled": true,
    "tags": []
   },
   "outputs": [
    {
     "data": {
      "text/html": [
       "<div>\n",
       "<style scoped>\n",
       "    .dataframe tbody tr th:only-of-type {\n",
       "        vertical-align: middle;\n",
       "    }\n",
       "\n",
       "    .dataframe tbody tr th {\n",
       "        vertical-align: top;\n",
       "    }\n",
       "\n",
       "    .dataframe thead th {\n",
       "        text-align: right;\n",
       "    }\n",
       "</style>\n",
       "<table border=\"1\" class=\"dataframe\">\n",
       "  <thead>\n",
       "    <tr style=\"text-align: right;\">\n",
       "      <th></th>\n",
       "      <th>dates</th>\n",
       "      <th>titles</th>\n",
       "      <th>links</th>\n",
       "      <th>texts</th>\n",
       "      <th>lang</th>\n",
       "      <th>cat</th>\n",
       "      <th>translated_title</th>\n",
       "      <th>translated_text</th>\n",
       "      <th>class</th>\n",
       "    </tr>\n",
       "  </thead>\n",
       "  <tbody>\n",
       "    <tr>\n",
       "      <th>0</th>\n",
       "      <td>2024-08-23T04:41:00Z</td>\n",
       "      <td>Piloti Air Canada hrozí stávkou, chtějí stejné...</td>\n",
       "      <td>https://www.idnes.cz/ekonomika/doprava/air-can...</td>\n",
       "      <td>Piloti letecké společnosti Air Canada vstupují...</td>\n",
       "      <td>cs</td>\n",
       "      <td>stávka</td>\n",
       "      <td>Air Canada pilots threaten to strike, want the...</td>\n",
       "      <td>Air Canada pilots go on strike alert. They are...</td>\n",
       "      <td>87</td>\n",
       "    </tr>\n",
       "    <tr>\n",
       "      <th>1</th>\n",
       "      <td>2024-08-23T01:13:17Z</td>\n",
       "      <td>Trabajadores del Poder Judicial protestan en C...</td>\n",
       "      <td>https://www.elfinanciero.com.mx/nacional/2024/...</td>\n",
       "      <td>Trabajadores del Poder Judicial se manifestaro...</td>\n",
       "      <td>es</td>\n",
       "      <td>protesta de empleados</td>\n",
       "      <td>Judicial Branch workers protest in the Chamber...</td>\n",
       "      <td>Workers of the Judicial Branch demonstrated ou...</td>\n",
       "      <td>144</td>\n",
       "    </tr>\n",
       "    <tr>\n",
       "      <th>2</th>\n",
       "      <td>2024-08-23T07:33:30Z</td>\n",
       "      <td>Le Seigneur des Anneaux : La Guerre du Rohirim...</td>\n",
       "      <td>https://www.journaldugeek.com/2024/08/23/le-se...</td>\n",
       "      <td>La Terre du Milieu sera à l’honneur en cette f...</td>\n",
       "      <td>fr</td>\n",
       "      <td>grève</td>\n",
       "      <td>The Lord of the Rings: War of the Rohirim Gets...</td>\n",
       "      <td>Middle-earth will be in the spotlight at the e...</td>\n",
       "      <td>168</td>\n",
       "    </tr>\n",
       "    <tr>\n",
       "      <th>3</th>\n",
       "      <td>2024-08-22T16:23:39Z</td>\n",
       "      <td>सुप्रीम कोर्ट की अपील के बाद काम पर लौटे डॉक्ट...</td>\n",
       "      <td>https://www.aajtak.in/india/news/story/doctors...</td>\n",
       "      <td>रेजिडेंट डॉक्टर्स एसोसिएशन एम्स (RDA AIIMS) दि...</td>\n",
       "      <td>hi</td>\n",
       "      <td>हड़ताल</td>\n",
       "      <td>Doctors returned to work after the Supreme Cou...</td>\n",
       "      <td>Resident Doctors Association AIIMS (RDA AIIMS)...</td>\n",
       "      <td>150</td>\n",
       "    </tr>\n",
       "    <tr>\n",
       "      <th>4</th>\n",
       "      <td>2024-08-23T03:08:21Z</td>\n",
       "      <td>न्याय की मांग को लेकर सीटू व जनवादी महिला समित...</td>\n",
       "      <td>https://www.dainiktribuneonline.com/news/harya...</td>\n",
       "      <td>भिवानी, 22 अगस्त (हप्र) कामकाजी महिला समन्वय स...</td>\n",
       "      <td>hi</td>\n",
       "      <td>कर्मचारी विरोध प्रदर्शन</td>\n",
       "      <td>Demonstration by CITU and Janwadi Mahila Samit...</td>\n",
       "      <td>Bhiwani, August 22 (HP) On the call of the Wor...</td>\n",
       "      <td>129</td>\n",
       "    </tr>\n",
       "    <tr>\n",
       "      <th>...</th>\n",
       "      <td>...</td>\n",
       "      <td>...</td>\n",
       "      <td>...</td>\n",
       "      <td>...</td>\n",
       "      <td>...</td>\n",
       "      <td>...</td>\n",
       "      <td>...</td>\n",
       "      <td>...</td>\n",
       "      <td>...</td>\n",
       "    </tr>\n",
       "    <tr>\n",
       "      <th>189</th>\n",
       "      <td>2024-08-23T10:30:01Z</td>\n",
       "      <td>HP Color Laser MFP 179fwg Multifunktions-Farbl...</td>\n",
       "      <td>https://www.amazon.de/dp/B07RMJV1LT?tag=winfud...</td>\n",
       "      <td>Freitag ab 12:30 Uhr: HP Color Laser MFP 179fw...</td>\n",
       "      <td>de</td>\n",
       "      <td>schlagen</td>\n",
       "      <td>HP Color Laser MFP 179fwg Multifunction color ...</td>\n",
       "      <td>Friday from 12:30 p.m.: HP Color Laser MFP 179...</td>\n",
       "      <td>17</td>\n",
       "    </tr>\n",
       "    <tr>\n",
       "      <th>190</th>\n",
       "      <td>2024-08-23T07:26:25Z</td>\n",
       "      <td>Bundesliga-Vorschau - Titelkandidaten im Meist...</td>\n",
       "      <td>https://www.focus.de/sport/fussball/bundesliga...</td>\n",
       "      <td>E-Mail\\n\\nTeilen\\n\\nMehr\\n\\nTwitter\\n\\nDrucken...</td>\n",
       "      <td>de</td>\n",
       "      <td>schlagen</td>\n",
       "      <td>Bundesliga preview - Title candidates in the c...</td>\n",
       "      <td>E-mail\\n\\nShare\\n\\nMore\\n\\nTwitter\\n\\nPrint\\n\\...</td>\n",
       "      <td>0</td>\n",
       "    </tr>\n",
       "    <tr>\n",
       "      <th>191</th>\n",
       "      <td>2024-08-23T11:42:00Z</td>\n",
       "      <td>Der besondere Ausblick auf die Liga - Kane-Kom...</td>\n",
       "      <td>https://www.focus.de/sport/fussball/bundesliga...</td>\n",
       "      <td>Der besondere Ausblick auf die Liga: Kane-Koma...</td>\n",
       "      <td>de</td>\n",
       "      <td>schlagen</td>\n",
       "      <td>The special outlook on the league - Kane coma ...</td>\n",
       "      <td>The special outlook on the league: Kane coma a...</td>\n",
       "      <td>18</td>\n",
       "    </tr>\n",
       "    <tr>\n",
       "      <th>192</th>\n",
       "      <td>2024-08-22T03:30:00Z</td>\n",
       "      <td>KOMMENTAR - Unsere Psyche wird immer kränker. ...</td>\n",
       "      <td>https://www.nzz.ch/meinung/unsere-psyche-wird-...</td>\n",
       "      <td>Kommentar Unsere Psyche wird immer kränker. Do...</td>\n",
       "      <td>de</td>\n",
       "      <td>schlagen</td>\n",
       "      <td>COMMENT - Our psyche is becoming increasingly ...</td>\n",
       "      <td>Comment Our psyche is becoming increasingly il...</td>\n",
       "      <td>12</td>\n",
       "    </tr>\n",
       "    <tr>\n",
       "      <th>193</th>\n",
       "      <td>2024-08-22T13:08:45Z</td>\n",
       "      <td>Mythos Fehlinformation: Warum soziale Medien w...</td>\n",
       "      <td>https://www.spektrum.de/news/warum-soziale-med...</td>\n",
       "      <td>Immer wieder hört man, dass Social Media die D...</td>\n",
       "      <td>de</td>\n",
       "      <td>schlagen</td>\n",
       "      <td>Myth of misinformation: Why social media is le...</td>\n",
       "      <td>We keep hearing that social media is a threat ...</td>\n",
       "      <td>5</td>\n",
       "    </tr>\n",
       "  </tbody>\n",
       "</table>\n",
       "<p>194 rows × 9 columns</p>\n",
       "</div>"
      ],
      "text/plain": [
       "                    dates                                             titles  \\\n",
       "0    2024-08-23T04:41:00Z  Piloti Air Canada hrozí stávkou, chtějí stejné...   \n",
       "1    2024-08-23T01:13:17Z  Trabajadores del Poder Judicial protestan en C...   \n",
       "2    2024-08-23T07:33:30Z  Le Seigneur des Anneaux : La Guerre du Rohirim...   \n",
       "3    2024-08-22T16:23:39Z  सुप्रीम कोर्ट की अपील के बाद काम पर लौटे डॉक्ट...   \n",
       "4    2024-08-23T03:08:21Z  न्याय की मांग को लेकर सीटू व जनवादी महिला समित...   \n",
       "..                    ...                                                ...   \n",
       "189  2024-08-23T10:30:01Z  HP Color Laser MFP 179fwg Multifunktions-Farbl...   \n",
       "190  2024-08-23T07:26:25Z  Bundesliga-Vorschau - Titelkandidaten im Meist...   \n",
       "191  2024-08-23T11:42:00Z  Der besondere Ausblick auf die Liga - Kane-Kom...   \n",
       "192  2024-08-22T03:30:00Z  KOMMENTAR - Unsere Psyche wird immer kränker. ...   \n",
       "193  2024-08-22T13:08:45Z  Mythos Fehlinformation: Warum soziale Medien w...   \n",
       "\n",
       "                                                 links  \\\n",
       "0    https://www.idnes.cz/ekonomika/doprava/air-can...   \n",
       "1    https://www.elfinanciero.com.mx/nacional/2024/...   \n",
       "2    https://www.journaldugeek.com/2024/08/23/le-se...   \n",
       "3    https://www.aajtak.in/india/news/story/doctors...   \n",
       "4    https://www.dainiktribuneonline.com/news/harya...   \n",
       "..                                                 ...   \n",
       "189  https://www.amazon.de/dp/B07RMJV1LT?tag=winfud...   \n",
       "190  https://www.focus.de/sport/fussball/bundesliga...   \n",
       "191  https://www.focus.de/sport/fussball/bundesliga...   \n",
       "192  https://www.nzz.ch/meinung/unsere-psyche-wird-...   \n",
       "193  https://www.spektrum.de/news/warum-soziale-med...   \n",
       "\n",
       "                                                 texts lang  \\\n",
       "0    Piloti letecké společnosti Air Canada vstupují...   cs   \n",
       "1    Trabajadores del Poder Judicial se manifestaro...   es   \n",
       "2    La Terre du Milieu sera à l’honneur en cette f...   fr   \n",
       "3    रेजिडेंट डॉक्टर्स एसोसिएशन एम्स (RDA AIIMS) दि...   hi   \n",
       "4    भिवानी, 22 अगस्त (हप्र) कामकाजी महिला समन्वय स...   hi   \n",
       "..                                                 ...  ...   \n",
       "189  Freitag ab 12:30 Uhr: HP Color Laser MFP 179fw...   de   \n",
       "190  E-Mail\\n\\nTeilen\\n\\nMehr\\n\\nTwitter\\n\\nDrucken...   de   \n",
       "191  Der besondere Ausblick auf die Liga: Kane-Koma...   de   \n",
       "192  Kommentar Unsere Psyche wird immer kränker. Do...   de   \n",
       "193  Immer wieder hört man, dass Social Media die D...   de   \n",
       "\n",
       "                         cat  \\\n",
       "0                     stávka   \n",
       "1      protesta de empleados   \n",
       "2                      grève   \n",
       "3                     हड़ताल   \n",
       "4    कर्मचारी विरोध प्रदर्शन   \n",
       "..                       ...   \n",
       "189                 schlagen   \n",
       "190                 schlagen   \n",
       "191                 schlagen   \n",
       "192                 schlagen   \n",
       "193                 schlagen   \n",
       "\n",
       "                                      translated_title  \\\n",
       "0    Air Canada pilots threaten to strike, want the...   \n",
       "1    Judicial Branch workers protest in the Chamber...   \n",
       "2    The Lord of the Rings: War of the Rohirim Gets...   \n",
       "3    Doctors returned to work after the Supreme Cou...   \n",
       "4    Demonstration by CITU and Janwadi Mahila Samit...   \n",
       "..                                                 ...   \n",
       "189  HP Color Laser MFP 179fwg Multifunction color ...   \n",
       "190  Bundesliga preview - Title candidates in the c...   \n",
       "191  The special outlook on the league - Kane coma ...   \n",
       "192  COMMENT - Our psyche is becoming increasingly ...   \n",
       "193  Myth of misinformation: Why social media is le...   \n",
       "\n",
       "                                       translated_text  class  \n",
       "0    Air Canada pilots go on strike alert. They are...     87  \n",
       "1    Workers of the Judicial Branch demonstrated ou...    144  \n",
       "2    Middle-earth will be in the spotlight at the e...    168  \n",
       "3    Resident Doctors Association AIIMS (RDA AIIMS)...    150  \n",
       "4    Bhiwani, August 22 (HP) On the call of the Wor...    129  \n",
       "..                                                 ...    ...  \n",
       "189  Friday from 12:30 p.m.: HP Color Laser MFP 179...     17  \n",
       "190  E-mail\\n\\nShare\\n\\nMore\\n\\nTwitter\\n\\nPrint\\n\\...      0  \n",
       "191  The special outlook on the league: Kane coma a...     18  \n",
       "192  Comment Our psyche is becoming increasingly il...     12  \n",
       "193  We keep hearing that social media is a threat ...      5  \n",
       "\n",
       "[194 rows x 9 columns]"
      ]
     },
     "execution_count": 30,
     "metadata": {},
     "output_type": "execute_result"
    }
   ],
   "source": [
    "trans_df"
   ]
  },
  {
   "cell_type": "markdown",
   "id": "a9ed6daa-6f13-4c92-b239-f75ed807ac01",
   "metadata": {},
   "source": [
    "# RAG"
   ]
  },
  {
   "cell_type": "code",
   "execution_count": 31,
   "id": "57c5c968-b3bf-4073-bec2-727d72d42f2c",
   "metadata": {
    "tags": []
   },
   "outputs": [],
   "source": [
    "trans_df = trans_df.rename(columns= {'links': 'url', 'dates': 'date'})\n",
    "rag_data = trans_df[['date', 'cat', 'lang', 'url','translated_title', 'translated_text', 'class']]\n",
    "# rag_data = dataframe[['date', 'cat', 'lang', 'title', 'text', 'url','translated_title', 'translated_text', 'class', 'description']]\n",
    "\n",
    "rag_data = rag_data.fillna('')"
   ]
  },
  {
   "cell_type": "code",
   "execution_count": 32,
   "id": "188f1d47-50a8-46a6-babd-110e4a047553",
   "metadata": {
    "scrolled": true,
    "tags": []
   },
   "outputs": [
    {
     "data": {
      "text/html": [
       "<div>\n",
       "<style scoped>\n",
       "    .dataframe tbody tr th:only-of-type {\n",
       "        vertical-align: middle;\n",
       "    }\n",
       "\n",
       "    .dataframe tbody tr th {\n",
       "        vertical-align: top;\n",
       "    }\n",
       "\n",
       "    .dataframe thead th {\n",
       "        text-align: right;\n",
       "    }\n",
       "</style>\n",
       "<table border=\"1\" class=\"dataframe\">\n",
       "  <thead>\n",
       "    <tr style=\"text-align: right;\">\n",
       "      <th></th>\n",
       "      <th>date</th>\n",
       "      <th>cat</th>\n",
       "      <th>lang</th>\n",
       "      <th>url</th>\n",
       "      <th>translated_title</th>\n",
       "      <th>translated_text</th>\n",
       "      <th>class</th>\n",
       "    </tr>\n",
       "  </thead>\n",
       "  <tbody>\n",
       "    <tr>\n",
       "      <th>0</th>\n",
       "      <td>2024-08-23T04:41:00Z</td>\n",
       "      <td>stávka</td>\n",
       "      <td>cs</td>\n",
       "      <td>https://www.idnes.cz/ekonomika/doprava/air-can...</td>\n",
       "      <td>Air Canada pilots threaten to strike, want the...</td>\n",
       "      <td>Air Canada pilots go on strike alert. They are...</td>\n",
       "      <td>87</td>\n",
       "    </tr>\n",
       "    <tr>\n",
       "      <th>1</th>\n",
       "      <td>2024-08-23T01:13:17Z</td>\n",
       "      <td>protesta de empleados</td>\n",
       "      <td>es</td>\n",
       "      <td>https://www.elfinanciero.com.mx/nacional/2024/...</td>\n",
       "      <td>Judicial Branch workers protest in the Chamber...</td>\n",
       "      <td>Workers of the Judicial Branch demonstrated ou...</td>\n",
       "      <td>144</td>\n",
       "    </tr>\n",
       "    <tr>\n",
       "      <th>2</th>\n",
       "      <td>2024-08-23T07:33:30Z</td>\n",
       "      <td>grève</td>\n",
       "      <td>fr</td>\n",
       "      <td>https://www.journaldugeek.com/2024/08/23/le-se...</td>\n",
       "      <td>The Lord of the Rings: War of the Rohirim Gets...</td>\n",
       "      <td>Middle-earth will be in the spotlight at the e...</td>\n",
       "      <td>168</td>\n",
       "    </tr>\n",
       "    <tr>\n",
       "      <th>3</th>\n",
       "      <td>2024-08-22T16:23:39Z</td>\n",
       "      <td>हड़ताल</td>\n",
       "      <td>hi</td>\n",
       "      <td>https://www.aajtak.in/india/news/story/doctors...</td>\n",
       "      <td>Doctors returned to work after the Supreme Cou...</td>\n",
       "      <td>Resident Doctors Association AIIMS (RDA AIIMS)...</td>\n",
       "      <td>150</td>\n",
       "    </tr>\n",
       "    <tr>\n",
       "      <th>4</th>\n",
       "      <td>2024-08-23T03:08:21Z</td>\n",
       "      <td>कर्मचारी विरोध प्रदर्शन</td>\n",
       "      <td>hi</td>\n",
       "      <td>https://www.dainiktribuneonline.com/news/harya...</td>\n",
       "      <td>Demonstration by CITU and Janwadi Mahila Samit...</td>\n",
       "      <td>Bhiwani, August 22 (HP) On the call of the Wor...</td>\n",
       "      <td>129</td>\n",
       "    </tr>\n",
       "    <tr>\n",
       "      <th>...</th>\n",
       "      <td>...</td>\n",
       "      <td>...</td>\n",
       "      <td>...</td>\n",
       "      <td>...</td>\n",
       "      <td>...</td>\n",
       "      <td>...</td>\n",
       "      <td>...</td>\n",
       "    </tr>\n",
       "    <tr>\n",
       "      <th>189</th>\n",
       "      <td>2024-08-23T10:30:01Z</td>\n",
       "      <td>schlagen</td>\n",
       "      <td>de</td>\n",
       "      <td>https://www.amazon.de/dp/B07RMJV1LT?tag=winfud...</td>\n",
       "      <td>HP Color Laser MFP 179fwg Multifunction color ...</td>\n",
       "      <td>Friday from 12:30 p.m.: HP Color Laser MFP 179...</td>\n",
       "      <td>17</td>\n",
       "    </tr>\n",
       "    <tr>\n",
       "      <th>190</th>\n",
       "      <td>2024-08-23T07:26:25Z</td>\n",
       "      <td>schlagen</td>\n",
       "      <td>de</td>\n",
       "      <td>https://www.focus.de/sport/fussball/bundesliga...</td>\n",
       "      <td>Bundesliga preview - Title candidates in the c...</td>\n",
       "      <td>E-mail\\n\\nShare\\n\\nMore\\n\\nTwitter\\n\\nPrint\\n\\...</td>\n",
       "      <td>0</td>\n",
       "    </tr>\n",
       "    <tr>\n",
       "      <th>191</th>\n",
       "      <td>2024-08-23T11:42:00Z</td>\n",
       "      <td>schlagen</td>\n",
       "      <td>de</td>\n",
       "      <td>https://www.focus.de/sport/fussball/bundesliga...</td>\n",
       "      <td>The special outlook on the league - Kane coma ...</td>\n",
       "      <td>The special outlook on the league: Kane coma a...</td>\n",
       "      <td>18</td>\n",
       "    </tr>\n",
       "    <tr>\n",
       "      <th>192</th>\n",
       "      <td>2024-08-22T03:30:00Z</td>\n",
       "      <td>schlagen</td>\n",
       "      <td>de</td>\n",
       "      <td>https://www.nzz.ch/meinung/unsere-psyche-wird-...</td>\n",
       "      <td>COMMENT - Our psyche is becoming increasingly ...</td>\n",
       "      <td>Comment Our psyche is becoming increasingly il...</td>\n",
       "      <td>12</td>\n",
       "    </tr>\n",
       "    <tr>\n",
       "      <th>193</th>\n",
       "      <td>2024-08-22T13:08:45Z</td>\n",
       "      <td>schlagen</td>\n",
       "      <td>de</td>\n",
       "      <td>https://www.spektrum.de/news/warum-soziale-med...</td>\n",
       "      <td>Myth of misinformation: Why social media is le...</td>\n",
       "      <td>We keep hearing that social media is a threat ...</td>\n",
       "      <td>5</td>\n",
       "    </tr>\n",
       "  </tbody>\n",
       "</table>\n",
       "<p>194 rows × 7 columns</p>\n",
       "</div>"
      ],
      "text/plain": [
       "                     date                      cat lang  \\\n",
       "0    2024-08-23T04:41:00Z                   stávka   cs   \n",
       "1    2024-08-23T01:13:17Z    protesta de empleados   es   \n",
       "2    2024-08-23T07:33:30Z                    grève   fr   \n",
       "3    2024-08-22T16:23:39Z                   हड़ताल   hi   \n",
       "4    2024-08-23T03:08:21Z  कर्मचारी विरोध प्रदर्शन   hi   \n",
       "..                    ...                      ...  ...   \n",
       "189  2024-08-23T10:30:01Z                 schlagen   de   \n",
       "190  2024-08-23T07:26:25Z                 schlagen   de   \n",
       "191  2024-08-23T11:42:00Z                 schlagen   de   \n",
       "192  2024-08-22T03:30:00Z                 schlagen   de   \n",
       "193  2024-08-22T13:08:45Z                 schlagen   de   \n",
       "\n",
       "                                                   url  \\\n",
       "0    https://www.idnes.cz/ekonomika/doprava/air-can...   \n",
       "1    https://www.elfinanciero.com.mx/nacional/2024/...   \n",
       "2    https://www.journaldugeek.com/2024/08/23/le-se...   \n",
       "3    https://www.aajtak.in/india/news/story/doctors...   \n",
       "4    https://www.dainiktribuneonline.com/news/harya...   \n",
       "..                                                 ...   \n",
       "189  https://www.amazon.de/dp/B07RMJV1LT?tag=winfud...   \n",
       "190  https://www.focus.de/sport/fussball/bundesliga...   \n",
       "191  https://www.focus.de/sport/fussball/bundesliga...   \n",
       "192  https://www.nzz.ch/meinung/unsere-psyche-wird-...   \n",
       "193  https://www.spektrum.de/news/warum-soziale-med...   \n",
       "\n",
       "                                      translated_title  \\\n",
       "0    Air Canada pilots threaten to strike, want the...   \n",
       "1    Judicial Branch workers protest in the Chamber...   \n",
       "2    The Lord of the Rings: War of the Rohirim Gets...   \n",
       "3    Doctors returned to work after the Supreme Cou...   \n",
       "4    Demonstration by CITU and Janwadi Mahila Samit...   \n",
       "..                                                 ...   \n",
       "189  HP Color Laser MFP 179fwg Multifunction color ...   \n",
       "190  Bundesliga preview - Title candidates in the c...   \n",
       "191  The special outlook on the league - Kane coma ...   \n",
       "192  COMMENT - Our psyche is becoming increasingly ...   \n",
       "193  Myth of misinformation: Why social media is le...   \n",
       "\n",
       "                                       translated_text  class  \n",
       "0    Air Canada pilots go on strike alert. They are...     87  \n",
       "1    Workers of the Judicial Branch demonstrated ou...    144  \n",
       "2    Middle-earth will be in the spotlight at the e...    168  \n",
       "3    Resident Doctors Association AIIMS (RDA AIIMS)...    150  \n",
       "4    Bhiwani, August 22 (HP) On the call of the Wor...    129  \n",
       "..                                                 ...    ...  \n",
       "189  Friday from 12:30 p.m.: HP Color Laser MFP 179...     17  \n",
       "190  E-mail\\n\\nShare\\n\\nMore\\n\\nTwitter\\n\\nPrint\\n\\...      0  \n",
       "191  The special outlook on the league: Kane coma a...     18  \n",
       "192  Comment Our psyche is becoming increasingly il...     12  \n",
       "193  We keep hearing that social media is a threat ...      5  \n",
       "\n",
       "[194 rows x 7 columns]"
      ]
     },
     "execution_count": 32,
     "metadata": {},
     "output_type": "execute_result"
    }
   ],
   "source": [
    "rag_data"
   ]
  },
  {
   "cell_type": "markdown",
   "id": "ba793618-43e2-41fb-b487-3c4c2678ef33",
   "metadata": {},
   "source": [
    "### Get suppliers data \n"
   ]
  },
  {
   "cell_type": "code",
   "execution_count": 33,
   "id": "88e98e8f-8170-4411-91e9-f77017404df4",
   "metadata": {
    "tags": []
   },
   "outputs": [
    {
     "name": "stdout",
     "output_type": "stream",
     "text": [
      "(59581, 4)\n",
      "(59580, 4)\n"
     ]
    }
   ],
   "source": [
    "# load suppliers\n",
    "supplier1 = pd.read_csv('/home/jupyter/news/data/suppliers/20231004_Fichier_Extraction_avec_usines_clientes.csv')\n",
    "supplier1.drop(columns=[\"Unnamed: 0\"], inplace=True)\n",
    "supplier1['tier'] ='1'\n",
    "# supplier1\n",
    "\n",
    "supplier2 = pd.read_csv('/home/jupyter/news/data/suppliers/tiern_N.csv')\n",
    "supplier2.drop(columns=[\"Unnamed: 0\"], inplace=True)\n",
    "supplier2['tier'] ='N'\n",
    "# supplier2\n",
    "suppliers = pd.concat([supplier1[['country', 'city', 'suggested_name', 'tier']], supplier2[['country', 'city', 'suggested_name', 'tier']]])\n",
    "print(suppliers.shape)\n",
    "suppliers.dropna(inplace=True)\n",
    "print(suppliers.shape)"
   ]
  },
  {
   "cell_type": "markdown",
   "id": "ff777dd6-e3ba-4084-8fdc-cc7ff878821f",
   "metadata": {},
   "source": [
    "### Running RAG"
   ]
  },
  {
   "cell_type": "code",
   "execution_count": 34,
   "id": "44f9236b-f392-412a-b6a1-f731d709a7cc",
   "metadata": {
    "scrolled": true,
    "tags": []
   },
   "outputs": [
    {
     "name": "stdout",
     "output_type": "stream",
     "text": [
      "label : 0\n",
      " document creation : 0\n",
      "first retrieval\n",
      "company is None or belongs to self.liste\n",
      "label : 1\n",
      " document creation : 1\n",
      "first retrieval\n",
      "company is None or belongs to self.liste\n",
      "label : 2\n",
      " document creation : 2\n",
      "first retrieval\n",
      "second retrieval\n",
      "3rd retrieval\n",
      "results :\n",
      "{'strike': {'labor_strike': 'no', 'justification': 'The text explicitly states that the shutdown is a lockout, where management prevents workers from working, rather than a strike where workers refuse to work.'}, 'impacted_company': 'Canadian National (CN)', 'locations': [{'city': 'Various', 'country': 'Canada'}], 'impacted_business_sectors': ['Transportation', 'Agriculture'], 'automotive_industry': {'concerned': 'yes', 'justification': \"The article states that some U.S. auto plants could temporarily shut down if they can't manufacture engines, transmissions, or stampings in Canadian plants due to the disruption of supply chains caused by the rail shutdown. This indicates that the car-making industry is directly affected by the strike.\"}, 'temporality': {'strike_status': 'ongoing', 'justification': 'The provided text states that both Canadian National (CN) and Canadian Pacific Kansas City Southern (CPKC) have shut down operations, putting 9,000 Teamsters union members out of work. This indicates an ongoing strike or lockout situation.'}, 'sources': ['https://orf.at/stories/3367239/', 'https://cnnespanol.cnn.com/2024/08/22/ferrocarriles-carga-canadienses-cierran-golpe-economia-america-del-norte-trax/']}\n",
      "----------------------------------------------------------------------------------------------------\n",
      "label : 3\n",
      " document creation : 3\n",
      "first retrieval\n",
      "company is None or belongs to self.liste\n",
      "label : 4\n",
      " document creation : 4\n",
      "first retrieval\n",
      "company is None or belongs to self.liste\n",
      "label : 5\n",
      " document creation : 5\n",
      "first retrieval\n",
      "company is None or belongs to self.liste\n",
      "label : 6\n",
      " document creation : 6\n",
      "first retrieval\n",
      "company is None or belongs to self.liste\n",
      "label : 7\n",
      " document creation : 7\n",
      "first retrieval\n",
      "company is None or belongs to self.liste\n",
      "label : 8\n",
      " document creation : 8\n",
      "first retrieval\n",
      "second retrieval\n",
      "3rd retrieval\n",
      "results :\n",
      "{'strike': {'labor_strike': 'no', 'justification': 'The provided text describes a strike in Hollywood that impacted the film industry, not a labor strike within Kinepolis itself.'}, 'impacted_company': 'Kinepolis', 'locations': [{'city': 'Hollywood', 'country': 'United States'}], 'impacted_business_sectors': ['Entertainment', 'Media'], 'automotive_industry': {'concerned': 'no', 'justification': \"Kinepolis is a cinema chain, and its services are not directly related to the car making industry. The Hollywood strike affects Kinepolis's attendance due to the lack of new movie releases, but it does not impact the production or supply chain of car manufacturers.\"}, 'temporality': {'strike_status': 'ended', 'justification': 'The provided text states that the Hollywood strike \"last year\" prevented a return to the rich film offering. This implies the strike is over, and the current situation is being compared to the impact of the past strike.'}, 'sources': ['https://www.globenewswire.com/news-release/2024/08/22/2933943/0/nl/Hollywood-staking-weegt-op-bezoekersaantallen-Kinepolis-in-eerste-semester-2024-maar-line-up-voor-de-rest-van-het-jaar-is-veelbelovend.html', 'https://www.globenewswire.com/news-release/2024/08/22/2933943/0/fr/La-gr%C3%A8ve-%C3%A0-Hollywood-joue-sur-la-fr%C3%A9quentation-de-Kinepolis-au-premier-semestre-2024-mais-l-offre-de-films-pour-le-reste-de-l-ann%C3%A9e-est-prometteuse.html']}\n",
      "----------------------------------------------------------------------------------------------------\n",
      "label : 9\n",
      " document creation : 9\n",
      "first retrieval\n",
      "company is None or belongs to self.liste\n",
      "label : 10\n",
      " document creation : 10\n",
      "first retrieval\n",
      "company is None or belongs to self.liste\n",
      "label : 11\n",
      " document creation : 11\n",
      "first retrieval\n",
      "company is None or belongs to self.liste\n",
      "label : 12\n",
      " document creation : 12\n",
      "first retrieval\n",
      "company is None or belongs to self.liste\n",
      "label : 13\n",
      " document creation : 13\n",
      "first retrieval\n",
      "company is None or belongs to self.liste\n",
      "label : 14\n",
      " document creation : 14\n",
      "first retrieval\n",
      "company is None or belongs to self.liste\n",
      "label : 15\n",
      " document creation : 15\n",
      "first retrieval\n",
      "company is None or belongs to self.liste\n",
      "label : 16\n",
      " document creation : 16\n",
      "first retrieval\n",
      "company is None or belongs to self.liste\n",
      "label : 17\n",
      " document creation : 17\n",
      "first retrieval\n",
      "company is None or belongs to self.liste\n",
      "label : 18\n",
      " document creation : 18\n",
      "first retrieval\n",
      "company is None or belongs to self.liste\n",
      "label : 19\n",
      " document creation : 19\n",
      "first retrieval\n",
      "company is None or belongs to self.liste\n",
      "label : 20\n",
      " document creation : 20\n",
      "first retrieval\n",
      "company is None or belongs to self.liste\n",
      "label : 21\n",
      " document creation : 21\n",
      "first retrieval\n",
      "response1 is empty\n",
      "label : 22\n",
      " document creation : 22\n",
      "first retrieval\n",
      "company is None or belongs to self.liste\n",
      "label : 23\n",
      " document creation : 23\n",
      "first retrieval\n",
      "company is None or belongs to self.liste\n",
      "label : 24\n",
      " document creation : 24\n",
      "first retrieval\n",
      "no second retrieval\n",
      "results :\n",
      "{'strike': {'labor_strike': 'yes', 'justification': \"The text explicitly states that the Workers' Commissions (CCOO) of Catalonia called a strike at the Port Olímpic after negotiations with Barcelona Servicios Municipales (B:SM) failed. This indicates a labor dispute and a strike by workers against their employer.\"}, 'impacted_company': 'Barcelona Servicios Municipales (B:SM)', 'locations': [{'city': 'Barcelona', 'country': 'Spain'}], 'impacted_business_sectors': ['Tourism', 'Public Services'], 'automotive_industry': {'concerned': 'no', 'justification': 'Barcelona Servicios Municipales (B:SM) primarily focuses on tourism and public services. These sectors are not directly involved in the car making industry. Therefore, a strike by B:SM workers would not have a direct impact on car manufacturing.'}, 'temporality': {'strike_status': 'ongoing', 'justification': \"The article states that the strike at Barcelona Servicios Municipales (B:SM) is ongoing as the mediation act ended without agreement. The strike was called by the Workers' Commissions (CCOO) of Catalonia, coinciding with the America's Cup.\"}, 'sources': ['https://www.publico.es/sociedad/cara-copa-america-problemas-acceso-saturacion-frente-maritimo-encarecimiento-vivienda.html']}\n",
      "----------------------------------------------------------------------------------------------------\n",
      "label : 25\n",
      " document creation : 25\n",
      "first retrieval\n",
      "company is None or belongs to self.liste\n",
      "label : 26\n",
      " document creation : 26\n",
      "first retrieval\n",
      "company is None or belongs to self.liste\n",
      "label : 27\n",
      " document creation : 27\n",
      "first retrieval\n",
      "company is None or belongs to self.liste\n",
      "label : 28\n",
      " document creation : 28\n",
      "first retrieval\n",
      "company is None or belongs to self.liste\n",
      "label : 29\n",
      " document creation : 29\n",
      "first retrieval\n",
      "company is None or belongs to self.liste\n",
      "label : 30\n",
      " document creation : 30\n",
      "first retrieval\n",
      "company is None or belongs to self.liste\n",
      "label : 31\n",
      " document creation : 31\n",
      "first retrieval\n",
      "company is None or belongs to self.liste\n",
      "label : 32\n",
      " document creation : 32\n",
      "first retrieval\n",
      "company is None or belongs to self.liste\n",
      "label : 33\n",
      " document creation : 33\n",
      "first retrieval\n",
      "response1 is empty\n",
      "label : 34\n",
      " document creation : 34\n",
      "first retrieval\n",
      "response1 is empty\n",
      "label : 35\n",
      " document creation : 35\n",
      "first retrieval\n",
      "company is None or belongs to self.liste\n",
      "label : 36\n",
      " document creation : 36\n",
      "first retrieval\n",
      "no second retrieval\n",
      "results :\n",
      "{'strike': {'labor_strike': 'yes', 'justification': 'The text explicitly states that the Teamsters union, representing the workers, declared a strike at CPKC.'}, 'impacted_company': 'Canadian Pacific Kansas City (CPKC)', 'locations': [{'city': 'Canada', 'country': 'Canada'}], 'impacted_business_sectors': ['Transportation', 'Logistics'], 'automotive_industry': {'concerned': 'yes', 'justification': 'CPKC is a major freight transportation company, and the car making industry relies heavily on the transportation of parts and finished vehicles. A strike by CPKC would disrupt the supply chain, leading to delays in production and potential shortages of materials for car manufacturers.'}, 'temporality': {'strike_status': 'ongoing', 'justification': 'The article states that the Teamsters union declared a strike at CPKC on the same day the companies declared a lockout.  The article also mentions that negotiations are ongoing under mediation. Therefore, the strike is ongoing.'}, 'sources': ['https://www.lavozdegalicia.es/noticia/economia/2024/08/22/trudeau-amenaza-intervencion-publica-restaura-transporte-mercancias-canada/00031724353752020765739.htm']}\n",
      "----------------------------------------------------------------------------------------------------\n",
      "label : 37\n",
      " document creation : 37\n",
      "first retrieval\n",
      "company is None or belongs to self.liste\n",
      "label : 38\n",
      " document creation : 38\n",
      "first retrieval\n",
      "company is None or belongs to self.liste\n",
      "label : 39\n",
      " document creation : 39\n",
      "first retrieval\n",
      "company is None or belongs to self.liste\n",
      "label : 40\n",
      " document creation : 40\n",
      "first retrieval\n",
      "company is None or belongs to self.liste\n",
      "label : 41\n",
      " document creation : 41\n",
      "first retrieval\n",
      "company is None or belongs to self.liste\n",
      "label : 42\n",
      " document creation : 42\n",
      "first retrieval\n",
      "company is None or belongs to self.liste\n",
      "label : 43\n",
      " document creation : 43\n",
      "first retrieval\n",
      "company is None or belongs to self.liste\n",
      "label : 44\n",
      " document creation : 44\n",
      "first retrieval\n",
      "company is None or belongs to self.liste\n",
      "label : 45\n",
      " document creation : 45\n",
      "first retrieval\n",
      "company is None or belongs to self.liste\n",
      "label : 46\n",
      " document creation : 46\n",
      "first retrieval\n",
      "response1 is empty\n",
      "label : 47\n",
      " document creation : 47\n",
      "first retrieval\n",
      "company is None or belongs to self.liste\n",
      "label : 48\n",
      " document creation : 48\n",
      "first retrieval\n",
      "company is None or belongs to self.liste\n",
      "label : 49\n",
      " document creation : 49\n",
      "first retrieval\n",
      "company is None or belongs to self.liste\n",
      "label : 50\n",
      " document creation : 50\n",
      "first retrieval\n",
      "company is None or belongs to self.liste\n",
      "label : 51\n",
      " document creation : 51\n",
      "first retrieval\n",
      "no second retrieval\n",
      "results :\n",
      "{'strike': {'labor_strike': 'yes', 'justification': 'The text explicitly states that unions No. 1 and No. 2 of the Santiago Real Estate Registrar (CBRS) are on strike due to failed negotiations and ongoing labor conflicts. This indicates a labor strike.'}, 'impacted_company': 'Santiago Real Estate Registrar (CBRS)', 'locations': [{'city': 'Santiago', 'country': 'Chile'}], 'impacted_business_sectors': ['Real Estate', 'Financial Services'], 'automotive_industry': {'concerned': 'no', 'justification': 'The Santiago Real Estate Registrar (CBRS) primarily deals with real estate and financial services. These sectors are not directly involved in the car making industry. Therefore, a strike at the CBRS would not directly affect car manufacturers.'}, 'temporality': {'strike_status': 'unknown', 'justification': ''}, 'sources': ['https://www.df.cl/empresas/industria/trabajadores-del-conservador-de-bienes-raices-de-santiago-siguen-en']}\n",
      "----------------------------------------------------------------------------------------------------\n",
      "label : 52\n",
      " document creation : 52\n",
      "first retrieval\n",
      "company is None or belongs to self.liste\n",
      "label : 53\n",
      " document creation : 53\n",
      "first retrieval\n",
      "company is None or belongs to self.liste\n",
      "label : 54\n",
      " document creation : 54\n",
      "first retrieval\n",
      "response1 is empty\n",
      "label : 55\n",
      " document creation : 55\n",
      "first retrieval\n",
      "no second retrieval\n",
      "results :\n",
      "{'strike': {'labor_strike': 'yes', 'justification': 'The context mentions a passenger at Frankfurt station during a day of railway strikes in 2023, indicating a labor strike.'}, 'impacted_company': 'Deutsche Bahn', 'locations': [{'city': 'Frankfurt', 'country': 'Germany'}], 'impacted_business_sectors': ['Transportation', 'Tourism'], 'automotive_industry': {'concerned': 'no', 'justification': 'Deutsche Bahn is a transportation and tourism company. Its services are not directly used in the car making industry. Therefore, a strike at Deutsche Bahn would not directly affect car manufacturers.'}, 'temporality': {'strike_status': 'unknown', 'justification': \"The provided context discusses the general state of Deutsche Bahn's infrastructure and service disruptions, but it doesn't mention any specific strike happening on 2024-08-23. The date provided ('2024-08-23T10:13:22Z') might be related to a past strike, but without further information, it's impossible to determine the current status of a strike.\"}, 'sources': ['https://www.elperiodico.com/es/economia/20240823/moverse-tren-hazmellorar-aleman-107282571']}\n",
      "----------------------------------------------------------------------------------------------------\n",
      "label : 56\n",
      " document creation : 56\n",
      "first retrieval\n",
      "company is None or belongs to self.liste\n",
      "label : 57\n",
      " document creation : 57\n",
      "first retrieval\n",
      "company is None or belongs to self.liste\n",
      "label : 58\n",
      " document creation : 58\n",
      "first retrieval\n",
      "response1 is empty\n",
      "label : 59\n",
      " document creation : 59\n",
      "first retrieval\n",
      "company is None or belongs to self.liste\n",
      "label : 60\n",
      " document creation : 60\n",
      "first retrieval\n",
      "company is None or belongs to self.liste\n",
      "label : 61\n",
      " document creation : 61\n",
      "first retrieval\n",
      "no second retrieval\n",
      "results :\n",
      "{'strike': {'labor_strike': 'yes', 'justification': 'The provided context explicitly states that the strike at Tesla in Sweden was initiated by IF Metall, a labor union, and involved other unions in sympathy measures. This indicates a labor strike driven by union demands for a collective agreement.'}, 'impacted_company': 'Tesla', 'locations': [{'city': 'Norrköping', 'country': 'Sweden'}], 'impacted_business_sectors': ['Automotive Manufacturing', 'Technology'], 'automotive_industry': {'concerned': 'yes', 'justification': \"Tesla is a major player in the automotive manufacturing industry. A strike at Tesla, especially one that disrupts production, would likely have a ripple effect on the broader car-making industry. This is because:\\n\\n* **Supply Chain Disruptions:** Tesla's strike could disrupt the supply of components or materials used by other car manufacturers, especially those relying on similar parts or technologies.\\n* **Competition:**  A strike at Tesla could give competitors an advantage in the market, potentially leading to increased market share and pressure on other car manufacturers.\\n* **Industry Sentiment:** A prolonged strike at Tesla could create negative sentiment within the automotive industry, impacting investor confidence and potentially discouraging investment in the sector.\"}, 'temporality': {'strike_status': 'ongoing', 'justification': \"The provided context states that the strike at Tesla in Sweden began in October of the previous year and is still ongoing, with both sides remaining in locked positions. While the provided date of '2024-08-23T03:45:36Z' might indicate a specific event, it doesn't provide information about the strike's current status. Therefore, based on the context, the strike is ongoing.\"}, 'sources': ['https://www.svd.se/a/rP8pL8/trendbrott-fler-strejkar-pa-tesla']}\n",
      "----------------------------------------------------------------------------------------------------\n",
      "label : 62\n",
      " document creation : 62\n",
      "first retrieval\n",
      "company is None or belongs to self.liste\n",
      "label : 63\n",
      " document creation : 63\n",
      "first retrieval\n",
      "no second retrieval\n",
      "results :\n",
      "{'strike': {'labor_strike': 'yes', 'justification': 'The text explicitly states that unions No. 1 and No. 2 of the Santiago Real Estate Registrar are on strike due to a lack of agreement in negotiations and a breach of the collective agreement. This indicates a labor dispute.'}, 'impacted_company': 'CBRS', 'locations': [{'city': 'Santiago', 'country': 'Chile'}], 'impacted_business_sectors': ['Real Estate', 'Legal Services'], 'automotive_industry': {'concerned': 'no', 'justification': 'The CBRS strike involves the Santiago Real Estate Registrar, which is not directly related to the car making industry. Real estate and legal services are not typically involved in the production or supply chain of automobiles.'}, 'temporality': {'strike_status': 'ongoing', 'justification': 'The provided text states that the strike at CBRS is ongoing for the second day, indicating that it has not ended.'}, 'sources': ['https://www.df.cl/doble-click/lo-que-debes-saber-a-esta-hora-de-la-tarde-cavtl']}\n",
      "----------------------------------------------------------------------------------------------------\n",
      "label : 64\n",
      " document creation : 64\n",
      "first retrieval\n",
      "no second retrieval\n",
      "results :\n",
      "{'strike': {'labor_strike': 'no', 'justification': \"The provided text discusses the shipyard's financial difficulties and the government's intervention, not a labor dispute or worker demands.\"}, 'impacted_company': 'Meyer shipyard', 'locations': [{'city': 'Papenburg', 'country': 'Germany'}], 'impacted_business_sectors': ['Shipbuilding', 'Manufacturing'], 'automotive_industry': {'concerned': 'no', 'justification': 'Meyer shipyard is involved in shipbuilding and manufacturing, which are not directly related to the car making industry. Shipyards typically build ships, not components used in car manufacturing.'}, 'temporality': {'strike_status': 'unknown', 'justification': \"The provided news articles do not mention any strike at the Meyer shipyard. The articles focus on the shipyard's financial difficulties and the government's intervention. Therefore, the strike status is unknown.\"}, 'sources': ['https://www.sueddeutsche.de/kolumne/news-nachrichten-gruene-cdu-ausbildungsstellen-meyer-werft-union-lux.7Scac5DggP541YzQGUJ8Xq']}\n",
      "----------------------------------------------------------------------------------------------------\n",
      "label : 65\n",
      " document creation : 65\n",
      "first retrieval\n",
      "company is None or belongs to self.liste\n",
      "label : 66\n",
      " document creation : 66\n",
      "first retrieval\n",
      "company is None or belongs to self.liste\n",
      "label : 67\n",
      " document creation : 67\n",
      "first retrieval\n",
      "company is None or belongs to self.liste\n",
      "label : 68\n",
      " document creation : 68\n",
      "first retrieval\n",
      "company is None or belongs to self.liste\n",
      "label : 69\n",
      " document creation : 69\n",
      "first retrieval\n",
      "company is None or belongs to self.liste\n",
      "label : 70\n",
      " document creation : 70\n",
      "first retrieval\n",
      "company is None or belongs to self.liste\n",
      "label : 71\n",
      " document creation : 71\n",
      "first retrieval\n",
      "company is None or belongs to self.liste\n",
      "label : 72\n",
      " document creation : 72\n",
      "first retrieval\n",
      "company is None or belongs to self.liste\n",
      "label : 73\n",
      " document creation : 73\n",
      "first retrieval\n",
      "company is None or belongs to self.liste\n",
      "label : 74\n",
      " document creation : 74\n",
      "first retrieval\n",
      "company is None or belongs to self.liste\n",
      "label : 75\n",
      " document creation : 75\n",
      "first retrieval\n",
      "company is None or belongs to self.liste\n",
      "label : 76\n",
      " document creation : 76\n",
      "first retrieval\n",
      "company is None or belongs to self.liste\n",
      "label : 77\n",
      " document creation : 77\n",
      "first retrieval\n",
      "company is None or belongs to self.liste\n",
      "label : 78\n",
      " document creation : 78\n",
      "first retrieval\n",
      "company is None or belongs to self.liste\n",
      "label : 79\n",
      " document creation : 79\n",
      "first retrieval\n",
      "company is None or belongs to self.liste\n",
      "label : 80\n",
      " document creation : 80\n",
      "first retrieval\n",
      "company is None or belongs to self.liste\n",
      "label : 81\n",
      " document creation : 81\n",
      "first retrieval\n",
      "company is None or belongs to self.liste\n",
      "label : 82\n",
      " document creation : 82\n",
      "first retrieval\n",
      "no second retrieval\n",
      "results :\n",
      "{'strike': {'labor_strike': 'yes', 'justification': 'The text states that the union threatened to strike over working conditions, indicating a labor strike.'}, 'impacted_company': 'Canadian National Railway', 'locations': [{'city': 'None', 'country': 'Canada'}], 'impacted_business_sectors': ['Transportation', 'Agriculture'], 'automotive_industry': {'concerned': 'yes', 'justification': 'Canadian National Railway transports cars, which are a key component of the car making industry. A strike would disrupt the supply chain and affect car manufacturing.'}, 'temporality': {'strike_status': 'ended', 'justification': 'The Canadian government ordered the rail companies to resume operations, ending the lockout. While negotiations are ongoing, the strike has been effectively ended for now.'}, 'sources': ['https://www.nieuwsblad.be/cnt/dmf20240823_96937952']}\n",
      "----------------------------------------------------------------------------------------------------\n",
      "label : 83\n",
      " document creation : 83\n",
      "first retrieval\n",
      "no second retrieval\n",
      "results :\n",
      "{'strike': {'labor_strike': 'yes', 'justification': 'The text explicitly states that the strike involved the Canadian National Railway Company (CN) and the Teamsters union, indicating a dispute over working conditions and a labor strike.'}, 'impacted_company': 'Canadian National Railway Company (CN)', 'locations': [{'city': 'Multiple Cities', 'country': 'Canada'}], 'impacted_business_sectors': ['Transportation', 'Agriculture'], 'automotive_industry': {'concerned': 'yes', 'justification': 'The article states that Canadian National Railway Company (CN) transports cars. A strike would disrupt the transportation of cars, impacting the car making industry.'}, 'temporality': {'strike_status': 'avoided', 'justification': 'The article states that the Canadian government intervened and ordered an immediate resumption of activities by both railway companies. This indicates that the strike was avoided through government intervention.'}, 'sources': ['https://www.latribune.fr/economie/international/canada-le-fret-paralyse-par-un-conflit-social-le-gouvernement-ordonne-la-reprise-du-trafic-1004650.html']}\n",
      "----------------------------------------------------------------------------------------------------\n",
      "label : 84\n",
      " document creation : 84\n",
      "first retrieval\n",
      "company is None or belongs to self.liste\n",
      "label : 85\n",
      " document creation : 85\n",
      "first retrieval\n",
      "company is None or belongs to self.liste\n",
      "label : 86\n",
      " document creation : 86\n",
      "first retrieval\n",
      "company is None or belongs to self.liste\n",
      "label : 87\n",
      " document creation : 87\n",
      "first retrieval\n",
      "no second retrieval\n",
      "results :\n",
      "{'strike': {'labor_strike': 'yes', 'justification': 'The provided context states that Air Canada pilots are demanding a new collective agreement to address a pay gap with their American colleagues. This indicates a dispute over wages and working conditions, which are common drivers of labor strikes.'}, 'impacted_company': 'Air Canada', 'locations': [{'city': 'Montreal', 'country': 'Canada'}], 'impacted_business_sectors': ['Transportation', 'Tourism'], 'automotive_industry': {'concerned': 'no', 'justification': \"Air Canada's primary sectors are transportation and tourism. These services are not directly involved in the car making industry. Therefore, a strike by Air Canada pilots would not directly affect car manufacturers.\"}, 'temporality': {'strike_status': 'unknown', 'justification': ''}, 'sources': ['https://www.idnes.cz/ekonomika/doprava/air-canada-aerolinky-piloti-mzdy-stavka-odbory-usa.A240823_063855_eko-doprava_jadv']}\n",
      "----------------------------------------------------------------------------------------------------\n",
      "label : 88\n",
      " document creation : 88\n",
      "first retrieval\n",
      "company is None or belongs to self.liste\n",
      "label : 89\n",
      " document creation : 89\n",
      "first retrieval\n",
      "company is None or belongs to self.liste\n",
      "label : 90\n",
      " document creation : 90\n",
      "first retrieval\n",
      "company is None or belongs to self.liste\n",
      "label : 91\n",
      " document creation : 91\n",
      "first retrieval\n",
      "response1 is empty\n",
      "label : 92\n",
      " document creation : 92\n",
      "first retrieval\n",
      "company is None or belongs to self.liste\n",
      "label : 93\n",
      " document creation : 93\n",
      "first retrieval\n",
      "company is None or belongs to self.liste\n",
      "label : 94\n",
      " document creation : 94\n",
      "first retrieval\n",
      "company is None or belongs to self.liste\n",
      "label : 95\n",
      " document creation : 95\n",
      "first retrieval\n",
      "company is None or belongs to self.liste\n",
      "label : 96\n",
      " document creation : 96\n",
      "first retrieval\n",
      "company is None or belongs to self.liste\n",
      "label : 97\n",
      " document creation : 97\n",
      "first retrieval\n",
      "company is None or belongs to self.liste\n",
      "label : 98\n",
      " document creation : 98\n",
      "first retrieval\n",
      "company is None or belongs to self.liste\n",
      "label : 99\n",
      " document creation : 99\n",
      "first retrieval\n",
      "company is None or belongs to self.liste\n",
      "label : 100\n",
      " document creation : 100\n",
      "first retrieval\n",
      "company is None or belongs to self.liste\n",
      "label : 101\n",
      " document creation : 101\n",
      "first retrieval\n",
      "company is None or belongs to self.liste\n",
      "label : 102\n",
      " document creation : 102\n",
      "first retrieval\n",
      "response1 is empty\n",
      "label : 103\n",
      " document creation : 103\n",
      "first retrieval\n",
      "company is None or belongs to self.liste\n",
      "label : 104\n",
      " document creation : 104\n",
      "first retrieval\n",
      "no second retrieval\n",
      "results :\n",
      "{'strike': {'labor_strike': 'yes', 'justification': 'The text states that players at Boavista went on strike because they were not paid on time. This is a classic example of a labor strike, where workers withhold their labor to protest unfair treatment or demand better conditions.'}, 'impacted_company': 'Boavista', 'locations': [{'city': 'Porto', 'country': 'Portugal'}], 'impacted_business_sectors': ['Sports', 'Finance'], 'automotive_industry': {'concerned': 'no', 'justification': 'Boavista is a sports club, specifically a football club. Sports clubs do not produce or use components related to the car making industry. Therefore, a strike at Boavista would not affect the car making industry.'}, 'temporality': {'strike_status': 'ended', 'justification': \"The article mentions a strike by Boavista players due to unpaid wages. However, the article was published before the strike date of '2024-08-22T06:22:42Z'. Therefore, it is safe to assume the strike has ended.\"}, 'sources': ['https://www.dhnet.be/sports/football/europe/championnatsetrangers/2024/08/22/boavista-sous-la-presidence-dun-certain-gerard-lopez-egalement-en-difficulte-financiere-Q3WCA3OILZBXDJEWLMJVIW33EI/']}\n",
      "----------------------------------------------------------------------------------------------------\n",
      "label : 105\n",
      " document creation : 105\n",
      "first retrieval\n",
      "no second retrieval\n",
      "results :\n",
      "{'strike': {'labor_strike': 'no', 'justification': 'The text describes a legal dispute between VfL Bochum and Manuel Riemann, a goalkeeper, regarding his contract and alleged misconduct. This is not a labor strike, which involves organized work stoppages by employees to demand better working conditions or wages.'}, 'impacted_company': 'VfL Bochum', 'locations': [{'city': 'Bochum', 'country': 'Germany'}], 'impacted_business_sectors': ['Sports', 'Entertainment'], 'automotive_industry': {'concerned': 'no', 'justification': 'VfL Bochum is a sports team, specifically a football (soccer) club.  Their activities are in the realm of sports and entertainment, not automotive manufacturing. Therefore, a strike involving VfL Bochum would not directly impact the car making industry.'}, 'temporality': {'strike_status': 'unknown', 'justification': \"The provided text describes a legal dispute between VfL Bochum and Manuel Riemann, a goalkeeper, regarding his exclusion from team training and potential contract termination. This is not a strike in the traditional sense of labor action. Therefore, the strike status is 'unknown' as the provided context does not relate to a strike.\"}, 'sources': ['https://www.bild.de/sport/fussball/spannende-details-kamen-heraus-der-riemann-bochum-streit-geht-weiter-66c86b787a5c4250f1a78e07']}\n",
      "----------------------------------------------------------------------------------------------------\n",
      "label : 106\n",
      " document creation : 106\n",
      "first retrieval\n",
      "no second retrieval\n",
      "results :\n",
      "{'strike': {'labor_strike': 'yes', 'justification': 'The text explicitly states that workers of the Cai Consortium are striking due to concerns about vehicle safety, excessive workloads, and a lack of hiring. These are all common labor issues that lead to strikes.'}, 'impacted_company': 'Sda', 'locations': [{'city': 'Quattordio', 'country': 'Italy'}], 'impacted_business_sectors': ['Logistics', 'Delivery Services'], 'automotive_industry': {'concerned': 'no', 'justification': \"The strike involves CAI couriers, who are subcontractors for Sda, a logistics and delivery services company. While car manufacturers rely on logistics for parts and finished vehicles, the strike specifically targets Sda's delivery services. It's unlikely that Sda's delivery services directly involve transporting car parts or finished vehicles, making the impact on the car manufacturing industry minimal.\"}, 'temporality': {'strike_status': 'ongoing', 'justification': 'The article states that the strike is ongoing and that the union representatives will meet with the Consortium on Monday.  The strike is ongoing as of today, 2024-08-23.'}, 'sources': ['https://www.ansa.it/piemonte/notizie/2024/08/23/lavoro-corrieri-cai-in-sciopero-a-quattordio_f1af0f11-50a9-4365-8d73-3a9d8022609d.html']}\n",
      "----------------------------------------------------------------------------------------------------\n",
      "label : 107\n",
      " document creation : 107\n",
      "first retrieval\n",
      "no second retrieval\n",
      "results :\n",
      "{'strike': {'labor_strike': 'yes', 'justification': 'The text explicitly states that federal judges and magistrates are on strike due to the controversial judicial reform promoted by President Andrés Manuel López Obrador. This indicates a labor dispute and a work stoppage by employees, which is the definition of a labor strike.'}, 'impacted_company': 'Supreme Court of Justice of the Nation', 'locations': [{'city': 'Mexico City', 'country': 'Mexico'}], 'impacted_business_sectors': ['Judicial', 'Hospitality'], 'automotive_industry': {'concerned': 'no', 'justification': \"The Supreme Court of Justice of the Nation's sectors, Judicial and Hospitality, are not directly involved in the production or supply chain of the car making industry. The strike of judges and magistrates, while significant, does not impact the car making industry's operations.\"}, 'temporality': {'strike_status': 'ongoing', 'justification': 'The article states that federal judges and magistrates were on strike, leading to an indefinite work stoppage. This indicates that the strike is ongoing.'}, 'sources': ['https://www.elfinanciero.com.mx/food-and-drink/2024/08/22/ministra-loretta-ortiz-come-en-san-angel-inn-precios-del-restaurante-de-cdmx/']}\n",
      "----------------------------------------------------------------------------------------------------\n",
      "label : 108\n",
      " document creation : 108\n",
      "first retrieval\n",
      "company is None or belongs to self.liste\n",
      "label : 109\n",
      " document creation : 109\n",
      "first retrieval\n",
      "company is None or belongs to self.liste\n",
      "label : 110\n",
      " document creation : 110\n",
      "first retrieval\n",
      "company is None or belongs to self.liste\n",
      "label : 111\n",
      " document creation : 111\n",
      "first retrieval\n",
      "company is None or belongs to self.liste\n",
      "label : 112\n",
      " document creation : 112\n",
      "first retrieval\n",
      "company is None or belongs to self.liste\n",
      "label : 113\n",
      " document creation : 113\n",
      "first retrieval\n",
      "no second retrieval\n",
      "results :\n",
      "{'strike': {'labor_strike': 'yes', 'justification': 'The text explicitly states that workers at the Agency for Integration, Migration and Asylum (AIMA) are starting an overtime strike. This indicates a labor dispute and action taken by employees to exert pressure on their employer.'}, 'impacted_company': 'Agency for Integration, Migration and Asylum (AIMA)', 'locations': [{'city': None, 'country': 'Portugal'}], 'impacted_business_sectors': ['Government', 'Immigration Services'], 'automotive_industry': {'concerned': 'no', 'justification': 'The Agency for Integration, Migration and Asylum (AIMA) deals with immigration services and government processes. These services are not directly related to the car making industry. Therefore, the strike at AIMA is unlikely to have any direct impact on the car making industry.'}, 'temporality': {'strike_status': 'ongoing', 'justification': 'The strike started on 2024-08-22 and is expected to last until December 31st. Today is 2024-08-23, so the strike is currently ongoing.'}, 'sources': ['https://expresso.pt/sociedade/2024-08-22-greve-da-aima-comeca-hoje-o-efeito-sera-visivel-em-mais-atrasos-e-o-governo-nem-ligou-para-discutir-servicos-minimos-bb01dca9']}\n",
      "----------------------------------------------------------------------------------------------------\n",
      "label : 114\n",
      " document creation : 114\n",
      "first retrieval\n",
      "company is None or belongs to self.liste\n",
      "label : 115\n",
      " document creation : 115\n",
      "first retrieval\n",
      "company is None or belongs to self.liste\n",
      "label : 116\n",
      " document creation : 116\n",
      "first retrieval\n",
      "company is None or belongs to self.liste\n",
      "label : 117\n",
      " document creation : 117\n",
      "first retrieval\n",
      "company is None or belongs to self.liste\n",
      "label : 118\n",
      " document creation : 118\n",
      "first retrieval\n",
      "company is None or belongs to self.liste\n",
      "label : 119\n",
      " document creation : 119\n",
      "first retrieval\n",
      "company is None or belongs to self.liste\n",
      "label : 120\n",
      " document creation : 120\n",
      "first retrieval\n",
      "company is None or belongs to self.liste\n",
      "label : 121\n",
      " document creation : 121\n",
      "first retrieval\n",
      "company is None or belongs to self.liste\n",
      "label : 122\n",
      " document creation : 122\n",
      "first retrieval\n",
      "response1 is empty\n",
      "label : 123\n",
      " document creation : 123\n",
      "first retrieval\n",
      "response1 is empty\n",
      "label : 124\n",
      " document creation : 124\n",
      "first retrieval\n",
      "company is None or belongs to self.liste\n",
      "label : 125\n",
      " document creation : 125\n",
      "first retrieval\n",
      "company is None or belongs to self.liste\n",
      "label : 126\n",
      " document creation : 126\n",
      "first retrieval\n",
      "company is None or belongs to self.liste\n",
      "label : 127\n",
      " document creation : 127\n",
      "first retrieval\n",
      "company is None or belongs to self.liste\n",
      "label : 128\n",
      " document creation : 128\n",
      "first retrieval\n",
      "response1 is empty\n",
      "label : 129\n",
      " document creation : 129\n",
      "first retrieval\n",
      "company is None or belongs to self.liste\n",
      "label : 130\n",
      " document creation : 130\n",
      "first retrieval\n",
      "company is None or belongs to self.liste\n",
      "label : 131\n",
      " document creation : 131\n",
      "first retrieval\n",
      "company is None or belongs to self.liste\n",
      "label : 132\n",
      " document creation : 132\n",
      "first retrieval\n",
      "company is None or belongs to self.liste\n",
      "label : 133\n",
      " document creation : 133\n",
      "first retrieval\n",
      "response1 is empty\n",
      "label : 134\n",
      " document creation : 134\n",
      "first retrieval\n",
      "response1 is empty\n",
      "label : 135\n",
      " document creation : 135\n",
      "first retrieval\n",
      "company is None or belongs to self.liste\n",
      "label : 136\n",
      " document creation : 136\n",
      "first retrieval\n",
      "company is None or belongs to self.liste\n",
      "label : 137\n",
      " document creation : 137\n",
      "first retrieval\n",
      "company is None or belongs to self.liste\n",
      "label : 138\n",
      " document creation : 138\n",
      "first retrieval\n",
      "company is None or belongs to self.liste\n",
      "label : 139\n",
      " document creation : 139\n",
      "first retrieval\n",
      "response1 is empty\n",
      "label : 140\n",
      " document creation : 140\n",
      "first retrieval\n",
      "company is None or belongs to self.liste\n",
      "label : 141\n",
      " document creation : 141\n",
      "first retrieval\n",
      "company is None or belongs to self.liste\n",
      "label : 142\n",
      " document creation : 142\n",
      "first retrieval\n",
      "no second retrieval\n",
      "results :\n",
      "{'strike': {'labor_strike': 'yes', 'justification': 'The context explicitly states that employees of SAS in Norway are going on strike, indicating a labor dispute.'}, 'impacted_company': 'SAS', 'locations': [{'city': 'Norway', 'country': 'Norway'}], 'impacted_business_sectors': ['Airlines', 'Travel and Tourism'], 'automotive_industry': {'concerned': 'no', 'justification': 'The SAS strike primarily affects airlines, travel, and tourism. These sectors are not directly involved in car manufacturing. Therefore, the car making industry is unlikely to be affected by the SAS strike.'}, 'temporality': {'strike_status': 'upcoming', 'justification': 'The provided context states that more SAS employees in Norway will go on strike next Wednesday. Since today is 2024-08-23, the strike is upcoming.'}, 'sources': ['https://www.svd.se/a/kwMWak/sas-strejk-i-norge']}\n",
      "----------------------------------------------------------------------------------------------------\n",
      "label : 143\n",
      " document creation : 143\n",
      "first retrieval\n",
      "company is None or belongs to self.liste\n",
      "label : 144\n",
      " document creation : 144\n",
      "first retrieval\n",
      "company is None or belongs to self.liste\n",
      "label : 145\n",
      " document creation : 145\n",
      "first retrieval\n",
      "company is None or belongs to self.liste\n",
      "label : 146\n",
      " document creation : 146\n",
      "first retrieval\n",
      "no second retrieval\n",
      "results :\n",
      "{'strike': {'labor_strike': 'yes', 'justification': 'The resident doctors went on strike to demand changes in their working and living conditions, including issues like 36-hour duty shifts and lack of safe places for rest. These are typical demands related to labor conditions, making it a labor strike.'}, 'impacted_company': 'AIIMS', 'locations': [{'city': 'Delhi', 'country': 'India'}], 'impacted_business_sectors': ['Healthcare', 'Public Services'], 'automotive_industry': {'concerned': 'no', 'justification': 'The AIIMS strike is related to the healthcare sector and public services. It does not directly impact the car making industry. AIIMS does not produce products or services used in car manufacturing.'}, 'temporality': {'strike_status': 'ended', 'justification': \"The provided context explicitly states that the strike of resident doctors at AIIMS has ended and they have decided to resume work. This is further supported by the Supreme Court's appeal to the doctors to return to work and the AIIMS Director's letter urging them to resume their duties.\"}, 'sources': ['https://navbharattimes.indiatimes.com/metro/delhi/other-news/aiims-resident-doctors-strike-over-after-supreme-court-appeal-kolkata-rape-murder-case/articleshow/112711203.cms']}\n",
      "----------------------------------------------------------------------------------------------------\n",
      "label : 147\n",
      " document creation : 147\n",
      "first retrieval\n",
      "company is None or belongs to self.liste\n",
      "label : 148\n",
      " document creation : 148\n",
      "first retrieval\n",
      "company is None or belongs to self.liste\n",
      "label : 149\n",
      " document creation : 149\n",
      "first retrieval\n",
      "company is None or belongs to self.liste\n",
      "label : 150\n",
      " document creation : 150\n",
      "first retrieval\n",
      "company is None or belongs to self.liste\n",
      "label : 151\n",
      " document creation : 151\n",
      "first retrieval\n",
      "company is None or belongs to self.liste\n",
      "label : 152\n",
      " document creation : 152\n",
      "first retrieval\n",
      "company is None or belongs to self.liste\n",
      "label : 153\n",
      " document creation : 153\n",
      "first retrieval\n",
      "no second retrieval\n",
      "results :\n",
      "{'strike': {'labor_strike': 'yes', 'justification': 'The text explicitly states that Norwegian SAS employees are going on strike due to disagreements over salary levels and working conditions, which are typical labor dispute issues.'}, 'impacted_company': 'SAS', 'locations': [{'city': 'Oslo', 'country': 'Norway'}], 'impacted_business_sectors': ['Airline', 'Travel and Tourism'], 'automotive_industry': {'concerned': 'no', 'justification': 'The SAS strike involves airline, travel, and tourism sectors. These sectors are not directly involved in car manufacturing. Therefore, the car making industry is not concerned by the strike.'}, 'temporality': {'strike_status': 'ongoing', 'justification': 'The article states that the strike began on August 23rd, 2024, and is expected to escalate with more cabin employees joining the strike. Therefore, the strike is ongoing.'}, 'sources': ['https://www.dn.se/ekonomi/norska-sas-anstallda-gar-ut-i-strejk/']}\n",
      "----------------------------------------------------------------------------------------------------\n",
      "label : 154\n",
      " document creation : 154\n",
      "first retrieval\n",
      "company is None or belongs to self.liste\n",
      "label : 155\n",
      " document creation : 155\n",
      "first retrieval\n",
      "company is None or belongs to self.liste\n",
      "label : 156\n",
      " document creation : 156\n",
      "first retrieval\n",
      "company is None or belongs to self.liste\n",
      "label : 157\n",
      " document creation : 157\n",
      "first retrieval\n",
      "company is None or belongs to self.liste\n",
      "label : 158\n",
      " document creation : 158\n",
      "first retrieval\n",
      "no second retrieval\n",
      "results :\n",
      "{'strike': {'labor_strike': 'yes', 'justification': 'The text explicitly states that the strike is due to a failure to reach new labor agreements with the Teamsters union. This indicates a dispute over working conditions and compensation, which are core elements of labor strikes.'}, 'impacted_company': 'Canadian National', 'locations': [{'city': 'None', 'country': 'Canada'}], 'impacted_business_sectors': ['Transportation', 'Logistics'], 'automotive_industry': {'concerned': 'yes', 'justification': \"Canadian National's transportation and logistics services are crucial for the automotive industry. They transport raw materials, parts, and finished vehicles across the country and internationally. A strike would disrupt these supply chains, impacting car manufacturing and potentially leading to production delays and shortages.\"}, 'temporality': {'strike_status': 'ongoing', 'justification': 'The article states that the strike began on Thursday, August 22nd, and the provided date is August 22nd. Therefore, the strike is ongoing.'}, 'sources': ['https://www.lavozdegalicia.es/noticia/economia/2024/08/22/ferrocarriles-canada-impide-acceso-puestos-trabajo-9000-trabajadores/00031724324117751821908.htm']}\n",
      "----------------------------------------------------------------------------------------------------\n",
      "label : 159\n",
      " document creation : 159\n",
      "first retrieval\n",
      "company is None or belongs to self.liste\n",
      "label : 160\n",
      " document creation : 160\n",
      "first retrieval\n",
      "no second retrieval\n",
      "results :\n",
      "{'strike': {'labor_strike': 'yes', 'justification': 'The provided text explicitly states that the strike is due to workers demanding higher wages and more rest time, indicating a labor dispute.'}, 'impacted_company': 'Canadian Pacific Kansas City', 'locations': [{'city': 'None', 'country': 'Canada'}], 'impacted_business_sectors': ['Transportation', 'Logistics'], 'automotive_industry': {'concerned': 'yes', 'justification': 'Canadian Pacific Kansas City is a major transportation and logistics company.  Car manufacturers rely on rail transport for moving raw materials, parts, and finished vehicles.  A strike by Canadian Pacific Kansas City would disrupt these supply chains, impacting the car making industry.'}, 'temporality': {'strike_status': 'ongoing', 'justification': 'The provided context states that the strike began on 2024-08-22 and there is no information indicating it has ended. Therefore, the strike is ongoing.'}, 'sources': ['https://www.epravda.com.ua/news/2024/08/22/718327/']}\n",
      "----------------------------------------------------------------------------------------------------\n",
      "label : 161\n",
      " document creation : 161\n",
      "first retrieval\n",
      "no second retrieval\n",
      "results :\n",
      "{'strike': {'labor_strike': 'yes', 'justification': 'The text explicitly states that the employees of Canadian National (CN) and Canadian Pacific Kansas City (CPKC) suspended work because they could not reach an agreement on new employment terms, including salary issues. This aligns with the definition of a labor strike, where workers refuse to work due to disagreements with their employers over working conditions.'}, 'impacted_company': 'Canadian National (CN)', 'locations': [{'city': 'Various', 'country': 'Canada'}], 'impacted_business_sectors': ['Transportation', 'Manufacturing'], 'automotive_industry': {'concerned': 'yes', 'justification': 'Canadian National (CN) is involved in transportation and manufacturing, which are crucial for the car making industry. The strike disrupts supply chains, potentially leading to shortages of raw materials and components needed for car production.'}, 'temporality': {'strike_status': 'ongoing', 'justification': 'The article states that the strike began in the early hours of Thursday morning, and there is no indication that it has ended. The article also mentions that the strike is affecting the entire country and causing significant disruptions to supply chains.'}, 'sources': ['https://www.origo.hu/gazdasag/2024/08/kanada-vasut-leallas-gazdasag']}\n",
      "----------------------------------------------------------------------------------------------------\n",
      "label : 162\n",
      " document creation : 162\n",
      "first retrieval\n",
      "company is None or belongs to self.liste\n",
      "label : 163\n",
      " document creation : 163\n",
      "first retrieval\n",
      "company is None or belongs to self.liste\n",
      "label : 164\n",
      " document creation : 164\n",
      "first retrieval\n",
      "company is None or belongs to self.liste\n",
      "label : 165\n",
      " document creation : 165\n",
      "first retrieval\n",
      "no second retrieval\n",
      "results :\n",
      "{'strike': {'labor_strike': 'yes', 'justification': 'The text mentions the UAW union threatening a nationwide strike against Stellantis due to disagreements over contractual agreements and the Belvidere plant development plans.'}, 'impacted_company': 'Stellantis', 'locations': [{'city': 'Belvidere', 'country': 'USA'}], 'impacted_business_sectors': ['Automotive Manufacturing', 'Labor Relations'], 'automotive_industry': {'concerned': 'yes', 'justification': 'Stellantis is a major automotive manufacturer. A strike at Stellantis would directly impact the production of vehicles, which are a core component of the car-making industry. Therefore, the car-making industry would be significantly affected by a strike at Stellantis.'}, 'temporality': {'strike_status': 'unknown', 'justification': \"The article mentions a potential strike, but it does not provide information about the strike's current status. It only mentions that the UAW union has threatened a strike and that Stellantis has denied any wrongdoing. Therefore, the strike status is unknown.\"}, 'sources': ['https://www.ilgiornale.it/news/aziende/stellantis-missione-tavares-usa-2360699.html']}\n",
      "----------------------------------------------------------------------------------------------------\n",
      "label : 166\n",
      " document creation : 166\n",
      "first retrieval\n",
      "company is None or belongs to self.liste\n",
      "label : 167\n",
      " document creation : 167\n",
      "first retrieval\n",
      "company is None or belongs to self.liste\n",
      "label : 168\n",
      " document creation : 168\n",
      "first retrieval\n",
      "no second retrieval\n",
      "results :\n",
      "{'strike': {'labor_strike': 'yes', 'justification': 'The text explicitly mentions a \"strike by the actors and writers\" which is a classic definition of a labor strike.'}, 'impacted_company': 'Warner Bros.', 'locations': [{'city': 'Los Angeles', 'country': 'United States'}], 'impacted_business_sectors': ['Entertainment', 'Film Production'], 'automotive_industry': {'concerned': 'no', 'justification': \"Warner Bros. is an entertainment company focused on film production. Their products, like 'The Lord of the Rings: War of the Rohirim', are not used in the car making industry. Therefore, a strike at Warner Bros. would not directly affect car manufacturers.\"}, 'temporality': {'strike_status': 'ended', 'justification': 'The article states that the film was delayed due to the strike by actors and writers, but it also mentions that the film is scheduled to be released in December 2024. This implies that the strike has ended, as the film is now in production and has a release date.'}, 'sources': ['https://www.journaldugeek.com/2024/08/23/le-seigneur-des-anneaux-la-guerre-du-rohirim-soffre-un-premier-trailer-muscle/']}\n",
      "----------------------------------------------------------------------------------------------------\n",
      "label : 169\n",
      " document creation : 169\n",
      "first retrieval\n",
      "no second retrieval\n",
      "results :\n",
      "{'strike': {'labor_strike': 'yes', 'justification': 'The text explicitly states that the strike is due to a failure to reach an agreement between the railway companies and the Teamsters union over working conditions, which is a classic indicator of a labor strike.'}, 'impacted_company': 'Canadian National Railway', 'locations': [{'city': 'Toronto', 'country': 'Canada'}, {'city': 'Montreal', 'country': 'Canada'}, {'city': 'Vancouver', 'country': 'Canada'}], 'impacted_business_sectors': ['Transportation', 'Logistics'], 'automotive_industry': {'concerned': 'yes', 'justification': 'Canadian National Railway (CN) is a major transporter of goods, including automotive parts and materials. A strike would disrupt the flow of these essential components, impacting car manufacturing operations.'}, 'temporality': {'strike_status': 'ongoing', 'justification': 'The article states that the strike began on August 22nd, 2024, and there is no mention of it ending. Therefore, the strike is ongoing.'}, 'sources': ['https://www.portfolio.hu/gazdasag/20240822/mar-az-usa-gazdasagat-fenyegetik-a-kanadai-vasuti-sztrajkok-705281']}\n",
      "----------------------------------------------------------------------------------------------------\n",
      "label : 170\n",
      " document creation : 170\n",
      "first retrieval\n",
      "no second retrieval\n",
      "results :\n",
      "{'strike': {'labor_strike': 'yes', 'justification': 'The text explicitly states that the strike is a result of a dispute between CN Rail and the Teamster Canada Rail Conference, a union representing train workers. This indicates a labor dispute, making it a labor strike.'}, 'impacted_company': 'Canadian National Railway (CN Rail)', 'locations': [{'city': 'Vancouver', 'country': 'Canada'}, {'city': 'Halifax', 'country': 'Canada'}, {'city': 'New Orleans', 'country': 'United States'}], 'impacted_business_sectors': ['Transportation', 'Logistics'], 'automotive_industry': {'concerned': 'yes', 'justification': \"CN Rail's transportation and logistics services are crucial for the automotive industry. They transport raw materials, parts, and finished vehicles across North America. A strike would disrupt this supply chain, impacting car manufacturing and potentially leading to production delays and shortages.\"}, 'temporality': {'strike_status': 'ongoing', 'justification': 'The article states that the strike began on Thursday, which is before the current date of 2024-08-23.  There is no indication that the strike has ended, so it is ongoing.'}, 'sources': ['https://www.nrc.nl/nieuws/2024/08/22/spoorstaking-hindert-handel-tussen-canada-vs-en-mexico-a4863498']}\n",
      "----------------------------------------------------------------------------------------------------\n",
      "label : 171\n",
      " document creation : 171\n",
      "first retrieval\n",
      "company is None or belongs to self.liste\n",
      "label : 172\n",
      " document creation : 172\n",
      "first retrieval\n",
      "company is None or belongs to self.liste\n",
      "label : 173\n",
      " document creation : 173\n",
      "first retrieval\n",
      "no second retrieval\n",
      "results :\n",
      "{'strike': {'labor_strike': 'yes', 'justification': 'The text explicitly states that the lockout is a measure imposed by the companies as part of a bargaining or union fight, indicating a labor dispute.'}, 'impacted_company': 'Canadian National Railway', 'locations': [{'city': 'Montreal', 'country': 'Canada'}, {'city': 'Toronto', 'country': 'Canada'}], 'impacted_business_sectors': ['Transportation', 'Agriculture'], 'automotive_industry': {'concerned': 'yes', 'justification': 'The article states that Canadian National Railway transports components for the automotive industry. A strike would disrupt this transportation, affecting the car making industry.'}, 'temporality': {'strike_status': 'ongoing', 'justification': 'The article states that the lockout began on Thursday, which is 2024-08-22.  Since today is 2024-08-23, the lockout is still ongoing.'}, 'sources': ['https://www.ilpost.it/2024/08/22/serrata-treni-canada/']}\n",
      "----------------------------------------------------------------------------------------------------\n",
      "label : 174\n",
      " document creation : 174\n",
      "first retrieval\n",
      "company is None or belongs to self.liste\n",
      "-------------------------------------------------------------------------------------\n",
      "retying attempt 1\n",
      "label len 14\n",
      "labels [21, 33, 34, 46, 54, 58, 91, 102, 122, 123, 128, 133, 134, 139]\n",
      "label : 21\n",
      " document creation : 0\n",
      "first retrieval\n",
      "response1 is empty\n",
      "label : 33\n",
      " document creation : 1\n",
      "first retrieval\n",
      "response1 is empty\n",
      "label : 34\n",
      " document creation : 2\n",
      "first retrieval\n",
      "response1 is empty\n",
      "label : 46\n",
      " document creation : 3\n",
      "first retrieval\n",
      "response1 is empty\n",
      "label : 54\n",
      " document creation : 4\n",
      "first retrieval\n",
      "response1 is empty\n",
      "label : 58\n",
      " document creation : 5\n",
      "first retrieval\n",
      "response1 is empty\n",
      "label : 91\n",
      " document creation : 6\n",
      "first retrieval\n",
      "response1 is empty\n",
      "label : 102\n",
      " document creation : 7\n",
      "first retrieval\n",
      "response1 is empty\n",
      "label : 122\n",
      " document creation : 8\n",
      "first retrieval\n",
      "response1 is empty\n",
      "label : 123\n",
      " document creation : 9\n",
      "first retrieval\n",
      "response1 is empty\n",
      "label : 128\n",
      " document creation : 10\n",
      "first retrieval\n",
      "response1 is empty\n",
      "label : 133\n",
      " document creation : 11\n",
      "first retrieval\n",
      "response1 is empty\n",
      "label : 134\n",
      " document creation : 12\n",
      "first retrieval\n",
      "response1 is empty\n",
      "label : 139\n",
      " document creation : 13\n",
      "first retrieval\n",
      "response1 is empty\n"
     ]
    }
   ],
   "source": [
    "strike = StrikeRAG(vertexai_llm= conf['rag_cong']['vertexai_llm'],\n",
    "                   vertexai_embedding_name = conf['rag_cong']['vertexai_embedding_name'], \n",
    "                   retry = conf['rag_cong']['retry'], \n",
    "                   max_doc = conf['rag_cong']['max_doc'], \n",
    "                   chunk_size = conf['rag_cong']['chunk_size'], \n",
    "                   chunk_overlap = conf['rag_cong']['chunk_overlap']\n",
    "                  )\n",
    "\n",
    "strike.retrieve_infos_with_retry(dataframe=rag_data)"
   ]
  },
  {
   "cell_type": "code",
   "execution_count": 35,
   "id": "6e72947b-ee09-4097-bc18-d6f53fbec26f",
   "metadata": {
    "tags": []
   },
   "outputs": [
    {
     "data": {
      "text/plain": [
       "28"
      ]
     },
     "execution_count": 35,
     "metadata": {},
     "output_type": "execute_result"
    }
   ],
   "source": [
    "iterative_results = deepcopy(strike.all_results)\n",
    "len(iterative_results)"
   ]
  },
  {
   "cell_type": "markdown",
   "id": "8233b586-0d77-421d-89fa-a37484b6cf1d",
   "metadata": {},
   "source": [
    "### Matching process \n"
   ]
  },
  {
   "cell_type": "code",
   "execution_count": 36,
   "id": "0410632e-4b10-4cf5-bf5b-93cb35cd58be",
   "metadata": {
    "tags": []
   },
   "outputs": [
    {
     "name": "stderr",
     "output_type": "stream",
     "text": [
      "28it [00:00, 39.90it/s]\n"
     ]
    }
   ],
   "source": [
    "matching =  Matching()\n",
    "r = matching.match(set_news = iterative_results, dataframe=suppliers)"
   ]
  },
  {
   "cell_type": "markdown",
   "id": "684011cf-45c8-472e-823c-320d8d0f693d",
   "metadata": {},
   "source": [
    "### Filtering process"
   ]
  },
  {
   "cell_type": "code",
   "execution_count": 37,
   "id": "e633e285-9364-4ff8-9df3-5493353f933d",
   "metadata": {
    "tags": []
   },
   "outputs": [],
   "source": [
    "# SECTORS_TO_DISCARD = sectors_to_discard.SECTORS_TO_DISCARD"
   ]
  },
  {
   "cell_type": "code",
   "execution_count": 38,
   "id": "735d9935-a6c9-42af-ac3e-700689fe8700",
   "metadata": {
    "tags": []
   },
   "outputs": [],
   "source": [
    "# decision_function_args = {\n",
    "#     'sectors_to_discard': dict_config[\"sectors_to_discard\"],\n",
    "#     'desirable_temporalities' : ['upcoming', 'ongoing', 'unknown']\n",
    "# }"
   ]
  },
  {
   "cell_type": "code",
   "execution_count": 39,
   "id": "6bcda9f6-ffb3-4b18-adcb-d11b8219f93d",
   "metadata": {
    "tags": []
   },
   "outputs": [],
   "source": [
    "filtre = Filter(empty_companie_name_index=matching.index, decision_function=conf['decision_function'], decision_function_args=conf[\"decision_function_args\"], filename=None)\n",
    "rr = filtre.filtering(matching.results)"
   ]
  },
  {
   "cell_type": "code",
   "execution_count": 40,
   "id": "17743580-7b3e-40b0-ae42-15b7b906c428",
   "metadata": {
    "scrolled": true,
    "tags": []
   },
   "outputs": [
    {
     "data": {
      "text/plain": [
       "[{'strike': {'labor_strike': 'yes',\n",
       "   'justification': 'The provided context explicitly states that the strike at Tesla in Sweden was initiated by IF Metall, a labor union, and involved other unions in sympathy measures. This indicates a labor strike driven by union demands for a collective agreement.'},\n",
       "  'impacted_company': 'Tesla',\n",
       "  'locations': [{'city': 'Norrköping', 'country': 'Sweden'}],\n",
       "  'impacted_business_sectors': ['Automotive Manufacturing', 'Technology'],\n",
       "  'automotive_industry': {'concerned': 'yes',\n",
       "   'justification': \"Tesla is a major player in the automotive manufacturing industry. A strike at Tesla, especially one that disrupts production, would likely have a ripple effect on the broader car-making industry. This is because:\\n\\n* **Supply Chain Disruptions:** Tesla's strike could disrupt the supply of components or materials used by other car manufacturers, especially those relying on similar parts or technologies.\\n* **Competition:**  A strike at Tesla could give competitors an advantage in the market, potentially leading to increased market share and pressure on other car manufacturers.\\n* **Industry Sentiment:** A prolonged strike at Tesla could create negative sentiment within the automotive industry, impacting investor confidence and potentially discouraging investment in the sector.\"},\n",
       "  'temporality': {'strike_status': 'ongoing',\n",
       "   'justification': \"The provided context states that the strike at Tesla in Sweden began in October of the previous year and is still ongoing, with both sides remaining in locked positions. While the provided date of '2024-08-23T03:45:36Z' might indicate a specific event, it doesn't provide information about the strike's current status. Therefore, based on the context, the strike is ongoing.\"},\n",
       "  'sources': ['https://www.svd.se/a/rP8pL8/trendbrott-fler-strejkar-pa-tesla'],\n",
       "  'core_company': 'Tesla',\n",
       "  'supplier': 'yes',\n",
       "  'matching_level': 'company',\n",
       "  'tier': 'n',\n",
       "  'id': '6-20240823123114',\n",
       "  'relevant': 'yes'},\n",
       " {'strike': {'labor_strike': 'no',\n",
       "   'justification': 'The text explicitly states that the shutdown is a lockout, where management prevents workers from working, rather than a strike where workers refuse to work.'},\n",
       "  'impacted_company': 'Canadian National (CN)',\n",
       "  'locations': [{'city': 'Various', 'country': 'Canada'}],\n",
       "  'impacted_business_sectors': ['Transportation', 'Agriculture'],\n",
       "  'automotive_industry': {'concerned': 'yes',\n",
       "   'justification': \"The article states that some U.S. auto plants could temporarily shut down if they can't manufacture engines, transmissions, or stampings in Canadian plants due to the disruption of supply chains caused by the rail shutdown. This indicates that the car-making industry is directly affected by the strike.\"},\n",
       "  'temporality': {'strike_status': 'ongoing',\n",
       "   'justification': 'The provided text states that both Canadian National (CN) and Canadian Pacific Kansas City Southern (CPKC) have shut down operations, putting 9,000 Teamsters union members out of work. This indicates an ongoing strike or lockout situation.'},\n",
       "  'sources': ['https://orf.at/stories/3367239/',\n",
       "   'https://cnnespanol.cnn.com/2024/08/22/ferrocarriles-carga-canadienses-cierran-golpe-economia-america-del-norte-trax/'],\n",
       "  'core_company': 'Canadian National',\n",
       "  'supplier': 'no',\n",
       "  'matching_level': 'none',\n",
       "  'id': '0-20240823123114',\n",
       "  'relevant': 'no'},\n",
       " {'strike': {'labor_strike': 'no',\n",
       "   'justification': 'The provided text describes a strike in Hollywood that impacted the film industry, not a labor strike within Kinepolis itself.'},\n",
       "  'impacted_company': 'Kinepolis',\n",
       "  'locations': [{'city': 'Hollywood', 'country': 'United States'}],\n",
       "  'impacted_business_sectors': ['Entertainment', 'Media'],\n",
       "  'automotive_industry': {'concerned': 'no',\n",
       "   'justification': \"Kinepolis is a cinema chain, and its services are not directly related to the car making industry. The Hollywood strike affects Kinepolis's attendance due to the lack of new movie releases, but it does not impact the production or supply chain of car manufacturers.\"},\n",
       "  'temporality': {'strike_status': 'ended',\n",
       "   'justification': 'The provided text states that the Hollywood strike \"last year\" prevented a return to the rich film offering. This implies the strike is over, and the current situation is being compared to the impact of the past strike.'},\n",
       "  'sources': ['https://www.globenewswire.com/news-release/2024/08/22/2933943/0/nl/Hollywood-staking-weegt-op-bezoekersaantallen-Kinepolis-in-eerste-semester-2024-maar-line-up-voor-de-rest-van-het-jaar-is-veelbelovend.html',\n",
       "   'https://www.globenewswire.com/news-release/2024/08/22/2933943/0/fr/La-gr%C3%A8ve-%C3%A0-Hollywood-joue-sur-la-fr%C3%A9quentation-de-Kinepolis-au-premier-semestre-2024-mais-l-offre-de-films-pour-le-reste-de-l-ann%C3%A9e-est-prometteuse.html'],\n",
       "  'core_company': 'Kinepolis',\n",
       "  'supplier': 'no',\n",
       "  'matching_level': 'none',\n",
       "  'id': '1-20240823123114',\n",
       "  'relevant': 'no'},\n",
       " {'strike': {'labor_strike': 'yes',\n",
       "   'justification': \"The text explicitly states that the Workers' Commissions (CCOO) of Catalonia called a strike at the Port Olímpic after negotiations with Barcelona Servicios Municipales (B:SM) failed. This indicates a labor dispute and a strike by workers against their employer.\"},\n",
       "  'impacted_company': 'Barcelona Servicios Municipales (B:SM)',\n",
       "  'locations': [{'city': 'Barcelona', 'country': 'Spain'}],\n",
       "  'impacted_business_sectors': ['Tourism', 'Public Services'],\n",
       "  'automotive_industry': {'concerned': 'no',\n",
       "   'justification': 'Barcelona Servicios Municipales (B:SM) primarily focuses on tourism and public services. These sectors are not directly involved in the car making industry. Therefore, a strike by B:SM workers would not have a direct impact on car manufacturing.'},\n",
       "  'temporality': {'strike_status': 'ongoing',\n",
       "   'justification': \"The article states that the strike at Barcelona Servicios Municipales (B:SM) is ongoing as the mediation act ended without agreement. The strike was called by the Workers' Commissions (CCOO) of Catalonia, coinciding with the America's Cup.\"},\n",
       "  'sources': ['https://www.publico.es/sociedad/cara-copa-america-problemas-acceso-saturacion-frente-maritimo-encarecimiento-vivienda.html'],\n",
       "  'core_company': 'Barcelona Servicios Municipales',\n",
       "  'supplier': 'no',\n",
       "  'matching_level': 'none',\n",
       "  'id': '2-20240823123114',\n",
       "  'relevant': 'no'},\n",
       " {'strike': {'labor_strike': 'yes',\n",
       "   'justification': 'The text explicitly states that the Teamsters union, representing the workers, declared a strike at CPKC.'},\n",
       "  'impacted_company': 'Canadian Pacific Kansas City (CPKC)',\n",
       "  'locations': [{'city': 'Canada', 'country': 'Canada'}],\n",
       "  'impacted_business_sectors': ['Transportation', 'Logistics'],\n",
       "  'automotive_industry': {'concerned': 'yes',\n",
       "   'justification': 'CPKC is a major freight transportation company, and the car making industry relies heavily on the transportation of parts and finished vehicles. A strike by CPKC would disrupt the supply chain, leading to delays in production and potential shortages of materials for car manufacturers.'},\n",
       "  'temporality': {'strike_status': 'ongoing',\n",
       "   'justification': 'The article states that the Teamsters union declared a strike at CPKC on the same day the companies declared a lockout.  The article also mentions that negotiations are ongoing under mediation. Therefore, the strike is ongoing.'},\n",
       "  'sources': ['https://www.lavozdegalicia.es/noticia/economia/2024/08/22/trudeau-amenaza-intervencion-publica-restaura-transporte-mercancias-canada/00031724353752020765739.htm'],\n",
       "  'core_company': 'CPKC',\n",
       "  'supplier': 'no',\n",
       "  'matching_level': 'none',\n",
       "  'id': '3-20240823123114',\n",
       "  'relevant': 'no'},\n",
       " {'strike': {'labor_strike': 'yes',\n",
       "   'justification': 'The text explicitly states that unions No. 1 and No. 2 of the Santiago Real Estate Registrar (CBRS) are on strike due to failed negotiations and ongoing labor conflicts. This indicates a labor strike.'},\n",
       "  'impacted_company': 'Santiago Real Estate Registrar (CBRS)',\n",
       "  'locations': [{'city': 'Santiago', 'country': 'Chile'}],\n",
       "  'impacted_business_sectors': ['Real Estate', 'Financial Services'],\n",
       "  'automotive_industry': {'concerned': 'no',\n",
       "   'justification': 'The Santiago Real Estate Registrar (CBRS) primarily deals with real estate and financial services. These sectors are not directly involved in the car making industry. Therefore, a strike at the CBRS would not directly affect car manufacturers.'},\n",
       "  'temporality': {'strike_status': 'unknown', 'justification': ''},\n",
       "  'sources': ['https://www.df.cl/empresas/industria/trabajadores-del-conservador-de-bienes-raices-de-santiago-siguen-en'],\n",
       "  'core_company': 'Santiago Real Estate',\n",
       "  'supplier': 'no',\n",
       "  'matching_level': 'none',\n",
       "  'id': '4-20240823123114',\n",
       "  'relevant': 'no'},\n",
       " {'strike': {'labor_strike': 'yes',\n",
       "   'justification': 'The context mentions a passenger at Frankfurt station during a day of railway strikes in 2023, indicating a labor strike.'},\n",
       "  'impacted_company': 'Deutsche Bahn',\n",
       "  'locations': [{'city': 'Frankfurt', 'country': 'Germany'}],\n",
       "  'impacted_business_sectors': ['Transportation', 'Tourism'],\n",
       "  'automotive_industry': {'concerned': 'no',\n",
       "   'justification': 'Deutsche Bahn is a transportation and tourism company. Its services are not directly used in the car making industry. Therefore, a strike at Deutsche Bahn would not directly affect car manufacturers.'},\n",
       "  'temporality': {'strike_status': 'unknown',\n",
       "   'justification': \"The provided context discusses the general state of Deutsche Bahn's infrastructure and service disruptions, but it doesn't mention any specific strike happening on 2024-08-23. The date provided ('2024-08-23T10:13:22Z') might be related to a past strike, but without further information, it's impossible to determine the current status of a strike.\"},\n",
       "  'sources': ['https://www.elperiodico.com/es/economia/20240823/moverse-tren-hazmellorar-aleman-107282571'],\n",
       "  'core_company': 'Deutsche Bahn',\n",
       "  'supplier': 'no',\n",
       "  'matching_level': 'none',\n",
       "  'id': '5-20240823123114',\n",
       "  'relevant': 'no'},\n",
       " {'strike': {'labor_strike': 'yes',\n",
       "   'justification': 'The text explicitly states that unions No. 1 and No. 2 of the Santiago Real Estate Registrar are on strike due to a lack of agreement in negotiations and a breach of the collective agreement. This indicates a labor dispute.'},\n",
       "  'impacted_company': 'CBRS',\n",
       "  'locations': [{'city': 'Santiago', 'country': 'Chile'}],\n",
       "  'impacted_business_sectors': ['Real Estate', 'Legal Services'],\n",
       "  'automotive_industry': {'concerned': 'no',\n",
       "   'justification': 'The CBRS strike involves the Santiago Real Estate Registrar, which is not directly related to the car making industry. Real estate and legal services are not typically involved in the production or supply chain of automobiles.'},\n",
       "  'temporality': {'strike_status': 'ongoing',\n",
       "   'justification': 'The provided text states that the strike at CBRS is ongoing for the second day, indicating that it has not ended.'},\n",
       "  'sources': ['https://www.df.cl/doble-click/lo-que-debes-saber-a-esta-hora-de-la-tarde-cavtl'],\n",
       "  'core_company': 'CBRS',\n",
       "  'supplier': 'no',\n",
       "  'matching_level': 'none',\n",
       "  'id': '7-20240823123114',\n",
       "  'relevant': 'no'},\n",
       " {'strike': {'labor_strike': 'no',\n",
       "   'justification': \"The provided text discusses the shipyard's financial difficulties and the government's intervention, not a labor dispute or worker demands.\"},\n",
       "  'impacted_company': 'Meyer shipyard',\n",
       "  'locations': [{'city': 'Papenburg', 'country': 'Germany'}],\n",
       "  'impacted_business_sectors': ['Shipbuilding', 'Manufacturing'],\n",
       "  'automotive_industry': {'concerned': 'no',\n",
       "   'justification': 'Meyer shipyard is involved in shipbuilding and manufacturing, which are not directly related to the car making industry. Shipyards typically build ships, not components used in car manufacturing.'},\n",
       "  'temporality': {'strike_status': 'unknown',\n",
       "   'justification': \"The provided news articles do not mention any strike at the Meyer shipyard. The articles focus on the shipyard's financial difficulties and the government's intervention. Therefore, the strike status is unknown.\"},\n",
       "  'sources': ['https://www.sueddeutsche.de/kolumne/news-nachrichten-gruene-cdu-ausbildungsstellen-meyer-werft-union-lux.7Scac5DggP541YzQGUJ8Xq'],\n",
       "  'core_company': 'Meyer',\n",
       "  'supplier': 'yes',\n",
       "  'matching_level': 'company-country',\n",
       "  'tier': 'n',\n",
       "  'id': '8-20240823123114',\n",
       "  'relevant': 'no'},\n",
       " {'strike': {'labor_strike': 'yes',\n",
       "   'justification': 'The text states that the union threatened to strike over working conditions, indicating a labor strike.'},\n",
       "  'impacted_company': 'Canadian National Railway',\n",
       "  'locations': [{'city': 'None', 'country': 'Canada'}],\n",
       "  'impacted_business_sectors': ['Transportation', 'Agriculture'],\n",
       "  'automotive_industry': {'concerned': 'yes',\n",
       "   'justification': 'Canadian National Railway transports cars, which are a key component of the car making industry. A strike would disrupt the supply chain and affect car manufacturing.'},\n",
       "  'temporality': {'strike_status': 'ended',\n",
       "   'justification': 'The Canadian government ordered the rail companies to resume operations, ending the lockout. While negotiations are ongoing, the strike has been effectively ended for now.'},\n",
       "  'sources': ['https://www.nieuwsblad.be/cnt/dmf20240823_96937952'],\n",
       "  'core_company': 'Canadian National Railway',\n",
       "  'supplier': 'no',\n",
       "  'matching_level': 'none',\n",
       "  'id': '9-20240823123114',\n",
       "  'relevant': 'no'},\n",
       " {'strike': {'labor_strike': 'yes',\n",
       "   'justification': 'The text explicitly states that the strike involved the Canadian National Railway Company (CN) and the Teamsters union, indicating a dispute over working conditions and a labor strike.'},\n",
       "  'impacted_company': 'Canadian National Railway Company (CN)',\n",
       "  'locations': [{'city': 'Multiple Cities', 'country': 'Canada'}],\n",
       "  'impacted_business_sectors': ['Transportation', 'Agriculture'],\n",
       "  'automotive_industry': {'concerned': 'yes',\n",
       "   'justification': 'The article states that Canadian National Railway Company (CN) transports cars. A strike would disrupt the transportation of cars, impacting the car making industry.'},\n",
       "  'temporality': {'strike_status': 'avoided',\n",
       "   'justification': 'The article states that the Canadian government intervened and ordered an immediate resumption of activities by both railway companies. This indicates that the strike was avoided through government intervention.'},\n",
       "  'sources': ['https://www.latribune.fr/economie/international/canada-le-fret-paralyse-par-un-conflit-social-le-gouvernement-ordonne-la-reprise-du-trafic-1004650.html'],\n",
       "  'core_company': 'Canadian National Railway',\n",
       "  'supplier': 'no',\n",
       "  'matching_level': 'none',\n",
       "  'id': '10-20240823123114',\n",
       "  'relevant': 'no'},\n",
       " {'strike': {'labor_strike': 'yes',\n",
       "   'justification': 'The provided context states that Air Canada pilots are demanding a new collective agreement to address a pay gap with their American colleagues. This indicates a dispute over wages and working conditions, which are common drivers of labor strikes.'},\n",
       "  'impacted_company': 'Air Canada',\n",
       "  'locations': [{'city': 'Montreal', 'country': 'Canada'}],\n",
       "  'impacted_business_sectors': ['Transportation', 'Tourism'],\n",
       "  'automotive_industry': {'concerned': 'no',\n",
       "   'justification': \"Air Canada's primary sectors are transportation and tourism. These services are not directly involved in the car making industry. Therefore, a strike by Air Canada pilots would not directly affect car manufacturers.\"},\n",
       "  'temporality': {'strike_status': 'unknown', 'justification': ''},\n",
       "  'sources': ['https://www.idnes.cz/ekonomika/doprava/air-canada-aerolinky-piloti-mzdy-stavka-odbory-usa.A240823_063855_eko-doprava_jadv'],\n",
       "  'core_company': 'Air Canada',\n",
       "  'supplier': 'no',\n",
       "  'matching_level': 'none',\n",
       "  'id': '11-20240823123114',\n",
       "  'relevant': 'no'},\n",
       " {'strike': {'labor_strike': 'yes',\n",
       "   'justification': 'The text states that players at Boavista went on strike because they were not paid on time. This is a classic example of a labor strike, where workers withhold their labor to protest unfair treatment or demand better conditions.'},\n",
       "  'impacted_company': 'Boavista',\n",
       "  'locations': [{'city': 'Porto', 'country': 'Portugal'}],\n",
       "  'impacted_business_sectors': ['Sports', 'Finance'],\n",
       "  'automotive_industry': {'concerned': 'no',\n",
       "   'justification': 'Boavista is a sports club, specifically a football club. Sports clubs do not produce or use components related to the car making industry. Therefore, a strike at Boavista would not affect the car making industry.'},\n",
       "  'temporality': {'strike_status': 'ended',\n",
       "   'justification': \"The article mentions a strike by Boavista players due to unpaid wages. However, the article was published before the strike date of '2024-08-22T06:22:42Z'. Therefore, it is safe to assume the strike has ended.\"},\n",
       "  'sources': ['https://www.dhnet.be/sports/football/europe/championnatsetrangers/2024/08/22/boavista-sous-la-presidence-dun-certain-gerard-lopez-egalement-en-difficulte-financiere-Q3WCA3OILZBXDJEWLMJVIW33EI/'],\n",
       "  'core_company': 'Boavista',\n",
       "  'supplier': 'no',\n",
       "  'matching_level': 'none',\n",
       "  'id': '12-20240823123114',\n",
       "  'relevant': 'no'},\n",
       " {'strike': {'labor_strike': 'no',\n",
       "   'justification': 'The text describes a legal dispute between VfL Bochum and Manuel Riemann, a goalkeeper, regarding his contract and alleged misconduct. This is not a labor strike, which involves organized work stoppages by employees to demand better working conditions or wages.'},\n",
       "  'impacted_company': 'VfL Bochum',\n",
       "  'locations': [{'city': 'Bochum', 'country': 'Germany'}],\n",
       "  'impacted_business_sectors': ['Sports', 'Entertainment'],\n",
       "  'automotive_industry': {'concerned': 'no',\n",
       "   'justification': 'VfL Bochum is a sports team, specifically a football (soccer) club.  Their activities are in the realm of sports and entertainment, not automotive manufacturing. Therefore, a strike involving VfL Bochum would not directly impact the car making industry.'},\n",
       "  'temporality': {'strike_status': 'unknown',\n",
       "   'justification': \"The provided text describes a legal dispute between VfL Bochum and Manuel Riemann, a goalkeeper, regarding his exclusion from team training and potential contract termination. This is not a strike in the traditional sense of labor action. Therefore, the strike status is 'unknown' as the provided context does not relate to a strike.\"},\n",
       "  'sources': ['https://www.bild.de/sport/fussball/spannende-details-kamen-heraus-der-riemann-bochum-streit-geht-weiter-66c86b787a5c4250f1a78e07'],\n",
       "  'core_company': 'VfL Bochum',\n",
       "  'supplier': 'no',\n",
       "  'matching_level': 'none',\n",
       "  'id': '13-20240823123114',\n",
       "  'relevant': 'no'},\n",
       " {'strike': {'labor_strike': 'yes',\n",
       "   'justification': 'The text explicitly states that workers of the Cai Consortium are striking due to concerns about vehicle safety, excessive workloads, and a lack of hiring. These are all common labor issues that lead to strikes.'},\n",
       "  'impacted_company': 'Sda',\n",
       "  'locations': [{'city': 'Quattordio', 'country': 'Italy'}],\n",
       "  'impacted_business_sectors': ['Logistics', 'Delivery Services'],\n",
       "  'automotive_industry': {'concerned': 'no',\n",
       "   'justification': \"The strike involves CAI couriers, who are subcontractors for Sda, a logistics and delivery services company. While car manufacturers rely on logistics for parts and finished vehicles, the strike specifically targets Sda's delivery services. It's unlikely that Sda's delivery services directly involve transporting car parts or finished vehicles, making the impact on the car manufacturing industry minimal.\"},\n",
       "  'temporality': {'strike_status': 'ongoing',\n",
       "   'justification': 'The article states that the strike is ongoing and that the union representatives will meet with the Consortium on Monday.  The strike is ongoing as of today, 2024-08-23.'},\n",
       "  'sources': ['https://www.ansa.it/piemonte/notizie/2024/08/23/lavoro-corrieri-cai-in-sciopero-a-quattordio_f1af0f11-50a9-4365-8d73-3a9d8022609d.html'],\n",
       "  'core_company': 'Sda',\n",
       "  'supplier': 'no',\n",
       "  'matching_level': 'none',\n",
       "  'id': '14-20240823123114',\n",
       "  'relevant': 'no'},\n",
       " {'strike': {'labor_strike': 'yes',\n",
       "   'justification': 'The text explicitly states that federal judges and magistrates are on strike due to the controversial judicial reform promoted by President Andrés Manuel López Obrador. This indicates a labor dispute and a work stoppage by employees, which is the definition of a labor strike.'},\n",
       "  'impacted_company': 'Supreme Court of Justice of the Nation',\n",
       "  'locations': [{'city': 'Mexico City', 'country': 'Mexico'}],\n",
       "  'impacted_business_sectors': ['Judicial', 'Hospitality'],\n",
       "  'automotive_industry': {'concerned': 'no',\n",
       "   'justification': \"The Supreme Court of Justice of the Nation's sectors, Judicial and Hospitality, are not directly involved in the production or supply chain of the car making industry. The strike of judges and magistrates, while significant, does not impact the car making industry's operations.\"},\n",
       "  'temporality': {'strike_status': 'ongoing',\n",
       "   'justification': 'The article states that federal judges and magistrates were on strike, leading to an indefinite work stoppage. This indicates that the strike is ongoing.'},\n",
       "  'sources': ['https://www.elfinanciero.com.mx/food-and-drink/2024/08/22/ministra-loretta-ortiz-come-en-san-angel-inn-precios-del-restaurante-de-cdmx/'],\n",
       "  'core_company': 'Supreme Court',\n",
       "  'supplier': 'no',\n",
       "  'matching_level': 'none',\n",
       "  'id': '15-20240823123114',\n",
       "  'relevant': 'no'},\n",
       " {'strike': {'labor_strike': 'yes',\n",
       "   'justification': 'The text explicitly states that workers at the Agency for Integration, Migration and Asylum (AIMA) are starting an overtime strike. This indicates a labor dispute and action taken by employees to exert pressure on their employer.'},\n",
       "  'impacted_company': 'Agency for Integration, Migration and Asylum (AIMA)',\n",
       "  'locations': [{'city': '', 'country': 'Portugal'}],\n",
       "  'impacted_business_sectors': ['Government', 'Immigration Services'],\n",
       "  'automotive_industry': {'concerned': 'no',\n",
       "   'justification': 'The Agency for Integration, Migration and Asylum (AIMA) deals with immigration services and government processes. These services are not directly related to the car making industry. Therefore, the strike at AIMA is unlikely to have any direct impact on the car making industry.'},\n",
       "  'temporality': {'strike_status': 'ongoing',\n",
       "   'justification': 'The strike started on 2024-08-22 and is expected to last until December 31st. Today is 2024-08-23, so the strike is currently ongoing.'},\n",
       "  'sources': ['https://expresso.pt/sociedade/2024-08-22-greve-da-aima-comeca-hoje-o-efeito-sera-visivel-em-mais-atrasos-e-o-governo-nem-ligou-para-discutir-servicos-minimos-bb01dca9'],\n",
       "  'core_company': 'AIMA',\n",
       "  'supplier': 'no',\n",
       "  'matching_level': 'none',\n",
       "  'id': '16-20240823123114',\n",
       "  'relevant': 'no'},\n",
       " {'strike': {'labor_strike': 'yes',\n",
       "   'justification': 'The context explicitly states that employees of SAS in Norway are going on strike, indicating a labor dispute.'},\n",
       "  'impacted_company': 'SAS',\n",
       "  'locations': [{'city': 'Norway', 'country': 'Norway'}],\n",
       "  'impacted_business_sectors': ['Airlines', 'Travel and Tourism'],\n",
       "  'automotive_industry': {'concerned': 'no',\n",
       "   'justification': 'The SAS strike primarily affects airlines, travel, and tourism. These sectors are not directly involved in car manufacturing. Therefore, the car making industry is unlikely to be affected by the SAS strike.'},\n",
       "  'temporality': {'strike_status': 'upcoming',\n",
       "   'justification': 'The provided context states that more SAS employees in Norway will go on strike next Wednesday. Since today is 2024-08-23, the strike is upcoming.'},\n",
       "  'sources': ['https://www.svd.se/a/kwMWak/sas-strejk-i-norge'],\n",
       "  'core_company': 'SAS',\n",
       "  'supplier': 'yes',\n",
       "  'matching_level': 'company',\n",
       "  'tier': 'n',\n",
       "  'id': '17-20240823123114',\n",
       "  'relevant': 'no'},\n",
       " {'strike': {'labor_strike': 'yes',\n",
       "   'justification': 'The resident doctors went on strike to demand changes in their working and living conditions, including issues like 36-hour duty shifts and lack of safe places for rest. These are typical demands related to labor conditions, making it a labor strike.'},\n",
       "  'impacted_company': 'AIIMS',\n",
       "  'locations': [{'city': 'Delhi', 'country': 'India'}],\n",
       "  'impacted_business_sectors': ['Healthcare', 'Public Services'],\n",
       "  'automotive_industry': {'concerned': 'no',\n",
       "   'justification': 'The AIIMS strike is related to the healthcare sector and public services. It does not directly impact the car making industry. AIIMS does not produce products or services used in car manufacturing.'},\n",
       "  'temporality': {'strike_status': 'ended',\n",
       "   'justification': \"The provided context explicitly states that the strike of resident doctors at AIIMS has ended and they have decided to resume work. This is further supported by the Supreme Court's appeal to the doctors to return to work and the AIIMS Director's letter urging them to resume their duties.\"},\n",
       "  'sources': ['https://navbharattimes.indiatimes.com/metro/delhi/other-news/aiims-resident-doctors-strike-over-after-supreme-court-appeal-kolkata-rape-murder-case/articleshow/112711203.cms'],\n",
       "  'core_company': 'AIIMS',\n",
       "  'supplier': 'no',\n",
       "  'matching_level': 'none',\n",
       "  'id': '18-20240823123114',\n",
       "  'relevant': 'no'},\n",
       " {'strike': {'labor_strike': 'yes',\n",
       "   'justification': 'The text explicitly states that Norwegian SAS employees are going on strike due to disagreements over salary levels and working conditions, which are typical labor dispute issues.'},\n",
       "  'impacted_company': 'SAS',\n",
       "  'locations': [{'city': 'Oslo', 'country': 'Norway'}],\n",
       "  'impacted_business_sectors': ['Airline', 'Travel and Tourism'],\n",
       "  'automotive_industry': {'concerned': 'no',\n",
       "   'justification': 'The SAS strike involves airline, travel, and tourism sectors. These sectors are not directly involved in car manufacturing. Therefore, the car making industry is not concerned by the strike.'},\n",
       "  'temporality': {'strike_status': 'ongoing',\n",
       "   'justification': 'The article states that the strike began on August 23rd, 2024, and is expected to escalate with more cabin employees joining the strike. Therefore, the strike is ongoing.'},\n",
       "  'sources': ['https://www.dn.se/ekonomi/norska-sas-anstallda-gar-ut-i-strejk/'],\n",
       "  'core_company': 'SAS',\n",
       "  'supplier': 'yes',\n",
       "  'matching_level': 'company',\n",
       "  'id': '19-20240823123114',\n",
       "  'relevant': 'no'},\n",
       " {'strike': {'labor_strike': 'yes',\n",
       "   'justification': 'The text explicitly states that the strike is due to a failure to reach new labor agreements with the Teamsters union. This indicates a dispute over working conditions and compensation, which are core elements of labor strikes.'},\n",
       "  'impacted_company': 'Canadian National',\n",
       "  'locations': [{'city': 'None', 'country': 'Canada'}],\n",
       "  'impacted_business_sectors': ['Transportation', 'Logistics'],\n",
       "  'automotive_industry': {'concerned': 'yes',\n",
       "   'justification': \"Canadian National's transportation and logistics services are crucial for the automotive industry. They transport raw materials, parts, and finished vehicles across the country and internationally. A strike would disrupt these supply chains, impacting car manufacturing and potentially leading to production delays and shortages.\"},\n",
       "  'temporality': {'strike_status': 'ongoing',\n",
       "   'justification': 'The article states that the strike began on Thursday, August 22nd, and the provided date is August 22nd. Therefore, the strike is ongoing.'},\n",
       "  'sources': ['https://www.lavozdegalicia.es/noticia/economia/2024/08/22/ferrocarriles-canada-impide-acceso-puestos-trabajo-9000-trabajadores/00031724324117751821908.htm'],\n",
       "  'core_company': 'Canadian National',\n",
       "  'supplier': 'no',\n",
       "  'matching_level': 'none',\n",
       "  'id': '20-20240823123114',\n",
       "  'relevant': 'no'},\n",
       " {'strike': {'labor_strike': 'yes',\n",
       "   'justification': 'The provided text explicitly states that the strike is due to workers demanding higher wages and more rest time, indicating a labor dispute.'},\n",
       "  'impacted_company': 'Canadian Pacific Kansas City',\n",
       "  'locations': [{'city': 'None', 'country': 'Canada'}],\n",
       "  'impacted_business_sectors': ['Transportation', 'Logistics'],\n",
       "  'automotive_industry': {'concerned': 'yes',\n",
       "   'justification': 'Canadian Pacific Kansas City is a major transportation and logistics company.  Car manufacturers rely on rail transport for moving raw materials, parts, and finished vehicles.  A strike by Canadian Pacific Kansas City would disrupt these supply chains, impacting the car making industry.'},\n",
       "  'temporality': {'strike_status': 'ongoing',\n",
       "   'justification': 'The provided context states that the strike began on 2024-08-22 and there is no information indicating it has ended. Therefore, the strike is ongoing.'},\n",
       "  'sources': ['https://www.epravda.com.ua/news/2024/08/22/718327/'],\n",
       "  'core_company': 'Canadian Pacific',\n",
       "  'supplier': 'no',\n",
       "  'matching_level': 'none',\n",
       "  'id': '21-20240823123114',\n",
       "  'relevant': 'no'},\n",
       " {'strike': {'labor_strike': 'yes',\n",
       "   'justification': 'The text explicitly states that the employees of Canadian National (CN) and Canadian Pacific Kansas City (CPKC) suspended work because they could not reach an agreement on new employment terms, including salary issues. This aligns with the definition of a labor strike, where workers refuse to work due to disagreements with their employers over working conditions.'},\n",
       "  'impacted_company': 'Canadian National (CN)',\n",
       "  'locations': [{'city': 'Various', 'country': 'Canada'}],\n",
       "  'impacted_business_sectors': ['Transportation', 'Manufacturing'],\n",
       "  'automotive_industry': {'concerned': 'yes',\n",
       "   'justification': 'Canadian National (CN) is involved in transportation and manufacturing, which are crucial for the car making industry. The strike disrupts supply chains, potentially leading to shortages of raw materials and components needed for car production.'},\n",
       "  'temporality': {'strike_status': 'ongoing',\n",
       "   'justification': 'The article states that the strike began in the early hours of Thursday morning, and there is no indication that it has ended. The article also mentions that the strike is affecting the entire country and causing significant disruptions to supply chains.'},\n",
       "  'sources': ['https://www.origo.hu/gazdasag/2024/08/kanada-vasut-leallas-gazdasag'],\n",
       "  'core_company': 'Canadian National',\n",
       "  'supplier': 'no',\n",
       "  'matching_level': 'none',\n",
       "  'id': '22-20240823123114',\n",
       "  'relevant': 'no'},\n",
       " {'strike': {'labor_strike': 'yes',\n",
       "   'justification': 'The text mentions the UAW union threatening a nationwide strike against Stellantis due to disagreements over contractual agreements and the Belvidere plant development plans.'},\n",
       "  'impacted_company': 'Stellantis',\n",
       "  'locations': [{'city': 'Belvidere', 'country': 'USA'}],\n",
       "  'impacted_business_sectors': ['Automotive Manufacturing', 'Labor Relations'],\n",
       "  'automotive_industry': {'concerned': 'yes',\n",
       "   'justification': 'Stellantis is a major automotive manufacturer. A strike at Stellantis would directly impact the production of vehicles, which are a core component of the car-making industry. Therefore, the car-making industry would be significantly affected by a strike at Stellantis.'},\n",
       "  'temporality': {'strike_status': 'unknown',\n",
       "   'justification': \"The article mentions a potential strike, but it does not provide information about the strike's current status. It only mentions that the UAW union has threatened a strike and that Stellantis has denied any wrongdoing. Therefore, the strike status is unknown.\"},\n",
       "  'sources': ['https://www.ilgiornale.it/news/aziende/stellantis-missione-tavares-usa-2360699.html'],\n",
       "  'core_company': 'Stellantis',\n",
       "  'supplier': 'no',\n",
       "  'matching_level': 'none',\n",
       "  'id': '23-20240823123114',\n",
       "  'relevant': 'no'},\n",
       " {'strike': {'labor_strike': 'yes',\n",
       "   'justification': 'The text explicitly mentions a \"strike by the actors and writers\" which is a classic definition of a labor strike.'},\n",
       "  'impacted_company': 'Warner Bros.',\n",
       "  'locations': [{'city': 'Los Angeles', 'country': 'United States'}],\n",
       "  'impacted_business_sectors': ['Entertainment', 'Film Production'],\n",
       "  'automotive_industry': {'concerned': 'no',\n",
       "   'justification': \"Warner Bros. is an entertainment company focused on film production. Their products, like 'The Lord of the Rings: War of the Rohirim', are not used in the car making industry. Therefore, a strike at Warner Bros. would not directly affect car manufacturers.\"},\n",
       "  'temporality': {'strike_status': 'ended',\n",
       "   'justification': 'The article states that the film was delayed due to the strike by actors and writers, but it also mentions that the film is scheduled to be released in December 2024. This implies that the strike has ended, as the film is now in production and has a release date.'},\n",
       "  'sources': ['https://www.journaldugeek.com/2024/08/23/le-seigneur-des-anneaux-la-guerre-du-rohirim-soffre-un-premier-trailer-muscle/'],\n",
       "  'core_company': 'Warner Bros.',\n",
       "  'supplier': 'no',\n",
       "  'matching_level': 'none',\n",
       "  'id': '24-20240823123114',\n",
       "  'relevant': 'no'},\n",
       " {'strike': {'labor_strike': 'yes',\n",
       "   'justification': 'The text explicitly states that the strike is due to a failure to reach an agreement between the railway companies and the Teamsters union over working conditions, which is a classic indicator of a labor strike.'},\n",
       "  'impacted_company': 'Canadian National Railway',\n",
       "  'locations': [{'city': 'Toronto', 'country': 'Canada'},\n",
       "   {'city': 'Montreal', 'country': 'Canada'},\n",
       "   {'city': 'Vancouver', 'country': 'Canada'}],\n",
       "  'impacted_business_sectors': ['Transportation', 'Logistics'],\n",
       "  'automotive_industry': {'concerned': 'yes',\n",
       "   'justification': 'Canadian National Railway (CN) is a major transporter of goods, including automotive parts and materials. A strike would disrupt the flow of these essential components, impacting car manufacturing operations.'},\n",
       "  'temporality': {'strike_status': 'ongoing',\n",
       "   'justification': 'The article states that the strike began on August 22nd, 2024, and there is no mention of it ending. Therefore, the strike is ongoing.'},\n",
       "  'sources': ['https://www.portfolio.hu/gazdasag/20240822/mar-az-usa-gazdasagat-fenyegetik-a-kanadai-vasuti-sztrajkok-705281'],\n",
       "  'core_company': 'Canadian National Railway',\n",
       "  'supplier': 'no',\n",
       "  'matching_level': 'none',\n",
       "  'id': '25-20240823123114',\n",
       "  'relevant': 'no'},\n",
       " {'strike': {'labor_strike': 'yes',\n",
       "   'justification': 'The text explicitly states that the strike is a result of a dispute between CN Rail and the Teamster Canada Rail Conference, a union representing train workers. This indicates a labor dispute, making it a labor strike.'},\n",
       "  'impacted_company': 'Canadian National Railway (CN Rail)',\n",
       "  'locations': [{'city': 'Vancouver', 'country': 'Canada'},\n",
       "   {'city': 'Halifax', 'country': 'Canada'},\n",
       "   {'city': 'New Orleans', 'country': 'United States'}],\n",
       "  'impacted_business_sectors': ['Transportation', 'Logistics'],\n",
       "  'automotive_industry': {'concerned': 'yes',\n",
       "   'justification': \"CN Rail's transportation and logistics services are crucial for the automotive industry. They transport raw materials, parts, and finished vehicles across North America. A strike would disrupt this supply chain, impacting car manufacturing and potentially leading to production delays and shortages.\"},\n",
       "  'temporality': {'strike_status': 'ongoing',\n",
       "   'justification': 'The article states that the strike began on Thursday, which is before the current date of 2024-08-23.  There is no indication that the strike has ended, so it is ongoing.'},\n",
       "  'sources': ['https://www.nrc.nl/nieuws/2024/08/22/spoorstaking-hindert-handel-tussen-canada-vs-en-mexico-a4863498'],\n",
       "  'core_company': 'CN Rail',\n",
       "  'supplier': 'no',\n",
       "  'matching_level': 'none',\n",
       "  'id': '26-20240823123114',\n",
       "  'relevant': 'no'},\n",
       " {'strike': {'labor_strike': 'yes',\n",
       "   'justification': 'The text explicitly states that the lockout is a measure imposed by the companies as part of a bargaining or union fight, indicating a labor dispute.'},\n",
       "  'impacted_company': 'Canadian National Railway',\n",
       "  'locations': [{'city': 'Montreal', 'country': 'Canada'},\n",
       "   {'city': 'Toronto', 'country': 'Canada'}],\n",
       "  'impacted_business_sectors': ['Transportation', 'Agriculture'],\n",
       "  'automotive_industry': {'concerned': 'yes',\n",
       "   'justification': 'The article states that Canadian National Railway transports components for the automotive industry. A strike would disrupt this transportation, affecting the car making industry.'},\n",
       "  'temporality': {'strike_status': 'ongoing',\n",
       "   'justification': 'The article states that the lockout began on Thursday, which is 2024-08-22.  Since today is 2024-08-23, the lockout is still ongoing.'},\n",
       "  'sources': ['https://www.ilpost.it/2024/08/22/serrata-treni-canada/'],\n",
       "  'core_company': 'Canadian National Railway',\n",
       "  'supplier': 'no',\n",
       "  'matching_level': 'none',\n",
       "  'id': '27-20240823123114',\n",
       "  'relevant': 'no'}]"
      ]
     },
     "execution_count": 40,
     "metadata": {},
     "output_type": "execute_result"
    }
   ],
   "source": [
    "rr"
   ]
  },
  {
   "cell_type": "markdown",
   "id": "27c157bb-dfc4-46d7-bdf5-75b75e9bb0a3",
   "metadata": {},
   "source": [
    "## Grouping processed articles based on their names"
   ]
  },
  {
   "cell_type": "code",
   "execution_count": 41,
   "id": "d7fdc2bc-ac0f-43ca-9812-2da4b9fad655",
   "metadata": {
    "scrolled": true,
    "tags": []
   },
   "outputs": [],
   "source": [
    "rr = groupByName(rr)"
   ]
  },
  {
   "cell_type": "code",
   "execution_count": 42,
   "id": "294fbd7c-07a4-40c9-bc71-6e194d9646f8",
   "metadata": {},
   "outputs": [
    {
     "name": "stdout",
     "output_type": "stream",
     "text": [
      "yes\n"
     ]
    },
    {
     "name": "stderr",
     "output_type": "stream",
     "text": [
      "1it [00:00,  1.30it/s]\n"
     ]
    }
   ],
   "source": [
    "results = generate_description(rr, dataframe=rag_data)"
   ]
  },
  {
   "cell_type": "markdown",
   "id": "5216501e-c01f-4907-9a8d-44a1690940e1",
   "metadata": {},
   "source": [
    "## Adding geographical coordonate"
   ]
  },
  {
   "cell_type": "code",
   "execution_count": 43,
   "id": "c2beac59-ca5e-4db3-848a-03ca9c2c4ff0",
   "metadata": {},
   "outputs": [],
   "source": [
    "load_dotenv()\n",
    "NEWS_API_KEY = os.getenv('NEWS_API_KEY')\n",
    "os.environ['http_proxy'] = os.getenv('http_proxy')\n",
    "os.environ['https_proxy'] = os.getenv('https_proxy')\n",
    "os.environ['HTTP_PROXY'] = os.getenv('HTTP_PROXY')\n",
    "os.environ['HTTPS_PROXY'] = os.getenv('HTTPS_PROXY')"
   ]
  },
  {
   "cell_type": "code",
   "execution_count": 44,
   "id": "bc24356b-e479-4577-9091-f54aebaab89e",
   "metadata": {
    "scrolled": true,
    "tags": []
   },
   "outputs": [],
   "source": [
    "final_results = geoloc(results)"
   ]
  },
  {
   "cell_type": "code",
   "execution_count": 45,
   "id": "b29925a6-dd57-4b48-b498-6824faebe83b",
   "metadata": {
    "scrolled": true,
    "tags": []
   },
   "outputs": [
    {
     "data": {
      "text/plain": [
       "[{'strike': {'labor_strike': 'yes',\n",
       "   'justification': 'The provided context explicitly states that the strike at Tesla in Sweden was initiated by IF Metall, a labor union, and involved other unions in sympathy measures. This indicates a labor strike driven by union demands for a collective agreement.'},\n",
       "  'impacted_company': 'Tesla',\n",
       "  'locations': [{'city': 'Norrköping',\n",
       "    'country': 'Sweden',\n",
       "    'latitude': 58.5909124,\n",
       "    'longitude': 16.1903511}],\n",
       "  'impacted_business_sectors': ['Automotive Manufacturing', 'Technology'],\n",
       "  'automotive_industry': {'concerned': 'yes',\n",
       "   'justification': \"Tesla is a major player in the automotive manufacturing industry. A strike at Tesla, especially one that disrupts production, would likely have a ripple effect on the broader car-making industry. This is because:\\n\\n* **Supply Chain Disruptions:** Tesla's strike could disrupt the supply of components or materials used by other car manufacturers, especially those relying on similar parts or technologies.\\n* **Competition:**  A strike at Tesla could give competitors an advantage in the market, potentially leading to increased market share and pressure on other car manufacturers.\\n* **Industry Sentiment:** A prolonged strike at Tesla could create negative sentiment within the automotive industry, impacting investor confidence and potentially discouraging investment in the sector.\"},\n",
       "  'temporality': {'strike_status': 'ongoing',\n",
       "   'justification': \"The provided context states that the strike at Tesla in Sweden began in October of the previous year and is still ongoing, with both sides remaining in locked positions. While the provided date of '2024-08-23T03:45:36Z' might indicate a specific event, it doesn't provide information about the strike's current status. Therefore, based on the context, the strike is ongoing.\"},\n",
       "  'sources': ['https://www.svd.se/a/rP8pL8/trendbrott-fler-strejkar-pa-tesla'],\n",
       "  'core_company': 'Tesla',\n",
       "  'supplier': 'yes',\n",
       "  'matching_level': 'company',\n",
       "  'tier': 'n',\n",
       "  'id': '6-20240823123114',\n",
       "  'relevant': 'yes',\n",
       "  'duplicated': 'no',\n",
       "  'sub_articles': [],\n",
       "  'description': 'IF Metall has been striking against Tesla in Sweden for a year, demanding a collective agreement. Other unions joined in support, but Tesla remains unyielding. The situation remains deadlocked with little progress. \\n'},\n",
       " {'strike': {'labor_strike': 'no',\n",
       "   'justification': 'The text explicitly states that the shutdown is a lockout, where management prevents workers from working, rather than a strike where workers refuse to work.'},\n",
       "  'impacted_company': 'Canadian National (CN)',\n",
       "  'locations': [{'city': 'Various', 'country': 'Canada'}],\n",
       "  'impacted_business_sectors': ['Transportation', 'Agriculture'],\n",
       "  'automotive_industry': {'concerned': 'yes',\n",
       "   'justification': \"The article states that some U.S. auto plants could temporarily shut down if they can't manufacture engines, transmissions, or stampings in Canadian plants due to the disruption of supply chains caused by the rail shutdown. This indicates that the car-making industry is directly affected by the strike.\"},\n",
       "  'temporality': {'strike_status': 'ongoing',\n",
       "   'justification': 'The provided text states that both Canadian National (CN) and Canadian Pacific Kansas City Southern (CPKC) have shut down operations, putting 9,000 Teamsters union members out of work. This indicates an ongoing strike or lockout situation.'},\n",
       "  'sources': ['https://orf.at/stories/3367239/',\n",
       "   'https://cnnespanol.cnn.com/2024/08/22/ferrocarriles-carga-canadienses-cierran-golpe-economia-america-del-norte-trax/'],\n",
       "  'core_company': 'Canadian National',\n",
       "  'supplier': 'no',\n",
       "  'matching_level': 'none',\n",
       "  'id': '0-20240823123114',\n",
       "  'relevant': 'no',\n",
       "  'duplicated': 'no',\n",
       "  'sub_articles': [{'strike': {'labor_strike': 'yes',\n",
       "     'justification': 'The text explicitly states that the strike is due to a failure to reach new labor agreements with the Teamsters union. This indicates a dispute over working conditions and compensation, which are core elements of labor strikes.'},\n",
       "    'impacted_company': 'Canadian National',\n",
       "    'locations': [{'city': 'None', 'country': 'Canada'}],\n",
       "    'impacted_business_sectors': ['Transportation', 'Logistics'],\n",
       "    'automotive_industry': {'concerned': 'yes',\n",
       "     'justification': \"Canadian National's transportation and logistics services are crucial for the automotive industry. They transport raw materials, parts, and finished vehicles across the country and internationally. A strike would disrupt these supply chains, impacting car manufacturing and potentially leading to production delays and shortages.\"},\n",
       "    'temporality': {'strike_status': 'ongoing',\n",
       "     'justification': 'The article states that the strike began on Thursday, August 22nd, and the provided date is August 22nd. Therefore, the strike is ongoing.'},\n",
       "    'sources': ['https://www.lavozdegalicia.es/noticia/economia/2024/08/22/ferrocarriles-canada-impide-acceso-puestos-trabajo-9000-trabajadores/00031724324117751821908.htm'],\n",
       "    'core_company': 'Canadian National',\n",
       "    'supplier': 'no',\n",
       "    'matching_level': 'none',\n",
       "    'id': '20-20240823123114',\n",
       "    'relevant': 'no',\n",
       "    'duplicated': 'yes'},\n",
       "   {'strike': {'labor_strike': 'yes',\n",
       "     'justification': 'The text explicitly states that the employees of Canadian National (CN) and Canadian Pacific Kansas City (CPKC) suspended work because they could not reach an agreement on new employment terms, including salary issues. This aligns with the definition of a labor strike, where workers refuse to work due to disagreements with their employers over working conditions.'},\n",
       "    'impacted_company': 'Canadian National (CN)',\n",
       "    'locations': [{'city': 'Various', 'country': 'Canada'}],\n",
       "    'impacted_business_sectors': ['Transportation', 'Manufacturing'],\n",
       "    'automotive_industry': {'concerned': 'yes',\n",
       "     'justification': 'Canadian National (CN) is involved in transportation and manufacturing, which are crucial for the car making industry. The strike disrupts supply chains, potentially leading to shortages of raw materials and components needed for car production.'},\n",
       "    'temporality': {'strike_status': 'ongoing',\n",
       "     'justification': 'The article states that the strike began in the early hours of Thursday morning, and there is no indication that it has ended. The article also mentions that the strike is affecting the entire country and causing significant disruptions to supply chains.'},\n",
       "    'sources': ['https://www.origo.hu/gazdasag/2024/08/kanada-vasut-leallas-gazdasag'],\n",
       "    'core_company': 'Canadian National',\n",
       "    'supplier': 'no',\n",
       "    'matching_level': 'none',\n",
       "    'id': '22-20240823123114',\n",
       "    'relevant': 'no',\n",
       "    'duplicated': 'yes'}]},\n",
       " {'strike': {'labor_strike': 'no',\n",
       "   'justification': 'The provided text describes a strike in Hollywood that impacted the film industry, not a labor strike within Kinepolis itself.'},\n",
       "  'impacted_company': 'Kinepolis',\n",
       "  'locations': [{'city': 'Hollywood', 'country': 'United States'}],\n",
       "  'impacted_business_sectors': ['Entertainment', 'Media'],\n",
       "  'automotive_industry': {'concerned': 'no',\n",
       "   'justification': \"Kinepolis is a cinema chain, and its services are not directly related to the car making industry. The Hollywood strike affects Kinepolis's attendance due to the lack of new movie releases, but it does not impact the production or supply chain of car manufacturers.\"},\n",
       "  'temporality': {'strike_status': 'ended',\n",
       "   'justification': 'The provided text states that the Hollywood strike \"last year\" prevented a return to the rich film offering. This implies the strike is over, and the current situation is being compared to the impact of the past strike.'},\n",
       "  'sources': ['https://www.globenewswire.com/news-release/2024/08/22/2933943/0/nl/Hollywood-staking-weegt-op-bezoekersaantallen-Kinepolis-in-eerste-semester-2024-maar-line-up-voor-de-rest-van-het-jaar-is-veelbelovend.html',\n",
       "   'https://www.globenewswire.com/news-release/2024/08/22/2933943/0/fr/La-gr%C3%A8ve-%C3%A0-Hollywood-joue-sur-la-fr%C3%A9quentation-de-Kinepolis-au-premier-semestre-2024-mais-l-offre-de-films-pour-le-reste-de-l-ann%C3%A9e-est-prometteuse.html'],\n",
       "  'core_company': 'Kinepolis',\n",
       "  'supplier': 'no',\n",
       "  'matching_level': 'none',\n",
       "  'id': '1-20240823123114',\n",
       "  'relevant': 'no',\n",
       "  'duplicated': 'no',\n",
       "  'sub_articles': []},\n",
       " {'strike': {'labor_strike': 'yes',\n",
       "   'justification': \"The text explicitly states that the Workers' Commissions (CCOO) of Catalonia called a strike at the Port Olímpic after negotiations with Barcelona Servicios Municipales (B:SM) failed. This indicates a labor dispute and a strike by workers against their employer.\"},\n",
       "  'impacted_company': 'Barcelona Servicios Municipales (B:SM)',\n",
       "  'locations': [{'city': 'Barcelona', 'country': 'Spain'}],\n",
       "  'impacted_business_sectors': ['Tourism', 'Public Services'],\n",
       "  'automotive_industry': {'concerned': 'no',\n",
       "   'justification': 'Barcelona Servicios Municipales (B:SM) primarily focuses on tourism and public services. These sectors are not directly involved in the car making industry. Therefore, a strike by B:SM workers would not have a direct impact on car manufacturing.'},\n",
       "  'temporality': {'strike_status': 'ongoing',\n",
       "   'justification': \"The article states that the strike at Barcelona Servicios Municipales (B:SM) is ongoing as the mediation act ended without agreement. The strike was called by the Workers' Commissions (CCOO) of Catalonia, coinciding with the America's Cup.\"},\n",
       "  'sources': ['https://www.publico.es/sociedad/cara-copa-america-problemas-acceso-saturacion-frente-maritimo-encarecimiento-vivienda.html'],\n",
       "  'core_company': 'Barcelona Servicios Municipales',\n",
       "  'supplier': 'no',\n",
       "  'matching_level': 'none',\n",
       "  'id': '2-20240823123114',\n",
       "  'relevant': 'no',\n",
       "  'duplicated': 'no',\n",
       "  'sub_articles': []},\n",
       " {'strike': {'labor_strike': 'yes',\n",
       "   'justification': 'The text explicitly states that the Teamsters union, representing the workers, declared a strike at CPKC.'},\n",
       "  'impacted_company': 'Canadian Pacific Kansas City (CPKC)',\n",
       "  'locations': [{'city': 'Canada', 'country': 'Canada'}],\n",
       "  'impacted_business_sectors': ['Transportation', 'Logistics'],\n",
       "  'automotive_industry': {'concerned': 'yes',\n",
       "   'justification': 'CPKC is a major freight transportation company, and the car making industry relies heavily on the transportation of parts and finished vehicles. A strike by CPKC would disrupt the supply chain, leading to delays in production and potential shortages of materials for car manufacturers.'},\n",
       "  'temporality': {'strike_status': 'ongoing',\n",
       "   'justification': 'The article states that the Teamsters union declared a strike at CPKC on the same day the companies declared a lockout.  The article also mentions that negotiations are ongoing under mediation. Therefore, the strike is ongoing.'},\n",
       "  'sources': ['https://www.lavozdegalicia.es/noticia/economia/2024/08/22/trudeau-amenaza-intervencion-publica-restaura-transporte-mercancias-canada/00031724353752020765739.htm'],\n",
       "  'core_company': 'CPKC',\n",
       "  'supplier': 'no',\n",
       "  'matching_level': 'none',\n",
       "  'id': '3-20240823123114',\n",
       "  'relevant': 'no',\n",
       "  'duplicated': 'no',\n",
       "  'sub_articles': []},\n",
       " {'strike': {'labor_strike': 'yes',\n",
       "   'justification': 'The text explicitly states that unions No. 1 and No. 2 of the Santiago Real Estate Registrar (CBRS) are on strike due to failed negotiations and ongoing labor conflicts. This indicates a labor strike.'},\n",
       "  'impacted_company': 'Santiago Real Estate Registrar (CBRS)',\n",
       "  'locations': [{'city': 'Santiago', 'country': 'Chile'}],\n",
       "  'impacted_business_sectors': ['Real Estate', 'Financial Services'],\n",
       "  'automotive_industry': {'concerned': 'no',\n",
       "   'justification': 'The Santiago Real Estate Registrar (CBRS) primarily deals with real estate and financial services. These sectors are not directly involved in the car making industry. Therefore, a strike at the CBRS would not directly affect car manufacturers.'},\n",
       "  'temporality': {'strike_status': 'unknown', 'justification': ''},\n",
       "  'sources': ['https://www.df.cl/empresas/industria/trabajadores-del-conservador-de-bienes-raices-de-santiago-siguen-en'],\n",
       "  'core_company': 'Santiago Real Estate',\n",
       "  'supplier': 'no',\n",
       "  'matching_level': 'none',\n",
       "  'id': '4-20240823123114',\n",
       "  'relevant': 'no',\n",
       "  'duplicated': 'no',\n",
       "  'sub_articles': []},\n",
       " {'strike': {'labor_strike': 'yes',\n",
       "   'justification': 'The context mentions a passenger at Frankfurt station during a day of railway strikes in 2023, indicating a labor strike.'},\n",
       "  'impacted_company': 'Deutsche Bahn',\n",
       "  'locations': [{'city': 'Frankfurt', 'country': 'Germany'}],\n",
       "  'impacted_business_sectors': ['Transportation', 'Tourism'],\n",
       "  'automotive_industry': {'concerned': 'no',\n",
       "   'justification': 'Deutsche Bahn is a transportation and tourism company. Its services are not directly used in the car making industry. Therefore, a strike at Deutsche Bahn would not directly affect car manufacturers.'},\n",
       "  'temporality': {'strike_status': 'unknown',\n",
       "   'justification': \"The provided context discusses the general state of Deutsche Bahn's infrastructure and service disruptions, but it doesn't mention any specific strike happening on 2024-08-23. The date provided ('2024-08-23T10:13:22Z') might be related to a past strike, but without further information, it's impossible to determine the current status of a strike.\"},\n",
       "  'sources': ['https://www.elperiodico.com/es/economia/20240823/moverse-tren-hazmellorar-aleman-107282571'],\n",
       "  'core_company': 'Deutsche Bahn',\n",
       "  'supplier': 'no',\n",
       "  'matching_level': 'none',\n",
       "  'id': '5-20240823123114',\n",
       "  'relevant': 'no',\n",
       "  'duplicated': 'no',\n",
       "  'sub_articles': []},\n",
       " {'strike': {'labor_strike': 'yes',\n",
       "   'justification': 'The text explicitly states that unions No. 1 and No. 2 of the Santiago Real Estate Registrar are on strike due to a lack of agreement in negotiations and a breach of the collective agreement. This indicates a labor dispute.'},\n",
       "  'impacted_company': 'CBRS',\n",
       "  'locations': [{'city': 'Santiago', 'country': 'Chile'}],\n",
       "  'impacted_business_sectors': ['Real Estate', 'Legal Services'],\n",
       "  'automotive_industry': {'concerned': 'no',\n",
       "   'justification': 'The CBRS strike involves the Santiago Real Estate Registrar, which is not directly related to the car making industry. Real estate and legal services are not typically involved in the production or supply chain of automobiles.'},\n",
       "  'temporality': {'strike_status': 'ongoing',\n",
       "   'justification': 'The provided text states that the strike at CBRS is ongoing for the second day, indicating that it has not ended.'},\n",
       "  'sources': ['https://www.df.cl/doble-click/lo-que-debes-saber-a-esta-hora-de-la-tarde-cavtl'],\n",
       "  'core_company': 'CBRS',\n",
       "  'supplier': 'no',\n",
       "  'matching_level': 'none',\n",
       "  'id': '7-20240823123114',\n",
       "  'relevant': 'no',\n",
       "  'duplicated': 'no',\n",
       "  'sub_articles': []},\n",
       " {'strike': {'labor_strike': 'no',\n",
       "   'justification': \"The provided text discusses the shipyard's financial difficulties and the government's intervention, not a labor dispute or worker demands.\"},\n",
       "  'impacted_company': 'Meyer shipyard',\n",
       "  'locations': [{'city': 'Papenburg', 'country': 'Germany'}],\n",
       "  'impacted_business_sectors': ['Shipbuilding', 'Manufacturing'],\n",
       "  'automotive_industry': {'concerned': 'no',\n",
       "   'justification': 'Meyer shipyard is involved in shipbuilding and manufacturing, which are not directly related to the car making industry. Shipyards typically build ships, not components used in car manufacturing.'},\n",
       "  'temporality': {'strike_status': 'unknown',\n",
       "   'justification': \"The provided news articles do not mention any strike at the Meyer shipyard. The articles focus on the shipyard's financial difficulties and the government's intervention. Therefore, the strike status is unknown.\"},\n",
       "  'sources': ['https://www.sueddeutsche.de/kolumne/news-nachrichten-gruene-cdu-ausbildungsstellen-meyer-werft-union-lux.7Scac5DggP541YzQGUJ8Xq'],\n",
       "  'core_company': 'Meyer',\n",
       "  'supplier': 'yes',\n",
       "  'matching_level': 'company-country',\n",
       "  'tier': 'n',\n",
       "  'id': '8-20240823123114',\n",
       "  'relevant': 'no',\n",
       "  'duplicated': 'no',\n",
       "  'sub_articles': []},\n",
       " {'strike': {'labor_strike': 'yes',\n",
       "   'justification': 'The text states that the union threatened to strike over working conditions, indicating a labor strike.'},\n",
       "  'impacted_company': 'Canadian National Railway',\n",
       "  'locations': [{'city': 'None', 'country': 'Canada'}],\n",
       "  'impacted_business_sectors': ['Transportation', 'Agriculture'],\n",
       "  'automotive_industry': {'concerned': 'yes',\n",
       "   'justification': 'Canadian National Railway transports cars, which are a key component of the car making industry. A strike would disrupt the supply chain and affect car manufacturing.'},\n",
       "  'temporality': {'strike_status': 'ended',\n",
       "   'justification': 'The Canadian government ordered the rail companies to resume operations, ending the lockout. While negotiations are ongoing, the strike has been effectively ended for now.'},\n",
       "  'sources': ['https://www.nieuwsblad.be/cnt/dmf20240823_96937952'],\n",
       "  'core_company': 'Canadian National Railway',\n",
       "  'supplier': 'no',\n",
       "  'matching_level': 'none',\n",
       "  'id': '9-20240823123114',\n",
       "  'relevant': 'no',\n",
       "  'duplicated': 'no',\n",
       "  'sub_articles': [{'strike': {'labor_strike': 'yes',\n",
       "     'justification': 'The text explicitly states that the strike involved the Canadian National Railway Company (CN) and the Teamsters union, indicating a dispute over working conditions and a labor strike.'},\n",
       "    'impacted_company': 'Canadian National Railway Company (CN)',\n",
       "    'locations': [{'city': 'Multiple Cities', 'country': 'Canada'}],\n",
       "    'impacted_business_sectors': ['Transportation', 'Agriculture'],\n",
       "    'automotive_industry': {'concerned': 'yes',\n",
       "     'justification': 'The article states that Canadian National Railway Company (CN) transports cars. A strike would disrupt the transportation of cars, impacting the car making industry.'},\n",
       "    'temporality': {'strike_status': 'avoided',\n",
       "     'justification': 'The article states that the Canadian government intervened and ordered an immediate resumption of activities by both railway companies. This indicates that the strike was avoided through government intervention.'},\n",
       "    'sources': ['https://www.latribune.fr/economie/international/canada-le-fret-paralyse-par-un-conflit-social-le-gouvernement-ordonne-la-reprise-du-trafic-1004650.html'],\n",
       "    'core_company': 'Canadian National Railway',\n",
       "    'supplier': 'no',\n",
       "    'matching_level': 'none',\n",
       "    'id': '10-20240823123114',\n",
       "    'relevant': 'no',\n",
       "    'duplicated': 'yes'},\n",
       "   {'strike': {'labor_strike': 'yes',\n",
       "     'justification': 'The text explicitly states that the strike is due to a failure to reach an agreement between the railway companies and the Teamsters union over working conditions, which is a classic indicator of a labor strike.'},\n",
       "    'impacted_company': 'Canadian National Railway',\n",
       "    'locations': [{'city': 'Toronto', 'country': 'Canada'},\n",
       "     {'city': 'Montreal', 'country': 'Canada'},\n",
       "     {'city': 'Vancouver', 'country': 'Canada'}],\n",
       "    'impacted_business_sectors': ['Transportation', 'Logistics'],\n",
       "    'automotive_industry': {'concerned': 'yes',\n",
       "     'justification': 'Canadian National Railway (CN) is a major transporter of goods, including automotive parts and materials. A strike would disrupt the flow of these essential components, impacting car manufacturing operations.'},\n",
       "    'temporality': {'strike_status': 'ongoing',\n",
       "     'justification': 'The article states that the strike began on August 22nd, 2024, and there is no mention of it ending. Therefore, the strike is ongoing.'},\n",
       "    'sources': ['https://www.portfolio.hu/gazdasag/20240822/mar-az-usa-gazdasagat-fenyegetik-a-kanadai-vasuti-sztrajkok-705281'],\n",
       "    'core_company': 'Canadian National Railway',\n",
       "    'supplier': 'no',\n",
       "    'matching_level': 'none',\n",
       "    'id': '25-20240823123114',\n",
       "    'relevant': 'no',\n",
       "    'duplicated': 'yes'},\n",
       "   {'strike': {'labor_strike': 'yes',\n",
       "     'justification': 'The text explicitly states that the lockout is a measure imposed by the companies as part of a bargaining or union fight, indicating a labor dispute.'},\n",
       "    'impacted_company': 'Canadian National Railway',\n",
       "    'locations': [{'city': 'Montreal', 'country': 'Canada'},\n",
       "     {'city': 'Toronto', 'country': 'Canada'}],\n",
       "    'impacted_business_sectors': ['Transportation', 'Agriculture'],\n",
       "    'automotive_industry': {'concerned': 'yes',\n",
       "     'justification': 'The article states that Canadian National Railway transports components for the automotive industry. A strike would disrupt this transportation, affecting the car making industry.'},\n",
       "    'temporality': {'strike_status': 'ongoing',\n",
       "     'justification': 'The article states that the lockout began on Thursday, which is 2024-08-22.  Since today is 2024-08-23, the lockout is still ongoing.'},\n",
       "    'sources': ['https://www.ilpost.it/2024/08/22/serrata-treni-canada/'],\n",
       "    'core_company': 'Canadian National Railway',\n",
       "    'supplier': 'no',\n",
       "    'matching_level': 'none',\n",
       "    'id': '27-20240823123114',\n",
       "    'relevant': 'no',\n",
       "    'duplicated': 'yes'}]},\n",
       " {'strike': {'labor_strike': 'yes',\n",
       "   'justification': 'The provided context states that Air Canada pilots are demanding a new collective agreement to address a pay gap with their American colleagues. This indicates a dispute over wages and working conditions, which are common drivers of labor strikes.'},\n",
       "  'impacted_company': 'Air Canada',\n",
       "  'locations': [{'city': 'Montreal', 'country': 'Canada'}],\n",
       "  'impacted_business_sectors': ['Transportation', 'Tourism'],\n",
       "  'automotive_industry': {'concerned': 'no',\n",
       "   'justification': \"Air Canada's primary sectors are transportation and tourism. These services are not directly involved in the car making industry. Therefore, a strike by Air Canada pilots would not directly affect car manufacturers.\"},\n",
       "  'temporality': {'strike_status': 'unknown', 'justification': ''},\n",
       "  'sources': ['https://www.idnes.cz/ekonomika/doprava/air-canada-aerolinky-piloti-mzdy-stavka-odbory-usa.A240823_063855_eko-doprava_jadv'],\n",
       "  'core_company': 'Air Canada',\n",
       "  'supplier': 'no',\n",
       "  'matching_level': 'none',\n",
       "  'id': '11-20240823123114',\n",
       "  'relevant': 'no',\n",
       "  'duplicated': 'no',\n",
       "  'sub_articles': []},\n",
       " {'strike': {'labor_strike': 'yes',\n",
       "   'justification': 'The text states that players at Boavista went on strike because they were not paid on time. This is a classic example of a labor strike, where workers withhold their labor to protest unfair treatment or demand better conditions.'},\n",
       "  'impacted_company': 'Boavista',\n",
       "  'locations': [{'city': 'Porto', 'country': 'Portugal'}],\n",
       "  'impacted_business_sectors': ['Sports', 'Finance'],\n",
       "  'automotive_industry': {'concerned': 'no',\n",
       "   'justification': 'Boavista is a sports club, specifically a football club. Sports clubs do not produce or use components related to the car making industry. Therefore, a strike at Boavista would not affect the car making industry.'},\n",
       "  'temporality': {'strike_status': 'ended',\n",
       "   'justification': \"The article mentions a strike by Boavista players due to unpaid wages. However, the article was published before the strike date of '2024-08-22T06:22:42Z'. Therefore, it is safe to assume the strike has ended.\"},\n",
       "  'sources': ['https://www.dhnet.be/sports/football/europe/championnatsetrangers/2024/08/22/boavista-sous-la-presidence-dun-certain-gerard-lopez-egalement-en-difficulte-financiere-Q3WCA3OILZBXDJEWLMJVIW33EI/'],\n",
       "  'core_company': 'Boavista',\n",
       "  'supplier': 'no',\n",
       "  'matching_level': 'none',\n",
       "  'id': '12-20240823123114',\n",
       "  'relevant': 'no',\n",
       "  'duplicated': 'no',\n",
       "  'sub_articles': []},\n",
       " {'strike': {'labor_strike': 'no',\n",
       "   'justification': 'The text describes a legal dispute between VfL Bochum and Manuel Riemann, a goalkeeper, regarding his contract and alleged misconduct. This is not a labor strike, which involves organized work stoppages by employees to demand better working conditions or wages.'},\n",
       "  'impacted_company': 'VfL Bochum',\n",
       "  'locations': [{'city': 'Bochum', 'country': 'Germany'}],\n",
       "  'impacted_business_sectors': ['Sports', 'Entertainment'],\n",
       "  'automotive_industry': {'concerned': 'no',\n",
       "   'justification': 'VfL Bochum is a sports team, specifically a football (soccer) club.  Their activities are in the realm of sports and entertainment, not automotive manufacturing. Therefore, a strike involving VfL Bochum would not directly impact the car making industry.'},\n",
       "  'temporality': {'strike_status': 'unknown',\n",
       "   'justification': \"The provided text describes a legal dispute between VfL Bochum and Manuel Riemann, a goalkeeper, regarding his exclusion from team training and potential contract termination. This is not a strike in the traditional sense of labor action. Therefore, the strike status is 'unknown' as the provided context does not relate to a strike.\"},\n",
       "  'sources': ['https://www.bild.de/sport/fussball/spannende-details-kamen-heraus-der-riemann-bochum-streit-geht-weiter-66c86b787a5c4250f1a78e07'],\n",
       "  'core_company': 'VfL Bochum',\n",
       "  'supplier': 'no',\n",
       "  'matching_level': 'none',\n",
       "  'id': '13-20240823123114',\n",
       "  'relevant': 'no',\n",
       "  'duplicated': 'no',\n",
       "  'sub_articles': []},\n",
       " {'strike': {'labor_strike': 'yes',\n",
       "   'justification': 'The text explicitly states that workers of the Cai Consortium are striking due to concerns about vehicle safety, excessive workloads, and a lack of hiring. These are all common labor issues that lead to strikes.'},\n",
       "  'impacted_company': 'Sda',\n",
       "  'locations': [{'city': 'Quattordio', 'country': 'Italy'}],\n",
       "  'impacted_business_sectors': ['Logistics', 'Delivery Services'],\n",
       "  'automotive_industry': {'concerned': 'no',\n",
       "   'justification': \"The strike involves CAI couriers, who are subcontractors for Sda, a logistics and delivery services company. While car manufacturers rely on logistics for parts and finished vehicles, the strike specifically targets Sda's delivery services. It's unlikely that Sda's delivery services directly involve transporting car parts or finished vehicles, making the impact on the car manufacturing industry minimal.\"},\n",
       "  'temporality': {'strike_status': 'ongoing',\n",
       "   'justification': 'The article states that the strike is ongoing and that the union representatives will meet with the Consortium on Monday.  The strike is ongoing as of today, 2024-08-23.'},\n",
       "  'sources': ['https://www.ansa.it/piemonte/notizie/2024/08/23/lavoro-corrieri-cai-in-sciopero-a-quattordio_f1af0f11-50a9-4365-8d73-3a9d8022609d.html'],\n",
       "  'core_company': 'Sda',\n",
       "  'supplier': 'no',\n",
       "  'matching_level': 'none',\n",
       "  'id': '14-20240823123114',\n",
       "  'relevant': 'no',\n",
       "  'duplicated': 'no',\n",
       "  'sub_articles': []},\n",
       " {'strike': {'labor_strike': 'yes',\n",
       "   'justification': 'The text explicitly states that federal judges and magistrates are on strike due to the controversial judicial reform promoted by President Andrés Manuel López Obrador. This indicates a labor dispute and a work stoppage by employees, which is the definition of a labor strike.'},\n",
       "  'impacted_company': 'Supreme Court of Justice of the Nation',\n",
       "  'locations': [{'city': 'Mexico City', 'country': 'Mexico'}],\n",
       "  'impacted_business_sectors': ['Judicial', 'Hospitality'],\n",
       "  'automotive_industry': {'concerned': 'no',\n",
       "   'justification': \"The Supreme Court of Justice of the Nation's sectors, Judicial and Hospitality, are not directly involved in the production or supply chain of the car making industry. The strike of judges and magistrates, while significant, does not impact the car making industry's operations.\"},\n",
       "  'temporality': {'strike_status': 'ongoing',\n",
       "   'justification': 'The article states that federal judges and magistrates were on strike, leading to an indefinite work stoppage. This indicates that the strike is ongoing.'},\n",
       "  'sources': ['https://www.elfinanciero.com.mx/food-and-drink/2024/08/22/ministra-loretta-ortiz-come-en-san-angel-inn-precios-del-restaurante-de-cdmx/'],\n",
       "  'core_company': 'Supreme Court',\n",
       "  'supplier': 'no',\n",
       "  'matching_level': 'none',\n",
       "  'id': '15-20240823123114',\n",
       "  'relevant': 'no',\n",
       "  'duplicated': 'no',\n",
       "  'sub_articles': []},\n",
       " {'strike': {'labor_strike': 'yes',\n",
       "   'justification': 'The text explicitly states that workers at the Agency for Integration, Migration and Asylum (AIMA) are starting an overtime strike. This indicates a labor dispute and action taken by employees to exert pressure on their employer.'},\n",
       "  'impacted_company': 'Agency for Integration, Migration and Asylum (AIMA)',\n",
       "  'locations': [{'city': '', 'country': 'Portugal'}],\n",
       "  'impacted_business_sectors': ['Government', 'Immigration Services'],\n",
       "  'automotive_industry': {'concerned': 'no',\n",
       "   'justification': 'The Agency for Integration, Migration and Asylum (AIMA) deals with immigration services and government processes. These services are not directly related to the car making industry. Therefore, the strike at AIMA is unlikely to have any direct impact on the car making industry.'},\n",
       "  'temporality': {'strike_status': 'ongoing',\n",
       "   'justification': 'The strike started on 2024-08-22 and is expected to last until December 31st. Today is 2024-08-23, so the strike is currently ongoing.'},\n",
       "  'sources': ['https://expresso.pt/sociedade/2024-08-22-greve-da-aima-comeca-hoje-o-efeito-sera-visivel-em-mais-atrasos-e-o-governo-nem-ligou-para-discutir-servicos-minimos-bb01dca9'],\n",
       "  'core_company': 'AIMA',\n",
       "  'supplier': 'no',\n",
       "  'matching_level': 'none',\n",
       "  'id': '16-20240823123114',\n",
       "  'relevant': 'no',\n",
       "  'duplicated': 'no',\n",
       "  'sub_articles': []},\n",
       " {'strike': {'labor_strike': 'yes',\n",
       "   'justification': 'The context explicitly states that employees of SAS in Norway are going on strike, indicating a labor dispute.'},\n",
       "  'impacted_company': 'SAS',\n",
       "  'locations': [{'city': 'Norway', 'country': 'Norway'}],\n",
       "  'impacted_business_sectors': ['Airlines', 'Travel and Tourism'],\n",
       "  'automotive_industry': {'concerned': 'no',\n",
       "   'justification': 'The SAS strike primarily affects airlines, travel, and tourism. These sectors are not directly involved in car manufacturing. Therefore, the car making industry is unlikely to be affected by the SAS strike.'},\n",
       "  'temporality': {'strike_status': 'upcoming',\n",
       "   'justification': 'The provided context states that more SAS employees in Norway will go on strike next Wednesday. Since today is 2024-08-23, the strike is upcoming.'},\n",
       "  'sources': ['https://www.svd.se/a/kwMWak/sas-strejk-i-norge'],\n",
       "  'core_company': 'SAS',\n",
       "  'supplier': 'yes',\n",
       "  'matching_level': 'company',\n",
       "  'tier': 'n',\n",
       "  'id': '17-20240823123114',\n",
       "  'relevant': 'no',\n",
       "  'duplicated': 'no',\n",
       "  'sub_articles': [{'strike': {'labor_strike': 'yes',\n",
       "     'justification': 'The text explicitly states that Norwegian SAS employees are going on strike due to disagreements over salary levels and working conditions, which are typical labor dispute issues.'},\n",
       "    'impacted_company': 'SAS',\n",
       "    'locations': [{'city': 'Oslo', 'country': 'Norway'}],\n",
       "    'impacted_business_sectors': ['Airline', 'Travel and Tourism'],\n",
       "    'automotive_industry': {'concerned': 'no',\n",
       "     'justification': 'The SAS strike involves airline, travel, and tourism sectors. These sectors are not directly involved in car manufacturing. Therefore, the car making industry is not concerned by the strike.'},\n",
       "    'temporality': {'strike_status': 'ongoing',\n",
       "     'justification': 'The article states that the strike began on August 23rd, 2024, and is expected to escalate with more cabin employees joining the strike. Therefore, the strike is ongoing.'},\n",
       "    'sources': ['https://www.dn.se/ekonomi/norska-sas-anstallda-gar-ut-i-strejk/'],\n",
       "    'core_company': 'SAS',\n",
       "    'supplier': 'yes',\n",
       "    'matching_level': 'company',\n",
       "    'id': '19-20240823123114',\n",
       "    'relevant': 'no',\n",
       "    'duplicated': 'yes'}]},\n",
       " {'strike': {'labor_strike': 'yes',\n",
       "   'justification': 'The resident doctors went on strike to demand changes in their working and living conditions, including issues like 36-hour duty shifts and lack of safe places for rest. These are typical demands related to labor conditions, making it a labor strike.'},\n",
       "  'impacted_company': 'AIIMS',\n",
       "  'locations': [{'city': 'Delhi', 'country': 'India'}],\n",
       "  'impacted_business_sectors': ['Healthcare', 'Public Services'],\n",
       "  'automotive_industry': {'concerned': 'no',\n",
       "   'justification': 'The AIIMS strike is related to the healthcare sector and public services. It does not directly impact the car making industry. AIIMS does not produce products or services used in car manufacturing.'},\n",
       "  'temporality': {'strike_status': 'ended',\n",
       "   'justification': \"The provided context explicitly states that the strike of resident doctors at AIIMS has ended and they have decided to resume work. This is further supported by the Supreme Court's appeal to the doctors to return to work and the AIIMS Director's letter urging them to resume their duties.\"},\n",
       "  'sources': ['https://navbharattimes.indiatimes.com/metro/delhi/other-news/aiims-resident-doctors-strike-over-after-supreme-court-appeal-kolkata-rape-murder-case/articleshow/112711203.cms'],\n",
       "  'core_company': 'AIIMS',\n",
       "  'supplier': 'no',\n",
       "  'matching_level': 'none',\n",
       "  'id': '18-20240823123114',\n",
       "  'relevant': 'no',\n",
       "  'duplicated': 'no',\n",
       "  'sub_articles': []},\n",
       " {'strike': {'labor_strike': 'yes',\n",
       "   'justification': 'The provided text explicitly states that the strike is due to workers demanding higher wages and more rest time, indicating a labor dispute.'},\n",
       "  'impacted_company': 'Canadian Pacific Kansas City',\n",
       "  'locations': [{'city': 'None', 'country': 'Canada'}],\n",
       "  'impacted_business_sectors': ['Transportation', 'Logistics'],\n",
       "  'automotive_industry': {'concerned': 'yes',\n",
       "   'justification': 'Canadian Pacific Kansas City is a major transportation and logistics company.  Car manufacturers rely on rail transport for moving raw materials, parts, and finished vehicles.  A strike by Canadian Pacific Kansas City would disrupt these supply chains, impacting the car making industry.'},\n",
       "  'temporality': {'strike_status': 'ongoing',\n",
       "   'justification': 'The provided context states that the strike began on 2024-08-22 and there is no information indicating it has ended. Therefore, the strike is ongoing.'},\n",
       "  'sources': ['https://www.epravda.com.ua/news/2024/08/22/718327/'],\n",
       "  'core_company': 'Canadian Pacific',\n",
       "  'supplier': 'no',\n",
       "  'matching_level': 'none',\n",
       "  'id': '21-20240823123114',\n",
       "  'relevant': 'no',\n",
       "  'duplicated': 'no',\n",
       "  'sub_articles': []},\n",
       " {'strike': {'labor_strike': 'yes',\n",
       "   'justification': 'The text mentions the UAW union threatening a nationwide strike against Stellantis due to disagreements over contractual agreements and the Belvidere plant development plans.'},\n",
       "  'impacted_company': 'Stellantis',\n",
       "  'locations': [{'city': 'Belvidere', 'country': 'USA'}],\n",
       "  'impacted_business_sectors': ['Automotive Manufacturing', 'Labor Relations'],\n",
       "  'automotive_industry': {'concerned': 'yes',\n",
       "   'justification': 'Stellantis is a major automotive manufacturer. A strike at Stellantis would directly impact the production of vehicles, which are a core component of the car-making industry. Therefore, the car-making industry would be significantly affected by a strike at Stellantis.'},\n",
       "  'temporality': {'strike_status': 'unknown',\n",
       "   'justification': \"The article mentions a potential strike, but it does not provide information about the strike's current status. It only mentions that the UAW union has threatened a strike and that Stellantis has denied any wrongdoing. Therefore, the strike status is unknown.\"},\n",
       "  'sources': ['https://www.ilgiornale.it/news/aziende/stellantis-missione-tavares-usa-2360699.html'],\n",
       "  'core_company': 'Stellantis',\n",
       "  'supplier': 'no',\n",
       "  'matching_level': 'none',\n",
       "  'id': '23-20240823123114',\n",
       "  'relevant': 'no',\n",
       "  'duplicated': 'no',\n",
       "  'sub_articles': []},\n",
       " {'strike': {'labor_strike': 'yes',\n",
       "   'justification': 'The text explicitly mentions a \"strike by the actors and writers\" which is a classic definition of a labor strike.'},\n",
       "  'impacted_company': 'Warner Bros.',\n",
       "  'locations': [{'city': 'Los Angeles', 'country': 'United States'}],\n",
       "  'impacted_business_sectors': ['Entertainment', 'Film Production'],\n",
       "  'automotive_industry': {'concerned': 'no',\n",
       "   'justification': \"Warner Bros. is an entertainment company focused on film production. Their products, like 'The Lord of the Rings: War of the Rohirim', are not used in the car making industry. Therefore, a strike at Warner Bros. would not directly affect car manufacturers.\"},\n",
       "  'temporality': {'strike_status': 'ended',\n",
       "   'justification': 'The article states that the film was delayed due to the strike by actors and writers, but it also mentions that the film is scheduled to be released in December 2024. This implies that the strike has ended, as the film is now in production and has a release date.'},\n",
       "  'sources': ['https://www.journaldugeek.com/2024/08/23/le-seigneur-des-anneaux-la-guerre-du-rohirim-soffre-un-premier-trailer-muscle/'],\n",
       "  'core_company': 'Warner Bros.',\n",
       "  'supplier': 'no',\n",
       "  'matching_level': 'none',\n",
       "  'id': '24-20240823123114',\n",
       "  'relevant': 'no',\n",
       "  'duplicated': 'no',\n",
       "  'sub_articles': []},\n",
       " {'strike': {'labor_strike': 'yes',\n",
       "   'justification': 'The text explicitly states that the strike is a result of a dispute between CN Rail and the Teamster Canada Rail Conference, a union representing train workers. This indicates a labor dispute, making it a labor strike.'},\n",
       "  'impacted_company': 'Canadian National Railway (CN Rail)',\n",
       "  'locations': [{'city': 'Vancouver', 'country': 'Canada'},\n",
       "   {'city': 'Halifax', 'country': 'Canada'},\n",
       "   {'city': 'New Orleans', 'country': 'United States'}],\n",
       "  'impacted_business_sectors': ['Transportation', 'Logistics'],\n",
       "  'automotive_industry': {'concerned': 'yes',\n",
       "   'justification': \"CN Rail's transportation and logistics services are crucial for the automotive industry. They transport raw materials, parts, and finished vehicles across North America. A strike would disrupt this supply chain, impacting car manufacturing and potentially leading to production delays and shortages.\"},\n",
       "  'temporality': {'strike_status': 'ongoing',\n",
       "   'justification': 'The article states that the strike began on Thursday, which is before the current date of 2024-08-23.  There is no indication that the strike has ended, so it is ongoing.'},\n",
       "  'sources': ['https://www.nrc.nl/nieuws/2024/08/22/spoorstaking-hindert-handel-tussen-canada-vs-en-mexico-a4863498'],\n",
       "  'core_company': 'CN Rail',\n",
       "  'supplier': 'no',\n",
       "  'matching_level': 'none',\n",
       "  'id': '26-20240823123114',\n",
       "  'relevant': 'no',\n",
       "  'duplicated': 'no',\n",
       "  'sub_articles': []}]"
      ]
     },
     "execution_count": 45,
     "metadata": {},
     "output_type": "execute_result"
    }
   ],
   "source": [
    "final_results"
   ]
  },
  {
   "cell_type": "markdown",
   "id": "def515a1-8ae8-4f78-b59b-5dbdba511180",
   "metadata": {},
   "source": [
    "## Saving the final results"
   ]
  },
  {
   "cell_type": "code",
   "execution_count": 46,
   "id": "9e89ec60-ca87-4b31-9fa8-e0ab08635f7b",
   "metadata": {
    "tags": []
   },
   "outputs": [
    {
     "name": "stdout",
     "output_type": "stream",
     "text": [
      "saved !\n"
     ]
    }
   ],
   "source": [
    "# file path where the results will be saved\n",
    "filename = \"/home/jupyter/news/results/json/strike/complete_pipeline_test.json\"\n",
    "with open(filename, \"w\") as final:\n",
    "    json.dump(final_results, final, indent=4)\n",
    "    print(\"saved !\")"
   ]
  },
  {
   "cell_type": "code",
   "execution_count": null,
   "id": "32d2d90d-e5b1-4748-816e-20b29d942fb1",
   "metadata": {},
   "outputs": [],
   "source": []
  }
 ],
 "metadata": {
  "environment": {
   "kernel": "python3",
   "name": ".m119",
   "type": "gcloud",
   "uri": "us-docker.pkg.dev/deeplearning-platform-release/gcr.io/:m119"
  },
  "kernelspec": {
   "display_name": "Python 3 (Local)",
   "language": "python",
   "name": "python3"
  },
  "language_info": {
   "codemirror_mode": {
    "name": "ipython",
    "version": 3
   },
   "file_extension": ".py",
   "mimetype": "text/x-python",
   "name": "python",
   "nbconvert_exporter": "python",
   "pygments_lexer": "ipython3",
   "version": "3.10.14"
  },
  "widgets": {
   "application/vnd.jupyter.widget-state+json": {
    "state": {},
    "version_major": 2,
    "version_minor": 0
   }
  }
 },
 "nbformat": 4,
 "nbformat_minor": 5
}
