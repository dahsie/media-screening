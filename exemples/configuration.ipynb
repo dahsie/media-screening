{
 "cells": [
  {
   "cell_type": "markdown",
   "id": "cd0ac295-b86c-4ee8-b649-782a483b3052",
   "metadata": {},
   "source": [
    "# Import"
   ]
  },
  {
   "cell_type": "code",
   "execution_count": 13,
   "id": "28e9921d-25a7-440c-8225-ca2fa0b10843",
   "metadata": {
    "tags": []
   },
   "outputs": [],
   "source": [
    "import os \n",
    "import sys \n",
    "import json\n",
    "sys.path.append(\"/home/jupyter/news/src\")\n",
    "from configuration import Configuration"
   ]
  },
  {
   "cell_type": "markdown",
   "id": "42cdab51-b3d1-4799-a8c2-599d9489b88a",
   "metadata": {},
   "source": [
    "# Creating config file for the first time"
   ]
  },
  {
   "cell_type": "markdown",
   "id": "eaf29d83-83f8-45a0-bbe0-dea2f5e623e1",
   "metadata": {},
   "source": [
    "## Generation initial config dict \n",
    "We generate a dict that will be use to generate the finale config file. This final config should be generate once and be used at every moment if we do not add some new keys. "
   ]
  },
  {
   "cell_type": "code",
   "execution_count": 14,
   "id": "e6a718fa-aa4d-4863-afcf-afc7178638dd",
   "metadata": {
    "tags": []
   },
   "outputs": [],
   "source": [
    "dict_config = {}\n",
    "dict_config['keywords'] = ['strike', 'picket line', 'employee protest']\n",
    "dict_config['country_lang'] = [\n",
    "    {'country': 'BE','lang': ['fr']}, # Belgium\n",
    "    {'country': 'CH','lang': ['fr', 'de', 'it']}, # Searching news with differentes languge in the same country where threre are several official language\n",
    "    {'country': 'BG','lang': ['bg']} # Bulgaria\n",
    "    #...\n",
    "]\n",
    "\n",
    "dict_config['news_api_key'] = 'News API KEY to add if you use news api' # if you use News API services\n",
    "dict_config['rag_cong'] = {'vertexai_llm': 'gemini-1.5-flash',\n",
    "                            'vertexai_embedding_name': 'text-embedding-004',\n",
    "                            'chunk_size': 2000, 'chunk_overlap': 10, 'max_doc': 5, 'retry': 1}"
   ]
  },
  {
   "cell_type": "code",
   "execution_count": 15,
   "id": "51433cac-d77e-41a7-84d9-c3ec66a16f4b",
   "metadata": {
    "tags": []
   },
   "outputs": [
    {
     "data": {
      "text/plain": [
       "{'keywords': ['strike', 'picket line', 'employee protest'],\n",
       " 'country_lang': [{'country': 'BE', 'lang': ['fr']},\n",
       "  {'country': 'CH', 'lang': ['fr', 'de', 'it']},\n",
       "  {'country': 'BG', 'lang': ['bg']}],\n",
       " 'news_api_key': 'News API KEY to add if you use news api',\n",
       " 'rag_cong': {'vertexai_llm': 'gemini-1.5-flash',\n",
       "  'vertexai_embedding_name': 'text-embedding-004',\n",
       "  'chunk_size': 2000,\n",
       "  'chunk_overlap': 10,\n",
       "  'max_doc': 5,\n",
       "  'retry': 1}}"
      ]
     },
     "execution_count": 15,
     "metadata": {},
     "output_type": "execute_result"
    }
   ],
   "source": [
    "dict_config"
   ]
  },
  {
   "cell_type": "markdown",
   "id": "e941863e-dba6-45ab-9d52-c60d8ecadf12",
   "metadata": {},
   "source": [
    "## Saving the initial config file"
   ]
  },
  {
   "cell_type": "code",
   "execution_count": 16,
   "id": "9b291861-4dd7-4fe5-8934-30fb16ca940d",
   "metadata": {
    "tags": []
   },
   "outputs": [],
   "source": [
    "initial_config_file =\"/home/jupyter/news/config/initial_config_file.json\"\n",
    "with open(initial_config_file, 'w') as file :\n",
    "    json.dump(dict_config, file, indent = 4)"
   ]
  },
  {
   "cell_type": "markdown",
   "id": "2832e3bb-4943-4531-bd5e-fac7038a758d",
   "metadata": {},
   "source": [
    "## Generating final config file from initial config file\n",
    "It it this final config file which will be used to get news"
   ]
  },
  {
   "cell_type": "code",
   "execution_count": 17,
   "id": "ddd85539-2ac8-46ad-8eb4-e219da9b1d09",
   "metadata": {},
   "outputs": [],
   "source": [
    "initial_config_file = \"/home/jupyter/news/config/initial_config_file.json\"\n",
    "final_config_file = \"/home/jupyter/news/config/final_config_file.json\"\n",
    "config = Configuration( initial_config_file = initial_config_file, final_config_file = final_config_file)"
   ]
  },
  {
   "cell_type": "markdown",
   "id": "d8ec69fa-0fdc-4559-979c-944b5a26da16",
   "metadata": {},
   "source": [
    "# Final config file "
   ]
  },
  {
   "cell_type": "code",
   "execution_count": 20,
   "id": "dd01760f-98f6-4812-a218-186668f1cb51",
   "metadata": {
    "tags": []
   },
   "outputs": [],
   "source": [
    "final_config_file = \"/home/jupyter/news/config/final_config_file.json\"\n",
    "with open(final_config_file, 'r') as file :\n",
    "    final_config = json.load(file)"
   ]
  },
  {
   "cell_type": "code",
   "execution_count": 21,
   "id": "018341f0-0c72-495e-bb48-4dcab1b16690",
   "metadata": {
    "tags": []
   },
   "outputs": [
    {
     "data": {
      "text/plain": [
       "{'keywords': ['strike', 'picket line', 'employee protest'],\n",
       " 'country_lang': [{'country': 'BE',\n",
       "   'lang': 'fr',\n",
       "   'queries': ['grève', 'piquet de grève', 'protestation des employés']},\n",
       "  {'country': 'CH',\n",
       "   'lang': 'fr',\n",
       "   'queries': ['grève', 'piquet de grève', 'protestation des employés']},\n",
       "  {'country': 'CH',\n",
       "   'lang': 'de',\n",
       "   'queries': ['schlagen', 'Streikposten', 'Mitarbeiterprotest']},\n",
       "  {'country': 'CH',\n",
       "   'lang': 'it',\n",
       "   'queries': ['sciopero', 'picchetto', 'protesta dei dipendenti']},\n",
       "  {'country': 'BG',\n",
       "   'lang': 'bg',\n",
       "   'queries': ['стачка', 'пикет линия', 'протест на служител']}],\n",
       " 'news_api_key': 'News API KEY to add if you use news api',\n",
       " 'rag_cong': {'vertexai_llm': 'gemini-1.5-flash',\n",
       "  'vertexai_embedding_name': 'text-embedding-004',\n",
       "  'chunk_size': 2000,\n",
       "  'chunk_overlap': 10,\n",
       "  'max_doc': 5,\n",
       "  'retry': 1}}"
      ]
     },
     "execution_count": 21,
     "metadata": {},
     "output_type": "execute_result"
    }
   ],
   "source": [
    "final_config"
   ]
  },
  {
   "cell_type": "code",
   "execution_count": null,
   "id": "0e24179e-b352-41c7-b909-7ffc060538d7",
   "metadata": {},
   "outputs": [],
   "source": []
  }
 ],
 "metadata": {
  "environment": {
   "kernel": "python3",
   "name": ".m119",
   "type": "gcloud",
   "uri": "us-docker.pkg.dev/deeplearning-platform-release/gcr.io/:m119"
  },
  "kernelspec": {
   "display_name": "Python 3 (Local)",
   "language": "python",
   "name": "python3"
  },
  "language_info": {
   "codemirror_mode": {
    "name": "ipython",
    "version": 3
   },
   "file_extension": ".py",
   "mimetype": "text/x-python",
   "name": "python",
   "nbconvert_exporter": "python",
   "pygments_lexer": "ipython3",
   "version": "3.10.14"
  },
  "widgets": {
   "application/vnd.jupyter.widget-state+json": {
    "state": {},
    "version_major": 2,
    "version_minor": 0
   }
  }
 },
 "nbformat": 4,
 "nbformat_minor": 5
}
