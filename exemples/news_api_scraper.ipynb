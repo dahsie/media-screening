{
 "cells": [
  {
   "cell_type": "code",
   "execution_count": 2,
   "id": "10a0ca53-0097-4673-8494-10f4f7a5c2ef",
   "metadata": {
    "tags": []
   },
   "outputs": [],
   "source": [
    "import sys\n",
    "import os\n",
    "sys.path.append(\"/home/jupyter/news/src\")\n",
    "from newsapiscraper import NewsApiScraper\n",
    "from newscollector import NewsCollector\n",
    "import pandas as pd\n",
    "import json\n",
    "import requests"
   ]
  },
  {
   "cell_type": "markdown",
   "id": "7cc4df4d-a9bc-4596-a7ef-c482c9cf42bd",
   "metadata": {},
   "source": [
    "# Loading config file"
   ]
  },
  {
   "cell_type": "code",
   "execution_count": 4,
   "id": "8a6c17f1-cd0c-432f-9dbe-47afca09cfe6",
   "metadata": {
    "tags": []
   },
   "outputs": [],
   "source": [
    "config_file = '/home/jupyter/news/config/final_config_file.json'"
   ]
  },
  {
   "cell_type": "code",
   "execution_count": 5,
   "id": "51f6e5d3-6801-48b7-a66f-de5619cd082d",
   "metadata": {
    "tags": []
   },
   "outputs": [],
   "source": [
    "with open(config_file, 'r') as file :\n",
    "    conf = json.load(file)"
   ]
  },
  {
   "cell_type": "code",
   "execution_count": 6,
   "id": "07109226-6fa9-4ba4-af51-e435b75481df",
   "metadata": {
    "tags": []
   },
   "outputs": [
    {
     "data": {
      "text/plain": [
       "{'keywords': ['strike', 'picket line', 'employee protest'],\n",
       " 'country_lang': [{'country': 'BE',\n",
       "   'lang': 'fr',\n",
       "   'queries': ['grève', 'piquet de grève', 'protestation des employés']},\n",
       "  {'country': 'CH',\n",
       "   'lang': 'fr',\n",
       "   'queries': ['grève', 'piquet de grève', 'protestation des employés']},\n",
       "  {'country': 'CH',\n",
       "   'lang': 'de',\n",
       "   'queries': ['schlagen', 'Streikposten', 'Mitarbeiterprotest']},\n",
       "  {'country': 'CH',\n",
       "   'lang': 'it',\n",
       "   'queries': ['sciopero', 'picchetto', 'protesta dei dipendenti']},\n",
       "  {'country': 'BG',\n",
       "   'lang': 'bg',\n",
       "   'queries': ['стачка', 'пикет линия', 'протест на служител']}],\n",
       " 'news_api_key': 'News API KEY to add if you use news api',\n",
       " 'rag_cong': {'vertexai_llm': 'gemini-1.5-flash',\n",
       "  'vertexai_embedding_name': 'text-embedding-004',\n",
       "  'chunk_size': 2000,\n",
       "  'chunk_overlap': 10,\n",
       "  'max_doc': 5,\n",
       "  'retry': 1}}"
      ]
     },
     "execution_count": 6,
     "metadata": {},
     "output_type": "execute_result"
    }
   ],
   "source": [
    "conf"
   ]
  },
  {
   "cell_type": "markdown",
   "id": "91670feb-5c8e-4caf-ba19-33036b5fcc7d",
   "metadata": {},
   "source": [
    "# Instanciating NewsApiScraper"
   ]
  },
  {
   "cell_type": "code",
   "execution_count": 7,
   "id": "4c02a12e-f970-44b1-acfb-20820dab76e6",
   "metadata": {
    "tags": []
   },
   "outputs": [],
   "source": [
    "scrapper = NewsApiScraper(api_key= conf['news_api_key'], start_date='2024-08-07',end_date='2024-08-08')"
   ]
  },
  {
   "cell_type": "markdown",
   "id": "93c70ad1-0f86-4178-8b7b-7ab381a72b2c",
   "metadata": {},
   "source": [
    "# Collecting news via Newscolllector instance"
   ]
  },
  {
   "cell_type": "code",
   "execution_count": 8,
   "id": "6cfca4ec-aabe-4b4f-84fd-03624062dcae",
   "metadata": {
    "scrolled": true,
    "tags": []
   },
   "outputs": [
    {
     "name": "stderr",
     "output_type": "stream",
     "text": [
      "  0%|          | 0/5 [00:00<?, ?it/s]"
     ]
    },
    {
     "name": "stdout",
     "output_type": "stream",
     "text": [
      "{'country': 'BE', 'lang': 'fr', 'queries': ['grève', 'piquet de grève', 'protestation des employés']}\n",
      "search ended !\n"
     ]
    },
    {
     "name": "stderr",
     "output_type": "stream",
     "text": [
      "\n",
      "  0%|          | 0/11 [00:00<?, ?it/s]\u001b[A\n",
      "  9%|▉         | 1/11 [00:00<00:05,  1.78it/s]\u001b[A\n",
      " 18%|█▊        | 2/11 [00:01<00:04,  2.03it/s]\u001b[A\n",
      " 27%|██▋       | 3/11 [00:01<00:03,  2.41it/s]\u001b[A\n",
      " 36%|███▋      | 4/11 [00:01<00:02,  3.03it/s]\u001b[A\n",
      " 45%|████▌     | 5/11 [00:01<00:01,  3.24it/s]\u001b[A\n",
      " 55%|█████▍    | 6/11 [00:02<00:01,  2.85it/s]\u001b[A\n",
      " 73%|███████▎  | 8/11 [00:02<00:00,  3.40it/s]\u001b[A\n",
      " 82%|████████▏ | 9/11 [00:03<00:00,  3.15it/s]\u001b[A\n",
      " 91%|█████████ | 10/11 [00:03<00:00,  3.36it/s]\u001b[A\n",
      "100%|██████████| 11/11 [00:03<00:00,  2.97it/s]\u001b[A\n"
     ]
    },
    {
     "name": "stdout",
     "output_type": "stream",
     "text": [
      "News collection ended ! \n",
      "BE fr grève\n",
      "https://newsapi.org/v2/everything?q=grève&apiKey=b1dcacfbc49d4ac1a48db5f5652b11a2&language=fr&from=2024-08-07&to=2024-08-08\n",
      " data_.shape :(11, 6)\n",
      "search ended !\n"
     ]
    },
    {
     "name": "stderr",
     "output_type": "stream",
     "text": [
      "\n",
      "0it [00:00, ?it/s]\u001b[A"
     ]
    },
    {
     "name": "stdout",
     "output_type": "stream",
     "text": [
      "News collection ended ! \n",
      "BE fr piquet de grève\n",
      "https://newsapi.org/v2/everything?q=piquet+de+grève&apiKey=b1dcacfbc49d4ac1a48db5f5652b11a2&language=fr&from=2024-08-07&to=2024-08-08\n"
     ]
    },
    {
     "name": "stderr",
     "output_type": "stream",
     "text": [
      "\n"
     ]
    },
    {
     "name": "stdout",
     "output_type": "stream",
     "text": [
      "search ended !\n"
     ]
    },
    {
     "name": "stderr",
     "output_type": "stream",
     "text": [
      "\n",
      "0it [00:00, ?it/s]\u001b[A\n",
      " 20%|██        | 1/5 [00:04<00:19,  4.95s/it]"
     ]
    },
    {
     "name": "stdout",
     "output_type": "stream",
     "text": [
      "News collection ended ! \n",
      "BE fr protestation des employés\n",
      "https://newsapi.org/v2/everything?q=protestation+des+employés&apiKey=b1dcacfbc49d4ac1a48db5f5652b11a2&language=fr&from=2024-08-07&to=2024-08-08\n",
      "{'country': 'CH', 'lang': 'fr', 'queries': ['grève', 'piquet de grève', 'protestation des employés']}\n",
      "search ended !\n"
     ]
    },
    {
     "name": "stderr",
     "output_type": "stream",
     "text": [
      "\n",
      "0it [00:00, ?it/s]\u001b[A"
     ]
    },
    {
     "name": "stdout",
     "output_type": "stream",
     "text": [
      "News collection ended ! \n",
      "CH fr grève\n",
      "https://newsapi.org/v2/everything?q=grève&apiKey=b1dcacfbc49d4ac1a48db5f5652b11a2&language=fr&from=2024-08-07&to=2024-08-08\n"
     ]
    },
    {
     "name": "stderr",
     "output_type": "stream",
     "text": [
      "\n"
     ]
    },
    {
     "name": "stdout",
     "output_type": "stream",
     "text": [
      "search ended !\n"
     ]
    },
    {
     "name": "stderr",
     "output_type": "stream",
     "text": [
      "\n",
      "0it [00:00, ?it/s]\u001b[A"
     ]
    },
    {
     "name": "stdout",
     "output_type": "stream",
     "text": [
      "News collection ended ! \n",
      "CH fr piquet de grève\n",
      "https://newsapi.org/v2/everything?q=piquet+de+grève&apiKey=b1dcacfbc49d4ac1a48db5f5652b11a2&language=fr&from=2024-08-07&to=2024-08-08\n"
     ]
    },
    {
     "name": "stderr",
     "output_type": "stream",
     "text": [
      "\n"
     ]
    },
    {
     "name": "stdout",
     "output_type": "stream",
     "text": [
      "search ended !\n"
     ]
    },
    {
     "name": "stderr",
     "output_type": "stream",
     "text": [
      "\n",
      "0it [00:00, ?it/s]\u001b[A\n",
      " 40%|████      | 2/5 [00:06<00:09,  3.21s/it]"
     ]
    },
    {
     "name": "stdout",
     "output_type": "stream",
     "text": [
      "News collection ended ! \n",
      "CH fr protestation des employés\n",
      "https://newsapi.org/v2/everything?q=protestation+des+employés&apiKey=b1dcacfbc49d4ac1a48db5f5652b11a2&language=fr&from=2024-08-07&to=2024-08-08\n",
      "{'country': 'CH', 'lang': 'de', 'queries': ['schlagen', 'Streikposten', 'Mitarbeiterprotest']}\n",
      "search ended !\n"
     ]
    },
    {
     "name": "stderr",
     "output_type": "stream",
     "text": [
      "\n",
      "  0%|          | 0/87 [00:00<?, ?it/s]\u001b[A\n",
      "  1%|          | 1/87 [00:00<00:14,  5.85it/s]\u001b[A\n",
      "  2%|▏         | 2/87 [00:00<00:41,  2.06it/s]\u001b[A\n",
      "  3%|▎         | 3/87 [00:01<00:30,  2.80it/s]\u001b[A\n",
      "  5%|▍         | 4/87 [00:01<00:23,  3.60it/s]\u001b[A\n",
      "  6%|▌         | 5/87 [00:01<00:22,  3.61it/s]\u001b[A\n",
      "  7%|▋         | 6/87 [00:01<00:26,  3.02it/s]\u001b[A\n",
      "  8%|▊         | 7/87 [00:02<00:34,  2.33it/s]\u001b[A\n",
      "  9%|▉         | 8/87 [00:03<00:41,  1.91it/s]\u001b[A\n",
      " 10%|█         | 9/87 [00:03<00:38,  2.01it/s]\u001b[A\n",
      " 11%|█▏        | 10/87 [00:03<00:32,  2.41it/s]\u001b[A\n",
      " 13%|█▎        | 11/87 [00:04<00:24,  3.09it/s]\u001b[A\n",
      " 14%|█▍        | 12/87 [00:05<00:49,  1.50it/s]\u001b[A\n",
      " 15%|█▍        | 13/87 [00:05<00:43,  1.70it/s]\u001b[A\n",
      " 16%|█▌        | 14/87 [00:06<00:48,  1.50it/s]\u001b[A\n",
      " 17%|█▋        | 15/87 [00:07<00:42,  1.67it/s]\u001b[A\n",
      " 18%|█▊        | 16/87 [00:07<00:45,  1.57it/s]\u001b[A\n",
      " 20%|█▉        | 17/87 [00:08<00:37,  1.88it/s]\u001b[A\n",
      " 21%|██        | 18/87 [00:08<00:32,  2.11it/s]\u001b[A\n",
      " 22%|██▏       | 19/87 [00:08<00:26,  2.54it/s]\u001b[A\n",
      " 23%|██▎       | 20/87 [00:09<00:23,  2.80it/s]\u001b[A\n",
      " 24%|██▍       | 21/87 [00:09<00:24,  2.70it/s]\u001b[A\n",
      " 25%|██▌       | 22/87 [00:09<00:25,  2.59it/s]\u001b[A\n",
      " 26%|██▋       | 23/87 [00:10<00:23,  2.68it/s]\u001b[A\n",
      " 28%|██▊       | 24/87 [00:10<00:24,  2.60it/s]\u001b[A\n",
      " 29%|██▊       | 25/87 [00:11<00:23,  2.59it/s]\u001b[A\n",
      " 30%|██▉       | 26/87 [00:11<00:22,  2.70it/s]\u001b[A\n",
      " 31%|███       | 27/87 [00:11<00:21,  2.80it/s]\u001b[A\n",
      " 32%|███▏      | 28/87 [00:12<00:22,  2.67it/s]\u001b[A\n",
      " 33%|███▎      | 29/87 [00:12<00:22,  2.59it/s]\u001b[A\n",
      " 34%|███▍      | 30/87 [00:13<00:24,  2.31it/s]\u001b[A\n",
      " 36%|███▌      | 31/87 [00:13<00:22,  2.48it/s]\u001b[A\n",
      " 37%|███▋      | 32/87 [00:13<00:21,  2.51it/s]\u001b[A\n",
      " 38%|███▊      | 33/87 [00:14<00:28,  1.91it/s]\u001b[A\n",
      " 39%|███▉      | 34/87 [00:14<00:22,  2.35it/s]\u001b[A\n",
      " 40%|████      | 35/87 [00:15<00:19,  2.73it/s]\u001b[A\n",
      " 41%|████▏     | 36/87 [00:15<00:17,  3.00it/s]\u001b[A\n",
      " 43%|████▎     | 37/87 [00:15<00:15,  3.16it/s]\u001b[A\n",
      " 44%|████▎     | 38/87 [00:15<00:15,  3.14it/s]\u001b[A\n",
      " 45%|████▍     | 39/87 [00:16<00:15,  3.16it/s]\u001b[A\n",
      " 46%|████▌     | 40/87 [00:16<00:16,  2.84it/s]\u001b[A\n",
      " 47%|████▋     | 41/87 [00:16<00:13,  3.34it/s]\u001b[A\n",
      " 48%|████▊     | 42/87 [00:17<00:12,  3.53it/s]\u001b[A\n",
      " 49%|████▉     | 43/87 [00:17<00:12,  3.45it/s]\u001b[A\n",
      " 51%|█████     | 44/87 [00:17<00:13,  3.19it/s]\u001b[A\n",
      " 52%|█████▏    | 45/87 [00:18<00:12,  3.27it/s]\u001b[A\n",
      " 53%|█████▎    | 46/87 [00:18<00:16,  2.44it/s]\u001b[A\n",
      " 54%|█████▍    | 47/87 [00:19<00:15,  2.55it/s]\u001b[A\n",
      " 55%|█████▌    | 48/87 [00:19<00:12,  3.06it/s]\u001b[A\n",
      " 56%|█████▋    | 49/87 [00:19<00:11,  3.31it/s]\u001b[A\n",
      " 57%|█████▋    | 50/87 [00:19<00:09,  3.99it/s]\u001b[A\n",
      " 59%|█████▊    | 51/87 [00:19<00:08,  4.33it/s]\u001b[A\n",
      " 60%|█████▉    | 52/87 [00:20<00:08,  3.91it/s]\u001b[A\n",
      " 61%|██████    | 53/87 [00:20<00:08,  3.90it/s]\u001b[A\n",
      " 62%|██████▏   | 54/87 [00:20<00:09,  3.66it/s]\u001b[A\n",
      " 63%|██████▎   | 55/87 [00:21<00:09,  3.33it/s]\u001b[A\n",
      " 64%|██████▍   | 56/87 [00:21<00:08,  3.63it/s]\u001b[A\n",
      " 66%|██████▌   | 57/87 [00:21<00:07,  3.97it/s]\u001b[A\n",
      " 67%|██████▋   | 58/87 [00:21<00:06,  4.15it/s]\u001b[A\n",
      " 68%|██████▊   | 59/87 [00:22<00:10,  2.77it/s]\u001b[A\n",
      " 69%|██████▉   | 60/87 [00:22<00:08,  3.29it/s]\u001b[A\n",
      " 70%|███████   | 61/87 [00:22<00:07,  3.67it/s]\u001b[A\n",
      " 71%|███████▏  | 62/87 [00:22<00:06,  3.95it/s]\u001b[A\n",
      " 72%|███████▏  | 63/87 [00:23<00:05,  4.40it/s]\u001b[A\n",
      " 74%|███████▎  | 64/87 [00:23<00:06,  3.55it/s]\u001b[A\n",
      " 75%|███████▍  | 65/87 [00:23<00:06,  3.52it/s]\u001b[A\n",
      " 76%|███████▌  | 66/87 [00:24<00:06,  3.41it/s]\u001b[A\n",
      " 77%|███████▋  | 67/87 [00:24<00:07,  2.85it/s]\u001b[A\n",
      " 78%|███████▊  | 68/87 [00:25<00:08,  2.35it/s]\u001b[A\n",
      " 79%|███████▉  | 69/87 [00:25<00:06,  2.66it/s]\u001b[A\n",
      " 80%|████████  | 70/87 [00:25<00:05,  3.40it/s]\u001b[A\n",
      " 82%|████████▏ | 71/87 [00:26<00:06,  2.41it/s]\u001b[A\n",
      " 83%|████████▎ | 72/87 [00:26<00:06,  2.25it/s]\u001b[A\n",
      " 84%|████████▍ | 73/87 [00:26<00:05,  2.56it/s]\u001b[A\n",
      " 85%|████████▌ | 74/87 [00:27<00:04,  2.95it/s]\u001b[A\n",
      " 86%|████████▌ | 75/87 [00:27<00:04,  2.59it/s]\u001b[A\n",
      " 87%|████████▋ | 76/87 [00:27<00:03,  2.96it/s]\u001b[A\n",
      " 89%|████████▊ | 77/87 [00:28<00:03,  2.71it/s]\u001b[A\n",
      " 90%|████████▉ | 78/87 [00:28<00:03,  2.28it/s]\u001b[A\n",
      " 91%|█████████ | 79/87 [00:29<00:03,  2.36it/s]\u001b[A\n",
      " 92%|█████████▏| 80/87 [00:29<00:03,  2.28it/s]\u001b[A\n",
      " 93%|█████████▎| 81/87 [00:30<00:02,  2.15it/s]\u001b[A\n",
      " 94%|█████████▍| 82/87 [00:30<00:02,  2.16it/s]\u001b[A\n",
      " 95%|█████████▌| 83/87 [00:31<00:01,  2.37it/s]\u001b[A\n",
      " 97%|█████████▋| 84/87 [00:31<00:01,  2.38it/s]\u001b[A\n",
      " 98%|█████████▊| 85/87 [00:31<00:00,  2.70it/s]\u001b[A\n",
      " 99%|█████████▉| 86/87 [00:31<00:00,  3.22it/s]\u001b[A\n",
      "100%|██████████| 87/87 [00:32<00:00,  2.71it/s]\u001b[A\n"
     ]
    },
    {
     "name": "stdout",
     "output_type": "stream",
     "text": [
      "News collection ended ! \n",
      "CH de schlagen\n",
      "https://newsapi.org/v2/everything?q=schlagen&apiKey=b1dcacfbc49d4ac1a48db5f5652b11a2&language=de&from=2024-08-07&to=2024-08-08\n",
      " data_.shape :(86, 6)\n",
      "search ended !\n"
     ]
    },
    {
     "name": "stderr",
     "output_type": "stream",
     "text": [
      "\n",
      "0it [00:00, ?it/s]\u001b[A\n"
     ]
    },
    {
     "name": "stdout",
     "output_type": "stream",
     "text": [
      "News collection ended ! \n",
      "CH de Streikposten\n",
      "https://newsapi.org/v2/everything?q=Streikposten&apiKey=b1dcacfbc49d4ac1a48db5f5652b11a2&language=de&from=2024-08-07&to=2024-08-08\n",
      "search ended !\n"
     ]
    },
    {
     "name": "stderr",
     "output_type": "stream",
     "text": [
      "\n",
      "0it [00:00, ?it/s]\u001b[A\n",
      " 60%|██████    | 3/5 [00:41<00:34, 17.37s/it]"
     ]
    },
    {
     "name": "stdout",
     "output_type": "stream",
     "text": [
      "News collection ended ! \n",
      "CH de Mitarbeiterprotest\n",
      "https://newsapi.org/v2/everything?q=Mitarbeiterprotest&apiKey=b1dcacfbc49d4ac1a48db5f5652b11a2&language=de&from=2024-08-07&to=2024-08-08\n",
      "{'country': 'CH', 'lang': 'it', 'queries': ['sciopero', 'picchetto', 'protesta dei dipendenti']}\n",
      "search ended !\n"
     ]
    },
    {
     "name": "stderr",
     "output_type": "stream",
     "text": [
      "\n",
      "  0%|          | 0/13 [00:00<?, ?it/s]\u001b[A\n",
      "  8%|▊         | 1/13 [00:00<00:04,  2.78it/s]\u001b[A\n",
      " 15%|█▌        | 2/13 [00:00<00:03,  3.00it/s]\u001b[A\n",
      " 23%|██▎       | 3/13 [00:01<00:05,  1.79it/s]\u001b[A\n",
      " 31%|███       | 4/13 [00:01<00:04,  2.22it/s]\u001b[A\n",
      " 38%|███▊      | 5/13 [00:02<00:02,  2.67it/s]\u001b[A\n",
      " 46%|████▌     | 6/13 [00:02<00:02,  3.08it/s]\u001b[A\n",
      " 54%|█████▍    | 7/13 [00:02<00:01,  3.19it/s]\u001b[A\n",
      " 62%|██████▏   | 8/13 [00:03<00:02,  2.04it/s]\u001b[A\n",
      " 69%|██████▉   | 9/13 [00:03<00:01,  2.12it/s]\u001b[A\n",
      " 77%|███████▋  | 10/13 [00:04<00:01,  2.54it/s]\u001b[A\n",
      " 85%|████████▍ | 11/13 [00:04<00:00,  2.79it/s]\u001b[A\n",
      " 92%|█████████▏| 12/13 [00:04<00:00,  3.20it/s]\u001b[A\n",
      "100%|██████████| 13/13 [00:04<00:00,  2.69it/s]\u001b[A\n"
     ]
    },
    {
     "name": "stdout",
     "output_type": "stream",
     "text": [
      "News collection ended ! \n",
      "CH it sciopero\n",
      "https://newsapi.org/v2/everything?q=sciopero&apiKey=b1dcacfbc49d4ac1a48db5f5652b11a2&language=it&from=2024-08-07&to=2024-08-08\n",
      " data_.shape :(13, 6)\n",
      "search ended !\n"
     ]
    },
    {
     "name": "stderr",
     "output_type": "stream",
     "text": [
      "\n",
      "0it [00:00, ?it/s]\u001b[A"
     ]
    },
    {
     "name": "stdout",
     "output_type": "stream",
     "text": [
      "News collection ended ! \n",
      "CH it picchetto\n",
      "https://newsapi.org/v2/everything?q=picchetto&apiKey=b1dcacfbc49d4ac1a48db5f5652b11a2&language=it&from=2024-08-07&to=2024-08-08\n"
     ]
    },
    {
     "name": "stderr",
     "output_type": "stream",
     "text": [
      "\n"
     ]
    },
    {
     "name": "stdout",
     "output_type": "stream",
     "text": [
      "search ended !\n"
     ]
    },
    {
     "name": "stderr",
     "output_type": "stream",
     "text": [
      "\n",
      "  0%|          | 0/2 [00:00<?, ?it/s]\u001b[A\n",
      " 50%|█████     | 1/2 [00:00<00:00,  4.95it/s]\u001b[A\n",
      "100%|██████████| 2/2 [00:00<00:00,  3.05it/s]\u001b[A\n",
      " 80%|████████  | 4/5 [00:48<00:13, 13.36s/it]"
     ]
    },
    {
     "name": "stdout",
     "output_type": "stream",
     "text": [
      "News collection ended ! \n",
      "CH it protesta dei dipendenti\n",
      "https://newsapi.org/v2/everything?q=protesta+dei+dipendenti&apiKey=b1dcacfbc49d4ac1a48db5f5652b11a2&language=it&from=2024-08-07&to=2024-08-08\n",
      " data_.shape :(2, 6)\n",
      "{'country': 'BG', 'lang': 'bg', 'queries': ['стачка', 'пикет линия', 'протест на служител']}\n",
      "search ended !\n"
     ]
    },
    {
     "name": "stderr",
     "output_type": "stream",
     "text": [
      "\n",
      "0it [00:00, ?it/s]\u001b[A"
     ]
    },
    {
     "name": "stdout",
     "output_type": "stream",
     "text": [
      "News collection ended ! \n",
      "BG bg стачка\n",
      "https://newsapi.org/v2/everything?q=стачка&apiKey=b1dcacfbc49d4ac1a48db5f5652b11a2&language=bg&from=2024-08-07&to=2024-08-08\n"
     ]
    },
    {
     "name": "stderr",
     "output_type": "stream",
     "text": [
      "\n"
     ]
    },
    {
     "name": "stdout",
     "output_type": "stream",
     "text": [
      "search ended !\n"
     ]
    },
    {
     "name": "stderr",
     "output_type": "stream",
     "text": [
      "\n",
      "0it [00:00, ?it/s]\u001b[A\n"
     ]
    },
    {
     "name": "stdout",
     "output_type": "stream",
     "text": [
      "News collection ended ! \n",
      "BG bg пикет линия\n",
      "https://newsapi.org/v2/everything?q=пикет+линия&apiKey=b1dcacfbc49d4ac1a48db5f5652b11a2&language=bg&from=2024-08-07&to=2024-08-08\n",
      "search ended !\n"
     ]
    },
    {
     "name": "stderr",
     "output_type": "stream",
     "text": [
      "\n",
      "0it [00:00, ?it/s]\u001b[A\n",
      "100%|██████████| 5/5 [00:49<00:00,  9.85s/it]"
     ]
    },
    {
     "name": "stdout",
     "output_type": "stream",
     "text": [
      "News collection ended ! \n",
      "BG bg протест на служител\n",
      "https://newsapi.org/v2/everything?q=протест+на+служител&apiKey=b1dcacfbc49d4ac1a48db5f5652b11a2&language=bg&from=2024-08-07&to=2024-08-08\n"
     ]
    },
    {
     "name": "stderr",
     "output_type": "stream",
     "text": [
      "\n"
     ]
    },
    {
     "data": {
      "text/html": [
       "<div>\n",
       "<style scoped>\n",
       "    .dataframe tbody tr th:only-of-type {\n",
       "        vertical-align: middle;\n",
       "    }\n",
       "\n",
       "    .dataframe tbody tr th {\n",
       "        vertical-align: top;\n",
       "    }\n",
       "\n",
       "    .dataframe thead th {\n",
       "        text-align: right;\n",
       "    }\n",
       "</style>\n",
       "<table border=\"1\" class=\"dataframe\">\n",
       "  <thead>\n",
       "    <tr style=\"text-align: right;\">\n",
       "      <th></th>\n",
       "      <th>dates</th>\n",
       "      <th>titles</th>\n",
       "      <th>links</th>\n",
       "      <th>texts</th>\n",
       "      <th>lang</th>\n",
       "      <th>cat</th>\n",
       "    </tr>\n",
       "  </thead>\n",
       "  <tbody>\n",
       "    <tr>\n",
       "      <th>0</th>\n",
       "      <td>2024-08-07T17:23:33Z</td>\n",
       "      <td>Après leur lutte «flamboyante», les femmes de ...</td>\n",
       "      <td>https://www.mediapart.fr/journal/economie-et-s...</td>\n",
       "      <td>Les cookies et technologies similaires que nou...</td>\n",
       "      <td>fr</td>\n",
       "      <td>grève</td>\n",
       "    </tr>\n",
       "    <tr>\n",
       "      <th>1</th>\n",
       "      <td>2024-08-07T08:44:34Z</td>\n",
       "      <td>Cette application peut prédire le retard d’un ...</td>\n",
       "      <td>https://www.numerama.com/tech/1786798-cette-ap...</td>\n",
       "      <td>Lecture Zen Résumer l'article\\n\\nFlighty, l’ap...</td>\n",
       "      <td>fr</td>\n",
       "      <td>grève</td>\n",
       "    </tr>\n",
       "    <tr>\n",
       "      <th>2</th>\n",
       "      <td>2024-08-08T08:38:25Z</td>\n",
       "      <td>Le Prix Nobel Muhammad Yunus atterrit au Bangl...</td>\n",
       "      <td>https://www.lemonde.fr/international/article/2...</td>\n",
       "      <td>Le lauréat du prix Nobel de la paix Muhammad Y...</td>\n",
       "      <td>fr</td>\n",
       "      <td>grève</td>\n",
       "    </tr>\n",
       "    <tr>\n",
       "      <th>3</th>\n",
       "      <td>2024-08-08T03:00:00Z</td>\n",
       "      <td>Pierre Leroux, économiste et philosophe</td>\n",
       "      <td>https://www.alternatives-economiques.fr/pierre...</td>\n",
       "      <td>Né en pleine révolution (1797), Pierre Leroux ...</td>\n",
       "      <td>fr</td>\n",
       "      <td>grève</td>\n",
       "    </tr>\n",
       "    <tr>\n",
       "      <th>4</th>\n",
       "      <td>2024-08-07T04:01:00Z</td>\n",
       "      <td>Billet. Sous les radars</td>\n",
       "      <td>https://www.ledauphine.com/defense-guerre-conf...</td>\n",
       "      <td>On devrait pouvoir mettre le monde sur pause. ...</td>\n",
       "      <td>fr</td>\n",
       "      <td>grève</td>\n",
       "    </tr>\n",
       "    <tr>\n",
       "      <th>...</th>\n",
       "      <td>...</td>\n",
       "      <td>...</td>\n",
       "      <td>...</td>\n",
       "      <td>...</td>\n",
       "      <td>...</td>\n",
       "      <td>...</td>\n",
       "    </tr>\n",
       "    <tr>\n",
       "      <th>10</th>\n",
       "      <td>2024-08-07T00:00:00Z</td>\n",
       "      <td>Era in sciopero della fame il detenuto suicida...</td>\n",
       "      <td>https://torino.repubblica.it/cronaca/2024/08/0...</td>\n",
       "      <td>L’uomo protestava da tre settimane. Era appena...</td>\n",
       "      <td>it</td>\n",
       "      <td>sciopero</td>\n",
       "    </tr>\n",
       "    <tr>\n",
       "      <th>11</th>\n",
       "      <td>2024-08-07T18:17:14Z</td>\n",
       "      <td>Indiana Jones e l'Antico cerchio potrebbe non ...</td>\n",
       "      <td>https://multiplayer.it/notizie/indiana-jones-e...</td>\n",
       "      <td>Stando a quanto spiegato dall'utente, di conse...</td>\n",
       "      <td>it</td>\n",
       "      <td>sciopero</td>\n",
       "    </tr>\n",
       "    <tr>\n",
       "      <th>12</th>\n",
       "      <td>2024-08-07T15:11:55Z</td>\n",
       "      <td>Sciopero turismo, contratto Federalberghi per ...</td>\n",
       "      <td>https://www.ansa.it/sardegna/notizie/2024/08/0...</td>\n",
       "      <td>Sono 40mila (poco più del 3 % della quota nazi...</td>\n",
       "      <td>it</td>\n",
       "      <td>sciopero</td>\n",
       "    </tr>\n",
       "    <tr>\n",
       "      <th>0</th>\n",
       "      <td>2024-08-07T11:06:31Z</td>\n",
       "      <td>Volantini contro Israele nella bacheca dell'os...</td>\n",
       "      <td>https://www.ilgiornale.it/news/cronaca-locale/...</td>\n",
       "      <td>I volantini contro Israele\\n\\nAscolta ora 00:0...</td>\n",
       "      <td>it</td>\n",
       "      <td>protesta dei dipendenti</td>\n",
       "    </tr>\n",
       "    <tr>\n",
       "      <th>1</th>\n",
       "      <td>2024-08-08T07:42:26Z</td>\n",
       "      <td>Max Mara, addio alla pelliccia: la lotta delle...</td>\n",
       "      <td>https://www.ilsole24ore.com/art/max-mara-addio...</td>\n",
       "      <td>Ascolta la versione audio dell'articolo\\n\\n4' ...</td>\n",
       "      <td>it</td>\n",
       "      <td>protesta dei dipendenti</td>\n",
       "    </tr>\n",
       "  </tbody>\n",
       "</table>\n",
       "<p>112 rows × 6 columns</p>\n",
       "</div>"
      ],
      "text/plain": [
       "                   dates                                             titles  \\\n",
       "0   2024-08-07T17:23:33Z  Après leur lutte «flamboyante», les femmes de ...   \n",
       "1   2024-08-07T08:44:34Z  Cette application peut prédire le retard d’un ...   \n",
       "2   2024-08-08T08:38:25Z  Le Prix Nobel Muhammad Yunus atterrit au Bangl...   \n",
       "3   2024-08-08T03:00:00Z            Pierre Leroux, économiste et philosophe   \n",
       "4   2024-08-07T04:01:00Z                            Billet. Sous les radars   \n",
       "..                   ...                                                ...   \n",
       "10  2024-08-07T00:00:00Z  Era in sciopero della fame il detenuto suicida...   \n",
       "11  2024-08-07T18:17:14Z  Indiana Jones e l'Antico cerchio potrebbe non ...   \n",
       "12  2024-08-07T15:11:55Z  Sciopero turismo, contratto Federalberghi per ...   \n",
       "0   2024-08-07T11:06:31Z  Volantini contro Israele nella bacheca dell'os...   \n",
       "1   2024-08-08T07:42:26Z  Max Mara, addio alla pelliccia: la lotta delle...   \n",
       "\n",
       "                                                links  \\\n",
       "0   https://www.mediapart.fr/journal/economie-et-s...   \n",
       "1   https://www.numerama.com/tech/1786798-cette-ap...   \n",
       "2   https://www.lemonde.fr/international/article/2...   \n",
       "3   https://www.alternatives-economiques.fr/pierre...   \n",
       "4   https://www.ledauphine.com/defense-guerre-conf...   \n",
       "..                                                ...   \n",
       "10  https://torino.repubblica.it/cronaca/2024/08/0...   \n",
       "11  https://multiplayer.it/notizie/indiana-jones-e...   \n",
       "12  https://www.ansa.it/sardegna/notizie/2024/08/0...   \n",
       "0   https://www.ilgiornale.it/news/cronaca-locale/...   \n",
       "1   https://www.ilsole24ore.com/art/max-mara-addio...   \n",
       "\n",
       "                                                texts lang  \\\n",
       "0   Les cookies et technologies similaires que nou...   fr   \n",
       "1   Lecture Zen Résumer l'article\\n\\nFlighty, l’ap...   fr   \n",
       "2   Le lauréat du prix Nobel de la paix Muhammad Y...   fr   \n",
       "3   Né en pleine révolution (1797), Pierre Leroux ...   fr   \n",
       "4   On devrait pouvoir mettre le monde sur pause. ...   fr   \n",
       "..                                                ...  ...   \n",
       "10  L’uomo protestava da tre settimane. Era appena...   it   \n",
       "11  Stando a quanto spiegato dall'utente, di conse...   it   \n",
       "12  Sono 40mila (poco più del 3 % della quota nazi...   it   \n",
       "0   I volantini contro Israele\\n\\nAscolta ora 00:0...   it   \n",
       "1   Ascolta la versione audio dell'articolo\\n\\n4' ...   it   \n",
       "\n",
       "                        cat  \n",
       "0                     grève  \n",
       "1                     grève  \n",
       "2                     grève  \n",
       "3                     grève  \n",
       "4                     grève  \n",
       "..                      ...  \n",
       "10                 sciopero  \n",
       "11                 sciopero  \n",
       "12                 sciopero  \n",
       "0   protesta dei dipendenti  \n",
       "1   protesta dei dipendenti  \n",
       "\n",
       "[112 rows x 6 columns]"
      ]
     },
     "execution_count": 8,
     "metadata": {},
     "output_type": "execute_result"
    }
   ],
   "source": [
    "collector = NewsCollector(config=conf['country_lang'], scraper=scrapper,path_to_save='/home/jupyter/news/data/strike_newsapi_jeudi_08_aout.csv')\n",
    "collector.collect_news()"
   ]
  },
  {
   "cell_type": "code",
   "execution_count": 9,
   "id": "0389c760-a1a1-44fb-94b3-3995f9f20bd3",
   "metadata": {},
   "outputs": [
    {
     "data": {
      "text/plain": [
       "(112, 6)"
      ]
     },
     "execution_count": 9,
     "metadata": {},
     "output_type": "execute_result"
    }
   ],
   "source": [
    "collector.data.shape"
   ]
  },
  {
   "cell_type": "code",
   "execution_count": 11,
   "id": "862f7c2c-116d-4313-8d9f-541a4e1e40e1",
   "metadata": {
    "tags": []
   },
   "outputs": [
    {
     "data": {
      "text/plain": [
       "Index(['dates', 'titles', 'links', 'texts', 'lang', 'cat'], dtype='object')"
      ]
     },
     "execution_count": 11,
     "metadata": {},
     "output_type": "execute_result"
    }
   ],
   "source": [
    "collector.data.columns"
   ]
  },
  {
   "cell_type": "code",
   "execution_count": 12,
   "id": "de3a4861-e334-4eb2-bd0e-7b364a88e1b6",
   "metadata": {},
   "outputs": [
    {
     "data": {
      "text/html": [
       "<div>\n",
       "<style scoped>\n",
       "    .dataframe tbody tr th:only-of-type {\n",
       "        vertical-align: middle;\n",
       "    }\n",
       "\n",
       "    .dataframe tbody tr th {\n",
       "        vertical-align: top;\n",
       "    }\n",
       "\n",
       "    .dataframe thead th {\n",
       "        text-align: right;\n",
       "    }\n",
       "</style>\n",
       "<table border=\"1\" class=\"dataframe\">\n",
       "  <thead>\n",
       "    <tr style=\"text-align: right;\">\n",
       "      <th></th>\n",
       "      <th>dates</th>\n",
       "      <th>titles</th>\n",
       "      <th>links</th>\n",
       "      <th>texts</th>\n",
       "      <th>lang</th>\n",
       "      <th>cat</th>\n",
       "    </tr>\n",
       "  </thead>\n",
       "  <tbody>\n",
       "    <tr>\n",
       "      <th>0</th>\n",
       "      <td>2024-08-07T17:23:33Z</td>\n",
       "      <td>Après leur lutte «flamboyante», les femmes de ...</td>\n",
       "      <td>https://www.mediapart.fr/journal/economie-et-s...</td>\n",
       "      <td>Les cookies et technologies similaires que nou...</td>\n",
       "      <td>fr</td>\n",
       "      <td>grève</td>\n",
       "    </tr>\n",
       "    <tr>\n",
       "      <th>1</th>\n",
       "      <td>2024-08-07T08:44:34Z</td>\n",
       "      <td>Cette application peut prédire le retard d’un ...</td>\n",
       "      <td>https://www.numerama.com/tech/1786798-cette-ap...</td>\n",
       "      <td>Lecture Zen Résumer l'article\\n\\nFlighty, l’ap...</td>\n",
       "      <td>fr</td>\n",
       "      <td>grève</td>\n",
       "    </tr>\n",
       "    <tr>\n",
       "      <th>2</th>\n",
       "      <td>2024-08-08T08:38:25Z</td>\n",
       "      <td>Le Prix Nobel Muhammad Yunus atterrit au Bangl...</td>\n",
       "      <td>https://www.lemonde.fr/international/article/2...</td>\n",
       "      <td>Le lauréat du prix Nobel de la paix Muhammad Y...</td>\n",
       "      <td>fr</td>\n",
       "      <td>grève</td>\n",
       "    </tr>\n",
       "    <tr>\n",
       "      <th>3</th>\n",
       "      <td>2024-08-08T03:00:00Z</td>\n",
       "      <td>Pierre Leroux, économiste et philosophe</td>\n",
       "      <td>https://www.alternatives-economiques.fr/pierre...</td>\n",
       "      <td>Né en pleine révolution (1797), Pierre Leroux ...</td>\n",
       "      <td>fr</td>\n",
       "      <td>grève</td>\n",
       "    </tr>\n",
       "    <tr>\n",
       "      <th>4</th>\n",
       "      <td>2024-08-07T04:01:00Z</td>\n",
       "      <td>Billet. Sous les radars</td>\n",
       "      <td>https://www.ledauphine.com/defense-guerre-conf...</td>\n",
       "      <td>On devrait pouvoir mettre le monde sur pause. ...</td>\n",
       "      <td>fr</td>\n",
       "      <td>grève</td>\n",
       "    </tr>\n",
       "    <tr>\n",
       "      <th>...</th>\n",
       "      <td>...</td>\n",
       "      <td>...</td>\n",
       "      <td>...</td>\n",
       "      <td>...</td>\n",
       "      <td>...</td>\n",
       "      <td>...</td>\n",
       "    </tr>\n",
       "    <tr>\n",
       "      <th>10</th>\n",
       "      <td>2024-08-07T00:00:00Z</td>\n",
       "      <td>Era in sciopero della fame il detenuto suicida...</td>\n",
       "      <td>https://torino.repubblica.it/cronaca/2024/08/0...</td>\n",
       "      <td>L’uomo protestava da tre settimane. Era appena...</td>\n",
       "      <td>it</td>\n",
       "      <td>sciopero</td>\n",
       "    </tr>\n",
       "    <tr>\n",
       "      <th>11</th>\n",
       "      <td>2024-08-07T18:17:14Z</td>\n",
       "      <td>Indiana Jones e l'Antico cerchio potrebbe non ...</td>\n",
       "      <td>https://multiplayer.it/notizie/indiana-jones-e...</td>\n",
       "      <td>Stando a quanto spiegato dall'utente, di conse...</td>\n",
       "      <td>it</td>\n",
       "      <td>sciopero</td>\n",
       "    </tr>\n",
       "    <tr>\n",
       "      <th>12</th>\n",
       "      <td>2024-08-07T15:11:55Z</td>\n",
       "      <td>Sciopero turismo, contratto Federalberghi per ...</td>\n",
       "      <td>https://www.ansa.it/sardegna/notizie/2024/08/0...</td>\n",
       "      <td>Sono 40mila (poco più del 3 % della quota nazi...</td>\n",
       "      <td>it</td>\n",
       "      <td>sciopero</td>\n",
       "    </tr>\n",
       "    <tr>\n",
       "      <th>0</th>\n",
       "      <td>2024-08-07T11:06:31Z</td>\n",
       "      <td>Volantini contro Israele nella bacheca dell'os...</td>\n",
       "      <td>https://www.ilgiornale.it/news/cronaca-locale/...</td>\n",
       "      <td>I volantini contro Israele\\n\\nAscolta ora 00:0...</td>\n",
       "      <td>it</td>\n",
       "      <td>protesta dei dipendenti</td>\n",
       "    </tr>\n",
       "    <tr>\n",
       "      <th>1</th>\n",
       "      <td>2024-08-08T07:42:26Z</td>\n",
       "      <td>Max Mara, addio alla pelliccia: la lotta delle...</td>\n",
       "      <td>https://www.ilsole24ore.com/art/max-mara-addio...</td>\n",
       "      <td>Ascolta la versione audio dell'articolo\\n\\n4' ...</td>\n",
       "      <td>it</td>\n",
       "      <td>protesta dei dipendenti</td>\n",
       "    </tr>\n",
       "  </tbody>\n",
       "</table>\n",
       "<p>112 rows × 6 columns</p>\n",
       "</div>"
      ],
      "text/plain": [
       "                   dates                                             titles  \\\n",
       "0   2024-08-07T17:23:33Z  Après leur lutte «flamboyante», les femmes de ...   \n",
       "1   2024-08-07T08:44:34Z  Cette application peut prédire le retard d’un ...   \n",
       "2   2024-08-08T08:38:25Z  Le Prix Nobel Muhammad Yunus atterrit au Bangl...   \n",
       "3   2024-08-08T03:00:00Z            Pierre Leroux, économiste et philosophe   \n",
       "4   2024-08-07T04:01:00Z                            Billet. Sous les radars   \n",
       "..                   ...                                                ...   \n",
       "10  2024-08-07T00:00:00Z  Era in sciopero della fame il detenuto suicida...   \n",
       "11  2024-08-07T18:17:14Z  Indiana Jones e l'Antico cerchio potrebbe non ...   \n",
       "12  2024-08-07T15:11:55Z  Sciopero turismo, contratto Federalberghi per ...   \n",
       "0   2024-08-07T11:06:31Z  Volantini contro Israele nella bacheca dell'os...   \n",
       "1   2024-08-08T07:42:26Z  Max Mara, addio alla pelliccia: la lotta delle...   \n",
       "\n",
       "                                                links  \\\n",
       "0   https://www.mediapart.fr/journal/economie-et-s...   \n",
       "1   https://www.numerama.com/tech/1786798-cette-ap...   \n",
       "2   https://www.lemonde.fr/international/article/2...   \n",
       "3   https://www.alternatives-economiques.fr/pierre...   \n",
       "4   https://www.ledauphine.com/defense-guerre-conf...   \n",
       "..                                                ...   \n",
       "10  https://torino.repubblica.it/cronaca/2024/08/0...   \n",
       "11  https://multiplayer.it/notizie/indiana-jones-e...   \n",
       "12  https://www.ansa.it/sardegna/notizie/2024/08/0...   \n",
       "0   https://www.ilgiornale.it/news/cronaca-locale/...   \n",
       "1   https://www.ilsole24ore.com/art/max-mara-addio...   \n",
       "\n",
       "                                                texts lang  \\\n",
       "0   Les cookies et technologies similaires que nou...   fr   \n",
       "1   Lecture Zen Résumer l'article\\n\\nFlighty, l’ap...   fr   \n",
       "2   Le lauréat du prix Nobel de la paix Muhammad Y...   fr   \n",
       "3   Né en pleine révolution (1797), Pierre Leroux ...   fr   \n",
       "4   On devrait pouvoir mettre le monde sur pause. ...   fr   \n",
       "..                                                ...  ...   \n",
       "10  L’uomo protestava da tre settimane. Era appena...   it   \n",
       "11  Stando a quanto spiegato dall'utente, di conse...   it   \n",
       "12  Sono 40mila (poco più del 3 % della quota nazi...   it   \n",
       "0   I volantini contro Israele\\n\\nAscolta ora 00:0...   it   \n",
       "1   Ascolta la versione audio dell'articolo\\n\\n4' ...   it   \n",
       "\n",
       "                        cat  \n",
       "0                     grève  \n",
       "1                     grève  \n",
       "2                     grève  \n",
       "3                     grève  \n",
       "4                     grève  \n",
       "..                      ...  \n",
       "10                 sciopero  \n",
       "11                 sciopero  \n",
       "12                 sciopero  \n",
       "0   protesta dei dipendenti  \n",
       "1   protesta dei dipendenti  \n",
       "\n",
       "[112 rows x 6 columns]"
      ]
     },
     "execution_count": 12,
     "metadata": {},
     "output_type": "execute_result"
    }
   ],
   "source": [
    "collector.data"
   ]
  },
  {
   "cell_type": "code",
   "execution_count": null,
   "id": "150ebf26-f906-41ab-ad00-7aac629bba6a",
   "metadata": {},
   "outputs": [],
   "source": []
  }
 ],
 "metadata": {
  "environment": {
   "kernel": "python3",
   "name": ".m119",
   "type": "gcloud",
   "uri": "us-docker.pkg.dev/deeplearning-platform-release/gcr.io/:m119"
  },
  "kernelspec": {
   "display_name": "Python 3 (Local)",
   "language": "python",
   "name": "python3"
  },
  "language_info": {
   "codemirror_mode": {
    "name": "ipython",
    "version": 3
   },
   "file_extension": ".py",
   "mimetype": "text/x-python",
   "name": "python",
   "nbconvert_exporter": "python",
   "pygments_lexer": "ipython3",
   "version": "3.10.14"
  },
  "widgets": {
   "application/vnd.jupyter.widget-state+json": {
    "state": {},
    "version_major": 2,
    "version_minor": 0
   }
  }
 },
 "nbformat": 4,
 "nbformat_minor": 5
}
