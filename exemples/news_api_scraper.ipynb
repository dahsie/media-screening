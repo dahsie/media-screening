{
 "cells": [
  {
   "cell_type": "code",
   "execution_count": 1,
   "id": "10a0ca53-0097-4673-8494-10f4f7a5c2ef",
   "metadata": {
    "tags": []
   },
   "outputs": [],
   "source": [
    "import sys\n",
    "import os\n",
    "sys.path.append(\"/home/jupyter/news/src\")\n",
    "from newsapiscraper import NewsApiScraper\n",
    "from newscollector import NewsCollector\n",
    "import pandas as pd\n",
    "import json\n",
    "import requests"
   ]
  },
  {
   "cell_type": "markdown",
   "id": "7cc4df4d-a9bc-4596-a7ef-c482c9cf42bd",
   "metadata": {},
   "source": [
    "# Loading config file"
   ]
  },
  {
   "cell_type": "code",
   "execution_count": 3,
   "id": "8a6c17f1-cd0c-432f-9dbe-47afca09cfe6",
   "metadata": {
    "tags": []
   },
   "outputs": [],
   "source": [
    "config_file = '/home/jupyter/news/config/final_config_file.json'"
   ]
  },
  {
   "cell_type": "code",
   "execution_count": 4,
   "id": "51f6e5d3-6801-48b7-a66f-de5619cd082d",
   "metadata": {
    "tags": []
   },
   "outputs": [],
   "source": [
    "with open(config_file, 'r') as file :\n",
    "    conf = json.load(file)"
   ]
  },
  {
   "cell_type": "code",
   "execution_count": 5,
   "id": "07109226-6fa9-4ba4-af51-e435b75481df",
   "metadata": {
    "scrolled": true,
    "tags": []
   },
   "outputs": [
    {
     "data": {
      "text/plain": [
       "{'keywords': ['strike', 'picket line', 'employee protest'],\n",
       " 'country_lang': [{'country': 'BE',\n",
       "   'lang': 'fr',\n",
       "   'queries': ['grève', 'piquet de grève', 'protestation des employés']},\n",
       "  {'country': 'CH',\n",
       "   'lang': 'fr',\n",
       "   'queries': ['grève', 'piquet de grève', 'protestation des employés']},\n",
       "  {'country': 'CH',\n",
       "   'lang': 'de',\n",
       "   'queries': ['schlagen', 'Streikposten', 'Mitarbeiterprotest']},\n",
       "  {'country': 'CH',\n",
       "   'lang': 'it',\n",
       "   'queries': ['sciopero', 'picchetto', 'protesta dei dipendenti']},\n",
       "  {'country': 'BG',\n",
       "   'lang': 'bg',\n",
       "   'queries': ['стачка', 'пикет линия', 'протест на служител']}],\n",
       " 'news_api_key': 'News API KEY to add if you use news api',\n",
       " 'rag_cong': {'vertexai_llm': 'gemini-1.5-flash',\n",
       "  'vertexai_embedding_name': 'text-embedding-004',\n",
       "  'chunk_size': 2000,\n",
       "  'chunk_overlap': 10,\n",
       "  'max_doc': 5,\n",
       "  'retry': 1}}"
      ]
     },
     "execution_count": 5,
     "metadata": {},
     "output_type": "execute_result"
    }
   ],
   "source": [
    "conf"
   ]
  },
  {
   "cell_type": "markdown",
   "id": "91670feb-5c8e-4caf-ba19-33036b5fcc7d",
   "metadata": {},
   "source": [
    "# Instanciating NewsApiScraper"
   ]
  },
  {
   "cell_type": "code",
   "execution_count": 6,
   "id": "4c02a12e-f970-44b1-acfb-20820dab76e6",
   "metadata": {
    "tags": []
   },
   "outputs": [],
   "source": [
    "scrapper = NewsApiScraper(api_key= conf['news_api_key'], start_date='2024-08-07',end_date='2024-08-08')"
   ]
  },
  {
   "cell_type": "markdown",
   "id": "93c70ad1-0f86-4178-8b7b-7ab381a72b2c",
   "metadata": {},
   "source": [
    "# Collecting news via Newscolllector instance"
   ]
  },
  {
   "cell_type": "code",
   "execution_count": 7,
   "id": "6cfca4ec-aabe-4b4f-84fd-03624062dcae",
   "metadata": {
    "scrolled": true,
    "tags": []
   },
   "outputs": [
    {
     "name": "stderr",
     "output_type": "stream",
     "text": [
      "  0%|          | 0/5 [00:00<?, ?it/s]"
     ]
    },
    {
     "name": "stdout",
     "output_type": "stream",
     "text": [
      "{'country': 'BE', 'lang': 'fr', 'queries': ['grève', 'piquet de grève', 'protestation des employés']}\n",
      "search ended !\n"
     ]
    },
    {
     "name": "stderr",
     "output_type": "stream",
     "text": [
      "\n",
      "  0%|          | 0/11 [00:00<?, ?it/s]\u001b[A\n",
      "  9%|▉         | 1/11 [00:00<00:05,  1.95it/s]\u001b[A\n",
      " 18%|█▊        | 2/11 [00:00<00:04,  2.10it/s]\u001b[A\n",
      " 27%|██▋       | 3/11 [00:01<00:03,  2.47it/s]\u001b[A\n",
      " 36%|███▋      | 4/11 [00:01<00:02,  3.08it/s]\u001b[A\n",
      " 45%|████▌     | 5/11 [00:02<00:02,  2.45it/s]\u001b[A\n",
      " 55%|█████▍    | 6/11 [00:02<00:01,  2.68it/s]\u001b[A\n",
      " 64%|██████▎   | 7/11 [00:02<00:01,  3.52it/s]\u001b[A\n",
      " 73%|███████▎  | 8/11 [00:02<00:00,  3.07it/s]\u001b[A\n",
      " 82%|████████▏ | 9/11 [00:03<00:00,  2.84it/s]\u001b[A\n",
      " 91%|█████████ | 10/11 [00:03<00:00,  3.19it/s]\u001b[A\n",
      "100%|██████████| 11/11 [00:03<00:00,  2.82it/s]\u001b[A\n"
     ]
    },
    {
     "name": "stdout",
     "output_type": "stream",
     "text": [
      "News collection ended ! \n",
      "BE fr grève\n",
      " data_.shape :(11, 6)\n",
      "search ended !\n"
     ]
    },
    {
     "name": "stderr",
     "output_type": "stream",
     "text": [
      "\n",
      "0it [00:00, ?it/s]\u001b[A\n"
     ]
    },
    {
     "name": "stdout",
     "output_type": "stream",
     "text": [
      "News collection ended ! \n",
      "BE fr piquet de grève\n",
      "search ended !\n"
     ]
    },
    {
     "name": "stderr",
     "output_type": "stream",
     "text": [
      "\n",
      "0it [00:00, ?it/s]\u001b[A\n",
      " 20%|██        | 1/5 [00:05<00:22,  5.73s/it]"
     ]
    },
    {
     "name": "stdout",
     "output_type": "stream",
     "text": [
      "News collection ended ! \n",
      "BE fr protestation des employés\n",
      "{'country': 'CH', 'lang': 'fr', 'queries': ['grève', 'piquet de grève', 'protestation des employés']}\n",
      "search ended !\n"
     ]
    },
    {
     "name": "stderr",
     "output_type": "stream",
     "text": [
      "\n",
      "0it [00:00, ?it/s]\u001b[A"
     ]
    },
    {
     "name": "stdout",
     "output_type": "stream",
     "text": [
      "News collection ended ! \n",
      "CH fr grève\n"
     ]
    },
    {
     "name": "stderr",
     "output_type": "stream",
     "text": [
      "\n"
     ]
    },
    {
     "name": "stdout",
     "output_type": "stream",
     "text": [
      "search ended !\n"
     ]
    },
    {
     "name": "stderr",
     "output_type": "stream",
     "text": [
      "\n",
      "0it [00:00, ?it/s]\u001b[A"
     ]
    },
    {
     "name": "stdout",
     "output_type": "stream",
     "text": [
      "News collection ended ! \n",
      "CH fr piquet de grève\n"
     ]
    },
    {
     "name": "stderr",
     "output_type": "stream",
     "text": [
      "\n"
     ]
    },
    {
     "name": "stdout",
     "output_type": "stream",
     "text": [
      "search ended !\n"
     ]
    },
    {
     "name": "stderr",
     "output_type": "stream",
     "text": [
      "\n",
      "0it [00:00, ?it/s]\u001b[A\n",
      " 40%|████      | 2/5 [00:07<00:09,  3.26s/it]"
     ]
    },
    {
     "name": "stdout",
     "output_type": "stream",
     "text": [
      "News collection ended ! \n",
      "CH fr protestation des employés\n",
      "{'country': 'CH', 'lang': 'de', 'queries': ['schlagen', 'Streikposten', 'Mitarbeiterprotest']}\n",
      "search ended !\n"
     ]
    },
    {
     "name": "stderr",
     "output_type": "stream",
     "text": [
      "\n",
      "  0%|          | 0/88 [00:00<?, ?it/s]\u001b[A\n",
      "  1%|          | 1/88 [00:00<00:13,  6.30it/s]\u001b[A\n",
      "  2%|▏         | 2/88 [00:00<00:38,  2.23it/s]\u001b[A\n",
      "  3%|▎         | 3/88 [00:01<00:29,  2.89it/s]\u001b[A\n",
      "  5%|▍         | 4/88 [00:01<00:23,  3.61it/s]\u001b[A\n",
      "  6%|▌         | 5/88 [00:01<00:24,  3.34it/s]\u001b[A\n",
      "  7%|▋         | 6/88 [00:02<00:29,  2.83it/s]\u001b[A\n",
      "  8%|▊         | 7/88 [00:02<00:27,  2.94it/s]\u001b[A\n",
      "  9%|▉         | 8/88 [00:03<00:44,  1.80it/s]\u001b[A\n",
      " 10%|█         | 9/88 [00:03<00:41,  1.89it/s]\u001b[A\n",
      " 11%|█▏        | 10/88 [00:04<00:38,  2.01it/s]\u001b[A\n",
      " 12%|█▎        | 11/88 [00:04<00:29,  2.61it/s]\u001b[A\n",
      " 14%|█▎        | 12/88 [00:05<00:38,  1.96it/s]\u001b[A\n",
      " 15%|█▍        | 13/88 [00:05<00:35,  2.11it/s]\u001b[A\n",
      " 16%|█▌        | 14/88 [00:06<00:45,  1.64it/s]\u001b[A\n",
      " 17%|█▋        | 15/88 [00:06<00:40,  1.82it/s]\u001b[A\n",
      " 18%|█▊        | 16/88 [00:07<00:32,  2.25it/s]\u001b[A\n",
      " 19%|█▉        | 17/88 [00:07<00:28,  2.45it/s]\u001b[A\n",
      " 20%|██        | 18/88 [00:07<00:27,  2.54it/s]\u001b[A\n",
      " 22%|██▏       | 19/88 [00:07<00:23,  2.91it/s]\u001b[A\n",
      " 23%|██▎       | 20/88 [00:08<00:36,  1.87it/s]\u001b[A\n",
      " 24%|██▍       | 21/88 [00:09<00:32,  2.03it/s]\u001b[A\n",
      " 25%|██▌       | 22/88 [00:09<00:31,  2.07it/s]\u001b[A\n",
      " 26%|██▌       | 23/88 [00:10<00:27,  2.37it/s]\u001b[A\n",
      " 27%|██▋       | 24/88 [00:10<00:27,  2.35it/s]\u001b[A\n",
      " 28%|██▊       | 25/88 [00:10<00:26,  2.36it/s]\u001b[A\n",
      " 30%|██▉       | 26/88 [00:11<00:24,  2.50it/s]\u001b[A\n",
      " 31%|███       | 27/88 [00:11<00:24,  2.46it/s]\u001b[A\n",
      " 32%|███▏      | 28/88 [00:12<00:24,  2.47it/s]\u001b[A\n",
      " 33%|███▎      | 29/88 [00:12<00:22,  2.57it/s]\u001b[A\n",
      " 34%|███▍      | 30/88 [00:13<00:25,  2.26it/s]\u001b[A\n",
      " 35%|███▌      | 31/88 [00:13<00:23,  2.42it/s]\u001b[A\n",
      " 36%|███▋      | 32/88 [00:13<00:22,  2.54it/s]\u001b[A\n",
      " 38%|███▊      | 33/88 [00:14<00:23,  2.32it/s]\u001b[A\n",
      " 39%|███▊      | 34/88 [00:14<00:19,  2.75it/s]\u001b[A\n",
      " 40%|███▉      | 35/88 [00:14<00:17,  3.07it/s]\u001b[A\n",
      " 41%|████      | 36/88 [00:15<00:16,  3.11it/s]\u001b[A\n",
      " 42%|████▏     | 37/88 [00:15<00:15,  3.39it/s]\u001b[A\n",
      " 43%|████▎     | 38/88 [00:15<00:14,  3.54it/s]\u001b[A\n",
      " 44%|████▍     | 39/88 [00:15<00:14,  3.41it/s]\u001b[A\n",
      " 45%|████▌     | 40/88 [00:16<00:14,  3.27it/s]\u001b[A\n",
      " 47%|████▋     | 41/88 [00:16<00:15,  2.99it/s]\u001b[A\n",
      " 48%|████▊     | 42/88 [00:16<00:14,  3.17it/s]\u001b[A\n",
      " 49%|████▉     | 43/88 [00:17<00:13,  3.41it/s]\u001b[A\n",
      " 50%|█████     | 44/88 [00:17<00:12,  3.49it/s]\u001b[A\n",
      " 51%|█████     | 45/88 [00:17<00:13,  3.24it/s]\u001b[A\n",
      " 52%|█████▏    | 46/88 [00:18<00:12,  3.26it/s]\u001b[A\n",
      " 53%|█████▎    | 47/88 [00:18<00:14,  2.90it/s]\u001b[A\n",
      " 55%|█████▍    | 48/88 [00:18<00:15,  2.65it/s]\u001b[A\n",
      " 56%|█████▌    | 49/88 [00:19<00:12,  3.10it/s]\u001b[A\n",
      " 57%|█████▋    | 50/88 [00:19<00:11,  3.32it/s]\u001b[A\n",
      " 58%|█████▊    | 51/88 [00:19<00:14,  2.57it/s]\u001b[A\n",
      " 59%|█████▉    | 52/88 [00:20<00:11,  3.05it/s]\u001b[A\n",
      " 60%|██████    | 53/88 [00:20<00:11,  3.12it/s]\u001b[A\n",
      " 61%|██████▏   | 54/88 [00:20<00:10,  3.10it/s]\u001b[A\n",
      " 62%|██████▎   | 55/88 [00:21<00:10,  3.17it/s]\u001b[A\n",
      " 64%|██████▎   | 56/88 [00:21<00:10,  2.95it/s]\u001b[A\n",
      " 65%|██████▍   | 57/88 [00:21<00:09,  3.18it/s]\u001b[A\n",
      " 66%|██████▌   | 58/88 [00:22<00:11,  2.68it/s]\u001b[A\n",
      " 67%|██████▋   | 59/88 [00:22<00:09,  3.20it/s]\u001b[A\n",
      " 68%|██████▊   | 60/88 [00:22<00:08,  3.20it/s]\u001b[A\n",
      " 69%|██████▉   | 61/88 [00:22<00:07,  3.68it/s]\u001b[A\n",
      " 70%|███████   | 62/88 [00:23<00:06,  3.73it/s]\u001b[A\n",
      " 72%|███████▏  | 63/88 [00:23<00:06,  4.01it/s]\u001b[A\n",
      " 73%|███████▎  | 64/88 [00:23<00:05,  4.40it/s]\u001b[A\n",
      " 74%|███████▍  | 65/88 [00:23<00:06,  3.52it/s]\u001b[A\n",
      " 75%|███████▌  | 66/88 [00:24<00:06,  3.27it/s]\u001b[A\n",
      " 76%|███████▌  | 67/88 [00:24<00:06,  3.14it/s]\u001b[A\n",
      " 77%|███████▋  | 68/88 [00:25<00:07,  2.78it/s]\u001b[A\n",
      " 78%|███████▊  | 69/88 [00:25<00:07,  2.55it/s]\u001b[A\n",
      " 80%|███████▉  | 70/88 [00:25<00:06,  2.68it/s]\u001b[A\n",
      " 81%|████████  | 71/88 [00:25<00:05,  3.38it/s]\u001b[A\n",
      " 82%|████████▏ | 72/88 [00:26<00:06,  2.33it/s]\u001b[A\n",
      " 83%|████████▎ | 73/88 [00:27<00:06,  2.20it/s]\u001b[A\n",
      " 84%|████████▍ | 74/88 [00:27<00:05,  2.47it/s]\u001b[A\n",
      " 85%|████████▌ | 75/88 [00:27<00:05,  2.46it/s]\u001b[A\n",
      " 86%|████████▋ | 76/88 [00:28<00:05,  2.24it/s]\u001b[A\n",
      " 88%|████████▊ | 77/88 [00:28<00:04,  2.71it/s]\u001b[A\n",
      " 89%|████████▊ | 78/88 [00:29<00:04,  2.38it/s]\u001b[A\n",
      " 90%|████████▉ | 79/88 [00:29<00:04,  2.11it/s]\u001b[A\n",
      " 91%|█████████ | 80/88 [00:30<00:03,  2.08it/s]\u001b[A\n",
      " 92%|█████████▏| 81/88 [00:30<00:03,  2.03it/s]\u001b[A\n",
      " 93%|█████████▎| 82/88 [00:31<00:02,  2.03it/s]\u001b[A\n",
      " 94%|█████████▍| 83/88 [00:31<00:02,  2.32it/s]\u001b[A\n",
      " 95%|█████████▌| 84/88 [00:31<00:01,  2.49it/s]\u001b[A\n",
      " 97%|█████████▋| 85/88 [00:32<00:01,  2.45it/s]\u001b[A\n",
      " 98%|█████████▊| 86/88 [00:32<00:00,  2.25it/s]\u001b[A\n",
      "100%|██████████| 88/88 [00:33<00:00,  2.65it/s]\u001b[A\n"
     ]
    },
    {
     "name": "stdout",
     "output_type": "stream",
     "text": [
      "News collection ended ! \n",
      "CH de schlagen\n",
      " data_.shape :(87, 6)\n",
      "search ended !\n"
     ]
    },
    {
     "name": "stderr",
     "output_type": "stream",
     "text": [
      "\n",
      "0it [00:00, ?it/s]\u001b[A\n"
     ]
    },
    {
     "name": "stdout",
     "output_type": "stream",
     "text": [
      "News collection ended ! \n",
      "CH de Streikposten\n",
      "search ended !\n"
     ]
    },
    {
     "name": "stderr",
     "output_type": "stream",
     "text": [
      "\n",
      "0it [00:00, ?it/s]\u001b[A\n"
     ]
    },
    {
     "name": "stdout",
     "output_type": "stream",
     "text": [
      "News collection ended ! \n"
     ]
    },
    {
     "name": "stderr",
     "output_type": "stream",
     "text": [
      " 60%|██████    | 3/5 [00:42<00:36, 18.05s/it]"
     ]
    },
    {
     "name": "stdout",
     "output_type": "stream",
     "text": [
      "CH de Mitarbeiterprotest\n",
      "{'country': 'CH', 'lang': 'it', 'queries': ['sciopero', 'picchetto', 'protesta dei dipendenti']}\n",
      "search ended !\n"
     ]
    },
    {
     "name": "stderr",
     "output_type": "stream",
     "text": [
      "\n",
      "  0%|          | 0/13 [00:00<?, ?it/s]\u001b[A\n",
      "  8%|▊         | 1/13 [00:00<00:02,  4.06it/s]\u001b[A\n",
      " 15%|█▌        | 2/13 [00:00<00:03,  3.20it/s]\u001b[A\n",
      " 23%|██▎       | 3/13 [00:01<00:05,  1.81it/s]\u001b[A\n",
      " 31%|███       | 4/13 [00:01<00:03,  2.32it/s]\u001b[A\n",
      " 38%|███▊      | 5/13 [00:01<00:03,  2.66it/s]\u001b[A\n",
      " 46%|████▌     | 6/13 [00:02<00:02,  2.95it/s]\u001b[A\n",
      " 54%|█████▍    | 7/13 [00:02<00:01,  3.02it/s]\u001b[A\n",
      " 62%|██████▏   | 8/13 [00:03<00:02,  2.02it/s]\u001b[A\n",
      " 69%|██████▉   | 9/13 [00:03<00:01,  2.38it/s]\u001b[A\n",
      " 77%|███████▋  | 10/13 [00:03<00:01,  2.85it/s]\u001b[A\n",
      " 85%|████████▍ | 11/13 [00:04<00:00,  3.36it/s]\u001b[A\n",
      " 92%|█████████▏| 12/13 [00:04<00:00,  3.10it/s]\u001b[A\n",
      "100%|██████████| 13/13 [00:04<00:00,  2.79it/s]\u001b[A\n"
     ]
    },
    {
     "name": "stdout",
     "output_type": "stream",
     "text": [
      "News collection ended ! \n",
      "CH it sciopero\n",
      " data_.shape :(13, 6)\n",
      "search ended !\n"
     ]
    },
    {
     "name": "stderr",
     "output_type": "stream",
     "text": [
      "\n",
      "0it [00:00, ?it/s]\u001b[A\n"
     ]
    },
    {
     "name": "stdout",
     "output_type": "stream",
     "text": [
      "News collection ended ! \n",
      "CH it picchetto\n",
      "search ended !\n"
     ]
    },
    {
     "name": "stderr",
     "output_type": "stream",
     "text": [
      "\n",
      "  0%|          | 0/2 [00:00<?, ?it/s]\u001b[A\n",
      " 50%|█████     | 1/2 [00:00<00:00,  4.78it/s]\u001b[A\n",
      "100%|██████████| 2/2 [00:00<00:00,  2.53it/s]\u001b[A\n",
      " 80%|████████  | 4/5 [00:49<00:13, 13.52s/it]"
     ]
    },
    {
     "name": "stdout",
     "output_type": "stream",
     "text": [
      "News collection ended ! \n",
      "CH it protesta dei dipendenti\n",
      " data_.shape :(2, 6)\n",
      "{'country': 'BG', 'lang': 'bg', 'queries': ['стачка', 'пикет линия', 'протест на служител']}\n",
      "search ended !\n"
     ]
    },
    {
     "name": "stderr",
     "output_type": "stream",
     "text": [
      "\n",
      "0it [00:00, ?it/s]\u001b[A"
     ]
    },
    {
     "name": "stdout",
     "output_type": "stream",
     "text": [
      "News collection ended ! \n",
      "BG bg стачка\n"
     ]
    },
    {
     "name": "stderr",
     "output_type": "stream",
     "text": [
      "\n"
     ]
    },
    {
     "name": "stdout",
     "output_type": "stream",
     "text": [
      "search ended !\n"
     ]
    },
    {
     "name": "stderr",
     "output_type": "stream",
     "text": [
      "\n",
      "0it [00:00, ?it/s]\u001b[A"
     ]
    },
    {
     "name": "stdout",
     "output_type": "stream",
     "text": [
      "News collection ended ! \n",
      "BG bg пикет линия\n"
     ]
    },
    {
     "name": "stderr",
     "output_type": "stream",
     "text": [
      "\n"
     ]
    },
    {
     "name": "stdout",
     "output_type": "stream",
     "text": [
      "search ended !\n"
     ]
    },
    {
     "name": "stderr",
     "output_type": "stream",
     "text": [
      "\n",
      "0it [00:00, ?it/s]\u001b[A\n",
      "100%|██████████| 5/5 [00:50<00:00, 10.14s/it]"
     ]
    },
    {
     "name": "stdout",
     "output_type": "stream",
     "text": [
      "News collection ended ! \n",
      "BG bg протест на служител\n"
     ]
    },
    {
     "name": "stderr",
     "output_type": "stream",
     "text": [
      "\n"
     ]
    },
    {
     "data": {
      "text/html": [
       "<div>\n",
       "<style scoped>\n",
       "    .dataframe tbody tr th:only-of-type {\n",
       "        vertical-align: middle;\n",
       "    }\n",
       "\n",
       "    .dataframe tbody tr th {\n",
       "        vertical-align: top;\n",
       "    }\n",
       "\n",
       "    .dataframe thead th {\n",
       "        text-align: right;\n",
       "    }\n",
       "</style>\n",
       "<table border=\"1\" class=\"dataframe\">\n",
       "  <thead>\n",
       "    <tr style=\"text-align: right;\">\n",
       "      <th></th>\n",
       "      <th>dates</th>\n",
       "      <th>titles</th>\n",
       "      <th>links</th>\n",
       "      <th>texts</th>\n",
       "      <th>lang</th>\n",
       "      <th>cat</th>\n",
       "    </tr>\n",
       "  </thead>\n",
       "  <tbody>\n",
       "    <tr>\n",
       "      <th>0</th>\n",
       "      <td>2024-08-07T17:23:33Z</td>\n",
       "      <td>Après leur lutte «flamboyante», les femmes de ...</td>\n",
       "      <td>https://www.mediapart.fr/journal/economie-et-s...</td>\n",
       "      <td>Les cookies et technologies similaires que nou...</td>\n",
       "      <td>fr</td>\n",
       "      <td>grève</td>\n",
       "    </tr>\n",
       "    <tr>\n",
       "      <th>1</th>\n",
       "      <td>2024-08-07T08:44:34Z</td>\n",
       "      <td>Cette application peut prédire le retard d’un ...</td>\n",
       "      <td>https://www.numerama.com/tech/1786798-cette-ap...</td>\n",
       "      <td>Lecture Zen Résumer l'article\\n\\nFlighty, l’ap...</td>\n",
       "      <td>fr</td>\n",
       "      <td>grève</td>\n",
       "    </tr>\n",
       "    <tr>\n",
       "      <th>2</th>\n",
       "      <td>2024-08-08T08:38:25Z</td>\n",
       "      <td>Le Prix Nobel Muhammad Yunus atterrit au Bangl...</td>\n",
       "      <td>https://www.lemonde.fr/international/article/2...</td>\n",
       "      <td>Le lauréat du prix Nobel de la paix Muhammad Y...</td>\n",
       "      <td>fr</td>\n",
       "      <td>grève</td>\n",
       "    </tr>\n",
       "    <tr>\n",
       "      <th>3</th>\n",
       "      <td>2024-08-08T03:00:00Z</td>\n",
       "      <td>Pierre Leroux, économiste et philosophe</td>\n",
       "      <td>https://www.alternatives-economiques.fr/pierre...</td>\n",
       "      <td>Né en pleine révolution (1797), Pierre Leroux ...</td>\n",
       "      <td>fr</td>\n",
       "      <td>grève</td>\n",
       "    </tr>\n",
       "    <tr>\n",
       "      <th>4</th>\n",
       "      <td>2024-08-07T04:01:00Z</td>\n",
       "      <td>Billet. Sous les radars</td>\n",
       "      <td>https://www.ledauphine.com/defense-guerre-conf...</td>\n",
       "      <td>On devrait pouvoir mettre le monde sur pause. ...</td>\n",
       "      <td>fr</td>\n",
       "      <td>grève</td>\n",
       "    </tr>\n",
       "    <tr>\n",
       "      <th>...</th>\n",
       "      <td>...</td>\n",
       "      <td>...</td>\n",
       "      <td>...</td>\n",
       "      <td>...</td>\n",
       "      <td>...</td>\n",
       "      <td>...</td>\n",
       "    </tr>\n",
       "    <tr>\n",
       "      <th>10</th>\n",
       "      <td>2024-08-07T00:00:00Z</td>\n",
       "      <td>Era in sciopero della fame il detenuto suicida...</td>\n",
       "      <td>https://torino.repubblica.it/cronaca/2024/08/0...</td>\n",
       "      <td>L’uomo protestava da tre settimane. Era appena...</td>\n",
       "      <td>it</td>\n",
       "      <td>sciopero</td>\n",
       "    </tr>\n",
       "    <tr>\n",
       "      <th>11</th>\n",
       "      <td>2024-08-07T18:17:14Z</td>\n",
       "      <td>Indiana Jones e l'Antico cerchio potrebbe non ...</td>\n",
       "      <td>https://multiplayer.it/notizie/indiana-jones-e...</td>\n",
       "      <td>Stando a quanto spiegato dall'utente, di conse...</td>\n",
       "      <td>it</td>\n",
       "      <td>sciopero</td>\n",
       "    </tr>\n",
       "    <tr>\n",
       "      <th>12</th>\n",
       "      <td>2024-08-07T15:11:55Z</td>\n",
       "      <td>Sciopero turismo, contratto Federalberghi per ...</td>\n",
       "      <td>https://www.ansa.it/sardegna/notizie/2024/08/0...</td>\n",
       "      <td>Sono 40mila (poco più del 3 % della quota nazi...</td>\n",
       "      <td>it</td>\n",
       "      <td>sciopero</td>\n",
       "    </tr>\n",
       "    <tr>\n",
       "      <th>0</th>\n",
       "      <td>2024-08-07T11:06:31Z</td>\n",
       "      <td>Volantini contro Israele nella bacheca dell'os...</td>\n",
       "      <td>https://www.ilgiornale.it/news/cronaca-locale/...</td>\n",
       "      <td>I volantini contro Israele\\n\\nAscolta ora 00:0...</td>\n",
       "      <td>it</td>\n",
       "      <td>protesta dei dipendenti</td>\n",
       "    </tr>\n",
       "    <tr>\n",
       "      <th>1</th>\n",
       "      <td>2024-08-08T07:42:26Z</td>\n",
       "      <td>Max Mara, addio alla pelliccia: la lotta delle...</td>\n",
       "      <td>https://www.ilsole24ore.com/art/max-mara-addio...</td>\n",
       "      <td>Ascolta la versione audio dell'articolo\\n\\n4' ...</td>\n",
       "      <td>it</td>\n",
       "      <td>protesta dei dipendenti</td>\n",
       "    </tr>\n",
       "  </tbody>\n",
       "</table>\n",
       "<p>113 rows × 6 columns</p>\n",
       "</div>"
      ],
      "text/plain": [
       "                   dates                                             titles  \\\n",
       "0   2024-08-07T17:23:33Z  Après leur lutte «flamboyante», les femmes de ...   \n",
       "1   2024-08-07T08:44:34Z  Cette application peut prédire le retard d’un ...   \n",
       "2   2024-08-08T08:38:25Z  Le Prix Nobel Muhammad Yunus atterrit au Bangl...   \n",
       "3   2024-08-08T03:00:00Z            Pierre Leroux, économiste et philosophe   \n",
       "4   2024-08-07T04:01:00Z                            Billet. Sous les radars   \n",
       "..                   ...                                                ...   \n",
       "10  2024-08-07T00:00:00Z  Era in sciopero della fame il detenuto suicida...   \n",
       "11  2024-08-07T18:17:14Z  Indiana Jones e l'Antico cerchio potrebbe non ...   \n",
       "12  2024-08-07T15:11:55Z  Sciopero turismo, contratto Federalberghi per ...   \n",
       "0   2024-08-07T11:06:31Z  Volantini contro Israele nella bacheca dell'os...   \n",
       "1   2024-08-08T07:42:26Z  Max Mara, addio alla pelliccia: la lotta delle...   \n",
       "\n",
       "                                                links  \\\n",
       "0   https://www.mediapart.fr/journal/economie-et-s...   \n",
       "1   https://www.numerama.com/tech/1786798-cette-ap...   \n",
       "2   https://www.lemonde.fr/international/article/2...   \n",
       "3   https://www.alternatives-economiques.fr/pierre...   \n",
       "4   https://www.ledauphine.com/defense-guerre-conf...   \n",
       "..                                                ...   \n",
       "10  https://torino.repubblica.it/cronaca/2024/08/0...   \n",
       "11  https://multiplayer.it/notizie/indiana-jones-e...   \n",
       "12  https://www.ansa.it/sardegna/notizie/2024/08/0...   \n",
       "0   https://www.ilgiornale.it/news/cronaca-locale/...   \n",
       "1   https://www.ilsole24ore.com/art/max-mara-addio...   \n",
       "\n",
       "                                                texts lang  \\\n",
       "0   Les cookies et technologies similaires que nou...   fr   \n",
       "1   Lecture Zen Résumer l'article\\n\\nFlighty, l’ap...   fr   \n",
       "2   Le lauréat du prix Nobel de la paix Muhammad Y...   fr   \n",
       "3   Né en pleine révolution (1797), Pierre Leroux ...   fr   \n",
       "4   On devrait pouvoir mettre le monde sur pause. ...   fr   \n",
       "..                                                ...  ...   \n",
       "10  L’uomo protestava da tre settimane. Era appena...   it   \n",
       "11  Stando a quanto spiegato dall'utente, di conse...   it   \n",
       "12  Sono 40mila (poco più del 3 % della quota nazi...   it   \n",
       "0   I volantini contro Israele\\n\\nAscolta ora 00:0...   it   \n",
       "1   Ascolta la versione audio dell'articolo\\n\\n4' ...   it   \n",
       "\n",
       "                        cat  \n",
       "0                     grève  \n",
       "1                     grève  \n",
       "2                     grève  \n",
       "3                     grève  \n",
       "4                     grève  \n",
       "..                      ...  \n",
       "10                 sciopero  \n",
       "11                 sciopero  \n",
       "12                 sciopero  \n",
       "0   protesta dei dipendenti  \n",
       "1   protesta dei dipendenti  \n",
       "\n",
       "[113 rows x 6 columns]"
      ]
     },
     "execution_count": 7,
     "metadata": {},
     "output_type": "execute_result"
    }
   ],
   "source": [
    "collector = NewsCollector(config=conf['country_lang'], scraper=scrapper,path_to_save='/home/jupyter/news/data/strike_newsapi_jeudi_08_aout.csv')\n",
    "collector.collect_news()"
   ]
  },
  {
   "cell_type": "code",
   "execution_count": 8,
   "id": "0389c760-a1a1-44fb-94b3-3995f9f20bd3",
   "metadata": {},
   "outputs": [
    {
     "data": {
      "text/plain": [
       "(113, 6)"
      ]
     },
     "execution_count": 8,
     "metadata": {},
     "output_type": "execute_result"
    }
   ],
   "source": [
    "collector.data.shape"
   ]
  },
  {
   "cell_type": "code",
   "execution_count": 9,
   "id": "862f7c2c-116d-4313-8d9f-541a4e1e40e1",
   "metadata": {
    "tags": []
   },
   "outputs": [
    {
     "data": {
      "text/plain": [
       "Index(['dates', 'titles', 'links', 'texts', 'lang', 'cat'], dtype='object')"
      ]
     },
     "execution_count": 9,
     "metadata": {},
     "output_type": "execute_result"
    }
   ],
   "source": [
    "collector.data.columns"
   ]
  },
  {
   "cell_type": "code",
   "execution_count": 10,
   "id": "de3a4861-e334-4eb2-bd0e-7b364a88e1b6",
   "metadata": {},
   "outputs": [
    {
     "data": {
      "text/html": [
       "<div>\n",
       "<style scoped>\n",
       "    .dataframe tbody tr th:only-of-type {\n",
       "        vertical-align: middle;\n",
       "    }\n",
       "\n",
       "    .dataframe tbody tr th {\n",
       "        vertical-align: top;\n",
       "    }\n",
       "\n",
       "    .dataframe thead th {\n",
       "        text-align: right;\n",
       "    }\n",
       "</style>\n",
       "<table border=\"1\" class=\"dataframe\">\n",
       "  <thead>\n",
       "    <tr style=\"text-align: right;\">\n",
       "      <th></th>\n",
       "      <th>dates</th>\n",
       "      <th>titles</th>\n",
       "      <th>links</th>\n",
       "      <th>texts</th>\n",
       "      <th>lang</th>\n",
       "      <th>cat</th>\n",
       "    </tr>\n",
       "  </thead>\n",
       "  <tbody>\n",
       "    <tr>\n",
       "      <th>0</th>\n",
       "      <td>2024-08-07T17:23:33Z</td>\n",
       "      <td>Après leur lutte «flamboyante», les femmes de ...</td>\n",
       "      <td>https://www.mediapart.fr/journal/economie-et-s...</td>\n",
       "      <td>Les cookies et technologies similaires que nou...</td>\n",
       "      <td>fr</td>\n",
       "      <td>grève</td>\n",
       "    </tr>\n",
       "    <tr>\n",
       "      <th>1</th>\n",
       "      <td>2024-08-07T08:44:34Z</td>\n",
       "      <td>Cette application peut prédire le retard d’un ...</td>\n",
       "      <td>https://www.numerama.com/tech/1786798-cette-ap...</td>\n",
       "      <td>Lecture Zen Résumer l'article\\n\\nFlighty, l’ap...</td>\n",
       "      <td>fr</td>\n",
       "      <td>grève</td>\n",
       "    </tr>\n",
       "    <tr>\n",
       "      <th>2</th>\n",
       "      <td>2024-08-08T08:38:25Z</td>\n",
       "      <td>Le Prix Nobel Muhammad Yunus atterrit au Bangl...</td>\n",
       "      <td>https://www.lemonde.fr/international/article/2...</td>\n",
       "      <td>Le lauréat du prix Nobel de la paix Muhammad Y...</td>\n",
       "      <td>fr</td>\n",
       "      <td>grève</td>\n",
       "    </tr>\n",
       "    <tr>\n",
       "      <th>3</th>\n",
       "      <td>2024-08-08T03:00:00Z</td>\n",
       "      <td>Pierre Leroux, économiste et philosophe</td>\n",
       "      <td>https://www.alternatives-economiques.fr/pierre...</td>\n",
       "      <td>Né en pleine révolution (1797), Pierre Leroux ...</td>\n",
       "      <td>fr</td>\n",
       "      <td>grève</td>\n",
       "    </tr>\n",
       "    <tr>\n",
       "      <th>4</th>\n",
       "      <td>2024-08-07T04:01:00Z</td>\n",
       "      <td>Billet. Sous les radars</td>\n",
       "      <td>https://www.ledauphine.com/defense-guerre-conf...</td>\n",
       "      <td>On devrait pouvoir mettre le monde sur pause. ...</td>\n",
       "      <td>fr</td>\n",
       "      <td>grève</td>\n",
       "    </tr>\n",
       "    <tr>\n",
       "      <th>...</th>\n",
       "      <td>...</td>\n",
       "      <td>...</td>\n",
       "      <td>...</td>\n",
       "      <td>...</td>\n",
       "      <td>...</td>\n",
       "      <td>...</td>\n",
       "    </tr>\n",
       "    <tr>\n",
       "      <th>10</th>\n",
       "      <td>2024-08-07T00:00:00Z</td>\n",
       "      <td>Era in sciopero della fame il detenuto suicida...</td>\n",
       "      <td>https://torino.repubblica.it/cronaca/2024/08/0...</td>\n",
       "      <td>L’uomo protestava da tre settimane. Era appena...</td>\n",
       "      <td>it</td>\n",
       "      <td>sciopero</td>\n",
       "    </tr>\n",
       "    <tr>\n",
       "      <th>11</th>\n",
       "      <td>2024-08-07T18:17:14Z</td>\n",
       "      <td>Indiana Jones e l'Antico cerchio potrebbe non ...</td>\n",
       "      <td>https://multiplayer.it/notizie/indiana-jones-e...</td>\n",
       "      <td>Stando a quanto spiegato dall'utente, di conse...</td>\n",
       "      <td>it</td>\n",
       "      <td>sciopero</td>\n",
       "    </tr>\n",
       "    <tr>\n",
       "      <th>12</th>\n",
       "      <td>2024-08-07T15:11:55Z</td>\n",
       "      <td>Sciopero turismo, contratto Federalberghi per ...</td>\n",
       "      <td>https://www.ansa.it/sardegna/notizie/2024/08/0...</td>\n",
       "      <td>Sono 40mila (poco più del 3 % della quota nazi...</td>\n",
       "      <td>it</td>\n",
       "      <td>sciopero</td>\n",
       "    </tr>\n",
       "    <tr>\n",
       "      <th>0</th>\n",
       "      <td>2024-08-07T11:06:31Z</td>\n",
       "      <td>Volantini contro Israele nella bacheca dell'os...</td>\n",
       "      <td>https://www.ilgiornale.it/news/cronaca-locale/...</td>\n",
       "      <td>I volantini contro Israele\\n\\nAscolta ora 00:0...</td>\n",
       "      <td>it</td>\n",
       "      <td>protesta dei dipendenti</td>\n",
       "    </tr>\n",
       "    <tr>\n",
       "      <th>1</th>\n",
       "      <td>2024-08-08T07:42:26Z</td>\n",
       "      <td>Max Mara, addio alla pelliccia: la lotta delle...</td>\n",
       "      <td>https://www.ilsole24ore.com/art/max-mara-addio...</td>\n",
       "      <td>Ascolta la versione audio dell'articolo\\n\\n4' ...</td>\n",
       "      <td>it</td>\n",
       "      <td>protesta dei dipendenti</td>\n",
       "    </tr>\n",
       "  </tbody>\n",
       "</table>\n",
       "<p>113 rows × 6 columns</p>\n",
       "</div>"
      ],
      "text/plain": [
       "                   dates                                             titles  \\\n",
       "0   2024-08-07T17:23:33Z  Après leur lutte «flamboyante», les femmes de ...   \n",
       "1   2024-08-07T08:44:34Z  Cette application peut prédire le retard d’un ...   \n",
       "2   2024-08-08T08:38:25Z  Le Prix Nobel Muhammad Yunus atterrit au Bangl...   \n",
       "3   2024-08-08T03:00:00Z            Pierre Leroux, économiste et philosophe   \n",
       "4   2024-08-07T04:01:00Z                            Billet. Sous les radars   \n",
       "..                   ...                                                ...   \n",
       "10  2024-08-07T00:00:00Z  Era in sciopero della fame il detenuto suicida...   \n",
       "11  2024-08-07T18:17:14Z  Indiana Jones e l'Antico cerchio potrebbe non ...   \n",
       "12  2024-08-07T15:11:55Z  Sciopero turismo, contratto Federalberghi per ...   \n",
       "0   2024-08-07T11:06:31Z  Volantini contro Israele nella bacheca dell'os...   \n",
       "1   2024-08-08T07:42:26Z  Max Mara, addio alla pelliccia: la lotta delle...   \n",
       "\n",
       "                                                links  \\\n",
       "0   https://www.mediapart.fr/journal/economie-et-s...   \n",
       "1   https://www.numerama.com/tech/1786798-cette-ap...   \n",
       "2   https://www.lemonde.fr/international/article/2...   \n",
       "3   https://www.alternatives-economiques.fr/pierre...   \n",
       "4   https://www.ledauphine.com/defense-guerre-conf...   \n",
       "..                                                ...   \n",
       "10  https://torino.repubblica.it/cronaca/2024/08/0...   \n",
       "11  https://multiplayer.it/notizie/indiana-jones-e...   \n",
       "12  https://www.ansa.it/sardegna/notizie/2024/08/0...   \n",
       "0   https://www.ilgiornale.it/news/cronaca-locale/...   \n",
       "1   https://www.ilsole24ore.com/art/max-mara-addio...   \n",
       "\n",
       "                                                texts lang  \\\n",
       "0   Les cookies et technologies similaires que nou...   fr   \n",
       "1   Lecture Zen Résumer l'article\\n\\nFlighty, l’ap...   fr   \n",
       "2   Le lauréat du prix Nobel de la paix Muhammad Y...   fr   \n",
       "3   Né en pleine révolution (1797), Pierre Leroux ...   fr   \n",
       "4   On devrait pouvoir mettre le monde sur pause. ...   fr   \n",
       "..                                                ...  ...   \n",
       "10  L’uomo protestava da tre settimane. Era appena...   it   \n",
       "11  Stando a quanto spiegato dall'utente, di conse...   it   \n",
       "12  Sono 40mila (poco più del 3 % della quota nazi...   it   \n",
       "0   I volantini contro Israele\\n\\nAscolta ora 00:0...   it   \n",
       "1   Ascolta la versione audio dell'articolo\\n\\n4' ...   it   \n",
       "\n",
       "                        cat  \n",
       "0                     grève  \n",
       "1                     grève  \n",
       "2                     grève  \n",
       "3                     grève  \n",
       "4                     grève  \n",
       "..                      ...  \n",
       "10                 sciopero  \n",
       "11                 sciopero  \n",
       "12                 sciopero  \n",
       "0   protesta dei dipendenti  \n",
       "1   protesta dei dipendenti  \n",
       "\n",
       "[113 rows x 6 columns]"
      ]
     },
     "execution_count": 10,
     "metadata": {},
     "output_type": "execute_result"
    }
   ],
   "source": [
    "collector.data"
   ]
  },
  {
   "cell_type": "code",
   "execution_count": null,
   "id": "150ebf26-f906-41ab-ad00-7aac629bba6a",
   "metadata": {},
   "outputs": [],
   "source": []
  }
 ],
 "metadata": {
  "environment": {
   "kernel": "python3",
   "name": ".m119",
   "type": "gcloud",
   "uri": "us-docker.pkg.dev/deeplearning-platform-release/gcr.io/:m119"
  },
  "kernelspec": {
   "display_name": "Python 3 (Local)",
   "language": "python",
   "name": "python3"
  },
  "language_info": {
   "codemirror_mode": {
    "name": "ipython",
    "version": 3
   },
   "file_extension": ".py",
   "mimetype": "text/x-python",
   "name": "python",
   "nbconvert_exporter": "python",
   "pygments_lexer": "ipython3",
   "version": "3.10.14"
  },
  "widgets": {
   "application/vnd.jupyter.widget-state+json": {
    "state": {},
    "version_major": 2,
    "version_minor": 0
   }
  }
 },
 "nbformat": 4,
 "nbformat_minor": 5
}
